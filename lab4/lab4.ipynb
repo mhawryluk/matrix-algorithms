{
 "cells": [
  {
   "cell_type": "markdown",
   "id": "b978698c",
   "metadata": {},
   "source": [
    "# Algorytmy macierzowe - zadanie nr 4 - Eliminacja Gaussa i Cholesky’ego dla macierzy rzadkich"
   ]
  },
  {
   "cell_type": "markdown",
   "id": "b7bd8623",
   "metadata": {},
   "source": [
    "2. Wierszowa rzadka eliminacja Choleskyego w formacie CSR"
   ]
  },
  {
   "cell_type": "markdown",
   "id": "1eeefcaa",
   "metadata": {},
   "source": [
    "Marcin Hawryluk, Norbert Wolniak <br>grupa: piątek 12:50B <hr>"
   ]
  },
  {
   "cell_type": "code",
   "execution_count": 1,
   "id": "efdd8816",
   "metadata": {},
   "outputs": [],
   "source": [
    "import numpy as np\n",
    "from time import time\n",
    "import pandas as pd\n",
    "import matplotlib.pyplot as plt\n",
    "import os\n",
    "from time import time\n",
    "from read_matrix import read_matrix"
   ]
  },
  {
   "cell_type": "markdown",
   "id": "b27bd2fd",
   "metadata": {},
   "source": [
    "## Generowanie macierzy"
   ]
  },
  {
   "cell_type": "code",
   "execution_count": 9,
   "id": "5d88ad73",
   "metadata": {},
   "outputs": [],
   "source": [
    "matrices  = []\n",
    "for file in os.listdir('matrices'):\n",
    "    matrices.append(read_matrix('matrices/' + file))"
   ]
  },
  {
   "cell_type": "code",
   "execution_count": 14,
   "id": "mathematical-trading",
   "metadata": {},
   "outputs": [
    {
     "data": {
      "image/png": "[encoded data removed]",
      "text/plain": [
       "<Figure size 1152x576 with 2 Axes>"
      ]
     },
     "metadata": {
      "needs_background": "light"
     },
     "output_type": "display_data"
    }
   ],
   "source": [
    "fig, ax = plt.subplots(1, 2, figsize=(16, 8))\n",
    "ax[0].spy(matrices[0])\n",
    "ax[1].spy(matrices[1])\n",
    "plt.show()"
   ]
  },
  {
   "cell_type": "markdown",
   "id": "crucial-charlotte",
   "metadata": {},
   "source": [
    "## Eliminacja Cholesky'ego dla macierzy gęstych"
   ]
  },
  {
   "cell_type": "markdown",
   "id": "referenced-riverside",
   "metadata": {},
   "source": [
    "// wybrać jedną wersję:"
   ]
  },
  {
   "cell_type": "code",
   "execution_count": 3,
   "id": "dangerous-leadership",
   "metadata": {},
   "outputs": [],
   "source": [
    "def cholesky_LDLT(matrix):\n",
    "    A = matrix.copy()\n",
    "    n = A.shape[0]\n",
    "    \n",
    "    for k in range(n):\n",
    "        dkk = A[k, k]\n",
    "        if abs(dkk) < 1e-8:\n",
    "            raise ValueError('singular matrix')\n",
    "\n",
    "        vk = A[k, k+1:].copy()\n",
    "        A[k, k+1:] /= dkk\n",
    "        A[k+1:n, k] /= dkk\n",
    "      \n",
    "        for j in range(k + 1, n):\n",
    "            A[j, j:] -= A[k, j:] * vk[j-k-1]\n",
    "            \n",
    "    D = np.diag(A)*np.eye(n)\n",
    "    \n",
    "    return np.triu(A).T - D + np.eye(n), D "
   ]
  },
  {
   "cell_type": "code",
   "execution_count": 76,
   "id": "nuclear-angle",
   "metadata": {},
   "outputs": [],
   "source": [
    "def cholesky_LLT(matrix):\n",
    "    A = matrix.copy()\n",
    "    n = A.shape[0]\n",
    "    \n",
    "    for k in range(n):\n",
    "        if abs(A[k, k]) < 1e-8:\n",
    "            raise ValueError('singular matrix')\n",
    "            \n",
    "        vk = A[k, k+1:n]\n",
    "        A[k, k] **= 0.5\n",
    "        dkk = A[k, k]\n",
    "        A[k, k+1:n] /= dkk\n",
    "        \n",
    "        \n",
    "        for j in range(k+1, n):\n",
    "            A[j, j:n] -= A[k, j:n]*vk[j-k-1]        \n",
    "        \n",
    "        print(A)\n",
    "    return np.triu(A).T"
   ]
  },
  {
   "cell_type": "code",
   "execution_count": 52,
   "id": "bigger-amazon",
   "metadata": {},
   "outputs": [
    {
     "data": {
      "text/plain": [
       "array([[ 4.,  4.,  6.],\n",
       "       [ 4., 13., 15.],\n",
       "       [ 6., 15., 43.]])"
      ]
     },
     "execution_count": 52,
     "metadata": {},
     "output_type": "execute_result"
    }
   ],
   "source": [
    "matrix = np.array([[4, 4, 6], [4, 13, 15], [6, 15, 43]], dtype=float)\n",
    "matrix"
   ]
  },
  {
   "cell_type": "code",
   "execution_count": 77,
   "id": "dress-economy",
   "metadata": {},
   "outputs": [
    {
     "name": "stdout",
     "output_type": "stream",
     "text": [
      "[[ 2.  2.  3.]\n",
      " [ 4.  9.  9.]\n",
      " [ 6. 15. 34.]]\n",
      "[[ 2.  2.  3.]\n",
      " [ 4.  3.  3.]\n",
      " [ 6. 15. 25.]]\n",
      "[[ 2.  2.  3.]\n",
      " [ 4.  3.  3.]\n",
      " [ 6. 15.  5.]]\n",
      "---L L.T---\n",
      "L:\n",
      " [[2. 0. 0.]\n",
      " [2. 3. 0.]\n",
      " [3. 3. 5.]]\n",
      "\n",
      "L.T:\n",
      " [[2. 2. 3.]\n",
      " [0. 3. 3.]\n",
      " [0. 0. 5.]]\n",
      "\n",
      "L*L.T:\n",
      " [[ 4.  4.  6.]\n",
      " [ 4. 13. 15.]\n",
      " [ 6. 15. 43.]]\n",
      "\n",
      "numpy L:\n",
      "\n",
      " [[2. 0. 0.]\n",
      " [2. 3. 0.]\n",
      " [3. 3. 5.]] \n",
      "\n",
      "Correct!\n"
     ]
    }
   ],
   "source": [
    "L = cholesky_LLT(matrix)\n",
    "\n",
    "print(\"---L L.T---\")\n",
    "\n",
    "print(\"L:\\n\", L)\n",
    "print(\"\\nL.T:\\n\", L.T)\n",
    "print(\"\\nL*L.T:\\n\", L @ L.T)\n",
    "\n",
    "print(\"\\nnumpy L:\\n\")\n",
    "print(\"\", np.linalg.cholesky(matrix), \"\\n\")\n",
    "\n",
    "print(\"Correct!\" if np.allclose(L @ L.T, matrix) else \"wrong\")"
   ]
  },
  {
   "cell_type": "code",
   "execution_count": 30,
   "id": "judicial-williams",
   "metadata": {},
   "outputs": [
    {
     "name": "stdout",
     "output_type": "stream",
     "text": [
      "---L D L.T---\n",
      "L:\n",
      " [[1.  0.  0. ]\n",
      " [1.  1.  0. ]\n",
      " [1.5 1.  1. ]]\n",
      "\n",
      "D:\n",
      " [[ 4.  0.  0.]\n",
      " [ 0.  9.  0.]\n",
      " [ 0.  0. 25.]]\n",
      "\n",
      "L.T:\n",
      " [[1.  1.  1.5]\n",
      " [0.  1.  1. ]\n",
      " [0.  0.  1. ]]\n",
      "\n",
      "L*D*L.T:\n",
      " [[ 4.  4.  6.]\n",
      " [ 4. 13. 15.]\n",
      " [ 6. 15. 43.]]\n",
      "\n",
      "Correct!\n"
     ]
    }
   ],
   "source": [
    "L, D = cholesky_LDLT(matrix)\n",
    "\n",
    "print(\"---L D L.T---\")\n",
    "\n",
    "print(\"L:\\n\", L)\n",
    "print(\"\\nD:\\n\", D)\n",
    "print(\"\\nL.T:\\n\", L.T)\n",
    "print(\"\\nL*D*L.T:\\n\", L @ D @ L.T)\n",
    "print()\n",
    "print(\"Correct!\" if np.allclose(L @ D @ L.T, matrix) else \"wrong\")"
   ]
  },
  {
   "cell_type": "markdown",
   "id": "d6db8250",
   "metadata": {},
   "source": [
    "## Format CSR"
   ]
  },
  {
   "cell_type": "markdown",
   "id": "alpine-techno",
   "metadata": {},
   "source": [
    "Poniższa funkcja służy do konwersji zadanej macierzy do formatu Compressed Sparse Row. "
   ]
  },
  {
   "cell_type": "code",
   "execution_count": 23,
   "id": "08f8d9a5",
   "metadata": {},
   "outputs": [],
   "source": [
    "def convert_to_csr(matrix):\n",
    "    m, n = matrix.shape\n",
    "    ICL = []\n",
    "    VAL = []\n",
    "    ROWPTR = []\n",
    "    counter = 0\n",
    "    \n",
    "    for i in range(n): # rows\n",
    "        ROWPTR.append(counter)\n",
    "        for j in range(m): # columns\n",
    "            val_ij = matrix[i, j]\n",
    "            if abs(val_ij) < 1e-8:\n",
    "                continue\n",
    "            ICL.append(j)\n",
    "            VAL.append(val_ij)\n",
    "            counter += 1\n",
    "            \n",
    "    ROWPTR.append(counter)\n",
    "    \n",
    "    return ICL, VAL, ROWPTR"
   ]
  },
  {
   "cell_type": "markdown",
   "id": "6452548b",
   "metadata": {},
   "source": [
    "## Eliminacja Cholesky'ego dla macierzy rzadkich"
   ]
  },
  {
   "cell_type": "code",
   "execution_count": 39,
   "id": "cubic-fifteen",
   "metadata": {},
   "outputs": [],
   "source": [
    "def get_col_in_row(ICL_row, col):\n",
    "    ## zmienić na bin_search\n",
    "    for i, x in enumerate(ICL_row):\n",
    "        if x == col:\n",
    "            return i"
   ]
  },
  {
   "cell_type": "code",
   "execution_count": 84,
   "id": "fallen-firmware",
   "metadata": {},
   "outputs": [],
   "source": [
    "def sparse_cholesky(matrix):\n",
    "    ICL, VAL, ROWPTR = matrix\n",
    "    n = max(ICL) + 1\n",
    "    \n",
    "    for k in range(n):\n",
    "        row_start = ROWPTR[k]\n",
    "        row_end = ROWPTR[k+1]\n",
    "        \n",
    "        dkk_index = get_col_in_row(ICL[row_start:row_end], k)\n",
    "        dkk = VAL[row_start + dkk_index]\n",
    "        \n",
    "        dkk **= 0.5\n",
    "        \n",
    "        for j in range(row_start+dkk_index +1, row_end):\n",
    "            VAL[j] /= dkk\n",
    "        \n",
    "                \n",
    "        vk_icl = ICL[row_start + dkk_index + 1:row_end]\n",
    "        vk_val = VAL[row_start + dkk_index + 1:row_end]\n",
    "        \n",
    "        new_rows = []\n",
    "        \n",
    "        for j in range(k+1, n):\n",
    "            j_row_start = ROWPTR[j]\n",
    "            j_row_end = ROWPTR[j+1]\n",
    "            \n",
    "            j_row_index = j_row_start\n",
    "            top_row_index = row_start + dkk_index\n",
    "            vk_index = 0\n",
    "            \n",
    "            new_rows.append([])\n",
    "            \n",
    "            while j_row_index < j_row_end and top_row_index < j_row_end:\n",
    "                top_col = ICL[top_row_index]\n",
    "                j_col = ICL[j_row_index]\n",
    "\n",
    "                if top_col < j_col:\n",
    "                    while  vk_index < len(vk_icl) and vk_icl[vk_index] < top_col:\n",
    "                        vk_index += 1\n",
    "                        \n",
    "                    if vk_index < len(vk_icl) and vkk_icl[vk_index] == top_col:\n",
    "                        new_rows[-1].append((top_col, -vk_val[vkk_index]*VAL[top_row_index]))\n",
    "                        vk_index += 1\n",
    "                    \n",
    "                    top_row_index += 1\n",
    "                        \n",
    "                elif top_col == j_col:\n",
    "                    while vk_index < len(vk_icl) and vk_icl[vk_index] < top_col:\n",
    "                        vk_index += 1\n",
    "                \n",
    "                    \n",
    "                    if vk_index < len(vk_icl) and vk_icl[vk_index] == top_col:\n",
    "                        new_val = VAL[j_row_index]-vk_val[vk_index]*VAL[top_row_index]\n",
    "                        if abs(new_val) > 1e-8:\n",
    "                            new_rows[-1].append((top_col, new_val))\n",
    "                            \n",
    "                        vk_index += 1\n",
    "                        \n",
    "                    else:\n",
    "                        new_rows[-1].append((top_col, VAL[j_row_index]))\n",
    "                        \n",
    "                    top_row_index += 1\n",
    "                    j_row_index += 1\n",
    "                    \n",
    "                elif top_col > j_col:\n",
    "                    new_rows[-1].append((top_col, VAL[j_row_index]))\n",
    "                    j_row_index += 1\n",
    "                    \n",
    "        new_rowptr = ROWPTR[:k+1]\n",
    "        new_icl = ICL[:row_start]\n",
    "        new_val = VAL[:row_start]\n",
    "        \n",
    "        current_row_ptr = ROWPTR[k]\n",
    "        \n",
    "        for new_row in new_rows:\n",
    "            current_row_ptr += len(new_row)\n",
    "            new_rowptr.append(current_row_ptr)\n",
    "            \n",
    "            new_icl += [x[0] for x in new_row]\n",
    "            new_val += [x[1] for x in new_row]\n",
    "            \n",
    "        ICL = new_icl\n",
    "        ROWPTR = new_rowptr\n",
    "        VAL = new_val\n",
    "        \n",
    "#         print(ICL, VAL, ROWPTR)\n",
    "#         print_CSR_matrix((ICL, VAL, ROWPTR))\n",
    "        \n",
    "    \n",
    "    return ICL, VAL, ROWPTR"
   ]
  },
  {
   "cell_type": "code",
   "execution_count": 85,
   "id": "pressed-cache",
   "metadata": {},
   "outputs": [
    {
     "ename": "IndexError",
     "evalue": "list index out of range",
     "output_type": "error",
     "traceback": [
      "\u001b[0;31m---------------------------------------------------------------------------\u001b[0m",
      "\u001b[0;31mIndexError\u001b[0m                                Traceback (most recent call last)",
      "\u001b[0;32m<ipython-input-85-185243871f59>\u001b[0m in \u001b[0;36m<module>\u001b[0;34m\u001b[0m\n\u001b[0;32m----> 1\u001b[0;31m \u001b[0msparce_cholesky\u001b[0m\u001b[0;34m(\u001b[0m\u001b[0mconvert_to_csr\u001b[0m\u001b[0;34m(\u001b[0m\u001b[0mmatrix\u001b[0m\u001b[0;34m)\u001b[0m\u001b[0;34m)\u001b[0m\u001b[0;34m\u001b[0m\u001b[0;34m\u001b[0m\u001b[0m\n\u001b[0m",
      "\u001b[0;32m<ipython-input-84-87be2b9446bf>\u001b[0m in \u001b[0;36msparce_cholesky\u001b[0;34m(matrix)\u001b[0m\n\u001b[1;32m     23\u001b[0m         \u001b[0;32mfor\u001b[0m \u001b[0mj\u001b[0m \u001b[0;32min\u001b[0m \u001b[0mrange\u001b[0m\u001b[0;34m(\u001b[0m\u001b[0mk\u001b[0m\u001b[0;34m+\u001b[0m\u001b[0;36m1\u001b[0m\u001b[0;34m,\u001b[0m \u001b[0mn\u001b[0m\u001b[0;34m)\u001b[0m\u001b[0;34m:\u001b[0m\u001b[0;34m\u001b[0m\u001b[0;34m\u001b[0m\u001b[0m\n\u001b[1;32m     24\u001b[0m             \u001b[0mj_row_start\u001b[0m \u001b[0;34m=\u001b[0m \u001b[0mROWPTR\u001b[0m\u001b[0;34m[\u001b[0m\u001b[0mj\u001b[0m\u001b[0;34m]\u001b[0m\u001b[0;34m\u001b[0m\u001b[0;34m\u001b[0m\u001b[0m\n\u001b[0;32m---> 25\u001b[0;31m             \u001b[0mj_row_end\u001b[0m \u001b[0;34m=\u001b[0m \u001b[0mROWPTR\u001b[0m\u001b[0;34m[\u001b[0m\u001b[0mj\u001b[0m\u001b[0;34m+\u001b[0m\u001b[0;36m1\u001b[0m\u001b[0;34m]\u001b[0m\u001b[0;34m\u001b[0m\u001b[0;34m\u001b[0m\u001b[0m\n\u001b[0m\u001b[1;32m     26\u001b[0m \u001b[0;34m\u001b[0m\u001b[0m\n\u001b[1;32m     27\u001b[0m             \u001b[0mj_row_index\u001b[0m \u001b[0;34m=\u001b[0m \u001b[0mj_row_start\u001b[0m\u001b[0;34m\u001b[0m\u001b[0;34m\u001b[0m\u001b[0m\n",
      "\u001b[0;31mIndexError\u001b[0m: list index out of range"
     ]
    }
   ],
   "source": [
    "sparse_cholesky(convert_to_csr(matrix))"
   ]
  },
  {
   "cell_type": "markdown",
   "id": "secure-strategy",
   "metadata": {},
   "source": [
    "## Test"
   ]
  },
  {
   "cell_type": "code",
   "execution_count": 73,
   "id": "perfect-doctrine",
   "metadata": {},
   "outputs": [],
   "source": [
    "def print_CSR_matrix(A):\n",
    "    ICL, VAL, ROWPTR = A\n",
    "    VAL = VAL.copy()\n",
    "    m_col = max(ICL) + 1\n",
    "    for i in range(len(ROWPTR)-1):\n",
    "        for p in range(m_col):\n",
    "            if p in ICL[ROWPTR[i]:ROWPTR[i+1]]:\n",
    "                print(VAL.pop(0), end=\"\\t\")\n",
    "            else:\n",
    "                print(0, end=\"\\t\")\n",
    "        print()"
   ]
  },
  {
   "cell_type": "markdown",
   "id": "8961bb5a",
   "metadata": {},
   "source": [
    "## Porównanie czasów"
   ]
  },
  {
   "cell_type": "code",
   "execution_count": null,
   "id": "interior-interpretation",
   "metadata": {},
   "outputs": [],
   "source": []
  },
  {
   "cell_type": "markdown",
   "id": "e59e1651",
   "metadata": {},
   "source": [
    "## Wnioski"
   ]
  },
  {
   "cell_type": "markdown",
   "id": "a66fcc8f",
   "metadata": {},
   "source": [
    "* \n",
    "* "
   ]
  },
  {
   "cell_type": "markdown",
   "id": "23865378",
   "metadata": {},
   "source": [
    "M. Hawryluk, N. Wolniak. 2021"
   ]
  }
 ],
 "metadata": {
  "interpreter": {
   "hash": "31f2aee4e71d21fbe5cf8b01ff0e069b9275f58929596ceb00d14d90e3e16cd6"
  },
  "kernelspec": {
   "display_name": "Python 3 (ipykernel)",
   "language": "python",
   "name": "python3"
  },
  "language_info": {
   "codemirror_mode": {
    "name": "ipython",
    "version": 3
   },
   "file_extension": ".py",
   "mimetype": "text/x-python",
   "name": "python",
   "nbconvert_exporter": "python",
   "pygments_lexer": "ipython3",
   "version": "3.8.10"
  }
 },
 "nbformat": 4,
 "nbformat_minor": 5
}
