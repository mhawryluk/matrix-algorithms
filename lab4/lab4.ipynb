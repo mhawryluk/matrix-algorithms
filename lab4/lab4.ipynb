{
 "cells": [
  {
   "cell_type": "markdown",
   "id": "b978698c",
   "metadata": {},
   "source": [
    "# Algorytmy macierzowe - zadanie nr 4 - Eliminacja Gaussa i Cholesky’ego dla macierzy rzadkich"
   ]
  },
  {
   "cell_type": "markdown",
   "id": "b7bd8623",
   "metadata": {},
   "source": [
    "2. Wierszowa rzadka eliminacja Choleskyego w formacie CSR"
   ]
  },
  {
   "cell_type": "markdown",
   "id": "1eeefcaa",
   "metadata": {},
   "source": [
    "Marcin Hawryluk, Norbert Wolniak <br>grupa: piątek 12:50B <hr>"
   ]
  },
  {
   "cell_type": "code",
   "execution_count": 1,
   "id": "efdd8816",
   "metadata": {},
   "outputs": [],
   "source": [
    "import numpy as np\n",
    "from time import time\n",
    "import pandas as pd\n",
    "import matplotlib.pyplot as plt\n",
    "import os\n",
    "from time import time\n",
    "from read_matrix import read_matrix"
   ]
  },
  {
   "cell_type": "markdown",
   "id": "b27bd2fd",
   "metadata": {},
   "source": [
    "## Generowanie macierzy"
   ]
  },
  {
   "cell_type": "code",
   "execution_count": 2,
   "id": "5d88ad73",
   "metadata": {},
   "outputs": [],
   "source": [
    "matrices  = {}\n",
    "for file in os.listdir('matrices'):\n",
    "    matrices[file[:2]]= read_matrix('matrices/' + file)"
   ]
  },
  {
   "cell_type": "markdown",
   "id": "crucial-charlotte",
   "metadata": {},
   "source": [
    "## Eliminacja Cholesky'ego dla macierzy gęstych"
   ]
  },
  {
   "cell_type": "code",
   "execution_count": 38,
   "id": "nuclear-angle",
   "metadata": {},
   "outputs": [],
   "source": [
    "def cholesky_LLT(matrix):\n",
    "    A = matrix.copy()\n",
    "    n = A.shape[0]\n",
    "    \n",
    "    for k in range(n):\n",
    "        if abs(A[k, k]) < 1e-8:\n",
    "            raise ValueError('singular matrix')\n",
    "            \n",
    "        A[k, k] **= 0.5\n",
    "        dkk = A[k, k]\n",
    "        for j in range(k+1, n):\n",
    "            A[k, j] = A[k, j] / dkk\n",
    "        \n",
    "        vk = [A[k, j] for j in range(k+1, n)]\n",
    "        \n",
    "        for j in range(k+1, n):\n",
    "            A[j, j:n] -= A[k, j:n]*vk[j-k-1]        \n",
    "        \n",
    "    return np.triu(A).T"
   ]
  },
  {
   "cell_type": "markdown",
   "id": "d6db8250",
   "metadata": {},
   "source": [
    "## Format CSR"
   ]
  },
  {
   "cell_type": "markdown",
   "id": "alpine-techno",
   "metadata": {},
   "source": [
    "Poniższa funkcja służy do konwersji zadanej macierzy do formatu Compressed Sparse Row. "
   ]
  },
  {
   "cell_type": "code",
   "execution_count": 4,
   "id": "08f8d9a5",
   "metadata": {},
   "outputs": [],
   "source": [
    "def convert_to_csr(matrix):\n",
    "    m, n = matrix.shape\n",
    "    ICL = []\n",
    "    VAL = []\n",
    "    ROWPTR = []\n",
    "    counter = 0\n",
    "    \n",
    "    for i in range(n): # rows\n",
    "        ROWPTR.append(counter)\n",
    "        for j in range(m): # columns\n",
    "            val_ij = matrix[i, j]\n",
    "            if abs(val_ij) < 1e-8:\n",
    "                continue\n",
    "            ICL.append(j)\n",
    "            VAL.append(val_ij)\n",
    "            counter += 1\n",
    "            \n",
    "    ROWPTR.append(counter)\n",
    "    \n",
    "    return ICL, VAL, ROWPTR"
   ]
  },
  {
   "cell_type": "markdown",
   "id": "6452548b",
   "metadata": {},
   "source": [
    "## Eliminacja Cholesky'ego dla macierzy rzadkich"
   ]
  },
  {
   "cell_type": "code",
   "execution_count": 5,
   "id": "aggressive-specification",
   "metadata": {},
   "outputs": [],
   "source": [
    "def get_col_in_row(row, col):\n",
    "    '''binary search for an index of value col in array row\n",
    "        if col not in row returns index of the first bigger value than col\n",
    "        if every value in row is smaller than col then returns None'''\n",
    "    start = 0\n",
    "    end = len(row)-1\n",
    "\n",
    "    while start < end:\n",
    "        middle = (start+end)//2\n",
    "        if row[middle] < col:\n",
    "            start = middle+1\n",
    "        else:\n",
    "            end = middle\n",
    "\n",
    "    if row[start] == col:\n",
    "        return start\n",
    "    else:\n",
    "        if start + 1 < len(row):\n",
    "            return start + 1\n",
    "        return None"
   ]
  },
  {
   "cell_type": "code",
   "execution_count": 6,
   "id": "fallen-firmware",
   "metadata": {},
   "outputs": [],
   "source": [
    "def sparse_cholesky(matrix):\n",
    "    '''\n",
    "        returns L.T matrix in CSR format\n",
    "        that (L.T.)T @ L.T == matrix\n",
    "    '''\n",
    "    \n",
    "    ICL, VAL, ROWPTR = matrix\n",
    "    n = len(ROWPTR) - 1\n",
    "   \n",
    "    for k in range(n):\n",
    "        row_start = ROWPTR[k]\n",
    "        row_end = ROWPTR[k+1]\n",
    "        \n",
    "        if ICL[row_start] != k or VAL[row_start] < 0:\n",
    "            raise Exception('nonpositive value on diagonal')\n",
    "    \n",
    "        VAL[row_start] **= 0.5\n",
    "        dkk = VAL[row_start]\n",
    "        \n",
    "        # last row -> nothing to eliminate\n",
    "        if k == n-1: \n",
    "            break\n",
    "\n",
    "        for j in range(row_start+ 1, row_end):\n",
    "            VAL[j] /= dkk\n",
    "\n",
    "        # new arrays for ICL, VAL, ROWPTR \n",
    "        # starting with part of the matrix that won't be eliminated\n",
    "        # later we're adding all other values after each elimination step\n",
    "        new_icl = ICL[:row_end]\n",
    "        new_val = VAL[:row_end]\n",
    "        new_rowptr = ROWPTR[:k+2]\n",
    "        \n",
    "        vk_index = row_start + 1\n",
    "\n",
    "        for j in range(k+1, n):\n",
    "            # top_row = kth_row (not always 0th row!)\n",
    "            # j_row = jth_row\n",
    "            # we aim to calculate:  j_row = j_row - top_row*vk\n",
    "            j_row_start = ROWPTR[j]\n",
    "            j_row_end = ROWPTR[j+1]\n",
    "\n",
    "            # we find indices in top_row ICL and j_row ICL on which value j is, \n",
    "            # so we can start eliminating from there\n",
    "            j_index_j_row = get_col_in_row(ICL[j_row_start:j_row_end], j)\n",
    "            j_index_top_row = get_col_in_row(ICL[row_start:row_end], j)\n",
    "            \n",
    "            # if vk is 0, we just copy j_row from jth index and continue to the next row\n",
    "            if vk_index >= row_end or ICL[vk_index] != j:\n",
    "                if j_index_j_row is not None:\n",
    "                    new_icl += ICL[j_row_start+j_index_j_row:j_row_end]\n",
    "                    new_val += VAL[j_row_start+j_index_j_row:j_row_end]\n",
    "                    \n",
    "                new_rowptr.append(len(new_icl))\n",
    "                continue\n",
    "                \n",
    "            vk = VAL[vk_index]\n",
    "            \n",
    "            # if both top row and jth row are empty after jth index, we move onto the next row\n",
    "            if j_index_j_row is None and j_index_top_row is None:\n",
    "                new_rowptr.append(len(new_icl))\n",
    "                continue\n",
    "    \n",
    "            # if jth row is empty after jth index we copy -vk*top_row\n",
    "            if j_index_j_row is None:\n",
    "                new_icl += ICL[row_start + j_index_top_row:row_end]\n",
    "                new_val += [-vk*x for x in VAL[row_start +\n",
    "                                               j_index_top_row:row_end]]\n",
    "                new_rowptr.append(len(new_icl))\n",
    "                continue\n",
    "            else:\n",
    "                 j_row_index = j_row_start + j_index_j_row\n",
    "            \n",
    "            # if top row is empty after jth index we just copy jth row as it is\n",
    "            if j_index_top_row is None:\n",
    "                new_icl += ICL[j_row_index:j_row_end]\n",
    "                new_val += VAL[j_row_index:j_row_end]\n",
    "                new_rowptr.append(len(new_icl))\n",
    "                continue\n",
    "            else:\n",
    "                top_row_index = row_start + j_index_top_row\n",
    "                \n",
    "\n",
    "            # we iterate through top_row and j_row at the same time\n",
    "            # doing the elimination\n",
    "            # new non-zero values may occur\n",
    "            while j_row_index < j_row_end and top_row_index < row_end:\n",
    "                top_col = ICL[top_row_index]\n",
    "                j_col = ICL[j_row_index]\n",
    "\n",
    "                # nonzero value in kth row, zero in jth\n",
    "                # new nonzero value\n",
    "                if top_col < j_col:\n",
    "                    val = -vk*VAL[top_row_index]\n",
    "                    if abs(val) > 1e-8:\n",
    "                        new_icl.append(top_col)\n",
    "                        new_val.append(val)\n",
    "                    top_row_index += 1\n",
    "                \n",
    "                # both values nonzero\n",
    "                elif top_col == j_col:\n",
    "                    val = VAL[j_row_index]-vk*VAL[top_row_index]\n",
    "                    if abs(val) > 1e-8:\n",
    "                        new_icl.append(top_col)\n",
    "                        new_val.append(val)\n",
    "\n",
    "                    top_row_index += 1\n",
    "                    j_row_index += 1\n",
    "                \n",
    "                # nonzero in jth row, but zero in k\n",
    "                elif top_col > j_col:\n",
    "                    new_icl.append(j_col)\n",
    "                    new_val.append(VAL[j_row_index])\n",
    "                    j_row_index += 1\n",
    "            \n",
    "            # there might still be nonzero values in jth row\n",
    "            # and just zeros in kth\n",
    "            while j_row_index < j_row_end:\n",
    "                new_icl.append(ICL[j_row_index])\n",
    "                new_val.append(VAL[j_row_index])\n",
    "                j_row_index += 1\n",
    "\n",
    "            # there might still be nonzero values in kth row\n",
    "            # and just zeros in jth\n",
    "            while top_row_index < row_end:\n",
    "                val = -vk*VAL[top_row_index]\n",
    "                if abs(val) > 1e-8:\n",
    "                    new_icl.append(ICL[top_row_index])\n",
    "                    new_val.append(val)\n",
    "                top_row_index += 1\n",
    "\n",
    "            new_rowptr.append(len(new_icl))\n",
    "            \n",
    "            if vk_index < row_end and ICL[vk_index] == j:\n",
    "                vk_index += 1\n",
    "\n",
    "        ICL = new_icl\n",
    "        ROWPTR = new_rowptr\n",
    "        VAL = new_val\n",
    "\n",
    "    return ICL, VAL, ROWPTR"
   ]
  },
  {
   "cell_type": "markdown",
   "id": "secure-strategy",
   "metadata": {},
   "source": [
    "## Test"
   ]
  },
  {
   "cell_type": "code",
   "execution_count": 7,
   "id": "comprehensive-sunset",
   "metadata": {},
   "outputs": [],
   "source": [
    "def get_matrix_from_CSR(A):\n",
    "    ICL, VAL, ROWPTR = A\n",
    "    VAL = VAL.copy()\n",
    "    \n",
    "    n = len(ROWPTR) - 1\n",
    "    matrix = np.zeros((n, n))\n",
    "\n",
    "    for row in range(n):\n",
    "        for j in range(ROWPTR[row], ROWPTR[row+1]):\n",
    "            matrix[row, ICL[j]] = VAL[j]\n",
    "            \n",
    "    return matrix"
   ]
  },
  {
   "cell_type": "code",
   "execution_count": 8,
   "id": "perfect-doctrine",
   "metadata": {},
   "outputs": [],
   "source": [
    "def print_CSR_matrix(A):\n",
    "    print(get_matrix_from_CSR(A))"
   ]
  },
  {
   "cell_type": "code",
   "execution_count": 30,
   "id": "pressed-cache",
   "metadata": {
    "scrolled": false
   },
   "outputs": [
    {
     "name": "stdout",
     "output_type": "stream",
     "text": [
      "L.T obliczone funkcją dla macierzy gęstych:\n",
      "[[ 5.          0.          1.          0.          2.        ]\n",
      " [ 0.          6.          0.          0.          0.        ]\n",
      " [ 0.          0.          2.82842712  0.         -0.70710678]\n",
      " [ 0.          0.          0.         10.          0.        ]\n",
      " [ 0.          0.          0.          0.          3.082207  ]]\n",
      "\n",
      "L.T obliczone funkcją dla macierzy rzadkich: \n",
      "[[ 5.          0.          1.          0.          2.        ]\n",
      " [ 0.          6.          0.          0.          0.        ]\n",
      " [ 0.          0.          2.82842712  0.         -0.70710678]\n",
      " [ 0.          0.          0.         10.          0.        ]\n",
      " [ 0.          0.          0.          0.          3.082207  ]]\n",
      "\n",
      "Correct!\n"
     ]
    }
   ],
   "source": [
    "test_matrix = np.array([\n",
    "    [25, 0, 5, 0, 10],\n",
    "    [0, 36, 0, 0, 0],\n",
    "    [0, 0, 9, 0, 0],\n",
    "    [0, 0, 0, 100, 0],\n",
    "    [0, 0, 0, 0, 14]\n",
    "], dtype=float)\n",
    "\n",
    "\n",
    "lt = cholesky_LLT(test_matrix).T\n",
    "sparse_lt = sparse_cholesky(convert_to_csr(test_matrix))\n",
    "dense_result = get_matrix_from_CSR(sparse_lt)\n",
    "\n",
    "print('L.T obliczone funkcją dla macierzy gęstych:')\n",
    "print(lt)\n",
    "\n",
    "print('\\nL.T obliczone funkcją dla macierzy rzadkich: ')\n",
    "print(dense_result)\n",
    "\n",
    "print('\\nCorrect!' if np.allclose(dense_result, lt) else '\\nWrong')"
   ]
  },
  {
   "cell_type": "code",
   "execution_count": 31,
   "id": "relevant-warehouse",
   "metadata": {},
   "outputs": [
    {
     "name": "stdout",
     "output_type": "stream",
     "text": [
      "Correct!\n",
      "Correct!\n"
     ]
    }
   ],
   "source": [
    "for idx, test_matrix in enumerate(matrices.values()):\n",
    "    lt = cholesky_LLT(test_matrix).T\n",
    "    sparse_lt = sparse_cholesky(convert_to_csr(test_matrix))\n",
    "    dense_result = get_matrix_from_CSR(sparse_lt)\n",
    "    print('Correct!' if np.allclose(dense_result, lt) else 'Wrong')"
   ]
  },
  {
   "cell_type": "markdown",
   "id": "8961bb5a",
   "metadata": {},
   "source": [
    "## Porównanie czasów"
   ]
  },
  {
   "cell_type": "code",
   "execution_count": 32,
   "id": "competent-colon",
   "metadata": {},
   "outputs": [],
   "source": [
    "def compare_times(matrix):\n",
    "    start = time()\n",
    "    cholesky_LLT(matrix)\n",
    "    dense_time = time() - start\n",
    "    \n",
    "    start = time()\n",
    "    sparse_cholesky(convert_to_csr(matrix))\n",
    "    sparse_time = time() - start\n",
    "    \n",
    "    df = pd.DataFrame({\n",
    "        'dense': [dense_time],\n",
    "        'sparse': [sparse_time]\n",
    "    }, index=['time [s]'])\n",
    "    \n",
    "    df.plot(kind='bar', cmap='viridis')\n",
    "    return df"
   ]
  },
  {
   "cell_type": "markdown",
   "id": "hearing-jaguar",
   "metadata": {},
   "source": [
    "* 3a"
   ]
  },
  {
   "cell_type": "code",
   "execution_count": 33,
   "id": "physical-institution",
   "metadata": {
    "scrolled": true
   },
   "outputs": [
    {
     "data": {
      "image/png": "[encoded data removed]",
      "text/plain": [
       "<Figure size 432x288 with 1 Axes>"
      ]
     },
     "metadata": {
      "needs_background": "light"
     },
     "output_type": "display_data"
    }
   ],
   "source": [
    "plt.spy(matrices['3a'])\n",
    "plt.show()"
   ]
  },
  {
   "cell_type": "code",
   "execution_count": 44,
   "id": "leading-participant",
   "metadata": {
    "scrolled": true
   },
   "outputs": [
    {
     "data": {
      "text/html": [
       "<div>\n",
       "<style scoped>\n",
       "    .dataframe tbody tr th:only-of-type {\n",
       "        vertical-align: middle;\n",
       "    }\n",
       "\n",
       "    .dataframe tbody tr th {\n",
       "        vertical-align: top;\n",
       "    }\n",
       "\n",
       "    .dataframe thead th {\n",
       "        text-align: right;\n",
       "    }\n",
       "</style>\n",
       "<table border=\"1\" class=\"dataframe\">\n",
       "  <thead>\n",
       "    <tr style=\"text-align: right;\">\n",
       "      <th></th>\n",
       "      <th>dense</th>\n",
       "      <th>sparse</th>\n",
       "    </tr>\n",
       "  </thead>\n",
       "  <tbody>\n",
       "    <tr>\n",
       "      <th>time [s]</th>\n",
       "      <td>0.278256</td>\n",
       "      <td>0.240357</td>\n",
       "    </tr>\n",
       "  </tbody>\n",
       "</table>\n",
       "</div>"
      ],
      "text/plain": [
       "             dense    sparse\n",
       "time [s]  0.278256  0.240357"
      ]
     },
     "execution_count": 44,
     "metadata": {},
     "output_type": "execute_result"
    },
    {
     "data": {
      "image/png": "[encoded data removed]",
      "text/plain": [
       "<Figure size 432x288 with 1 Axes>"
      ]
     },
     "metadata": {
      "needs_background": "light"
     },
     "output_type": "display_data"
    }
   ],
   "source": [
    "compare_times(matrices['3a'])"
   ]
  },
  {
   "cell_type": "markdown",
   "id": "expanded-retirement",
   "metadata": {},
   "source": [
    "* 4a"
   ]
  },
  {
   "cell_type": "code",
   "execution_count": 17,
   "id": "sustainable-partner",
   "metadata": {
    "scrolled": true
   },
   "outputs": [
    {
     "data": {
      "image/png": "[encoded data removed]",
      "text/plain": [
       "<Figure size 432x288 with 1 Axes>"
      ]
     },
     "metadata": {
      "needs_background": "light"
     },
     "output_type": "display_data"
    }
   ],
   "source": [
    "plt.spy(matrices['4a'])\n",
    "plt.show()"
   ]
  },
  {
   "cell_type": "code",
   "execution_count": 60,
   "id": "wound-instruction",
   "metadata": {
    "scrolled": false
   },
   "outputs": [
    {
     "data": {
      "text/html": [
       "<div>\n",
       "<style scoped>\n",
       "    .dataframe tbody tr th:only-of-type {\n",
       "        vertical-align: middle;\n",
       "    }\n",
       "\n",
       "    .dataframe tbody tr th {\n",
       "        vertical-align: top;\n",
       "    }\n",
       "\n",
       "    .dataframe thead th {\n",
       "        text-align: right;\n",
       "    }\n",
       "</style>\n",
       "<table border=\"1\" class=\"dataframe\">\n",
       "  <thead>\n",
       "    <tr style=\"text-align: right;\">\n",
       "      <th></th>\n",
       "      <th>dense</th>\n",
       "      <th>sparse</th>\n",
       "    </tr>\n",
       "  </thead>\n",
       "  <tbody>\n",
       "    <tr>\n",
       "      <th>time [s]</th>\n",
       "      <td>1.062159</td>\n",
       "      <td>0.975948</td>\n",
       "    </tr>\n",
       "  </tbody>\n",
       "</table>\n",
       "</div>"
      ],
      "text/plain": [
       "             dense    sparse\n",
       "time [s]  1.062159  0.975948"
      ]
     },
     "execution_count": 60,
     "metadata": {},
     "output_type": "execute_result"
    },
    {
     "data": {
      "image/png": "[encoded data removed]",
      "text/plain": [
       "<Figure size 432x288 with 1 Axes>"
      ]
     },
     "metadata": {
      "needs_background": "light"
     },
     "output_type": "display_data"
    }
   ],
   "source": [
    "compare_times(matrices['4a'])"
   ]
  },
  {
   "cell_type": "code",
   "execution_count": 66,
   "id": "6fde5abc",
   "metadata": {},
   "outputs": [
    {
     "data": {
      "text/html": [
       "<div>\n",
       "<style scoped>\n",
       "    .dataframe tbody tr th:only-of-type {\n",
       "        vertical-align: middle;\n",
       "    }\n",
       "\n",
       "    .dataframe tbody tr th {\n",
       "        vertical-align: top;\n",
       "    }\n",
       "\n",
       "    .dataframe thead th {\n",
       "        text-align: right;\n",
       "    }\n",
       "</style>\n",
       "<table border=\"1\" class=\"dataframe\">\n",
       "  <thead>\n",
       "    <tr style=\"text-align: right;\">\n",
       "      <th></th>\n",
       "      <th>dense</th>\n",
       "      <th>sparse</th>\n",
       "    </tr>\n",
       "  </thead>\n",
       "  <tbody>\n",
       "    <tr>\n",
       "      <th>time [s]</th>\n",
       "      <td>23.104684</td>\n",
       "      <td>8.795673</td>\n",
       "    </tr>\n",
       "  </tbody>\n",
       "</table>\n",
       "</div>"
      ],
      "text/plain": [
       "              dense    sparse\n",
       "time [s]  23.104684  8.795673"
      ]
     },
     "execution_count": 66,
     "metadata": {},
     "output_type": "execute_result"
    },
    {
     "data": {
      "image/png": "[encoded data removed]",
      "text/plain": [
       "<Figure size 432x288 with 1 Axes>"
      ]
     },
     "metadata": {
      "needs_background": "light"
     },
     "output_type": "display_data"
    }
   ],
   "source": [
    "diagonal_matrix = np.eye(3000, 3000)\n",
    "compare_times(diagonal_matrix)"
   ]
  },
  {
   "cell_type": "markdown",
   "id": "e59e1651",
   "metadata": {},
   "source": [
    "## Wnioski"
   ]
  },
  {
   "cell_type": "markdown",
   "id": "a66fcc8f",
   "metadata": {},
   "source": [
    "* \n",
    "* "
   ]
  },
  {
   "cell_type": "markdown",
   "id": "23865378",
   "metadata": {},
   "source": [
    "M. Hawryluk, N. Wolniak. 2021"
   ]
  }
 ],
 "metadata": {
  "interpreter": {
   "hash": "31f2aee4e71d21fbe5cf8b01ff0e069b9275f58929596ceb00d14d90e3e16cd6"
  },
  "kernelspec": {
   "display_name": "Python 3",
   "language": "python",
   "name": "python3"
  },
  "language_info": {
   "codemirror_mode": {
    "name": "ipython",
    "version": 3
   },
   "file_extension": ".py",
   "mimetype": "text/x-python",
   "name": "python",
   "nbconvert_exporter": "python",
   "pygments_lexer": "ipython3",
   "version": "3.8.10"
  }
 },
 "nbformat": 4,
 "nbformat_minor": 5
}
