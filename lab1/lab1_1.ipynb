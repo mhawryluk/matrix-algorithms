{
 "cells": [
  {
   "cell_type": "markdown",
   "id": "79991e96",
   "metadata": {},
   "source": [
    "# Algorytmy Macierzowe - zadanie nr 1 - Mnożenie macierzy"
   ]
  },
  {
   "cell_type": "code",
   "execution_count": 39,
   "id": "22dae4d8",
   "metadata": {},
   "outputs": [],
   "source": [
    "import numpy as np"
   ]
  },
  {
   "cell_type": "markdown",
   "id": "964c551b",
   "metadata": {},
   "source": [
    "### Loading data"
   ]
  },
  {
   "cell_type": "code",
   "execution_count": 76,
   "id": "75ec1e04",
   "metadata": {},
   "outputs": [],
   "source": [
    "def read_matrix(file_name):\n",
    "    with open(file_name, 'r') as file:\n",
    "        for line in file:\n",
    "            if line.strip() == '':\n",
    "                continue\n",
    "            if line[0] == '#':\n",
    "                if line[2:6] == \"rows\":\n",
    "                    _, _, size = line.split()\n",
    "                    size = int(size)\n",
    "                    matrix = np.zeros((size, size), dtype=np.float64)\n",
    "            else:\n",
    "                row, col, val = line.split(' ')\n",
    "                matrix[int(row)-1, int(col)-1] = val\n",
    "            \n",
    "    return matrix\n",
    "matrix = read_matrix(\"matrix_a.txt\")"
   ]
  },
  {
   "cell_type": "markdown",
   "id": "e81b9ee1",
   "metadata": {},
   "source": [
    "### Matrix multiplication 6 methods"
   ]
  },
  {
   "cell_type": "code",
   "execution_count": 78,
   "id": "9bc9eadb",
   "metadata": {},
   "outputs": [],
   "source": [
    "def mm_ijp(matrix_a, matrix_b):\n",
    "    (m, n), k = matrix_a.shape, matrix_b.shape[1]\n",
    "    matrix_c = np.zeros((m, k), dtype=np.float64)\n",
    "    for i in range(m):\n",
    "        for j in range(n):\n",
    "            for p in range(k):\n",
    "                matrix_c[i, j] += matrix_a[i, p] * matrix_b[p, j]\n",
    "    return matrix_c\n",
    "\n",
    "def mm_ipj(matrix_a, matrix_b):\n",
    "    (m, n), k = matrix_a.shape, matrix_b.shape[1]\n",
    "    matrix_c = np.zeros((m, k), dtype=np.float64)\n",
    "    for i in range(m):\n",
    "        for p in range(k):\n",
    "            for j in range(n):\n",
    "                matrix_c[i, j] += matrix_a[i, p] * matrix_b[p, j]\n",
    "    return matrix_c\n",
    "\n",
    "def mm_jip(matrix_a, matrix_b):\n",
    "    (m, n), k = matrix_a.shape, matrix_b.shape[1]\n",
    "    matrix_c = np.zeros((m, k), dtype=np.float64)\n",
    "    for j in range(n):\n",
    "        for i in range(m):\n",
    "            for p in range(k):\n",
    "                matrix_c[i, j] += matrix_a[i, p] * matrix_b[p, j]\n",
    "    return matrix_c\n",
    "\n",
    "def mm_jpi(matrix_a, matrix_b):\n",
    "    (m, n), k = matrix_a.shape, matrix_b.shape[1]\n",
    "    matrix_c = np.zeros((m, k), dtype=np.float64)\n",
    "    for j in range(n):\n",
    "        for p in range(k):\n",
    "            for i in range(m):\n",
    "                matrix_c[i, j] += matrix_a[i, p] * matrix_b[p, j]\n",
    "    return matrix_c\n",
    "\n",
    "def mm_pij(matrix_a, matrix_b):\n",
    "    (m, n), k = matrix_a.shape, matrix_b.shape[1]\n",
    "    matrix_c = np.zeros((m, k), dtype=np.float64)\n",
    "    for p in range(k):\n",
    "        for i in range(m):\n",
    "            for j in range(n):\n",
    "                matrix_c[i, j] += matrix_a[i, p] * matrix_b[p, j]\n",
    "    return matrix_c\n",
    "\n",
    "def mm_pji(matrix_a, matrix_b):\n",
    "    (m, n), k = matrix_a.shape, matrix_b.shape[1]\n",
    "    matrix_c = np.zeros((m, k), dtype=np.float64)\n",
    "    for p in range(k):\n",
    "        for j in range(n):\n",
    "            for i in range(m):\n",
    "                matrix_c[i, j] += matrix_a[i, p] * matrix_b[p, j]\n",
    "    return matrix_c"
   ]
  },
  {
   "cell_type": "markdown",
   "id": "8700f315",
   "metadata": {},
   "source": [
    "### Matrix multiplication test"
   ]
  },
  {
   "cell_type": "code",
   "execution_count": 95,
   "id": "351f9c89",
   "metadata": {},
   "outputs": [
    {
     "name": "stdout",
     "output_type": "stream",
     "text": [
      "OK\n"
     ]
    }
   ],
   "source": [
    "def mm_test(matrix_a, matrix_b):\n",
    "    matrix_c = matrix_a @ matrix_b\n",
    "    res = True\n",
    "    for mm in [mm_ijp, mm_ipj, mm_jip, mm_jpi, mm_pij, mm_pji]:\n",
    "        if not np.allclose(matrix_c, mm(matrix_a, matrix_b)):\n",
    "            print(\"{} not correct!\".format(mm.__name__))\n",
    "            res = False\n",
    "    if res:\n",
    "        print(\"OK\")\n",
    "\n",
    "mm_test(matrix, matrix)"
   ]
  },
  {
   "cell_type": "markdown",
   "id": "84e56838",
   "metadata": {},
   "source": [
    "### Matrix block multiplication"
   ]
  },
  {
   "cell_type": "code",
   "execution_count": 106,
   "id": "d630a1f6",
   "metadata": {},
   "outputs": [],
   "source": [
    "def mm_block(matrix_a, matrix_b, block_size):\n",
    "    (m, n), k = matrix_a.shape, matrix_b.shape[1]\n",
    "    matrix_c = np.zeros((m, k))\n",
    "    for i in range(0, m, block_size):\n",
    "        ib = min(m - i, block_size)\n",
    "        for j in range(0, n, block_size):\n",
    "            jb = min(n - j, block_size)\n",
    "            for p in range(0, k, block_size):\n",
    "                pb = min(k - p, block_size)\n",
    "                matrix_c[ib:ib+block_size, pb:pb+block_size] += mm_ijp(matrix_a[ib:ib+block_size, pb:pb+block_size],\n",
    "                                                                   matrix_b[pb:pb+block_size, jb:jb+block_size])\n",
    "    return matrix_c"
   ]
  },
  {
   "cell_type": "markdown",
   "id": "b58b340e",
   "metadata": {},
   "source": [
    "### Matrix block multiplication test"
   ]
  },
  {
   "cell_type": "code",
   "execution_count": 109,
   "id": "77ca4895",
   "metadata": {},
   "outputs": [
    {
     "name": "stdout",
     "output_type": "stream",
     "text": [
      "OK\n"
     ]
    }
   ],
   "source": [
    "def mm_block_test(matrix_a, matrix_b):\n",
    "    matrix_c = matrix_a @ matrix_b\n",
    "    res = True\n",
    "    for block_size in range(10, 100, 10):\n",
    "        if not np.allclose(matrix_c, mm_ijp(matrix_a, matrix_b, block_size)):\n",
    "            print(\"{} incorrect block size!\".format(block_size))\n",
    "            res = False\n",
    "    if res:\n",
    "        print(\"OK\")\n",
    "\n",
    "mm_test(matrix, matrix)"
   ]
  },
  {
   "cell_type": "code",
   "execution_count": 110,
   "id": "e7dd8b31",
   "metadata": {},
   "outputs": [],
   "source": [
    "matrix_block_c = mm_block(matrix, matrix, 20)"
   ]
  }
 ],
 "metadata": {
  "kernelspec": {
   "display_name": "Python 3",
   "language": "python",
   "name": "python3"
  },
  "language_info": {
   "codemirror_mode": {
    "name": "ipython",
    "version": 3
   },
   "file_extension": ".py",
   "mimetype": "text/x-python",
   "name": "python",
   "nbconvert_exporter": "python",
   "pygments_lexer": "ipython3",
   "version": "3.8.10"
  }
 },
 "nbformat": 4,
 "nbformat_minor": 5
}
