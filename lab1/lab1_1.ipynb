{
 "cells": [
  {
   "cell_type": "markdown",
   "id": "2f0bbe20",
   "metadata": {},
   "source": [
    "# Algorytmy Macierzowe - zadanie nr 1 - Mnożenie macierzy"
   ]
  },
  {
   "cell_type": "code",
   "execution_count": 39,
   "id": "a6b3f98c",
   "metadata": {},
   "outputs": [],
   "source": [
    "import numpy as np"
   ]
  },
  {
   "cell_type": "markdown",
   "id": "7241cbae",
   "metadata": {},
   "source": [
    "### Loading data"
   ]
  },
  {
   "cell_type": "code",
   "execution_count": 76,
   "id": "32ff6f68",
   "metadata": {},
   "outputs": [],
   "source": [
    "def read_matrix(file_name):\n",
    "    with open(file_name, 'r') as file:\n",
    "        for line in file:\n",
    "            if line.strip() == '':\n",
    "                continue\n",
    "            if line[0] == '#':\n",
    "                if line[2:6] == \"rows\":\n",
    "                    _, _, size = line.split()\n",
    "                    size = int(size)\n",
    "                    matrix = np.zeros((size, size), dtype=np.float64)\n",
    "            else:\n",
    "                row, col, val = line.split(' ')\n",
    "                matrix[int(row)-1, int(col)-1] = val\n",
    "            \n",
    "    return matrix\n",
    "matrix = read_matrix(\"matrix_a.txt\")"
   ]
  },
  {
   "cell_type": "markdown",
   "id": "434aa60b",
   "metadata": {},
   "source": [
    "### Matrix multiplication 6 methods"
   ]
  },
  {
   "cell_type": "code",
   "execution_count": 78,
   "id": "ff3103a4",
   "metadata": {},
   "outputs": [],
   "source": [
    "def mm_ijp(matrix_a, matrix_b):\n",
    "    (m, n), k = matrix_a.shape, matrix_b.shape[1]\n",
    "    matrix_c = np.zeros((m, k), dtype=np.float64)\n",
    "    for i in range(m):\n",
    "        for j in range(n):\n",
    "            for p in range(k):\n",
    "                matrix_c[i, j] += matrix_a[i, p] * matrix_b[p, j]\n",
    "    return matrix_c\n",
    "\n",
    "def mm_ipj(matrix_a, matrix_b):\n",
    "    (m, n), k = matrix_a.shape, matrix_b.shape[1]\n",
    "    matrix_c = np.zeros((m, k), dtype=np.float64)\n",
    "    for i in range(m):\n",
    "        for p in range(k):\n",
    "            for j in range(n):\n",
    "                matrix_c[i, j] += matrix_a[i, p] * matrix_b[p, j]\n",
    "    return matrix_c\n",
    "\n",
    "def mm_jip(matrix_a, matrix_b):\n",
    "    (m, n), k = matrix_a.shape, matrix_b.shape[1]\n",
    "    matrix_c = np.zeros((m, k), dtype=np.float64)\n",
    "    for j in range(n):\n",
    "        for i in range(m):\n",
    "            for p in range(k):\n",
    "                matrix_c[i, j] += matrix_a[i, p] * matrix_b[p, j]\n",
    "    return matrix_c\n",
    "\n",
    "def mm_jpi(matrix_a, matrix_b):\n",
    "    (m, n), k = matrix_a.shape, matrix_b.shape[1]\n",
    "    matrix_c = np.zeros((m, k), dtype=np.float64)\n",
    "    for j in range(n):\n",
    "        for p in range(k):\n",
    "            for i in range(m):\n",
    "                matrix_c[i, j] += matrix_a[i, p] * matrix_b[p, j]\n",
    "    return matrix_c\n",
    "\n",
    "def mm_pij(matrix_a, matrix_b):\n",
    "    (m, n), k = matrix_a.shape, matrix_b.shape[1]\n",
    "    matrix_c = np.zeros((m, k), dtype=np.float64)\n",
    "    for p in range(k):\n",
    "        for i in range(m):\n",
    "            for j in range(n):\n",
    "                matrix_c[i, j] += matrix_a[i, p] * matrix_b[p, j]\n",
    "    return matrix_c\n",
    "\n",
    "def mm_pji(matrix_a, matrix_b):\n",
    "    (m, n), k = matrix_a.shape, matrix_b.shape[1]\n",
    "    matrix_c = np.zeros((m, k), dtype=np.float64)\n",
    "    for p in range(k):\n",
    "        for j in range(n):\n",
    "            for i in range(m):\n",
    "                matrix_c[i, j] += matrix_a[i, p] * matrix_b[p, j]\n",
    "    return matrix_c"
   ]
  },
  {
   "cell_type": "markdown",
   "id": "c0efc1d7",
   "metadata": {},
   "source": [
    "### Matrix multiplication test"
   ]
  },
  {
   "cell_type": "code",
   "execution_count": 95,
   "id": "aae8b4ca",
   "metadata": {},
   "outputs": [
    {
     "name": "stdout",
     "output_type": "stream",
     "text": [
      "OK\n"
     ]
    }
   ],
   "source": [
    "def mm_test(matrix_a, matrix_b):\n",
    "    matrix_c = matrix_a @ matrix_b\n",
    "    res = True\n",
    "    for mm in [mm_ijp, mm_ipj, mm_jip, mm_jpi, mm_pij, mm_pji]:\n",
    "        if not np.allclose(matrix_c, mm(matrix_a, matrix_b)):\n",
    "            print(\"{} not correct!\".format(mm.__name__))\n",
    "            res = False\n",
    "    if res:\n",
    "        print(\"OK\")\n",
    "\n",
    "mm_test(matrix, matrix)"
   ]
  },
  {
   "cell_type": "code",
   "execution_count": 93,
   "id": "283116d2",
   "metadata": {},
   "outputs": [
    {
     "name": "stdout",
     "output_type": "stream",
     "text": [
      "OK\n"
     ]
    }
   ],
   "source": []
  }
 ],
 "metadata": {
  "kernelspec": {
   "display_name": "Python 3",
   "language": "python",
   "name": "python3"
  },
  "language_info": {
   "codemirror_mode": {
    "name": "ipython",
    "version": 3
   },
   "file_extension": ".py",
   "mimetype": "text/x-python",
   "name": "python",
   "nbconvert_exporter": "python",
   "pygments_lexer": "ipython3",
   "version": "3.8.10"
  }
 },
 "nbformat": 4,
 "nbformat_minor": 5
}
