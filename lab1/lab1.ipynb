{
 "cells": [
  {
   "cell_type": "markdown",
   "id": "20c93e2d",
   "metadata": {},
   "source": [
    "# Algorytmy macierzowe - zadanie nr 1 - Mnożenie macierzy"
   ]
  },
  {
   "cell_type": "markdown",
   "id": "8d31d337",
   "metadata": {},
   "source": [
    "### Procedura mnożenia blokowego macierzy"
   ]
  },
  {
   "cell_type": "code",
   "execution_count": null,
   "id": "20f09a3f",
   "metadata": {},
   "outputs": [],
   "source": []
  },
  {
   "cell_type": "markdown",
   "id": "48e4777b",
   "metadata": {},
   "source": [
    "### Generowanie macierzy"
   ]
  },
  {
   "cell_type": "code",
   "execution_count": null,
   "id": "a796b623",
   "metadata": {},
   "outputs": [],
   "source": []
  },
  {
   "cell_type": "markdown",
   "id": "49476a78",
   "metadata": {},
   "source": [
    "*1. Proszę wybrać dwie możliwie największe macierze A i B ze swoich dwóch rodzin macierzy, takie żeby zgadzały się ich rozmiary, oraz przemnożyć je A*B swoim optymalnym algorytmem (tak duże macierze jakie da się w czasie kilku-kilkudziesięciu minut przemnożyć na Państwa laptopie)*"
   ]
  },
  {
   "cell_type": "code",
   "execution_count": null,
   "id": "f3e33874",
   "metadata": {},
   "outputs": [],
   "source": []
  },
  {
   "cell_type": "markdown",
   "id": "e5a6c21a",
   "metadata": {},
   "source": [
    "*2. Proszę narysować schemat niezerowych wartości swoich dwóch macierzy (używając komendy spy(A), spy(B) MATLABa) oraz macierzy wynikowej A*B*"
   ]
  },
  {
   "cell_type": "code",
   "execution_count": null,
   "id": "d3c8923f",
   "metadata": {},
   "outputs": [],
   "source": []
  },
  {
   "cell_type": "markdown",
   "id": "9e7be7a5",
   "metadata": {},
   "source": [
    "### Pomiar czasów"
   ]
  },
  {
   "cell_type": "markdown",
   "id": "fc5301c8",
   "metadata": {},
   "source": [
    "*3. Proszę zmierzyć czas mnożenia tych wybranych dwóch dużych macierzy dla różnej kolejności pętli w algorytmie mnożenia macierzy. Proszę narysować tabelkę: kolejność pętli (6 możliwości) versus czasy mnożenia*"
   ]
  },
  {
   "cell_type": "code",
   "execution_count": null,
   "id": "4799e385",
   "metadata": {},
   "outputs": [],
   "source": []
  },
  {
   "cell_type": "markdown",
   "id": "f2aa3dd3",
   "metadata": {},
   "source": [
    "*4. Proszę wybrać jedną kolejność pętli i następnie dla swoich dwóch macierzy A i B zmierzyć czasy mnożenia w algorytmie mnożenia blokowego. Proszę narysować wykres: oś x rozmiar bloków, oś y czas mnożenia*"
   ]
  },
  {
   "cell_type": "code",
   "execution_count": null,
   "id": "f2bef39f",
   "metadata": {},
   "outputs": [],
   "source": []
  },
  {
   "cell_type": "markdown",
   "id": "8fb1f2f6",
   "metadata": {},
   "source": [
    "### Liczba operacji"
   ]
  },
  {
   "cell_type": "markdown",
   "id": "5f84c4dd",
   "metadata": {},
   "source": [
    "*5. Proszę obliczyć liczbę operacji zmienno-przecinkowych koniecznych do*"
   ]
  },
  {
   "cell_type": "code",
   "execution_count": null,
   "id": "f900809a",
   "metadata": {},
   "outputs": [],
   "source": []
  },
  {
   "cell_type": "markdown",
   "id": "e576d2b0",
   "metadata": {},
   "source": [
    "### Wnioski"
   ]
  },
  {
   "cell_type": "markdown",
   "id": "bbb843da",
   "metadata": {},
   "source": []
  }
 ],
 "metadata": {
  "kernelspec": {
   "display_name": "Python 3 (ipykernel)",
   "language": "python",
   "name": "python3"
  },
  "language_info": {
   "codemirror_mode": {
    "name": "ipython",
    "version": 3
   },
   "file_extension": ".py",
   "mimetype": "text/x-python",
   "name": "python",
   "nbconvert_exporter": "python",
   "pygments_lexer": "ipython3",
   "version": "3.9.6"
  }
 },
 "nbformat": 4,
 "nbformat_minor": 5
}
