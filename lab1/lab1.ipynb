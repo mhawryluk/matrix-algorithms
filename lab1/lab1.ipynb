{
 "cells": [
  {
   "cell_type": "markdown",
   "id": "faff8fe0",
   "metadata": {},
   "source": [
    "# Algorytmy macierzowe - zadanie nr 1 - Mnożenie macierzy"
   ]
  },
  {
   "cell_type": "markdown",
   "id": "hourly-database",
   "metadata": {},
   "source": [
    "\"2. Proszę napisać mnożenie qxq macierzy FEM i FEM używając algorytmu mnożenia blokowego i dobrać optymalną kolejność pętli oraz rozmiar bloków\""
   ]
  },
  {
   "cell_type": "markdown",
   "id": "6ae11b4b",
   "metadata": {},
   "source": [
    "Marcin Hawryluk, Norbert Wolniak <br>grupa: piątek 12:50B <hr>"
   ]
  },
  {
   "cell_type": "markdown",
   "id": "6fa7f69b",
   "metadata": {},
   "source": [
    "## Python 3"
   ]
  },
  {
   "cell_type": "code",
   "execution_count": 1,
   "id": "refined-croatia",
   "metadata": {},
   "outputs": [],
   "source": [
    "import numpy as np\n",
    "from time import time\n",
    "import matplotlib.pyplot as plt\n",
    "import pandas as pd"
   ]
  },
  {
   "cell_type": "markdown",
   "id": "intended-chapel",
   "metadata": {},
   "source": [
    "Do implementacji wybraliśmy język Python 3 wraz z biblioteką do obliczeń numerycznych numpy, która pozwala operować na macierzach zaimplementowanych bezpośrednio w języku C."
   ]
  },
  {
   "cell_type": "markdown",
   "id": "swiss-order",
   "metadata": {},
   "source": [
    "### Generowanie macierzy"
   ]
  },
  {
   "cell_type": "markdown",
   "id": "seventh-individual",
   "metadata": {},
   "source": [
    "Macierze, których będziemy używać, wygenerowaliśmy za pomocą dostarczonej procedury massmatrix, napisanej w środowisku Octave. Macierze zapisaliśmy w postaci pliku tekstowego, a następnie odczytaliśmy w Pythonie za pomocą poniższej funkcji.\n",
    "\n",
    "W poniższej pracy przeanalizujemy mnożenie na macierzach typu FEM, czyli pochodzących z obliczeń w ramach Metody Elementów Skończonych, która służy do aproksymacji rozwiązań równań różniczkowych."
   ]
  },
  {
   "cell_type": "code",
   "execution_count": 2,
   "id": "portable-remove",
   "metadata": {},
   "outputs": [],
   "source": [
    "def read_matrix(file_name):\n",
    "    with open(file_name, 'r') as file:\n",
    "        for line in file:\n",
    "            if line.strip() == '':\n",
    "                continue\n",
    "            if line[0] == '#':\n",
    "                if line[2:6] == \"rows\":\n",
    "                    _, _, size = line.split()\n",
    "                    size = int(size)\n",
    "                    matrix = np.zeros((size, size))\n",
    "            else:\n",
    "                row, col, val = line.split(' ')\n",
    "                matrix[int(row)-1, int(col)-1] = val\n",
    "            \n",
    "    return matrix"
   ]
  },
  {
   "cell_type": "code",
   "execution_count": 3,
   "id": "presidential-solution",
   "metadata": {
    "scrolled": true
   },
   "outputs": [
    {
     "data": {
      "text/plain": [
       "array([[0.11111111, 0.05555556, 0.        , 0.        , 0.05555556,\n",
       "        0.02777778, 0.        , 0.        , 0.        , 0.        ,\n",
       "        0.        , 0.        , 0.        , 0.        , 0.        ,\n",
       "        0.        ],\n",
       "       [0.05555556, 0.11111111, 0.        , 0.        , 0.02777778,\n",
       "        0.05555556, 0.        , 0.        , 0.        , 0.        ,\n",
       "        0.        , 0.        , 0.        , 0.        , 0.        ,\n",
       "        0.        ],\n",
       "       [0.        , 0.        , 0.11111111, 0.05555556, 0.        ,\n",
       "        0.        , 0.05555556, 0.02777778, 0.        , 0.        ,\n",
       "        0.        , 0.        , 0.        , 0.        , 0.        ,\n",
       "        0.        ],\n",
       "       [0.        , 0.        , 0.05555556, 0.11111111, 0.        ,\n",
       "        0.        , 0.02777778, 0.05555556, 0.        , 0.        ,\n",
       "        0.        , 0.        , 0.        , 0.        , 0.        ,\n",
       "        0.        ],\n",
       "       [0.05555556, 0.02777778, 0.        , 0.        , 0.11111111,\n",
       "        0.05555556, 0.        , 0.        , 0.        , 0.        ,\n",
       "        0.        , 0.        , 0.        , 0.        , 0.        ,\n",
       "        0.        ],\n",
       "       [0.02777778, 0.05555556, 0.        , 0.        , 0.05555556,\n",
       "        0.11111111, 0.        , 0.        , 0.        , 0.        ,\n",
       "        0.        , 0.        , 0.        , 0.        , 0.        ,\n",
       "        0.        ],\n",
       "       [0.        , 0.        , 0.05555556, 0.02777778, 0.        ,\n",
       "        0.        , 0.11111111, 0.05555556, 0.        , 0.        ,\n",
       "        0.        , 0.        , 0.        , 0.        , 0.        ,\n",
       "        0.        ],\n",
       "       [0.        , 0.        , 0.02777778, 0.05555556, 0.        ,\n",
       "        0.        , 0.05555556, 0.11111111, 0.        , 0.        ,\n",
       "        0.        , 0.        , 0.        , 0.        , 0.        ,\n",
       "        0.        ],\n",
       "       [0.        , 0.        , 0.        , 0.        , 0.        ,\n",
       "        0.        , 0.        , 0.        , 0.11111111, 0.05555556,\n",
       "        0.        , 0.        , 0.05555556, 0.02777778, 0.        ,\n",
       "        0.        ],\n",
       "       [0.        , 0.        , 0.        , 0.        , 0.        ,\n",
       "        0.        , 0.        , 0.        , 0.05555556, 0.11111111,\n",
       "        0.        , 0.        , 0.02777778, 0.05555556, 0.        ,\n",
       "        0.        ],\n",
       "       [0.        , 0.        , 0.        , 0.        , 0.        ,\n",
       "        0.        , 0.        , 0.        , 0.        , 0.        ,\n",
       "        0.11111111, 0.05555556, 0.        , 0.        , 0.05555556,\n",
       "        0.02777778],\n",
       "       [0.        , 0.        , 0.        , 0.        , 0.        ,\n",
       "        0.        , 0.        , 0.        , 0.        , 0.        ,\n",
       "        0.05555556, 0.11111111, 0.        , 0.        , 0.02777778,\n",
       "        0.05555556],\n",
       "       [0.        , 0.        , 0.        , 0.        , 0.        ,\n",
       "        0.        , 0.        , 0.        , 0.05555556, 0.02777778,\n",
       "        0.        , 0.        , 0.11111111, 0.05555556, 0.        ,\n",
       "        0.        ],\n",
       "       [0.        , 0.        , 0.        , 0.        , 0.        ,\n",
       "        0.        , 0.        , 0.        , 0.02777778, 0.05555556,\n",
       "        0.        , 0.        , 0.05555556, 0.11111111, 0.        ,\n",
       "        0.        ],\n",
       "       [0.        , 0.        , 0.        , 0.        , 0.        ,\n",
       "        0.        , 0.        , 0.        , 0.        , 0.        ,\n",
       "        0.05555556, 0.02777778, 0.        , 0.        , 0.11111111,\n",
       "        0.05555556],\n",
       "       [0.        , 0.        , 0.        , 0.        , 0.        ,\n",
       "        0.        , 0.        , 0.        , 0.        , 0.        ,\n",
       "        0.02777778, 0.05555556, 0.        , 0.        , 0.05555556,\n",
       "        0.11111111]])"
      ]
     },
     "execution_count": 3,
     "metadata": {},
     "output_type": "execute_result"
    }
   ],
   "source": [
    "matrix_small = read_matrix(\"matrices/fem_1210_16x16.txt\")\n",
    "matrix_small"
   ]
  },
  {
   "cell_type": "markdown",
   "id": "rolled-position",
   "metadata": {},
   "source": [
    "### Procedura mnożenia macierzy"
   ]
  },
  {
   "cell_type": "markdown",
   "id": "casual-quebec",
   "metadata": {},
   "source": [
    "#### Klasyczna funkcja  w 6 wersjach"
   ]
  },
  {
   "cell_type": "markdown",
   "id": "quantitative-bhutan",
   "metadata": {},
   "source": [
    "Poniżej znajduje się implementacja klasycznej procedury mnożenia macierzy w sześciu wersjach, różniących się jedynie kolejnością zagnieżdzonych pętli."
   ]
  },
  {
   "cell_type": "code",
   "execution_count": 4,
   "id": "dynamic-familiar",
   "metadata": {},
   "outputs": [],
   "source": [
    "def mm_ijp(matrix_a, matrix_b):\n",
    "    (m, n), k = matrix_a.shape, matrix_b.shape[1]\n",
    "    matrix_c = np.zeros((m, k), dtype=np.float64)\n",
    "    for i in range(m):\n",
    "        for j in range(k):\n",
    "            for p in range(n):\n",
    "                matrix_c[i, j] += matrix_a[i, p] * matrix_b[p, j]\n",
    "    return matrix_c\n",
    "\n",
    "def mm_ipj(matrix_a, matrix_b):\n",
    "    (m, n), k = matrix_a.shape, matrix_b.shape[1]\n",
    "    matrix_c = np.zeros((m, k), dtype=np.float64)\n",
    "    for i in range(m):\n",
    "        for p in range(n):\n",
    "            for j in range(k):\n",
    "                matrix_c[i, j] += matrix_a[i, p] * matrix_b[p, j]\n",
    "    return matrix_c\n",
    "\n",
    "def mm_jip(matrix_a, matrix_b):\n",
    "    (m, n), k = matrix_a.shape, matrix_b.shape[1]\n",
    "    matrix_c = np.zeros((m, k), dtype=np.float64)\n",
    "    for j in range(k):\n",
    "        for i in range(m):\n",
    "            for p in range(n):\n",
    "                matrix_c[i, j] += matrix_a[i, p] * matrix_b[p, j]\n",
    "    return matrix_c\n",
    "\n",
    "def mm_jpi(matrix_a, matrix_b):\n",
    "    (m, n), k = matrix_a.shape, matrix_b.shape[1]\n",
    "    matrix_c = np.zeros((m, k), dtype=np.float64)\n",
    "    for j in range(k):\n",
    "        for p in range(n):\n",
    "            for i in range(m):\n",
    "                matrix_c[i, j] += matrix_a[i, p] * matrix_b[p, j]\n",
    "    return matrix_c\n",
    "\n",
    "def mm_pij(matrix_a, matrix_b):\n",
    "    (m, n), k = matrix_a.shape, matrix_b.shape[1]\n",
    "    matrix_c = np.zeros((m, k), dtype=np.float64)\n",
    "    for p in range(n):\n",
    "        for i in range(m):\n",
    "            for j in range(k):\n",
    "                matrix_c[i, j] += matrix_a[i, p] * matrix_b[p, j]\n",
    "    return matrix_c\n",
    "\n",
    "def mm_pji(matrix_a, matrix_b):\n",
    "    (m, n), k = matrix_a.shape, matrix_b.shape[1]\n",
    "    matrix_c = np.zeros((m, k), dtype=np.float64)\n",
    "    for p in range(n):\n",
    "        for j in range(k):\n",
    "            for i in range(m):\n",
    "                matrix_c[i, j] += matrix_a[i, p] * matrix_b[p, j]\n",
    "    return matrix_c"
   ]
  },
  {
   "cell_type": "markdown",
   "id": "lightweight-memorial",
   "metadata": {},
   "source": [
    "W celu weryfikacji poprawności powyższych funkcji, porównujemy wynik z macierzą otrzymaną przy użyciu operatora mnożenia macierzy dostępnego w bibliotece numpy:"
   ]
  },
  {
   "cell_type": "code",
   "execution_count": 5,
   "id": "perceived-might",
   "metadata": {},
   "outputs": [
    {
     "name": "stdout",
     "output_type": "stream",
     "text": [
      "OK\n"
     ]
    }
   ],
   "source": [
    "def mm_test(matrix_a, matrix_b):\n",
    "    matrix_c = matrix_a @ matrix_b\n",
    "    res = True\n",
    "    for mm in [mm_ijp, mm_ipj, mm_jip, mm_jpi, mm_pij, mm_pji]:\n",
    "        if not np.allclose(matrix_c, mm(matrix_a, matrix_b)):\n",
    "            print(\"{} not correct!\".format(mm.__name__))\n",
    "            res = False\n",
    "    if res:\n",
    "        print(\"OK\")\n",
    "\n",
    "mm_test(matrix_small, matrix_small)"
   ]
  },
  {
   "cell_type": "markdown",
   "id": "velvet-trinidad",
   "metadata": {},
   "source": [
    "#### Procedura mnożenia blokowego macierzy"
   ]
  },
  {
   "cell_type": "markdown",
   "id": "functioning-portugal",
   "metadata": {},
   "source": [
    "Następnie implementujemy algorytm mnożenia blokowego, w ramach którego dzielimy macierze wejściowe na mniejsze rozłączne podmacierze, na których następnie wykonujemy operacje. Funkcja jako trzeci argument przyjmuje rozmiar podmacierzy; przyjęliśmy, że będziemy dzielić na macierze kwadratowe (z wyjątkiem skrajnych fragmentów), jednak poniższą funkcję  można by uogólnić, aby można było zadać inny podział. W celu uzyskania iloczynu dwóch podmacierzy, wykorzystujemy klasyczną funkcję w wersji ijp."
   ]
  },
  {
   "cell_type": "code",
   "execution_count": 6,
   "id": "everyday-blogger",
   "metadata": {},
   "outputs": [],
   "source": [
    "def mm_block(matrix_a, matrix_b, block_size):\n",
    "    (m, n), k = matrix_a.shape, matrix_b.shape[1]\n",
    "    matrix_c = np.zeros((m, k))\n",
    "    \n",
    "    for i in range(0, m, block_size):\n",
    "        ib = min(m - i, block_size)\n",
    "        for j in range(0, k, block_size):\n",
    "            jb = min(n - j, block_size)\n",
    "            for p in range(0, n, block_size):\n",
    "                pb = min(k - p, block_size)\n",
    "                matrix_c[i:i+ib, j:j+jb] += mm_ijp(matrix_a[i:i+ib, p:p+pb],\n",
    "                                                                   matrix_b[p:p+pb, j:j+jb])\n",
    "    return matrix_c"
   ]
  },
  {
   "cell_type": "markdown",
   "id": "outdoor-aquarium",
   "metadata": {},
   "source": [
    "Weryfikujemy poprawność powyższej implementacji:"
   ]
  },
  {
   "cell_type": "code",
   "execution_count": 7,
   "id": "focal-beast",
   "metadata": {},
   "outputs": [
    {
     "name": "stdout",
     "output_type": "stream",
     "text": [
      "OK\n"
     ]
    }
   ],
   "source": [
    "def mm_block_test(matrix_a, matrix_b):\n",
    "    matrix_c = matrix_a @ matrix_b\n",
    "    res = True\n",
    "    for block_size in range(1, 20):\n",
    "        if not np.allclose(matrix_c, mm_block(matrix_a, matrix_b, block_size)):\n",
    "            print(\"{} incorrect block size!\".format(block_size))\n",
    "            res = False\n",
    "    if res:\n",
    "        print(\"OK\")\n",
    "\n",
    "mm_block_test(matrix_small, matrix_small)"
   ]
  },
  {
   "cell_type": "markdown",
   "id": "arbitrary-theorem",
   "metadata": {},
   "source": [
    "\"1. Proszę wybrać dwie możliwie największe macierze A i B ze swoich dwóch rodzin macierzy, takie żeby zgadzały się ich rozmiary, oraz przemnożyć je A*B swoim optymalnym algorytmem (tak duże macierze jakie da się w czasie kilku-kilkudziesięciu minut przemnożyć na Państwa laptopie)\""
   ]
  },
  {
   "cell_type": "code",
   "execution_count": 12,
   "id": "romantic-intellectual",
   "metadata": {},
   "outputs": [
    {
     "name": "stdout",
     "output_type": "stream",
     "text": [
      "(225, 225)\n"
     ]
    }
   ],
   "source": [
    "matrix = read_matrix(\"matrices/fem_1640_225x225.txt\")\n",
    "print(matrix.shape)"
   ]
  },
  {
   "cell_type": "markdown",
   "id": "comfortable-ethnic",
   "metadata": {},
   "source": [
    "\"2. Proszę narysować schemat niezerowych wartości swoich dwóch macierzy (używając komendy spy(A), spy(B) MATLABa) oraz macierzy wynikowej A*B\""
   ]
  },
  {
   "cell_type": "markdown",
   "id": "similar-instruction",
   "metadata": {},
   "source": [
    "Macierz A (oraz B):\n",
    "<img src=\"matrices/1640_spy.jpeg\" width=500 height=500 />\n",
    "\n",
    "Macierz A\\*B:\n",
    "<img src=\"matrices/1640_spy_mult.jpeg\" width=500 height=500 />"
   ]
  },
  {
   "cell_type": "markdown",
   "id": "miniature-atlas",
   "metadata": {},
   "source": [
    "### Pomiar czasów"
   ]
  },
  {
   "cell_type": "markdown",
   "id": "public-compression",
   "metadata": {},
   "source": [
    "\"3. Proszę zmierzyć czas mnożenia tych wybranych dwóch dużych macierzy dla różnej kolejności pętli w algorytmie mnożenia macierzy. Proszę narysować tabelkę: kolejność pętli (6 możliwości) versus czasy mnożenia\""
   ]
  },
  {
   "cell_type": "code",
   "execution_count": 13,
   "id": "attempted-mailing",
   "metadata": {},
   "outputs": [],
   "source": [
    "def compare_mult_times(matrix_a, matrix_b):\n",
    "    times = {}\n",
    "    for mm in [mm_ijp, mm_ipj, mm_jip, mm_jpi, mm_pij, mm_pji]:\n",
    "        start = time()\n",
    "        mm(matrix_a, matrix_b)\n",
    "        times[mm.__name__[3:]] = time() - start\n",
    "        \n",
    "    df = pd.DataFrame(times.values(), times.keys(), [\"times [s]\"])\n",
    "    df.plot(\n",
    "        kind='bar',\n",
    "        figsize=(10, 5),\n",
    "        xlabel='loop order',\n",
    "        ylabel='multiplication time [s]',\n",
    "        colormap='Set3'\n",
    "    )\n",
    "    \n",
    "    return df"
   ]
  },
  {
   "cell_type": "code",
   "execution_count": 14,
   "id": "interesting-vitamin",
   "metadata": {},
   "outputs": [
    {
     "data": {
      "text/html": [
       "<div>\n",
       "<style scoped>\n",
       "    .dataframe tbody tr th:only-of-type {\n",
       "        vertical-align: middle;\n",
       "    }\n",
       "\n",
       "    .dataframe tbody tr th {\n",
       "        vertical-align: top;\n",
       "    }\n",
       "\n",
       "    .dataframe thead th {\n",
       "        text-align: right;\n",
       "    }\n",
       "</style>\n",
       "<table border=\"1\" class=\"dataframe\">\n",
       "  <thead>\n",
       "    <tr style=\"text-align: right;\">\n",
       "      <th></th>\n",
       "      <th>times [s]</th>\n",
       "    </tr>\n",
       "  </thead>\n",
       "  <tbody>\n",
       "    <tr>\n",
       "      <th>ijp</th>\n",
       "      <td>7.519995</td>\n",
       "    </tr>\n",
       "    <tr>\n",
       "      <th>ipj</th>\n",
       "      <td>7.248176</td>\n",
       "    </tr>\n",
       "    <tr>\n",
       "      <th>jip</th>\n",
       "      <td>7.234744</td>\n",
       "    </tr>\n",
       "    <tr>\n",
       "      <th>jpi</th>\n",
       "      <td>7.225607</td>\n",
       "    </tr>\n",
       "    <tr>\n",
       "      <th>pij</th>\n",
       "      <td>7.228835</td>\n",
       "    </tr>\n",
       "    <tr>\n",
       "      <th>pji</th>\n",
       "      <td>7.275199</td>\n",
       "    </tr>\n",
       "  </tbody>\n",
       "</table>\n",
       "</div>"
      ],
      "text/plain": [
       "     times [s]\n",
       "ijp   7.519995\n",
       "ipj   7.248176\n",
       "jip   7.234744\n",
       "jpi   7.225607\n",
       "pij   7.228835\n",
       "pji   7.275199"
      ]
     },
     "execution_count": 14,
     "metadata": {},
     "output_type": "execute_result"
    },
    {
     "data": {
      "image/png": "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\n",
      "text/plain": [
       "<Figure size 720x360 with 1 Axes>"
      ]
     },
     "metadata": {
      "needs_background": "light"
     },
     "output_type": "display_data"
    }
   ],
   "source": [
    "compare_mult_times(matrix, matrix)"
   ]
  },
  {
   "cell_type": "markdown",
   "id": "valued-warner",
   "metadata": {},
   "source": [
    "Na powyższych wynikach nie można zaobserwować wyraźnej różnicy na korzyść którejkolwiek z wersji procedury."
   ]
  },
  {
   "cell_type": "markdown",
   "id": "premium-teach",
   "metadata": {},
   "source": [
    "\"4. Proszę wybrać jedną kolejność pętli i następnie dla swoich dwóch macierzy A i B zmierzyć czasy mnożenia w algorytmie mnożenia blokowego. Proszę narysować wykres: oś x rozmiar bloków, oś y czas mnożenia\""
   ]
  },
  {
   "cell_type": "code",
   "execution_count": 17,
   "id": "minute-capitol",
   "metadata": {},
   "outputs": [],
   "source": [
    "def compare_block_times(matrix_a, matrix_b):\n",
    "    times = {}\n",
    "    \n",
    "    for block_size in range(1, 100, 10):\n",
    "        start = time()\n",
    "        mm_block(matrix_a, matrix_b, block_size)\n",
    "        times[block_size] = time() - start\n",
    "    \n",
    "    df = pd.DataFrame(times.values(), times.keys(), [\"times [s]\"])\n",
    "    df.plot(\n",
    "        figsize=(10, 10),\n",
    "        xlabel='block size',\n",
    "        ylabel='multiplication time [s]',\n",
    "        color=\"#4a4e69\",\n",
    "        linewidth=3,\n",
    "        markersize=10,\n",
    "        marker='o'\n",
    "    )\n",
    "    \n",
    "    return df"
   ]
  },
  {
   "cell_type": "code",
   "execution_count": 18,
   "id": "wound-falls",
   "metadata": {},
   "outputs": [
    {
     "data": {
      "text/html": [
       "<div>\n",
       "<style scoped>\n",
       "    .dataframe tbody tr th:only-of-type {\n",
       "        vertical-align: middle;\n",
       "    }\n",
       "\n",
       "    .dataframe tbody tr th {\n",
       "        vertical-align: top;\n",
       "    }\n",
       "\n",
       "    .dataframe thead th {\n",
       "        text-align: right;\n",
       "    }\n",
       "</style>\n",
       "<table border=\"1\" class=\"dataframe\">\n",
       "  <thead>\n",
       "    <tr style=\"text-align: right;\">\n",
       "      <th></th>\n",
       "      <th>times [s]</th>\n",
       "    </tr>\n",
       "  </thead>\n",
       "  <tbody>\n",
       "    <tr>\n",
       "      <th>1</th>\n",
       "      <td>77.802423</td>\n",
       "    </tr>\n",
       "    <tr>\n",
       "      <th>11</th>\n",
       "      <td>8.235655</td>\n",
       "    </tr>\n",
       "    <tr>\n",
       "      <th>21</th>\n",
       "      <td>7.801710</td>\n",
       "    </tr>\n",
       "    <tr>\n",
       "      <th>31</th>\n",
       "      <td>7.801809</td>\n",
       "    </tr>\n",
       "    <tr>\n",
       "      <th>41</th>\n",
       "      <td>8.611642</td>\n",
       "    </tr>\n",
       "    <tr>\n",
       "      <th>51</th>\n",
       "      <td>10.057984</td>\n",
       "    </tr>\n",
       "    <tr>\n",
       "      <th>61</th>\n",
       "      <td>8.939483</td>\n",
       "    </tr>\n",
       "    <tr>\n",
       "      <th>71</th>\n",
       "      <td>9.014252</td>\n",
       "    </tr>\n",
       "    <tr>\n",
       "      <th>81</th>\n",
       "      <td>7.831739</td>\n",
       "    </tr>\n",
       "    <tr>\n",
       "      <th>91</th>\n",
       "      <td>7.676766</td>\n",
       "    </tr>\n",
       "  </tbody>\n",
       "</table>\n",
       "</div>"
      ],
      "text/plain": [
       "    times [s]\n",
       "1   77.802423\n",
       "11   8.235655\n",
       "21   7.801710\n",
       "31   7.801809\n",
       "41   8.611642\n",
       "51  10.057984\n",
       "61   8.939483\n",
       "71   9.014252\n",
       "81   7.831739\n",
       "91   7.676766"
      ]
     },
     "execution_count": 18,
     "metadata": {},
     "output_type": "execute_result"
    },
    {
     "data": {
      "image/png": "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\n",
      "text/plain": [
       "<Figure size 720x720 with 1 Axes>"
      ]
     },
     "metadata": {
      "needs_background": "light"
     },
     "output_type": "display_data"
    }
   ],
   "source": [
    "compare_block_times(matrix, matrix)"
   ]
  },
  {
   "cell_type": "markdown",
   "id": "handed-conviction",
   "metadata": {},
   "source": [
    "Zdecydowanie największy czas został zaobserwowany dla rozmiaru bloku wynoszącego 1. Wynika to najprawdopodobniej z bardzo dużej liczby wywołań funkcji, które są dość kosztowne czasowo. Dla pozostałych wielkości bloków nie zaobserwowaliśmy znacznych różnic."
   ]
  },
  {
   "cell_type": "markdown",
   "id": "f0f337b5",
   "metadata": {},
   "source": [
    "<hr>"
   ]
  },
  {
   "cell_type": "markdown",
   "id": "ongoing-lounge",
   "metadata": {},
   "source": [
    "Na brak różnic w czasach w powyższych testach najpewniej wpłynął wybór interpretowalnego języka programowania. Biblioteka numpy, mimo iż napisana w C, dokonuje wielu optymalizacji, które nie są oczywiste dla użytkownika, co mogło także zaburzyć spodziewany efekt. W związku z tym, przeprowadziliśmy ponowne testy, tym razem napisane w całości w języku C."
   ]
  },
  {
   "cell_type": "markdown",
   "id": "ad4bfb15",
   "metadata": {},
   "source": [
    "## C"
   ]
  },
  {
   "cell_type": "markdown",
   "id": "e379d905",
   "metadata": {},
   "source": [
    "### Generowanie macierzy"
   ]
  },
  {
   "cell_type": "markdown",
   "id": "ruled-enforcement",
   "metadata": {},
   "source": [
    "W celu przeprowadzenia testów na macierzach o dużych wymiarach, odczytaną macierz powiększamy do zadanych rozmiarów, powtarzając okresowo wartości (matrix[i][j] = matrix[i%n][j%n]). Wygenerowanie macierzy o dużych rozmiarach w środowisku Octave/Matlab zajęłoby dużo czasu."
   ]
  },
  {
   "cell_type": "markdown",
   "id": "90067b25",
   "metadata": {},
   "source": [
    "```c\n",
    "#include <stdio.h>\n",
    "#include <stdlib.h>\n",
    "#include <time.h>\n",
    "#include <sys/times.h>\n",
    "#include <string.h>\n",
    "\n",
    "double** read_matrix(char* filename, int m){\n",
    "    FILE* f;\n",
    "    f = fopen(filename, \"r\");\n",
    "\n",
    "    char * buffer = NULL;\n",
    "    size_t len = 0;\n",
    "    ssize_t read;\n",
    "    int n;\n",
    "    double ** matrix;\n",
    "\n",
    "    while ((read = getline(&buffer, &len, f)) != -1) {\n",
    "        char *token;\n",
    "        token = strtok(buffer, \" \");\n",
    "   \n",
    "        if(strcmp(token, \"#\") == 0){\n",
    "            token = strtok(NULL, \" \");\n",
    "            if(strcmp(token, \"rows:\") == 0){\n",
    "                token = strtok(NULL, \" \");\n",
    "                n = atoi(token);\n",
    "                matrix = empty_arr(n * m, n * m);\n",
    "            }\n",
    "        }\n",
    "        else{\n",
    "            int i, j;\n",
    "            double val;\n",
    "            i = atoi(token);\n",
    "            token = strtok(NULL, \" \");\n",
    "            j = atoi(token);\n",
    "            token = strtok(NULL, \" \");\n",
    "            val = atof(token);\n",
    "            matrix[i-1][j-1] = val;\n",
    "        }\n",
    "    }  \n",
    "\n",
    "    for (int i = n ; i < n * m ; i++)\n",
    "    {\n",
    "        for (int j = n ; j < n * m ; j++)\n",
    "        {\n",
    "            matrix[i][j] = matrix[i%n][j%n];\n",
    "        }\n",
    "    }\n",
    "\n",
    "    fclose(f);\n",
    "    return matrix;\n",
    "}\n",
    "```"
   ]
  },
  {
   "cell_type": "markdown",
   "id": "767201a5",
   "metadata": {},
   "source": [
    "### Procedura mnożenia macierzy"
   ]
  },
  {
   "cell_type": "markdown",
   "id": "37950151",
   "metadata": {},
   "source": [
    "#### Klasyczna funkcja w 6 wersjach"
   ]
  },
  {
   "cell_type": "markdown",
   "id": "printable-adventure",
   "metadata": {},
   "source": [
    "Poniższy kod służy do mnożenia macierzy kwadratowych, gdyż na takich będziemy dokonywać porównań, jednak w prosty sposób można by uogólnić te funkcje dla dowolnych macierzy o zgodnych wymiarach, na wzór procedury napisanej poprzednio w języku Python."
   ]
  },
  {
   "cell_type": "markdown",
   "id": "8ccbcaf1",
   "metadata": {},
   "source": [
    "```c\n",
    "void matmul_ijp(double** C, double** A, double** B, int n){\n",
    "    for (int i = 0 ; i < n ; i++){\n",
    "        for (int j = 0 ; j < n ; j++){\n",
    "            for (int p = 0 ; p < n ; p++){\n",
    "                C[i][j] = C[i][j] + A[i][p] * B[p][j];\n",
    "            }\n",
    "        }\n",
    "    }\n",
    "}\n",
    "\n",
    "void matmul_ipj(double** C, double** A, double** B, int n){\n",
    "    for (int i = 0 ; i < n ; i++){\n",
    "        for (int p = 0 ; p < n ; p++){\n",
    "            for (int j = 0 ; j < n ; j++){\n",
    "                C[i][j] = C[i][j] + A[i][p] * B[p][j];\n",
    "            }\n",
    "        }\n",
    "    }\n",
    "}\n",
    "\n",
    "void matmul_jip(double** C, double** A, double** B, int n){\n",
    "    for (int j = 0 ; j < n ; j++){\n",
    "        for (int i = 0 ; i < n ; i++){\n",
    "            for (int p = 0 ; p < n ; p++){\n",
    "                C[i][j] = C[i][j] + A[i][p] * B[p][j];\n",
    "            }\n",
    "        }\n",
    "    }\n",
    "}\n",
    "\n",
    "void matmul_jpi(double** C, double** A, double** B, int n){\n",
    "    for (int j = 0 ; j < n ; j++){\n",
    "        for (int p = 0 ; p < n ; p++){\n",
    "            for (int i = 0 ; i < n ; i++){\n",
    "                C[i][j] = C[i][j] + A[i][p] * B[p][j];\n",
    "            }\n",
    "        }\n",
    "    }\n",
    "}\n",
    "\n",
    "void matmul_pij(double** C, double** A, double** B, int n){\n",
    "    for (int p = 0 ; p < n ; p++){\n",
    "        for (int i = 0 ; i < n ; i++){\n",
    "            for (int j = 0 ; j < n ; j++){\n",
    "                C[i][j] = C[i][j] + A[i][p] * B[p][j];\n",
    "            }\n",
    "        }\n",
    "    }\n",
    "}\n",
    "\n",
    "void matmul_pji(double** C, double** A, double** B, int n){\n",
    "    for (int p = 0 ; p < n ; p++){\n",
    "        for (int j = 0 ; j < n ; j++){\n",
    "            for (int i = 0 ; i < n ; i++){\n",
    "                C[i][j] = C[i][j] + A[i][p] * B[p][j];\n",
    "            }\n",
    "        }\n",
    "    }\n",
    "}\n",
    "```"
   ]
  },
  {
   "cell_type": "markdown",
   "id": "6d19631f",
   "metadata": {},
   "source": [
    "#### Procedura mnożenia blokowego macierzy"
   ]
  },
  {
   "cell_type": "markdown",
   "id": "bb503c8e",
   "metadata": {},
   "source": [
    "```c\n",
    "void matmul_blocking(double** C, double** A, double** B, int n, int block_size){\n",
    "  for (int i = 0 ; i < n ; i=i+block_size){\n",
    "    for (int p = 0 ; p < n ; p=p+block_size){\n",
    "      for (int j = 0 ; j < n ; j=j+block_size){\n",
    "            \n",
    "        for (int ib = i; ib < i+block_size; ib++){\n",
    "          for (int pb = p; pb < p+block_size; pb++){\n",
    "            for (int jb = j; jb < j+block_size; jb++){\n",
    "                C[ib][jb] = C[ib][jb] + A[ib][pb]*B[pb][jb];\n",
    "            }\n",
    "          }\n",
    "        }\n",
    "      }\n",
    "    }\n",
    "  }\n",
    "}\n",
    "```"
   ]
  },
  {
   "cell_type": "markdown",
   "id": "a161ec23",
   "metadata": {},
   "source": [
    "### Pomiar czasów"
   ]
  },
  {
   "cell_type": "markdown",
   "id": "seeing-fetish",
   "metadata": {},
   "source": [
    "Czasy obliczone w programie zapisaliśmy do pliku csv, aby następnie w Pythonie utworzyć na ich podstawię wizualizację."
   ]
  },
  {
   "cell_type": "markdown",
   "id": "bba16f1e",
   "metadata": {},
   "source": [
    "```c\n",
    "#include <stdio.h>\n",
    "#include <stdlib.h>\n",
    "#include <time.h>\n",
    "#include <sys/times.h>\n",
    "#include <string.h>\n",
    "\n",
    "double** new_arr(int N, int M){\n",
    "    double** arr = malloc(N * sizeof(double*));\n",
    "    for (int i = 0 ; i < N ; i++){\n",
    "        arr[i] = calloc(M, sizeof(double));\n",
    "        for(int j = 0 ; j < M ; j++) arr[i][j] = rand();\n",
    "    }\n",
    "    return arr;\n",
    "}\n",
    "\n",
    "double** empty_arr(int N, int M){\n",
    "    double** arr = malloc(N * sizeof(double*));\n",
    "    for (int i = 0 ; i < N ; i++){\n",
    "        arr[i] = calloc(M, sizeof(double));\n",
    "    }\n",
    "    return arr;\n",
    "}\n",
    "\n",
    "int main()\n",
    "{\n",
    "    srand ( time ( NULL));\n",
    "    clock_t start, end;\n",
    "\n",
    "    double* ijp_times = malloc(1 * sizeof(double));\n",
    "    double* ipj_times = malloc(1 * sizeof(double));\n",
    "    double* jip_times = malloc(1 * sizeof(double));\n",
    "    double* jpi_times = malloc(1 * sizeof(double));\n",
    "    double* pij_times = malloc(1 * sizeof(double));\n",
    "    double* pji_times = malloc(1 * sizeof(double));\n",
    "    double* blocking_times = malloc(200 * sizeof(double));\n",
    "\n",
    "    int multipl = 10;\n",
    "    double** A = read_matrix(\"fem_1550_196x196.txt\", multipl);\n",
    "    double** B = read_matrix(\"fem_1550_196x196.txt\", multipl);\n",
    "    double** C;\n",
    "    int n = 196 * multipl;\n",
    "    \n",
    "    \n",
    "    printf(\"size %d\\n\", n);\n",
    "    C = empty_arr(n, n);\n",
    "    start = clock();\n",
    "    matmul_ijp(C, A, B, n);\n",
    "    end = clock();\n",
    "    ijp_times[0] = ((double)(end - start)) / CLOCKS_PER_SEC;\n",
    "    printf(\"%f\\n\", ijp_times[0]);\n",
    "\n",
    "    remove_arr(n, C);\n",
    "\n",
    "    C = empty_arr(n, n);\n",
    "    start = clock();\n",
    "    matmul_ipj(C, A, B, n);\n",
    "    end = clock();\n",
    "    ipj_times[0] = ((double)(end - start)) / CLOCKS_PER_SEC;\n",
    "    remove_arr(n, C);\n",
    "\n",
    "    C = empty_arr(n, n);\n",
    "    start = clock();\n",
    "    matmul_jip(C, A, B, n);\n",
    "    end = clock();\n",
    "    jip_times[0] = ((double)(end - start)) / CLOCKS_PER_SEC;\n",
    "    remove_arr(n, C);\n",
    "\n",
    "    C = empty_arr(n, n);\n",
    "    start = clock();\n",
    "    matmul_jpi(C, A, B, n);\n",
    "    end = clock();\n",
    "    jpi_times[0] = ((double)(end - start)) / CLOCKS_PER_SEC;\n",
    "    remove_arr(n, C);\n",
    "\n",
    "    C = empty_arr(n, n);\n",
    "    start = clock();\n",
    "    matmul_pij(C, A, B, n);\n",
    "    end = clock();\n",
    "    pij_times[0] = ((double)(end - start)) / CLOCKS_PER_SEC;\n",
    "    remove_arr(n, C);\n",
    "\n",
    "    C = empty_arr(n, n);\n",
    "    start = clock();\n",
    "    matmul_pji(C, A, B, n);\n",
    "    end = clock();\n",
    "    pji_times[0] = ((double)(end - start)) / CLOCKS_PER_SEC;\n",
    "    remove_arr(n, C);\n",
    "    \n",
    "\n",
    "    int k = 0;\n",
    "    for (int block_size = 1 ; block_size <= n ; block_size = block_size + 1){\n",
    "        if (n % block_size != 0) continue;\n",
    "        printf(\"block size %d\\n\", block_size);\n",
    "        \n",
    "        C = empty_arr(n, n);\n",
    "        start = clock();\n",
    "        matmul_blocking(C, A, B, n, block_size);\n",
    "        end = clock();\n",
    "        blocking_times[k] = ((double)(end - start)) / CLOCKS_PER_SEC;\n",
    "        remove_arr(n, C);\n",
    "        k++;\n",
    "    }\n",
    "\n",
    "    remove_arr(n,A);\n",
    "    remove_arr(n,B);\n",
    "\n",
    "    FILE *f_matmul;\n",
    "    f_matmul = fopen(\"matmul_times.csv\", \"w+\");\n",
    "    fprintf(f_matmul,\"Size, IJP, IPJ, JIP, JPI, PIJ, PJI\\n\");\n",
    "    fprintf(f_matmul,\"%d, %f, %f, %f, %f, %f, %f\\n\", n, ijp_times[0], ipj_times[0],\n",
    "            jip_times[0], jpi_times[0], pij_times[0], pji_times[0]);\n",
    "\n",
    "\n",
    "    FILE *f_blocking;\n",
    "    f_blocking = fopen(\"blocking_times.csv\", \"w+\");\n",
    "    fprintf(f_blocking,\"BlockSize, Time[s]\\n\");\n",
    "    k = 0;\n",
    "    for (int block_size = 1 ; block_size <= n ; block_size++){\n",
    "        if (n % block_size != 0) continue;\n",
    "        fprintf(f_blocking,\"%d, %f\\n\", block_size, blocking_times[k]);\n",
    "        k++;\n",
    "    }\n",
    "\n",
    "    fclose(f_matmul);\n",
    "    fclose(f_blocking);\n",
    "    free(ijp_times);\n",
    "    free(ipj_times);\n",
    "    free(jip_times);\n",
    "    free(jpi_times);\n",
    "    free(pij_times);\n",
    "    free(pji_times);\n",
    "    free(blocking_times);\n",
    "    return 0;\n",
    "}\n",
    "```"
   ]
  },
  {
   "cell_type": "markdown",
   "id": "829897ef",
   "metadata": {},
   "source": [
    "#### porównanie czasów dla różnych kolejności pętli"
   ]
  },
  {
   "cell_type": "code",
   "execution_count": 44,
   "id": "87ab26c8",
   "metadata": {},
   "outputs": [
    {
     "name": "stdout",
     "output_type": "stream",
     "text": [
      "matrix size: 1960\n"
     ]
    },
    {
     "data": {
      "text/html": [
       "<div>\n",
       "<style scoped>\n",
       "    .dataframe tbody tr th:only-of-type {\n",
       "        vertical-align: middle;\n",
       "    }\n",
       "\n",
       "    .dataframe tbody tr th {\n",
       "        vertical-align: top;\n",
       "    }\n",
       "\n",
       "    .dataframe thead th {\n",
       "        text-align: right;\n",
       "    }\n",
       "</style>\n",
       "<table border=\"1\" class=\"dataframe\">\n",
       "  <thead>\n",
       "    <tr style=\"text-align: right;\">\n",
       "      <th></th>\n",
       "      <th>times[0]</th>\n",
       "    </tr>\n",
       "  </thead>\n",
       "  <tbody>\n",
       "    <tr>\n",
       "      <th>IJP</th>\n",
       "      <td>59.754282</td>\n",
       "    </tr>\n",
       "    <tr>\n",
       "      <th>IPJ</th>\n",
       "      <td>28.979273</td>\n",
       "    </tr>\n",
       "    <tr>\n",
       "      <th>JIP</th>\n",
       "      <td>30.432951</td>\n",
       "    </tr>\n",
       "    <tr>\n",
       "      <th>JPI</th>\n",
       "      <td>28.389494</td>\n",
       "    </tr>\n",
       "    <tr>\n",
       "      <th>PIJ</th>\n",
       "      <td>30.220525</td>\n",
       "    </tr>\n",
       "    <tr>\n",
       "      <th>PJI</th>\n",
       "      <td>29.364368</td>\n",
       "    </tr>\n",
       "  </tbody>\n",
       "</table>\n",
       "</div>"
      ],
      "text/plain": [
       "       times[0]\n",
       " IJP  59.754282\n",
       " IPJ  28.979273\n",
       " JIP  30.432951\n",
       " JPI  28.389494\n",
       " PIJ  30.220525\n",
       " PJI  29.364368"
      ]
     },
     "execution_count": 44,
     "metadata": {},
     "output_type": "execute_result"
    },
    {
     "data": {
      "image/png": "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\n",
      "text/plain": [
       "<Figure size 720x360 with 1 Axes>"
      ]
     },
     "metadata": {
      "needs_background": "light"
     },
     "output_type": "display_data"
    }
   ],
   "source": [
    "def show_mult_times(file):\n",
    "    data = pd.read_csv(file)\n",
    "    print(f'matrix size: {data[\"Size\"][0]}')\n",
    "    data = data.transpose().drop('Size').rename(columns={0: \"times[0]\"})\n",
    "\n",
    "    \n",
    "    data.plot(\n",
    "        kind='bar', \n",
    "        xlabel='loop order', \n",
    "        ylabel='multiplication time [s]', \n",
    "        figsize=(10, 5),\n",
    "        colormap='Set3',\n",
    "        legend=None\n",
    "    )\n",
    "    \n",
    "    return data\n",
    "    \n",
    "show_mult_times(\"matmul_times.csv\")"
   ]
  },
  {
   "cell_type": "markdown",
   "id": "effective-tradition",
   "metadata": {},
   "source": [
    "Najlepsze czasy otrzymaliśmy dla wersji ipj oraz jpi. Różnica w czasach dla różnej kolejności odwołań do poszczególnych pól wynika z czasu potrzebnego na przesłanie wartości z pamięci RAM do rejestrów procesora oraz z wykorzystania pamięci pomocniczej cache. Macierze są trzymane w pamięci kolumnami, więc kopiując do szybkiej pamięci całą kolumnę (lub jej część), a następnie odczyt kolejnych wartości z tej samej kolumny, pozwala na zauważalne zmniejszenia czasu procedury."
   ]
  },
  {
   "cell_type": "markdown",
   "id": "da9147fb",
   "metadata": {},
   "source": [
    "#### porównanie czasów dla różnych rozmiarów bloków"
   ]
  },
  {
   "cell_type": "code",
   "execution_count": 46,
   "id": "cc978e26",
   "metadata": {},
   "outputs": [
    {
     "data": {
      "text/html": [
       "<div>\n",
       "<style scoped>\n",
       "    .dataframe tbody tr th:only-of-type {\n",
       "        vertical-align: middle;\n",
       "    }\n",
       "\n",
       "    .dataframe tbody tr th {\n",
       "        vertical-align: top;\n",
       "    }\n",
       "\n",
       "    .dataframe thead th {\n",
       "        text-align: right;\n",
       "    }\n",
       "</style>\n",
       "<table border=\"1\" class=\"dataframe\">\n",
       "  <thead>\n",
       "    <tr style=\"text-align: right;\">\n",
       "      <th></th>\n",
       "      <th>BlockSize</th>\n",
       "      <th>Time[s]</th>\n",
       "    </tr>\n",
       "  </thead>\n",
       "  <tbody>\n",
       "    <tr>\n",
       "      <th>0</th>\n",
       "      <td>1</td>\n",
       "      <td>59.754282</td>\n",
       "    </tr>\n",
       "    <tr>\n",
       "      <th>1</th>\n",
       "      <td>2</td>\n",
       "      <td>36.794170</td>\n",
       "    </tr>\n",
       "    <tr>\n",
       "      <th>2</th>\n",
       "      <td>4</td>\n",
       "      <td>31.243284</td>\n",
       "    </tr>\n",
       "    <tr>\n",
       "      <th>3</th>\n",
       "      <td>5</td>\n",
       "      <td>30.350315</td>\n",
       "    </tr>\n",
       "    <tr>\n",
       "      <th>4</th>\n",
       "      <td>7</td>\n",
       "      <td>28.979273</td>\n",
       "    </tr>\n",
       "    <tr>\n",
       "      <th>5</th>\n",
       "      <td>8</td>\n",
       "      <td>28.870096</td>\n",
       "    </tr>\n",
       "    <tr>\n",
       "      <th>6</th>\n",
       "      <td>10</td>\n",
       "      <td>30.836188</td>\n",
       "    </tr>\n",
       "    <tr>\n",
       "      <th>7</th>\n",
       "      <td>14</td>\n",
       "      <td>28.512718</td>\n",
       "    </tr>\n",
       "    <tr>\n",
       "      <th>8</th>\n",
       "      <td>20</td>\n",
       "      <td>30.432951</td>\n",
       "    </tr>\n",
       "    <tr>\n",
       "      <th>9</th>\n",
       "      <td>28</td>\n",
       "      <td>28.644196</td>\n",
       "    </tr>\n",
       "    <tr>\n",
       "      <th>10</th>\n",
       "      <td>35</td>\n",
       "      <td>29.458436</td>\n",
       "    </tr>\n",
       "    <tr>\n",
       "      <th>11</th>\n",
       "      <td>40</td>\n",
       "      <td>29.967220</td>\n",
       "    </tr>\n",
       "    <tr>\n",
       "      <th>12</th>\n",
       "      <td>49</td>\n",
       "      <td>28.389494</td>\n",
       "    </tr>\n",
       "    <tr>\n",
       "      <th>13</th>\n",
       "      <td>56</td>\n",
       "      <td>28.293239</td>\n",
       "    </tr>\n",
       "    <tr>\n",
       "      <th>14</th>\n",
       "      <td>70</td>\n",
       "      <td>28.489529</td>\n",
       "    </tr>\n",
       "    <tr>\n",
       "      <th>15</th>\n",
       "      <td>98</td>\n",
       "      <td>29.220005</td>\n",
       "    </tr>\n",
       "    <tr>\n",
       "      <th>16</th>\n",
       "      <td>140</td>\n",
       "      <td>30.220525</td>\n",
       "    </tr>\n",
       "    <tr>\n",
       "      <th>17</th>\n",
       "      <td>196</td>\n",
       "      <td>28.680796</td>\n",
       "    </tr>\n",
       "    <tr>\n",
       "      <th>18</th>\n",
       "      <td>245</td>\n",
       "      <td>28.788981</td>\n",
       "    </tr>\n",
       "    <tr>\n",
       "      <th>19</th>\n",
       "      <td>280</td>\n",
       "      <td>28.580805</td>\n",
       "    </tr>\n",
       "    <tr>\n",
       "      <th>20</th>\n",
       "      <td>392</td>\n",
       "      <td>29.364368</td>\n",
       "    </tr>\n",
       "    <tr>\n",
       "      <th>21</th>\n",
       "      <td>490</td>\n",
       "      <td>29.215521</td>\n",
       "    </tr>\n",
       "    <tr>\n",
       "      <th>22</th>\n",
       "      <td>980</td>\n",
       "      <td>30.115792</td>\n",
       "    </tr>\n",
       "    <tr>\n",
       "      <th>23</th>\n",
       "      <td>1960</td>\n",
       "      <td>28.864432</td>\n",
       "    </tr>\n",
       "  </tbody>\n",
       "</table>\n",
       "</div>"
      ],
      "text/plain": [
       "    BlockSize    Time[s]\n",
       "0           1  59.754282\n",
       "1           2  36.794170\n",
       "2           4  31.243284\n",
       "3           5  30.350315\n",
       "4           7  28.979273\n",
       "5           8  28.870096\n",
       "6          10  30.836188\n",
       "7          14  28.512718\n",
       "8          20  30.432951\n",
       "9          28  28.644196\n",
       "10         35  29.458436\n",
       "11         40  29.967220\n",
       "12         49  28.389494\n",
       "13         56  28.293239\n",
       "14         70  28.489529\n",
       "15         98  29.220005\n",
       "16        140  30.220525\n",
       "17        196  28.680796\n",
       "18        245  28.788981\n",
       "19        280  28.580805\n",
       "20        392  29.364368\n",
       "21        490  29.215521\n",
       "22        980  30.115792\n",
       "23       1960  28.864432"
      ]
     },
     "execution_count": 46,
     "metadata": {},
     "output_type": "execute_result"
    },
    {
     "data": {
      "image/png": "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\n",
      "text/plain": [
       "<Figure size 720x360 with 1 Axes>"
      ]
     },
     "metadata": {
      "needs_background": "light"
     },
     "output_type": "display_data"
    }
   ],
   "source": [
    "def show_block_times(file):\n",
    "    data = pd.read_csv(file)\n",
    "    \n",
    "    data.plot(\n",
    "        x='BlockSize',\n",
    "        color=\"#4a4e69\",\n",
    "        figsize=(10, 5),\n",
    "        marker='o',\n",
    "        markersize=10, \n",
    "        linewidth=3\n",
    "    )\n",
    "    \n",
    "    return data\n",
    "    \n",
    "show_block_times(\"blocking_times.csv\")"
   ]
  },
  {
   "cell_type": "markdown",
   "id": "sensitive-group",
   "metadata": {},
   "source": [
    "Zgodnie z oczekiwaniami, największy czas obserwujemy dla minimalnego rozmiaru bloku. Najlepszy czas otrzymaliśmy dla rozmiaru w okolicach 50. Test został przeprowadzony na komputerze o wielkości pamięci L1 równej 64KB i dla tych parametrów jest to oczekiwana wielkość bloku."
   ]
  },
  {
   "cell_type": "markdown",
   "id": "animal-honduras",
   "metadata": {},
   "source": [
    "## Liczba operacji zmiennoprzecinkowych"
   ]
  },
  {
   "cell_type": "markdown",
   "id": "global-texas",
   "metadata": {},
   "source": [
    "\"5. Proszę obliczyć liczbę operacji zmienno-przecinkowych koniecznych do przemnożenia swoich dwóch macierzy\""
   ]
  },
  {
   "cell_type": "markdown",
   "id": "baedd45b",
   "metadata": {},
   "source": [
    "Aby przemnożyć obie macierze A i B o wymiarach nxn każda potrzeba 2 * n^3 operacji zmiennoprzecinkowych, \n",
    "w ogólności dla macierzy n x m * m x k potrzeba 2\\*n\\*m\\*k operacji, ponieważ w celu obliczenia wartości w macierzy wynikowej musimy wykonać m mnożeń oraz m dodawań, a komórek jest n\\*k. Wykorzystując procedurę mnożenia blokowego, nie zmieniamy łącznej liczby operacji."
    "Dla komputera w doświadczeniu (maszyna wirtualna) 64KiB pamięci L1 przekłada się na 64 * 1024B -> 65536B , w mnożeniu blokowym chcemy mięc szybki dostęp do 3 bloków A,B i C więc 65536B / 3 -> 21845B",
    "Double to 8B więc 21845B / 8B -> 2730 i ostatecznie rozmiar przewidywanego bloku to sqrt(2730) -> ~52",
    "Uzyskaliśmy 2*(1960)^3 / 27.8s -> około 0.54 GFLOPS"
   ]
  },
  {
   "cell_type": "markdown",
   "id": "competent-naples",
   "metadata": {},
   "source": [
    "## Wnioski"
   ]
  },
  {
   "cell_type": "markdown",
   "id": "alike-premiere",
   "metadata": {},
   "source": [
    "* Na czas mnożenia macierzy, oprócz liczby operacji zmiennoprzecinkowych, wpływa także czas potrzebny na dostęp do pamięci i przepisywania wartości do rejestrów.\n",
    "* Dobierając optymalną kolejność pętli w procedurze mnożenia macierzy jesteśmy w stanie zaoszczędzić czas.\n",
    "* Ze względu na ograniczoną wielkość pamięci cache, dla dużych macierzy uzyskamy mniejszy czas mnożenia korzystając z procedury mnożenia blokowego, która dzieli dużą macierz na mniejsze fragmenty, których pola zmieszczą się w pamięci podręcznej.\n",
    "* Optymalny rozmiar bloku zależy od parametrów komputera i wielkości typu reprezentowanych danych i można go określić na przykład w sposób doświadczalny."
   ]
  },
  {
   "cell_type": "markdown",
   "id": "cc7869ea",
   "metadata": {},
   "source": [
    "M. Hawryluk, N. Wolniak. 2021"
   ]
  }
 ],
 "metadata": {
  "interpreter": {
   "hash": "f9f85f796d01129d0dd105a088854619f454435301f6ffec2fea96ecbd9be4ac"
  },
  "kernelspec": {
   "display_name": "Python 3 (ipykernel)",
   "language": "python",
   "name": "python3"
  },
  "language_info": {
   "codemirror_mode": {
    "name": "ipython",
    "version": 3
   },
   "file_extension": ".py",
   "mimetype": "text/x-python",
   "name": "python",
   "nbconvert_exporter": "python",
   "pygments_lexer": "ipython3",
   "version": "3.9.6"
  }
 },
 "nbformat": 4,
 "nbformat_minor": 5
}
