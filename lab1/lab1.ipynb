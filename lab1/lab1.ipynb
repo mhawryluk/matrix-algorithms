{
 "cells": [
  {
   "cell_type": "markdown",
   "id": "faff8fe0",
   "metadata": {},
   "source": [
    "# Algorytmy macierzowe - zadanie nr 1 - Mnożenie macierzy"
   ]
  },
  {
   "cell_type": "markdown",
   "id": "hourly-database",
   "metadata": {},
   "source": [
    "\"2. Proszę napisać mnożenie qxq macierzy FEM i FEM używając algorytmu mnożenia blokowego i dobrać optymalną kolejność pętli oraz rozmiar bloków\""
   ]
  },
  {
   "cell_type": "markdown",
   "id": "6ae11b4b",
   "metadata": {},
   "source": [
    "Marcin Hawryluk, Norbert Wolniak <br>grupa: piątek 12:50B <hr>"
   ]
  },
  {
   "cell_type": "markdown",
   "id": "6fa7f69b",
   "metadata": {},
   "source": [
    "## Python 3"
   ]
  },
  {
   "cell_type": "code",
   "execution_count": 2,
   "id": "refined-croatia",
   "metadata": {},
   "outputs": [],
   "source": [
    "import numpy as np\n",
    "from time import time\n",
    "import matplotlib.pyplot as plt\n",
    "import pandas as pd"
   ]
  },
  {
   "cell_type": "markdown",
   "id": "swiss-order",
   "metadata": {},
   "source": [
    "### Generowanie macierzy"
   ]
  },
  {
   "cell_type": "code",
   "execution_count": 2,
   "id": "portable-remove",
   "metadata": {},
   "outputs": [],
   "source": [
    "def read_matrix(file_name):\n",
    "    with open(file_name, 'r') as file:\n",
    "        for line in file:\n",
    "            if line.strip() == '':\n",
    "                continue\n",
    "            if line[0] == '#':\n",
    "                if line[2:6] == \"rows\":\n",
    "                    _, _, size = line.split()\n",
    "                    size = int(size)\n",
    "                    matrix = np.zeros((size, size))\n",
    "            else:\n",
    "                row, col, val = line.split(' ')\n",
    "                matrix[int(row)-1, int(col)-1] = val\n",
    "            \n",
    "    return matrix"
   ]
  },
  {
   "cell_type": "code",
   "execution_count": 14,
   "id": "presidential-solution",
   "metadata": {
    "scrolled": true
   },
   "outputs": [
    {
     "data": {
      "text/plain": [
       "array([[0.11111111, 0.05555556, 0.        , 0.        , 0.05555556,\n",
       "        0.02777778, 0.        , 0.        , 0.        , 0.        ,\n",
       "        0.        , 0.        , 0.        , 0.        , 0.        ,\n",
       "        0.        ],\n",
       "       [0.05555556, 0.11111111, 0.        , 0.        , 0.02777778,\n",
       "        0.05555556, 0.        , 0.        , 0.        , 0.        ,\n",
       "        0.        , 0.        , 0.        , 0.        , 0.        ,\n",
       "        0.        ],\n",
       "       [0.        , 0.        , 0.11111111, 0.05555556, 0.        ,\n",
       "        0.        , 0.05555556, 0.02777778, 0.        , 0.        ,\n",
       "        0.        , 0.        , 0.        , 0.        , 0.        ,\n",
       "        0.        ],\n",
       "       [0.        , 0.        , 0.05555556, 0.11111111, 0.        ,\n",
       "        0.        , 0.02777778, 0.05555556, 0.        , 0.        ,\n",
       "        0.        , 0.        , 0.        , 0.        , 0.        ,\n",
       "        0.        ],\n",
       "       [0.05555556, 0.02777778, 0.        , 0.        , 0.11111111,\n",
       "        0.05555556, 0.        , 0.        , 0.        , 0.        ,\n",
       "        0.        , 0.        , 0.        , 0.        , 0.        ,\n",
       "        0.        ],\n",
       "       [0.02777778, 0.05555556, 0.        , 0.        , 0.05555556,\n",
       "        0.11111111, 0.        , 0.        , 0.        , 0.        ,\n",
       "        0.        , 0.        , 0.        , 0.        , 0.        ,\n",
       "        0.        ],\n",
       "       [0.        , 0.        , 0.05555556, 0.02777778, 0.        ,\n",
       "        0.        , 0.11111111, 0.05555556, 0.        , 0.        ,\n",
       "        0.        , 0.        , 0.        , 0.        , 0.        ,\n",
       "        0.        ],\n",
       "       [0.        , 0.        , 0.02777778, 0.05555556, 0.        ,\n",
       "        0.        , 0.05555556, 0.11111111, 0.        , 0.        ,\n",
       "        0.        , 0.        , 0.        , 0.        , 0.        ,\n",
       "        0.        ],\n",
       "       [0.        , 0.        , 0.        , 0.        , 0.        ,\n",
       "        0.        , 0.        , 0.        , 0.11111111, 0.05555556,\n",
       "        0.        , 0.        , 0.05555556, 0.02777778, 0.        ,\n",
       "        0.        ],\n",
       "       [0.        , 0.        , 0.        , 0.        , 0.        ,\n",
       "        0.        , 0.        , 0.        , 0.05555556, 0.11111111,\n",
       "        0.        , 0.        , 0.02777778, 0.05555556, 0.        ,\n",
       "        0.        ],\n",
       "       [0.        , 0.        , 0.        , 0.        , 0.        ,\n",
       "        0.        , 0.        , 0.        , 0.        , 0.        ,\n",
       "        0.11111111, 0.05555556, 0.        , 0.        , 0.05555556,\n",
       "        0.02777778],\n",
       "       [0.        , 0.        , 0.        , 0.        , 0.        ,\n",
       "        0.        , 0.        , 0.        , 0.        , 0.        ,\n",
       "        0.05555556, 0.11111111, 0.        , 0.        , 0.02777778,\n",
       "        0.05555556],\n",
       "       [0.        , 0.        , 0.        , 0.        , 0.        ,\n",
       "        0.        , 0.        , 0.        , 0.05555556, 0.02777778,\n",
       "        0.        , 0.        , 0.11111111, 0.05555556, 0.        ,\n",
       "        0.        ],\n",
       "       [0.        , 0.        , 0.        , 0.        , 0.        ,\n",
       "        0.        , 0.        , 0.        , 0.02777778, 0.05555556,\n",
       "        0.        , 0.        , 0.05555556, 0.11111111, 0.        ,\n",
       "        0.        ],\n",
       "       [0.        , 0.        , 0.        , 0.        , 0.        ,\n",
       "        0.        , 0.        , 0.        , 0.        , 0.        ,\n",
       "        0.05555556, 0.02777778, 0.        , 0.        , 0.11111111,\n",
       "        0.05555556],\n",
       "       [0.        , 0.        , 0.        , 0.        , 0.        ,\n",
       "        0.        , 0.        , 0.        , 0.        , 0.        ,\n",
       "        0.02777778, 0.05555556, 0.        , 0.        , 0.05555556,\n",
       "        0.11111111]])"
      ]
     },
     "execution_count": 14,
     "metadata": {},
     "output_type": "execute_result"
    }
   ],
   "source": [
    "matrix_small = read_matrix(\"matrices/fem_1210_16x16.txt\")\n",
    "matrix_small"
   ]
  },
  {
   "cell_type": "markdown",
   "id": "rolled-position",
   "metadata": {},
   "source": [
    "### Procedura mnożenia macierzy"
   ]
  },
  {
   "cell_type": "markdown",
   "id": "casual-quebec",
   "metadata": {},
   "source": [
    "#### Klasyczna funkcja  w 6 wersjach"
   ]
  },
  {
   "cell_type": "code",
   "execution_count": 4,
   "id": "dynamic-familiar",
   "metadata": {},
   "outputs": [],
   "source": [
    "def mm_ijp(matrix_a, matrix_b):\n",
    "    (m, n), k = matrix_a.shape, matrix_b.shape[1]\n",
    "    matrix_c = np.zeros((m, k), dtype=np.float64)\n",
    "    for i in range(m):\n",
    "        for j in range(k):\n",
    "            for p in range(n):\n",
    "                matrix_c[i, j] += matrix_a[i, p] * matrix_b[p, j]\n",
    "    return matrix_c\n",
    "\n",
    "def mm_ipj(matrix_a, matrix_b):\n",
    "    (m, n), k = matrix_a.shape, matrix_b.shape[1]\n",
    "    matrix_c = np.zeros((m, k), dtype=np.float64)\n",
    "    for i in range(m):\n",
    "        for p in range(n):\n",
    "            for j in range(k):\n",
    "                matrix_c[i, j] += matrix_a[i, p] * matrix_b[p, j]\n",
    "    return matrix_c\n",
    "\n",
    "def mm_jip(matrix_a, matrix_b):\n",
    "    (m, n), k = matrix_a.shape, matrix_b.shape[1]\n",
    "    matrix_c = np.zeros((m, k), dtype=np.float64)\n",
    "    for j in range(k):\n",
    "        for i in range(m):\n",
    "            for p in range(n):\n",
    "                matrix_c[i, j] += matrix_a[i, p] * matrix_b[p, j]\n",
    "    return matrix_c\n",
    "\n",
    "def mm_jpi(matrix_a, matrix_b):\n",
    "    (m, n), k = matrix_a.shape, matrix_b.shape[1]\n",
    "    matrix_c = np.zeros((m, k), dtype=np.float64)\n",
    "    for j in range(k):\n",
    "        for p in range(n):\n",
    "            for i in range(m):\n",
    "                matrix_c[i, j] += matrix_a[i, p] * matrix_b[p, j]\n",
    "    return matrix_c\n",
    "\n",
    "def mm_pij(matrix_a, matrix_b):\n",
    "    (m, n), k = matrix_a.shape, matrix_b.shape[1]\n",
    "    matrix_c = np.zeros((m, k), dtype=np.float64)\n",
    "    for p in range(n):\n",
    "        for i in range(m):\n",
    "            for j in range(k):\n",
    "                matrix_c[i, j] += matrix_a[i, p] * matrix_b[p, j]\n",
    "    return matrix_c\n",
    "\n",
    "def mm_pji(matrix_a, matrix_b):\n",
    "    (m, n), k = matrix_a.shape, matrix_b.shape[1]\n",
    "    matrix_c = np.zeros((m, k), dtype=np.float64)\n",
    "    for p in range(n):\n",
    "        for j in range(k):\n",
    "            for i in range(m):\n",
    "                matrix_c[i, j] += matrix_a[i, p] * matrix_b[p, j]\n",
    "    return matrix_c"
   ]
  },
  {
   "cell_type": "code",
   "execution_count": 5,
   "id": "perceived-might",
   "metadata": {},
   "outputs": [
    {
     "name": "stdout",
     "output_type": "stream",
     "text": [
      "OK\n"
     ]
    }
   ],
   "source": [
    "def mm_test(matrix_a, matrix_b):\n",
    "    matrix_c = matrix_a @ matrix_b\n",
    "    res = True\n",
    "    for mm in [mm_ijp, mm_ipj, mm_jip, mm_jpi, mm_pij, mm_pji]:\n",
    "        if not np.allclose(matrix_c, mm(matrix_a, matrix_b)):\n",
    "            print(\"{} not correct!\".format(mm.__name__))\n",
    "            res = False\n",
    "    if res:\n",
    "        print(\"OK\")\n",
    "\n",
    "mm_test(matrix_small, matrix_small)"
   ]
  },
  {
   "cell_type": "markdown",
   "id": "velvet-trinidad",
   "metadata": {},
   "source": [
    "#### Procedura mnożenia blokowego macierzy"
   ]
  },
  {
   "cell_type": "code",
   "execution_count": 6,
   "id": "everyday-blogger",
   "metadata": {},
   "outputs": [],
   "source": [
    "def mm_block(matrix_a, matrix_b, block_size):\n",
    "    (m, n), k = matrix_a.shape, matrix_b.shape[1]\n",
    "    matrix_c = np.zeros((m, k))\n",
    "    \n",
    "    for i in range(0, m, block_size):\n",
    "        ib = min(m - i, block_size)\n",
    "        for j in range(0, k, block_size):\n",
    "            jb = min(n - j, block_size)\n",
    "            for p in range(0, n, block_size):\n",
    "                pb = min(k - p, block_size)\n",
    "                matrix_c[i:i+ib, j:j+jb] += mm_ijp(matrix_a[i:i+ib, p:p+pb],\n",
    "                                                                   matrix_b[p:p+pb, j:j+jb])\n",
    "    return matrix_c"
   ]
  },
  {
   "cell_type": "code",
   "execution_count": 7,
   "id": "focal-beast",
   "metadata": {},
   "outputs": [
    {
     "name": "stdout",
     "output_type": "stream",
     "text": [
      "OK\n"
     ]
    }
   ],
   "source": [
    "def mm_block_test(matrix_a, matrix_b):\n",
    "    matrix_c = matrix_a @ matrix_b\n",
    "    res = True\n",
    "    for block_size in range(1, 20):\n",
    "        if not np.allclose(matrix_c, mm_block(matrix_a, matrix_b, block_size)):\n",
    "            print(\"{} incorrect block size!\".format(block_size))\n",
    "            res = False\n",
    "    if res:\n",
    "        print(\"OK\")\n",
    "\n",
    "mm_block_test(matrix_small, matrix_small)"
   ]
  },
  {
   "cell_type": "markdown",
   "id": "arbitrary-theorem",
   "metadata": {},
   "source": [
    "\"1. Proszę wybrać dwie możliwie największe macierze A i B ze swoich dwóch rodzin macierzy, takie żeby zgadzały się ich rozmiary, oraz przemnożyć je A*B swoim optymalnym algorytmem (tak duże macierze jakie da się w czasie kilku-kilkudziesięciu minut przemnożyć na Państwa laptopie)\""
   ]
  },
  {
   "cell_type": "code",
   "execution_count": 8,
   "id": "romantic-intellectual",
   "metadata": {},
   "outputs": [
    {
     "name": "stdout",
     "output_type": "stream",
     "text": [
      "(196, 196)\n"
     ]
    }
   ],
   "source": [
    "matrix = read_matrix(\"matrices/fem_1550_196x196.txt\")\n",
    "print(matrix.shape)"
   ]
  },
  {
   "cell_type": "markdown",
   "id": "comfortable-ethnic",
   "metadata": {},
   "source": [
    "\"2. Proszę narysować schemat niezerowych wartości swoich dwóch macierzy (używając komendy spy(A), spy(B) MATLABa) oraz macierzy wynikowej A*B\""
   ]
  },
  {
   "cell_type": "markdown",
   "id": "similar-instruction",
   "metadata": {},
   "source": [
    "<img src=\"matrices/1550_spy.jpeg\" width=500 height=500 />\n",
    "<img src=\"matrices/1550_spy_mult.jpeg\" width=500 height=500 />"
   ]
  },
  {
   "cell_type": "markdown",
   "id": "miniature-atlas",
   "metadata": {},
   "source": [
    "### Pomiar czasów"
   ]
  },
  {
   "cell_type": "markdown",
   "id": "public-compression",
   "metadata": {},
   "source": [
    "\"3. Proszę zmierzyć czas mnożenia tych wybranych dwóch dużych macierzy dla różnej kolejności pętli w algorytmie mnożenia macierzy. Proszę narysować tabelkę: kolejność pętli (6 możliwości) versus czasy mnożenia\""
   ]
  },
  {
   "cell_type": "code",
   "execution_count": 7,
   "id": "attempted-mailing",
   "metadata": {},
   "outputs": [],
   "source": [
    "def compare_mult_times(matrix_a, matrix_b):\n",
    "    times = {}\n",
    "    for mm in [mm_ijp, mm_ipj, mm_jip, mm_jpi, mm_pij, mm_pji]:\n",
    "        start = time()\n",
    "        mm(matrix_a, matrix_b)\n",
    "        times[mm.__name__[3:]] = time() - start\n",
    "        \n",
    "    df = pd.DataFrame(times.values(), times.keys(), [\"times [s]\"])\n",
    "    \n",
    "    fig, ax = plt.subplots(figsize=(10, 5))\n",
    "    ax.set_xlabel('loop order')\n",
    "    ax.set_ylabel('multiplication time [s]')\n",
    "    ax.bar(times.keys(), times.values(), color=\"#4a4e69\")\n",
    "    \n",
    "    return df"
   ]
  },
  {
   "cell_type": "code",
   "execution_count": 10,
   "id": "interesting-vitamin",
   "metadata": {},
   "outputs": [
    {
     "data": {
      "text/html": [
       "<div>\n",
       "<style scoped>\n",
       "    .dataframe tbody tr th:only-of-type {\n",
       "        vertical-align: middle;\n",
       "    }\n",
       "\n",
       "    .dataframe tbody tr th {\n",
       "        vertical-align: top;\n",
       "    }\n",
       "\n",
       "    .dataframe thead th {\n",
       "        text-align: right;\n",
       "    }\n",
       "</style>\n",
       "<table border=\"1\" class=\"dataframe\">\n",
       "  <thead>\n",
       "    <tr style=\"text-align: right;\">\n",
       "      <th></th>\n",
       "      <th>times [s]</th>\n",
       "    </tr>\n",
       "  </thead>\n",
       "  <tbody>\n",
       "    <tr>\n",
       "      <th>ijp</th>\n",
       "      <td>3.225448</td>\n",
       "    </tr>\n",
       "    <tr>\n",
       "      <th>ipj</th>\n",
       "      <td>3.183347</td>\n",
       "    </tr>\n",
       "    <tr>\n",
       "      <th>jip</th>\n",
       "      <td>3.194290</td>\n",
       "    </tr>\n",
       "    <tr>\n",
       "      <th>jpi</th>\n",
       "      <td>3.248986</td>\n",
       "    </tr>\n",
       "    <tr>\n",
       "      <th>pij</th>\n",
       "      <td>3.198173</td>\n",
       "    </tr>\n",
       "    <tr>\n",
       "      <th>pji</th>\n",
       "      <td>3.211180</td>\n",
       "    </tr>\n",
       "  </tbody>\n",
       "</table>\n",
       "</div>"
      ],
      "text/plain": [
       "     times [s]\n",
       "ijp   3.225448\n",
       "ipj   3.183347\n",
       "jip   3.194290\n",
       "jpi   3.248986\n",
       "pij   3.198173\n",
       "pji   3.211180"
      ]
     },
     "execution_count": 10,
     "metadata": {},
     "output_type": "execute_result"
    },
    {
     "data": {
      "image/png": "[encoded data removed]",
      "text/plain": [
       "<Figure size 720x360 with 1 Axes>"
      ]
     },
     "metadata": {
      "needs_background": "light"
     },
     "output_type": "display_data"
    }
   ],
   "source": [
    "compare_mult_times(matrix, matrix)"
   ]
  },
  {
   "cell_type": "markdown",
   "id": "premium-teach",
   "metadata": {},
   "source": [
    "\"4. Proszę wybrać jedną kolejność pętli i następnie dla swoich dwóch macierzy A i B zmierzyć czasy mnożenia w algorytmie mnożenia blokowego. Proszę narysować wykres: oś x rozmiar bloków, oś y czas mnożenia\""
   ]
  },
  {
   "cell_type": "code",
   "execution_count": 11,
   "id": "minute-capitol",
   "metadata": {},
   "outputs": [],
   "source": [
    "def compare_block_times(matrix_a, matrix_b):\n",
    "    times = {}\n",
    "    \n",
    "    for block_size in range(1, 100, 5):\n",
    "        start = time()\n",
    "        mm_block(matrix_a, matrix_b, block_size)\n",
    "        times[block_size] = time() - start\n",
    "    \n",
    "    df = pd.DataFrame(times.values(), times.keys(), [\"times [s]\"])\n",
    "    \n",
    "    fig, ax = plt.subplots(figsize=(10, 10))\n",
    "    ax.set_xlabel('block size')\n",
    "    ax.set_ylabel('multiplication time [s]')\n",
    "    ax.plot(times.keys(), times.values(), color=\"#4a4e69\")\n",
    "    \n",
    "    return df"
   ]
  },
  {
   "cell_type": "code",
   "execution_count": 12,
   "id": "wound-falls",
   "metadata": {},
   "outputs": [
    {
     "data": {
      "text/html": [
       "<div>\n",
       "<style scoped>\n",
       "    .dataframe tbody tr th:only-of-type {\n",
       "        vertical-align: middle;\n",
       "    }\n",
       "\n",
       "    .dataframe tbody tr th {\n",
       "        vertical-align: top;\n",
       "    }\n",
       "\n",
       "    .dataframe thead th {\n",
       "        text-align: right;\n",
       "    }\n",
       "</style>\n",
       "<table border=\"1\" class=\"dataframe\">\n",
       "  <thead>\n",
       "    <tr style=\"text-align: right;\">\n",
       "      <th></th>\n",
       "      <th>times [s]</th>\n",
       "    </tr>\n",
       "  </thead>\n",
       "  <tbody>\n",
       "    <tr>\n",
       "      <th>1</th>\n",
       "      <td>28.130080</td>\n",
       "    </tr>\n",
       "    <tr>\n",
       "      <th>6</th>\n",
       "      <td>3.465760</td>\n",
       "    </tr>\n",
       "    <tr>\n",
       "      <th>11</th>\n",
       "      <td>3.232680</td>\n",
       "    </tr>\n",
       "    <tr>\n",
       "      <th>16</th>\n",
       "      <td>3.366997</td>\n",
       "    </tr>\n",
       "    <tr>\n",
       "      <th>21</th>\n",
       "      <td>3.194031</td>\n",
       "    </tr>\n",
       "    <tr>\n",
       "      <th>26</th>\n",
       "      <td>3.208124</td>\n",
       "    </tr>\n",
       "    <tr>\n",
       "      <th>31</th>\n",
       "      <td>3.303492</td>\n",
       "    </tr>\n",
       "    <tr>\n",
       "      <th>36</th>\n",
       "      <td>3.310756</td>\n",
       "    </tr>\n",
       "    <tr>\n",
       "      <th>41</th>\n",
       "      <td>3.245519</td>\n",
       "    </tr>\n",
       "    <tr>\n",
       "      <th>46</th>\n",
       "      <td>3.256864</td>\n",
       "    </tr>\n",
       "    <tr>\n",
       "      <th>51</th>\n",
       "      <td>3.169752</td>\n",
       "    </tr>\n",
       "    <tr>\n",
       "      <th>56</th>\n",
       "      <td>3.290136</td>\n",
       "    </tr>\n",
       "    <tr>\n",
       "      <th>61</th>\n",
       "      <td>3.350974</td>\n",
       "    </tr>\n",
       "    <tr>\n",
       "      <th>66</th>\n",
       "      <td>3.266811</td>\n",
       "    </tr>\n",
       "    <tr>\n",
       "      <th>71</th>\n",
       "      <td>3.223263</td>\n",
       "    </tr>\n",
       "    <tr>\n",
       "      <th>76</th>\n",
       "      <td>3.272166</td>\n",
       "    </tr>\n",
       "    <tr>\n",
       "      <th>81</th>\n",
       "      <td>3.230685</td>\n",
       "    </tr>\n",
       "    <tr>\n",
       "      <th>86</th>\n",
       "      <td>3.232152</td>\n",
       "    </tr>\n",
       "    <tr>\n",
       "      <th>91</th>\n",
       "      <td>3.253772</td>\n",
       "    </tr>\n",
       "    <tr>\n",
       "      <th>96</th>\n",
       "      <td>3.206711</td>\n",
       "    </tr>\n",
       "  </tbody>\n",
       "</table>\n",
       "</div>"
      ],
      "text/plain": [
       "    times [s]\n",
       "1   28.130080\n",
       "6    3.465760\n",
       "11   3.232680\n",
       "16   3.366997\n",
       "21   3.194031\n",
       "26   3.208124\n",
       "31   3.303492\n",
       "36   3.310756\n",
       "41   3.245519\n",
       "46   3.256864\n",
       "51   3.169752\n",
       "56   3.290136\n",
       "61   3.350974\n",
       "66   3.266811\n",
       "71   3.223263\n",
       "76   3.272166\n",
       "81   3.230685\n",
       "86   3.232152\n",
       "91   3.253772\n",
       "96   3.206711"
      ]
     },
     "execution_count": 12,
     "metadata": {},
     "output_type": "execute_result"
    },
    {
     "data": {
      "image/png": "[encoded data removed]",
      "text/plain": [
       "<Figure size 720x720 with 1 Axes>"
      ]
     },
     "metadata": {
      "needs_background": "light"
     },
     "output_type": "display_data"
    }
   ],
   "source": [
    "compare_block_times(matrix, matrix)"
   ]
  },
  {
   "cell_type": "markdown",
   "id": "f0f337b5",
   "metadata": {},
   "source": [
    "<hr>"
   ]
  },
  {
   "cell_type": "markdown",
   "id": "ad4bfb15",
   "metadata": {},
   "source": [
    "## C"
   ]
  },
  {
   "cell_type": "markdown",
   "id": "e379d905",
   "metadata": {},
   "source": [
    "### Generowanie macierzy"
   ]
  },
  {
   "cell_type": "markdown",
   "id": "90067b25",
   "metadata": {},
   "source": [
    "```c\n",
    "#include <stdio.h>\n",
    "#include <stdlib.h>\n",
    "#include <time.h>\n",
    "#include <sys/times.h>\n",
    "#include <string.h>\n",
    "\n",
    "double** read_matrix(char* filename, int m){\n",
    "    FILE* f;\n",
    "    f = fopen(filename, \"r\");\n",
    "\n",
    "    char * buffer = NULL;\n",
    "    size_t len = 0;\n",
    "    ssize_t read;\n",
    "    int n;\n",
    "    double ** matrix;\n",
    "\n",
    "    while ((read = getline(&buffer, &len, f)) != -1) {\n",
    "        char *token;\n",
    "        token = strtok(buffer, \" \");\n",
    "   \n",
    "        if(strcmp(token, \"#\") == 0){\n",
    "            token = strtok(NULL, \" \");\n",
    "            if(strcmp(token, \"rows:\") == 0){\n",
    "                token = strtok(NULL, \" \");\n",
    "                n = atoi(token);\n",
    "                matrix = empty_arr(n * m, n * m);\n",
    "            }\n",
    "        }\n",
    "        else{\n",
    "            int i, j;\n",
    "            double val;\n",
    "            i = atoi(token);\n",
    "            token = strtok(NULL, \" \");\n",
    "            j = atoi(token);\n",
    "            token = strtok(NULL, \" \");\n",
    "            val = atof(token);\n",
    "            matrix[i-1][j-1] = val;\n",
    "        }\n",
    "    }  \n",
    "\n",
    "    for (int i = n ; i < n * m ; i++)\n",
    "    {\n",
    "        for (int j = n ; j < n * m ; j++)\n",
    "        {\n",
    "            matrix[i][j] = matrix[i%n][j%n];\n",
    "        }\n",
    "    }\n",
    "\n",
    "    fclose(f);\n",
    "    return matrix;\n",
    "}\n",
    "```"
   ]
  },
  {
   "cell_type": "markdown",
   "id": "767201a5",
   "metadata": {},
   "source": [
    "### Procedura mnożenia macierzy"
   ]
  },
  {
   "cell_type": "markdown",
   "id": "37950151",
   "metadata": {},
   "source": [
    "#### Klasyczna funkcja w 6 wersjach"
   ]
  },
  {
   "cell_type": "markdown",
   "id": "8ccbcaf1",
   "metadata": {},
   "source": [
    "```c\n",
    "void matmul_ijp(double** C, double** A, double** B, int n){\n",
    "    for (int i = 0 ; i < n ; i++){\n",
    "        for (int j = 0 ; j < n ; j++){\n",
    "            for (int p = 0 ; p < n ; p++){\n",
    "                C[i][j] = C[i][j] + A[i][p] * B[p][j];\n",
    "            }\n",
    "        }\n",
    "    }\n",
    "}\n",
    "\n",
    "void matmul_ipj(double** C, double** A, double** B, int n){\n",
    "    for (int i = 0 ; i < n ; i++){\n",
    "        for (int p = 0 ; p < n ; p++){\n",
    "            for (int j = 0 ; j < n ; j++){\n",
    "                C[i][j] = C[i][j] + A[i][p] * B[p][j];\n",
    "            }\n",
    "        }\n",
    "    }\n",
    "}\n",
    "\n",
    "void matmul_jip(double** C, double** A, double** B, int n){\n",
    "    for (int j = 0 ; j < n ; j++){\n",
    "        for (int i = 0 ; i < n ; i++){\n",
    "            for (int p = 0 ; p < n ; p++){\n",
    "                C[i][j] = C[i][j] + A[i][p] * B[p][j];\n",
    "            }\n",
    "        }\n",
    "    }\n",
    "}\n",
    "\n",
    "void matmul_jpi(double** C, double** A, double** B, int n){\n",
    "    for (int j = 0 ; j < n ; j++){\n",
    "        for (int p = 0 ; p < n ; p++){\n",
    "            for (int i = 0 ; i < n ; i++){\n",
    "                C[i][j] = C[i][j] + A[i][p] * B[p][j];\n",
    "            }\n",
    "        }\n",
    "    }\n",
    "}\n",
    "\n",
    "void matmul_pij(double** C, double** A, double** B, int n){\n",
    "    for (int p = 0 ; p < n ; p++){\n",
    "        for (int i = 0 ; i < n ; i++){\n",
    "            for (int j = 0 ; j < n ; j++){\n",
    "                C[i][j] = C[i][j] + A[i][p] * B[p][j];\n",
    "            }\n",
    "        }\n",
    "    }\n",
    "}\n",
    "\n",
    "void matmul_pji(double** C, double** A, double** B, int n){\n",
    "    for (int p = 0 ; p < n ; p++){\n",
    "        for (int j = 0 ; j < n ; j++){\n",
    "            for (int i = 0 ; i < n ; i++){\n",
    "                C[i][j] = C[i][j] + A[i][p] * B[p][j];\n",
    "            }\n",
    "        }\n",
    "    }\n",
    "}\n",
    "```"
   ]
  },
  {
   "cell_type": "markdown",
   "id": "6d19631f",
   "metadata": {},
   "source": [
    "#### Procedura mnożenia blokowego macierzy"
   ]
  },
  {
   "cell_type": "markdown",
   "id": "bb503c8e",
   "metadata": {},
   "source": [
    "```c\n",
    "void matmul_blocking(double** C, double** A, double** B, int n, int block_size){\n",
    "    for (int i = 0 ; i < n ; i=i+block_size){\n",
    "        for (int p = 0 ; p < n ; p=p+block_size){\n",
    "            for (int j = 0 ; j < n ; j=j+block_size){\n",
    "\n",
    "                for (int ib = i ; ib < i + block_size ; ib++){\n",
    "                    for (int pb = p ; pb < p + block_size ; pb++){\n",
    "                        for (int jb = j ; jb < j + block_size ; jb++){\n",
    "                            C[ib][jb] = C[ib][jb] + A[ib][pb] * B[pb][jb];\n",
    "                        }\n",
    "                    }\n",
    "                }\n",
    "            }\n",
    "        }\n",
    "    }\n",
    "}\n",
    "```"
   ]
  },
  {
   "cell_type": "markdown",
   "id": "a161ec23",
   "metadata": {},
   "source": [
    "### Pomiar czasów"
   ]
  },
  {
   "cell_type": "markdown",
   "id": "bba16f1e",
   "metadata": {},
   "source": [
    "```c\n",
    "#include <stdio.h>\n",
    "#include <stdlib.h>\n",
    "#include <time.h>\n",
    "#include <sys/times.h>\n",
    "#include <string.h>\n",
    "\n",
    "double** new_arr(int N, int M){\n",
    "    double** arr = malloc(N * sizeof(double*));\n",
    "    for (int i = 0 ; i < N ; i++){\n",
    "        arr[i] = calloc(M, sizeof(double));\n",
    "        for(int j = 0 ; j < M ; j++) arr[i][j] = rand();\n",
    "    }\n",
    "    return arr;\n",
    "}\n",
    "\n",
    "double** empty_arr(int N, int M){\n",
    "    double** arr = malloc(N * sizeof(double*));\n",
    "    for (int i = 0 ; i < N ; i++){\n",
    "        arr[i] = calloc(M, sizeof(double));\n",
    "    }\n",
    "    return arr;\n",
    "}\n",
    "\n",
    "int main()\n",
    "{\n",
    "    srand ( time ( NULL));\n",
    "    clock_t start, end;\n",
    "\n",
    "    double* ijp_times = malloc(1 * sizeof(double));\n",
    "    double* ipj_times = malloc(1 * sizeof(double));\n",
    "    double* jip_times = malloc(1 * sizeof(double));\n",
    "    double* jpi_times = malloc(1 * sizeof(double));\n",
    "    double* pij_times = malloc(1 * sizeof(double));\n",
    "    double* pji_times = malloc(1 * sizeof(double));\n",
    "    double* blocking_times = malloc(200 * sizeof(double));\n",
    "\n",
    "    int multipl = 10;\n",
    "    double** A = read_matrix(\"fem_1550_196x196.txt\", multipl);\n",
    "    double** B = read_matrix(\"fem_1550_196x196.txt\", multipl);\n",
    "    double** C;\n",
    "    int n = 196 * multipl;\n",
    "    \n",
    "    \n",
    "    printf(\"size %d\\n\", n);\n",
    "    C = empty_arr(n, n);\n",
    "    start = clock();\n",
    "    matmul_ijp(C, A, B, n);\n",
    "    end = clock();\n",
    "    ijp_times[0] = ((double)(end - start)) / CLOCKS_PER_SEC;\n",
    "    printf(\"%f\\n\", ijp_times[0]);\n",
    "\n",
    "    remove_arr(n, C);\n",
    "\n",
    "    C = empty_arr(n, n);\n",
    "    start = clock();\n",
    "    matmul_ipj(C, A, B, n);\n",
    "    end = clock();\n",
    "    ipj_times[0] = ((double)(end - start)) / CLOCKS_PER_SEC;\n",
    "    remove_arr(n, C);\n",
    "\n",
    "    C = empty_arr(n, n);\n",
    "    start = clock();\n",
    "    matmul_jip(C, A, B, n);\n",
    "    end = clock();\n",
    "    jip_times[0] = ((double)(end - start)) / CLOCKS_PER_SEC;\n",
    "    remove_arr(n, C);\n",
    "\n",
    "    C = empty_arr(n, n);\n",
    "    start = clock();\n",
    "    matmul_jpi(C, A, B, n);\n",
    "    end = clock();\n",
    "    jpi_times[0] = ((double)(end - start)) / CLOCKS_PER_SEC;\n",
    "    remove_arr(n, C);\n",
    "\n",
    "    C = empty_arr(n, n);\n",
    "    start = clock();\n",
    "    matmul_pij(C, A, B, n);\n",
    "    end = clock();\n",
    "    pij_times[0] = ((double)(end - start)) / CLOCKS_PER_SEC;\n",
    "    remove_arr(n, C);\n",
    "\n",
    "    C = empty_arr(n, n);\n",
    "    start = clock();\n",
    "    matmul_pji(C, A, B, n);\n",
    "    end = clock();\n",
    "    pji_times[0] = ((double)(end - start)) / CLOCKS_PER_SEC;\n",
    "    remove_arr(n, C);\n",
    "    \n",
    "\n",
    "    int k = 0;\n",
    "    for (int block_size = 1 ; block_size <= n ; block_size = block_size + 1){\n",
    "        if (n % block_size != 0) continue;\n",
    "        printf(\"block size %d\\n\", block_size);\n",
    "        \n",
    "        C = empty_arr(n, n);\n",
    "        start = clock();\n",
    "        matmul_blocking(C, A, B, n, block_size);\n",
    "        end = clock();\n",
    "        blocking_times[k] = ((double)(end - start)) / CLOCKS_PER_SEC;\n",
    "        remove_arr(n, C);\n",
    "        k++;\n",
    "    }\n",
    "\n",
    "    remove_arr(n,A);\n",
    "    remove_arr(n,B);\n",
    "\n",
    "    FILE *f_matmul;\n",
    "    f_matmul = fopen(\"matmul_times.csv\", \"w+\");\n",
    "    fprintf(f_matmul,\"Size, IJP, IPJ, JIP, JPI, PIJ, PJI\\n\");\n",
    "    fprintf(f_matmul,\"%d, %f, %f, %f, %f, %f, %f\\n\", n, ijp_times[0], ipj_times[0],\n",
    "            jip_times[0], jpi_times[0], pij_times[0], pji_times[0]);\n",
    "\n",
    "\n",
    "    FILE *f_blocking;\n",
    "    f_blocking = fopen(\"blocking_times.csv\", \"w+\");\n",
    "    fprintf(f_blocking,\"BlockSize, Time[s]\\n\");\n",
    "    k = 0;\n",
    "    for (int block_size = 1 ; block_size <= n ; block_size++){\n",
    "        if (n % block_size != 0) continue;\n",
    "        fprintf(f_blocking,\"%d, %f\\n\", block_size, blocking_times[k]);\n",
    "        k++;\n",
    "    }\n",
    "\n",
    "    fclose(f_matmul);\n",
    "    fclose(f_blocking);\n",
    "    free(ijp_times);\n",
    "    free(ipj_times);\n",
    "    free(jip_times);\n",
    "    free(jpi_times);\n",
    "    free(pij_times);\n",
    "    free(pji_times);\n",
    "    free(blocking_times);\n",
    "    return 0;\n",
    "}\n",
    "```"
   ]
  },
  {
   "cell_type": "markdown",
   "id": "829897ef",
   "metadata": {},
   "source": [
    "#### porównanie czasów dla różnych kolejności pętli"
   ]
  },
  {
   "cell_type": "code",
   "execution_count": 42,
   "id": "87ab26c8",
   "metadata": {},
   "outputs": [
    {
     "data": {
      "text/html": [
       "<div>\n",
       "<style scoped>\n",
       "    .dataframe tbody tr th:only-of-type {\n",
       "        vertical-align: middle;\n",
       "    }\n",
       "\n",
       "    .dataframe tbody tr th {\n",
       "        vertical-align: top;\n",
       "    }\n",
       "\n",
       "    .dataframe thead th {\n",
       "        text-align: right;\n",
       "    }\n",
       "</style>\n",
       "<table border=\"1\" class=\"dataframe\">\n",
       "  <thead>\n",
       "    <tr style=\"text-align: right;\">\n",
       "      <th></th>\n",
       "      <th>Size</th>\n",
       "      <th>IJP</th>\n",
       "      <th>IPJ</th>\n",
       "      <th>JIP</th>\n",
       "      <th>JPI</th>\n",
       "      <th>PIJ</th>\n",
       "      <th>PJI</th>\n",
       "    </tr>\n",
       "  </thead>\n",
       "  <tbody>\n",
       "    <tr>\n",
       "      <th>0</th>\n",
       "      <td>1960</td>\n",
       "      <td>59.754282</td>\n",
       "      <td>28.979273</td>\n",
       "      <td>30.432951</td>\n",
       "      <td>28.389494</td>\n",
       "      <td>30.220525</td>\n",
       "      <td>29.364368</td>\n",
       "    </tr>\n",
       "  </tbody>\n",
       "</table>\n",
       "</div>"
      ],
      "text/plain": [
       "   Size        IJP        IPJ        JIP        JPI        PIJ        PJI\n",
       "0  1960  59.754282  28.979273  30.432951  28.389494  30.220525  29.364368"
      ]
     },
     "execution_count": 42,
     "metadata": {},
     "output_type": "execute_result"
    },
    {
     "data": {
      "image/png": "[encoded data removed]",
      "text/plain": [
       "<Figure size 720x360 with 1 Axes>"
      ]
     },
     "metadata": {
      "needs_background": "light"
     },
     "output_type": "display_data"
    }
   ],
   "source": [
    "def show_mult_times(file):\n",
    "    data = pd.read_csv(file)\n",
    "    \n",
    "    data.drop(columns=\"Size\").plot(\n",
    "        kind='bar', \n",
    "        xlabel='loop order', \n",
    "        ylabel='multiplication time [s]', \n",
    "        figsize=(10, 5),\n",
    "        colormap='Set3'\n",
    "    )\n",
    "    \n",
    "    return data\n",
    "    \n",
    "show_mult_times(\"matmul_times.csv\")"
   ]
  },
  {
   "cell_type": "markdown",
   "id": "da9147fb",
   "metadata": {},
   "source": [
    "#### porównanie czasów dla różnych rozmiarów bloków"
   ]
  },
  {
   "cell_type": "code",
   "execution_count": 43,
   "id": "cc978e26",
   "metadata": {},
   "outputs": [
    {
     "data": {
      "text/html": [
       "<div>\n",
       "<style scoped>\n",
       "    .dataframe tbody tr th:only-of-type {\n",
       "        vertical-align: middle;\n",
       "    }\n",
       "\n",
       "    .dataframe tbody tr th {\n",
       "        vertical-align: top;\n",
       "    }\n",
       "\n",
       "    .dataframe thead th {\n",
       "        text-align: right;\n",
       "    }\n",
       "</style>\n",
       "<table border=\"1\" class=\"dataframe\">\n",
       "  <thead>\n",
       "    <tr style=\"text-align: right;\">\n",
       "      <th></th>\n",
       "      <th>BlockSize</th>\n",
       "      <th>Time[s]</th>\n",
       "    </tr>\n",
       "  </thead>\n",
       "  <tbody>\n",
       "    <tr>\n",
       "      <th>0</th>\n",
       "      <td>1</td>\n",
       "      <td>59.754282</td>\n",
       "    </tr>\n",
       "    <tr>\n",
       "      <th>1</th>\n",
       "      <td>2</td>\n",
       "      <td>36.794170</td>\n",
       "    </tr>\n",
       "    <tr>\n",
       "      <th>2</th>\n",
       "      <td>4</td>\n",
       "      <td>31.243284</td>\n",
       "    </tr>\n",
       "    <tr>\n",
       "      <th>3</th>\n",
       "      <td>5</td>\n",
       "      <td>30.350315</td>\n",
       "    </tr>\n",
       "    <tr>\n",
       "      <th>4</th>\n",
       "      <td>7</td>\n",
       "      <td>28.979273</td>\n",
       "    </tr>\n",
       "    <tr>\n",
       "      <th>5</th>\n",
       "      <td>8</td>\n",
       "      <td>28.870096</td>\n",
       "    </tr>\n",
       "    <tr>\n",
       "      <th>6</th>\n",
       "      <td>10</td>\n",
       "      <td>30.836188</td>\n",
       "    </tr>\n",
       "    <tr>\n",
       "      <th>7</th>\n",
       "      <td>14</td>\n",
       "      <td>28.512718</td>\n",
       "    </tr>\n",
       "    <tr>\n",
       "      <th>8</th>\n",
       "      <td>20</td>\n",
       "      <td>30.432951</td>\n",
       "    </tr>\n",
       "    <tr>\n",
       "      <th>9</th>\n",
       "      <td>28</td>\n",
       "      <td>28.644196</td>\n",
       "    </tr>\n",
       "    <tr>\n",
       "      <th>10</th>\n",
       "      <td>35</td>\n",
       "      <td>29.458436</td>\n",
       "    </tr>\n",
       "    <tr>\n",
       "      <th>11</th>\n",
       "      <td>40</td>\n",
       "      <td>29.967220</td>\n",
       "    </tr>\n",
       "    <tr>\n",
       "      <th>12</th>\n",
       "      <td>49</td>\n",
       "      <td>28.389494</td>\n",
       "    </tr>\n",
       "    <tr>\n",
       "      <th>13</th>\n",
       "      <td>56</td>\n",
       "      <td>28.293239</td>\n",
       "    </tr>\n",
       "    <tr>\n",
       "      <th>14</th>\n",
       "      <td>70</td>\n",
       "      <td>28.489529</td>\n",
       "    </tr>\n",
       "    <tr>\n",
       "      <th>15</th>\n",
       "      <td>98</td>\n",
       "      <td>29.220005</td>\n",
       "    </tr>\n",
       "    <tr>\n",
       "      <th>16</th>\n",
       "      <td>140</td>\n",
       "      <td>30.220525</td>\n",
       "    </tr>\n",
       "    <tr>\n",
       "      <th>17</th>\n",
       "      <td>196</td>\n",
       "      <td>28.680796</td>\n",
       "    </tr>\n",
       "    <tr>\n",
       "      <th>18</th>\n",
       "      <td>245</td>\n",
       "      <td>28.788981</td>\n",
       "    </tr>\n",
       "    <tr>\n",
       "      <th>19</th>\n",
       "      <td>280</td>\n",
       "      <td>28.580805</td>\n",
       "    </tr>\n",
       "    <tr>\n",
       "      <th>20</th>\n",
       "      <td>392</td>\n",
       "      <td>29.364368</td>\n",
       "    </tr>\n",
       "    <tr>\n",
       "      <th>21</th>\n",
       "      <td>490</td>\n",
       "      <td>29.215521</td>\n",
       "    </tr>\n",
       "    <tr>\n",
       "      <th>22</th>\n",
       "      <td>980</td>\n",
       "      <td>30.115792</td>\n",
       "    </tr>\n",
       "    <tr>\n",
       "      <th>23</th>\n",
       "      <td>1960</td>\n",
       "      <td>28.864432</td>\n",
       "    </tr>\n",
       "  </tbody>\n",
       "</table>\n",
       "</div>"
      ],
      "text/plain": [
       "    BlockSize    Time[s]\n",
       "0           1  59.754282\n",
       "1           2  36.794170\n",
       "2           4  31.243284\n",
       "3           5  30.350315\n",
       "4           7  28.979273\n",
       "5           8  28.870096\n",
       "6          10  30.836188\n",
       "7          14  28.512718\n",
       "8          20  30.432951\n",
       "9          28  28.644196\n",
       "10         35  29.458436\n",
       "11         40  29.967220\n",
       "12         49  28.389494\n",
       "13         56  28.293239\n",
       "14         70  28.489529\n",
       "15         98  29.220005\n",
       "16        140  30.220525\n",
       "17        196  28.680796\n",
       "18        245  28.788981\n",
       "19        280  28.580805\n",
       "20        392  29.364368\n",
       "21        490  29.215521\n",
       "22        980  30.115792\n",
       "23       1960  28.864432"
      ]
     },
     "execution_count": 43,
     "metadata": {},
     "output_type": "execute_result"
    },
    {
     "data": {
      "image/png": "[encoded data removed]",
      "text/plain": [
       "<Figure size 720x360 with 1 Axes>"
      ]
     },
     "metadata": {
      "needs_background": "light"
     },
     "output_type": "display_data"
    }
   ],
   "source": [
    "def show_block_times(file):\n",
    "    data = pd.read_csv(file)\n",
    "    \n",
    "    data.plot(\n",
    "        x='BlockSize',\n",
    "        color=\"#4a4e69\",\n",
    "        figsize=(10, 5)\n",
    "    )\n",
    "    \n",
    "    return data\n",
    "    \n",
    "show_block_times(\"blocking_times.csv\")"
   ]
  },
  {
   "cell_type": "markdown",
   "id": "animal-honduras",
   "metadata": {},
   "source": [
    "## Liczba operacji zmiennoprzecinkowych"
   ]
  },
  {
   "cell_type": "markdown",
   "id": "global-texas",
   "metadata": {},
   "source": [
    "\"5. Proszę obliczyć liczbę operacji zmienno-przecinkowych koniecznych do przemnożenia swoich dwóch macierzy\""
   ]
  },
  {
   "cell_type": "markdown",
   "id": "baedd45b",
   "metadata": {},
   "source": [
    "Aby przemnożyć obie macierze A i B o wymiarach nxn każda potrzeba 2 * n^3 operacji zmiennoprzecinkowych, \n",
    "w ogólności dla macierzy n x m * m x k potrzeba 2 * n * m * k operacji, ponieważ w celu obliczenia wartości w macierzy wynikowej musimy wykonać m mnożeń oraz m dodawań, a komórek jest n*k. Wykorzystując procedurę mnożenia blokowego, nie zmienia się łączna liczba operacji."
   ]
  },
  {
   "cell_type": "markdown",
   "id": "competent-naples",
   "metadata": {},
   "source": [
    "## Wnioski"
   ]
  },
  {
   "cell_type": "markdown",
   "id": "alike-premiere",
   "metadata": {},
   "source": [
    "* \n",
    "* \n",
    "* \n"
   ]
  },
  {
   "cell_type": "markdown",
   "id": "cc7869ea",
   "metadata": {},
   "source": [
    "M. Hawryluk, N. Wolniak. 2021"
   ]
  }
 ],
 "metadata": {
  "interpreter": {
   "hash": "f9f85f796d01129d0dd105a088854619f454435301f6ffec2fea96ecbd9be4ac"
  },
  "kernelspec": {
   "display_name": "Python 3 (ipykernel)",
   "language": "python",
   "name": "python3"
  },
  "language_info": {
   "codemirror_mode": {
    "name": "ipython",
    "version": 3
   },
   "file_extension": ".py",
   "mimetype": "text/x-python",
   "name": "python",
   "nbconvert_exporter": "python",
   "pygments_lexer": "ipython3",
   "version": "3.9.6"
  }
 },
 "nbformat": 4,
 "nbformat_minor": 5
}
