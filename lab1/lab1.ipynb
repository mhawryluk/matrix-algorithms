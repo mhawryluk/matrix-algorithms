{
 "cells": [
  {
   "cell_type": "markdown",
   "id": "hourly-database",
   "metadata": {},
   "source": [
    "# Algorytmy macierzowe - zadanie nr 1 - Mnożenie macierzy"
   ]
  },
  {
   "cell_type": "code",
   "execution_count": 1,
   "id": "refined-croatia",
   "metadata": {},
   "outputs": [],
   "source": [
    "import numpy as np"
   ]
  },
  {
   "cell_type": "markdown",
   "id": "swiss-order",
   "metadata": {},
   "source": [
    "### Generowanie macierzy"
   ]
  },
  {
   "cell_type": "code",
   "execution_count": 2,
   "id": "portable-remove",
   "metadata": {},
   "outputs": [],
   "source": [
    "def read_matrix(file_name):\n",
    "    with open(file_name, 'r') as file:\n",
    "        for line in file:\n",
    "            if line.strip() == '':\n",
    "                continue\n",
    "            if line[0] == '#':\n",
    "                if line[2:6] == \"rows\":\n",
    "                    _, _, size = line.split()\n",
    "                    size = int(size)\n",
    "                    matrix = np.zeros((size, size))\n",
    "            else:\n",
    "                row, col, val = line.split(' ')\n",
    "                matrix[int(row)-1, int(col)-1] = val\n",
    "            \n",
    "    return matrix"
   ]
  },
  {
   "cell_type": "code",
   "execution_count": 3,
   "id": "presidential-solution",
   "metadata": {},
   "outputs": [
    {
     "name": "stdout",
     "output_type": "stream",
     "text": [
      "[[0.11111111 0.05555556 0.         0.         0.05555556 0.02777778\n",
      "  0.         0.         0.         0.         0.         0.\n",
      "  0.         0.         0.         0.        ]\n",
      " [0.05555556 0.11111111 0.         0.         0.02777778 0.05555556\n",
      "  0.         0.         0.         0.         0.         0.\n",
      "  0.         0.         0.         0.        ]\n",
      " [0.         0.         0.11111111 0.05555556 0.         0.\n",
      "  0.05555556 0.02777778 0.         0.         0.         0.\n",
      "  0.         0.         0.         0.        ]\n",
      " [0.         0.         0.05555556 0.11111111 0.         0.\n",
      "  0.02777778 0.05555556 0.         0.         0.         0.\n",
      "  0.         0.         0.         0.        ]\n",
      " [0.05555556 0.02777778 0.         0.         0.11111111 0.05555556\n",
      "  0.         0.         0.         0.         0.         0.\n",
      "  0.         0.         0.         0.        ]\n",
      " [0.02777778 0.05555556 0.         0.         0.05555556 0.11111111\n",
      "  0.         0.         0.         0.         0.         0.\n",
      "  0.         0.         0.         0.        ]\n",
      " [0.         0.         0.05555556 0.02777778 0.         0.\n",
      "  0.11111111 0.05555556 0.         0.         0.         0.\n",
      "  0.         0.         0.         0.        ]\n",
      " [0.         0.         0.02777778 0.05555556 0.         0.\n",
      "  0.05555556 0.11111111 0.         0.         0.         0.\n",
      "  0.         0.         0.         0.        ]\n",
      " [0.         0.         0.         0.         0.         0.\n",
      "  0.         0.         0.11111111 0.05555556 0.         0.\n",
      "  0.05555556 0.02777778 0.         0.        ]\n",
      " [0.         0.         0.         0.         0.         0.\n",
      "  0.         0.         0.05555556 0.11111111 0.         0.\n",
      "  0.02777778 0.05555556 0.         0.        ]\n",
      " [0.         0.         0.         0.         0.         0.\n",
      "  0.         0.         0.         0.         0.11111111 0.05555556\n",
      "  0.         0.         0.05555556 0.02777778]\n",
      " [0.         0.         0.         0.         0.         0.\n",
      "  0.         0.         0.         0.         0.05555556 0.11111111\n",
      "  0.         0.         0.02777778 0.05555556]\n",
      " [0.         0.         0.         0.         0.         0.\n",
      "  0.         0.         0.05555556 0.02777778 0.         0.\n",
      "  0.11111111 0.05555556 0.         0.        ]\n",
      " [0.         0.         0.         0.         0.         0.\n",
      "  0.         0.         0.02777778 0.05555556 0.         0.\n",
      "  0.05555556 0.11111111 0.         0.        ]\n",
      " [0.         0.         0.         0.         0.         0.\n",
      "  0.         0.         0.         0.         0.05555556 0.02777778\n",
      "  0.         0.         0.11111111 0.05555556]\n",
      " [0.         0.         0.         0.         0.         0.\n",
      "  0.         0.         0.         0.         0.02777778 0.05555556\n",
      "  0.         0.         0.05555556 0.11111111]]\n"
     ]
    }
   ],
   "source": [
    "matrix_small = read_matrix(\"matrices/fem_1210_16x16.txt\")\n",
    "print(matrix_small)"
   ]
  },
  {
   "cell_type": "markdown",
   "id": "rolled-position",
   "metadata": {},
   "source": [
    "### Procedura mnożenia macierzy"
   ]
  },
  {
   "cell_type": "markdown",
   "id": "casual-quebec",
   "metadata": {},
   "source": [
    "#### Klasyczna funkcja  w 6 wersjach"
   ]
  },
  {
   "cell_type": "code",
   "execution_count": 4,
   "id": "dynamic-familiar",
   "metadata": {},
   "outputs": [],
   "source": [
    "def mm_ijp(matrix_a, matrix_b):\n",
    "    (m, n), k = matrix_a.shape, matrix_b.shape[1]\n",
    "    matrix_c = np.zeros((m, k), dtype=np.float64)\n",
    "    for i in range(m):\n",
    "        for j in range(k):\n",
    "            for p in range(n):\n",
    "                matrix_c[i, j] += matrix_a[i, p] * matrix_b[p, j]\n",
    "    return matrix_c\n",
    "\n",
    "def mm_ipj(matrix_a, matrix_b):\n",
    "    (m, n), k = matrix_a.shape, matrix_b.shape[1]\n",
    "    matrix_c = np.zeros((m, k), dtype=np.float64)\n",
    "    for i in range(m):\n",
    "        for p in range(n):\n",
    "            for j in range(k):\n",
    "                matrix_c[i, j] += matrix_a[i, p] * matrix_b[p, j]\n",
    "    return matrix_c\n",
    "\n",
    "def mm_jip(matrix_a, matrix_b):\n",
    "    (m, n), k = matrix_a.shape, matrix_b.shape[1]\n",
    "    matrix_c = np.zeros((m, k), dtype=np.float64)\n",
    "    for j in range(k):\n",
    "        for i in range(m):\n",
    "            for p in range(n):\n",
    "                matrix_c[i, j] += matrix_a[i, p] * matrix_b[p, j]\n",
    "    return matrix_c\n",
    "\n",
    "def mm_jpi(matrix_a, matrix_b):\n",
    "    (m, n), k = matrix_a.shape, matrix_b.shape[1]\n",
    "    matrix_c = np.zeros((m, k), dtype=np.float64)\n",
    "    for j in range(k):\n",
    "        for p in range(n):\n",
    "            for i in range(m):\n",
    "                matrix_c[i, j] += matrix_a[i, p] * matrix_b[p, j]\n",
    "    return matrix_c\n",
    "\n",
    "def mm_pij(matrix_a, matrix_b):\n",
    "    (m, n), k = matrix_a.shape, matrix_b.shape[1]\n",
    "    matrix_c = np.zeros((m, k), dtype=np.float64)\n",
    "    for p in range(n):\n",
    "        for i in range(m):\n",
    "            for j in range(k):\n",
    "                matrix_c[i, j] += matrix_a[i, p] * matrix_b[p, j]\n",
    "    return matrix_c\n",
    "\n",
    "def mm_pji(matrix_a, matrix_b):\n",
    "    (m, n), k = matrix_a.shape, matrix_b.shape[1]\n",
    "    matrix_c = np.zeros((m, k), dtype=np.float64)\n",
    "    for p in range(n):\n",
    "        for j in range(k):\n",
    "            for i in range(m):\n",
    "                matrix_c[i, j] += matrix_a[i, p] * matrix_b[p, j]\n",
    "    return matrix_c"
   ]
  },
  {
   "cell_type": "code",
   "execution_count": 5,
   "id": "perceived-might",
   "metadata": {},
   "outputs": [
    {
     "name": "stdout",
     "output_type": "stream",
     "text": [
      "OK\n"
     ]
    }
   ],
   "source": [
    "def mm_test(matrix_a, matrix_b):\n",
    "    matrix_c = matrix_a @ matrix_b\n",
    "    res = True\n",
    "    for mm in [mm_ijp, mm_ipj, mm_jip, mm_jpi, mm_pij, mm_pji]:\n",
    "        if not np.allclose(matrix_c, mm(matrix_a, matrix_b)):\n",
    "            print(\"{} not correct!\".format(mm.__name__))\n",
    "            res = False\n",
    "    if res:\n",
    "        print(\"OK\")\n",
    "\n",
    "mm_test(matrix_small, matrix_small)"
   ]
  },
  {
   "cell_type": "markdown",
   "id": "velvet-trinidad",
   "metadata": {},
   "source": [
    "#### Procedura mnożenia blokowego macierzy"
   ]
  },
  {
   "cell_type": "code",
   "execution_count": 6,
   "id": "everyday-blogger",
   "metadata": {},
   "outputs": [],
   "source": [
    "def mm_block(matrix_a, matrix_b, block_size):\n",
    "    (m, n), k = matrix_a.shape, matrix_b.shape[1]\n",
    "    matrix_c = np.zeros((m, k))\n",
    "    \n",
    "    for i in range(0, m, block_size):\n",
    "        ib = min(m - i, block_size)\n",
    "        for j in range(0, k, block_size):\n",
    "            jb = min(n - j, block_size)\n",
    "            for p in range(0, n, block_size):\n",
    "                pb = min(k - p, block_size)\n",
    "                matrix_c[i:i+ib, j:j+jb] += mm_ijp(matrix_a[i:i+ib, p:p+pb],\n",
    "                                                                   matrix_b[p:p+pb, j:j+jb])\n",
    "    return matrix_c"
   ]
  },
  {
   "cell_type": "code",
   "execution_count": 7,
   "id": "focal-beast",
   "metadata": {},
   "outputs": [
    {
     "name": "stdout",
     "output_type": "stream",
     "text": [
      "OK\n"
     ]
    }
   ],
   "source": [
    "def mm_block_test(matrix_a, matrix_b):\n",
    "    matrix_c = matrix_a @ matrix_b\n",
    "    res = True\n",
    "    for block_size in range(1, 20):\n",
    "        if not np.allclose(matrix_c, mm_block(matrix_a, matrix_b, block_size)):\n",
    "            print(\"{} incorrect block size!\".format(block_size))\n",
    "            res = False\n",
    "    if res:\n",
    "        print(\"OK\")\n",
    "\n",
    "mm_block_test(matrix_small, matrix_small)"
   ]
  },
  {
   "cell_type": "markdown",
   "id": "arbitrary-theorem",
   "metadata": {},
   "source": [
    "*1. Proszę wybrać dwie możliwie największe macierze A i B ze swoich dwóch rodzin macierzy, takie żeby zgadzały się ich rozmiary, oraz przemnożyć je A*B swoim optymalnym algorytmem (tak duże macierze jakie da się w czasie kilku-kilkudziesięciu minut przemnożyć na Państwa laptopie)*"
   ]
  },
  {
   "cell_type": "code",
   "execution_count": 12,
   "id": "romantic-intellectual",
   "metadata": {},
   "outputs": [
    {
     "name": "stdout",
     "output_type": "stream",
     "text": [
      "(81, 81)\n"
     ]
    }
   ],
   "source": [
    "matrix = read_matrix(\"matrices/fem_1420_81x81.txt\")\n",
    "print(matrix.shape)"
   ]
  },
  {
   "cell_type": "markdown",
   "id": "comfortable-ethnic",
   "metadata": {},
   "source": [
    "*2. Proszę narysować schemat niezerowych wartości swoich dwóch macierzy (używając komendy spy(A), spy(B) MATLABa) oraz macierzy wynikowej A*B*"
   ]
  },
  {
   "cell_type": "code",
   "execution_count": null,
   "id": "amateur-voluntary",
   "metadata": {},
   "outputs": [],
   "source": []
  },
  {
   "cell_type": "markdown",
   "id": "miniature-atlas",
   "metadata": {},
   "source": [
    "### Pomiar czasów"
   ]
  },
  {
   "cell_type": "markdown",
   "id": "public-compression",
   "metadata": {},
   "source": [
    "*3. Proszę zmierzyć czas mnożenia tych wybranych dwóch dużych macierzy dla różnej kolejności pętli w algorytmie mnożenia macierzy. Proszę narysować tabelkę: kolejność pętli (6 możliwości) versus czasy mnożenia*"
   ]
  },
  {
   "cell_type": "code",
   "execution_count": null,
   "id": "attempted-mailing",
   "metadata": {},
   "outputs": [],
   "source": []
  },
  {
   "cell_type": "markdown",
   "id": "premium-teach",
   "metadata": {},
   "source": [
    "*4. Proszę wybrać jedną kolejność pętli i następnie dla swoich dwóch macierzy A i B zmierzyć czasy mnożenia w algorytmie mnożenia blokowego. Proszę narysować wykres: oś x rozmiar bloków, oś y czas mnożenia*"
   ]
  },
  {
   "cell_type": "code",
   "execution_count": null,
   "id": "minute-capitol",
   "metadata": {},
   "outputs": [],
   "source": []
  },
  {
   "cell_type": "markdown",
   "id": "animal-honduras",
   "metadata": {},
   "source": [
    "### Liczba operacji"
   ]
  },
  {
   "cell_type": "markdown",
   "id": "global-texas",
   "metadata": {},
   "source": [
    "*5. Proszę obliczyć liczbę operacji zmienno-przecinkowych koniecznych do*"
   ]
  },
  {
   "cell_type": "code",
   "execution_count": null,
   "id": "fewer-scholar",
   "metadata": {},
   "outputs": [],
   "source": []
  },
  {
   "cell_type": "markdown",
   "id": "competent-naples",
   "metadata": {},
   "source": [
    "### Wnioski"
   ]
  },
  {
   "cell_type": "markdown",
   "id": "alike-premiere",
   "metadata": {},
   "source": []
  }
 ],
 "metadata": {
  "interpreter": {
   "hash": "f9f85f796d01129d0dd105a088854619f454435301f6ffec2fea96ecbd9be4ac"
  },
  "kernelspec": {
   "display_name": "Python 3",
   "language": "python",
   "name": "python3"
  },
  "language_info": {
   "codemirror_mode": {
    "name": "ipython",
    "version": 3
   },
   "file_extension": ".py",
   "mimetype": "text/x-python",
   "name": "python",
   "nbconvert_exporter": "python",
   "pygments_lexer": "ipython3",
   "version": "3.8.10"
  }
 },
 "nbformat": 4,
 "nbformat_minor": 5
}
