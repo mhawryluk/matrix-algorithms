{
 "cells": [
  {
   "cell_type": "markdown",
   "id": "faff8fe0",
   "metadata": {},
   "source": [
    "# Algorytmy macierzowe - zadanie nr 2 - Eliminacja Gaussa i LU Faktoryzacja dla macierzy gęstych"
   ]
  },
  {
   "cell_type": "markdown",
   "id": "hourly-database",
   "metadata": {},
   "source": [
    "\"Proszę wybrać język programowania wedle uznania\n",
    "Proszę napisać procedurę [S]=Schur_Complement(A,n,m)\n",
    "gdzie A to macierz wejściowa, n to rozmiar tej macierzy A,\n",
    "m to rozmiar podmacierzy (tzw. dopełnienia Schura),\n",
    "powstałej poprzez wyeliminowanie n-m wierszy i kolumn\n",
    "z macierzy A, wykorzystując [zatrzymując po n-m krokach]:\n",
    " \n",
    "6. Faktoryzacja Cholesky’ego “wektorową” (slajd 28) \n",
    "\""
   ]
  },
  {
   "cell_type": "markdown",
   "id": "6ae11b4b",
   "metadata": {},
   "source": [
    "Marcin Hawryluk, Norbert Wolniak <br>grupa: piątek 12:50B <hr>"
   ]
  },
  {
   "cell_type": "code",
   "execution_count": 65,
   "id": "refined-croatia",
   "metadata": {},
   "outputs": [],
   "source": [
    "import numpy as np\n",
    "from time import time\n",
    "import matplotlib.pyplot as plt\n",
    "import pandas as pd\n",
    "import os"
   ]
  },
  {
   "cell_type": "markdown",
   "id": "intended-chapel",
   "metadata": {},
   "source": [
    "Do implementacji wybraliśmy język Python 3 wraz z biblioteką do obliczeń numerycznych numpy, która pozwala operować na macierzach zaimplementowanych bezpośrednio w języku C."
   ]
  },
  {
   "cell_type": "markdown",
   "id": "swiss-order",
   "metadata": {},
   "source": [
    "## Generowanie macierzy"
   ]
  },
  {
   "cell_type": "markdown",
   "id": "seventh-individual",
   "metadata": {},
   "source": [
    "Macierze, których będziemy używać, wygenerowaliśmy za pomocą dostarczonej procedury massmatrix, napisanej w środowisku Octave. Macierze zapisaliśmy w postaci pliku tekstowego, a następnie odczytaliśmy w Pythonie za pomocą poniższej funkcji."
   ]
  },
  {
   "cell_type": "code",
   "execution_count": 66,
   "id": "portable-remove",
   "metadata": {},
   "outputs": [],
   "source": [
    "def read_matrix(file_name):\n",
    "    with open(file_name, 'r') as file:\n",
    "        for line in file:\n",
    "            if line.strip() == '':\n",
    "                continue\n",
    "            if line[0] == '#':\n",
    "                if line[2:6] == \"rows\":\n",
    "                    _, _, size = line.split()\n",
    "                    size = int(size)\n",
    "                    matrix = np.zeros((size, size))\n",
    "            else:\n",
    "                row, col, val = line.split(' ')\n",
    "                matrix[int(row)-1, int(col)-1] = val\n",
    "            \n",
    "    return matrix"
   ]
  },
  {
   "cell_type": "code",
   "execution_count": 67,
   "id": "66dcf334",
   "metadata": {
    "scrolled": true
   },
   "outputs": [
    {
     "data": {
      "text/plain": [
       "array([[0.04      , 0.02333333, 0.00333333, 0.        , 0.02333333,\n",
       "        0.01361111, 0.00194444, 0.        , 0.00333333, 0.00194444,\n",
       "        0.00027778, 0.        , 0.        , 0.        , 0.        ,\n",
       "        0.        ],\n",
       "       [0.02333333, 0.06666667, 0.04      , 0.00333333, 0.01361111,\n",
       "        0.03888889, 0.02333333, 0.00194444, 0.00194444, 0.00555556,\n",
       "        0.00333333, 0.00027778, 0.        , 0.        , 0.        ,\n",
       "        0.        ],\n",
       "       [0.00333333, 0.04      , 0.06666667, 0.02333333, 0.00194444,\n",
       "        0.02333333, 0.03888889, 0.01361111, 0.00027778, 0.00333333,\n",
       "        0.00555556, 0.00194444, 0.        , 0.        , 0.        ,\n",
       "        0.        ],\n",
       "       [0.        , 0.00333333, 0.02333333, 0.04      , 0.        ,\n",
       "        0.00194444, 0.01361111, 0.02333333, 0.        , 0.00027778,\n",
       "        0.00194444, 0.00333333, 0.        , 0.        , 0.        ,\n",
       "        0.        ],\n",
       "       [0.02333333, 0.01361111, 0.00194444, 0.        , 0.06666667,\n",
       "        0.03888889, 0.00555556, 0.        , 0.04      , 0.02333333,\n",
       "        0.00333333, 0.        , 0.00333333, 0.00194444, 0.00027778,\n",
       "        0.        ],\n",
       "       [0.01361111, 0.03888889, 0.02333333, 0.00194444, 0.03888889,\n",
       "        0.11111111, 0.06666667, 0.00555556, 0.02333333, 0.06666667,\n",
       "        0.04      , 0.00333333, 0.00194444, 0.00555556, 0.00333333,\n",
       "        0.00027778],\n",
       "       [0.00194444, 0.02333333, 0.03888889, 0.01361111, 0.00555556,\n",
       "        0.06666667, 0.11111111, 0.03888889, 0.00333333, 0.04      ,\n",
       "        0.06666667, 0.02333333, 0.00027778, 0.00333333, 0.00555556,\n",
       "        0.00194444],\n",
       "       [0.        , 0.00194444, 0.01361111, 0.02333333, 0.        ,\n",
       "        0.00555556, 0.03888889, 0.06666667, 0.        , 0.00333333,\n",
       "        0.02333333, 0.04      , 0.        , 0.00027778, 0.00194444,\n",
       "        0.00333333],\n",
       "       [0.00333333, 0.00194444, 0.00027778, 0.        , 0.04      ,\n",
       "        0.02333333, 0.00333333, 0.        , 0.06666667, 0.03888889,\n",
       "        0.00555556, 0.        , 0.02333333, 0.01361111, 0.00194444,\n",
       "        0.        ],\n",
       "       [0.00194444, 0.00555556, 0.00333333, 0.00027778, 0.02333333,\n",
       "        0.06666667, 0.04      , 0.00333333, 0.03888889, 0.11111111,\n",
       "        0.06666667, 0.00555556, 0.01361111, 0.03888889, 0.02333333,\n",
       "        0.00194444],\n",
       "       [0.00027778, 0.00333333, 0.00555556, 0.00194444, 0.00333333,\n",
       "        0.04      , 0.06666667, 0.02333333, 0.00555556, 0.06666667,\n",
       "        0.11111111, 0.03888889, 0.00194444, 0.02333333, 0.03888889,\n",
       "        0.01361111],\n",
       "       [0.        , 0.00027778, 0.00194444, 0.00333333, 0.        ,\n",
       "        0.00333333, 0.02333333, 0.04      , 0.        , 0.00555556,\n",
       "        0.03888889, 0.06666667, 0.        , 0.00194444, 0.01361111,\n",
       "        0.02333333],\n",
       "       [0.        , 0.        , 0.        , 0.        , 0.00333333,\n",
       "        0.00194444, 0.00027778, 0.        , 0.02333333, 0.01361111,\n",
       "        0.00194444, 0.        , 0.04      , 0.02333333, 0.00333333,\n",
       "        0.        ],\n",
       "       [0.        , 0.        , 0.        , 0.        , 0.00194444,\n",
       "        0.00555556, 0.00333333, 0.00027778, 0.01361111, 0.03888889,\n",
       "        0.02333333, 0.00194444, 0.02333333, 0.06666667, 0.04      ,\n",
       "        0.00333333],\n",
       "       [0.        , 0.        , 0.        , 0.        , 0.00027778,\n",
       "        0.00333333, 0.00555556, 0.00194444, 0.00194444, 0.02333333,\n",
       "        0.03888889, 0.01361111, 0.00333333, 0.04      , 0.06666667,\n",
       "        0.02333333],\n",
       "       [0.        , 0.        , 0.        , 0.        , 0.        ,\n",
       "        0.00027778, 0.00194444, 0.00333333, 0.        , 0.00194444,\n",
       "        0.01361111, 0.02333333, 0.        , 0.00333333, 0.02333333,\n",
       "        0.04      ]])"
      ]
     },
     "execution_count": 67,
     "metadata": {},
     "output_type": "execute_result"
    }
   ],
   "source": [
    "matrix_small = read_matrix('matrices/riga_2.txt')\n",
    "matrix_small"
   ]
  },
  {
   "cell_type": "markdown",
   "id": "comparable-fundamental",
   "metadata": {},
   "source": [
    "* przygotowanie zestawu macierzy do testów:"
   ]
  },
  {
   "cell_type": "code",
   "execution_count": 68,
   "id": "prospective-check",
   "metadata": {},
   "outputs": [],
   "source": [
    "fem_matrices  = []\n",
    "riga_matrices = []\n",
    "\n",
    "for file in os.listdir('matrices'):\n",
    "    if file.startswith('riga'):\n",
    "        riga_matrices.append(read_matrix('matrices/' + file))\n",
    "    if file.startswith('fem'):\n",
    "        fem_matrices.append(read_matrix('matrices/' + file))"
   ]
  },
  {
   "cell_type": "markdown",
   "id": "rolled-position",
   "metadata": {},
   "source": [
    "## Faktoryzacja Cholesky'ego i dopełnienie Schura "
   ]
  },
  {
   "cell_type": "markdown",
   "id": "e293f388",
   "metadata": {},
   "source": [
    "wersja z wykładu:"
   ]
  },
  {
   "cell_type": "code",
   "execution_count": 69,
   "id": "50126b1e",
   "metadata": {},
   "outputs": [],
   "source": [
    "def schur_complement(matrix,  m=0):\n",
    "    A = matrix.copy()\n",
    "    n = A.shape[0]\n",
    "    \n",
    "    for k in range(n-m):\n",
    "        if abs(A[k, k]) < 1e-8:\n",
    "            raise ValueError('singular matrix')\n",
    "            \n",
    "        vk = A[k+1:n, k]\n",
    "        dkk = A[k, k]\n",
    "        A[k+1:n, k] /= dkk\n",
    "        \n",
    "        for j in range(k+1, n):\n",
    "            A[j:n, j] -= A[j:n, k]*vk[n-j-1]\n",
    "        \n",
    "    return A"
   ]
  },
  {
   "cell_type": "markdown",
   "id": "9ae9d0b4",
   "metadata": {},
   "source": [
    "wersja z internetu (działająca):"
   ]
  },
  {
   "cell_type": "code",
   "execution_count": 70,
   "id": "160f93cf",
   "metadata": {},
   "outputs": [],
   "source": [
    "def schur_complement2(matrix, m=0):\n",
    "    S = matrix.copy()\n",
    "    n = S.shape[0]\n",
    "    L = np.zeros((n, n))\n",
    "    \n",
    "    for j in range(n-m):\n",
    "        L[j, j] = S[j, j]**0.5\n",
    "        L[j+1:n, j] = S[j+1:n, j]/L[j,j]\n",
    "        \n",
    "        for i in range(j+1, n):\n",
    "            S[i, j+1:n] -= L[i, j]*L[j+1:n, j]\n",
    "    \n",
    "    return L"
   ]
  },
  {
   "cell_type": "code",
   "execution_count": 71,
   "id": "e84a10bb",
   "metadata": {},
   "outputs": [],
   "source": [
    "m = np.array([[1, 2, 3, 4], [2, 30, 6, 1], [3, 6, 50, 2], [4, 1, 2, 100]], dtype=float)"
   ]
  },
  {
   "cell_type": "code",
   "execution_count": 72,
   "id": "62cc09dd",
   "metadata": {},
   "outputs": [
    {
     "name": "stdout",
     "output_type": "stream",
     "text": [
      "[[ 1.          2.          3.          4.        ]\n",
      " [ 2.         22.          6.          1.        ]\n",
      " [ 3.         -0.27272727 40.81404959  2.        ]\n",
      " [ 4.         -0.68181818 -0.25640377 91.7483067 ]]\n",
      "[[ 1.          0.          0.          0.        ]\n",
      " [ 2.          5.09901951  0.          0.        ]\n",
      " [ 3.          0.          6.40312424  0.        ]\n",
      " [ 4.         -1.37281295 -1.56173762  8.92616156]]\n",
      "[[ 1.          0.          0.          0.        ]\n",
      " [ 2.          5.09901951  0.          0.        ]\n",
      " [ 3.          0.          6.40312424  0.        ]\n",
      " [ 4.         -1.37281295 -1.56173762  8.92616156]]\n"
     ]
    }
   ],
   "source": [
    "print(schur_complement(m, 0))\n",
    "print(schur_complement2(m, 0))\n",
    "print(np.linalg.cholesky(m))"
   ]
  },
  {
   "cell_type": "markdown",
   "id": "lightweight-memorial",
   "metadata": {},
   "source": [
    "W celu weryfikacji poprawności powyższej funkcji, porównujemy wynik z faktoryzacją otrzymaną przy użyciu funkcji biblioteki numpy: "
   ]
  },
  {
   "cell_type": "code",
   "execution_count": 73,
   "id": "perceived-might",
   "metadata": {},
   "outputs": [],
   "source": [
    "def cholesky_test(A):\n",
    "    return np.allclose(schur_complement2(A, 0), np.linalg.cholesky(A))"
   ]
  },
  {
   "cell_type": "code",
   "execution_count": 74,
   "id": "2f783be6",
   "metadata": {
    "scrolled": false
   },
   "outputs": [
    {
     "data": {
      "text/plain": [
       "True"
      ]
     },
     "execution_count": 74,
     "metadata": {},
     "output_type": "execute_result"
    }
   ],
   "source": [
    "cholesky_test(matrix_small)"
   ]
  },
  {
   "cell_type": "markdown",
   "id": "miniature-atlas",
   "metadata": {},
   "source": [
    "### Pomiar czasów"
   ]
  },
  {
   "cell_type": "markdown",
   "id": "814aa07f",
   "metadata": {},
   "source": [
    "\"(...) proszę narysować następujący wykres: <br>\n",
    "> oś pozioma: rozmiar macierzy n dla liczby przedziałów nxx=2,3,4,… (tak duże macierze ile się uda policzyć na laptopie), <br>\n",
    "oś pionowa: czas [s] (Octave tic; Schur Complement(...); toc)  \n",
    "\n",
    "Proszę narysować \n",
    "\n",
    "> a) wykres czasu obliczeń dopełnień Schura o rozmiarze n/2\n",
    " ** b) wykres czasu obliczeń dopełnień Schura o rozmiarze n/4\n",
    " ** c) … takie podziały jakie mają sens do rozmiaru 1\""
   ]
  },
  {
   "cell_type": "code",
   "execution_count": 105,
   "id": "8e13d761",
   "metadata": {},
   "outputs": [],
   "source": [
    "def compare_times(matrices):\n",
    "    times = {}\n",
    "    \n",
    "    for matrix in matrices:\n",
    "        n = matrix.shape[0]\n",
    "        times[n] = {}\n",
    "        \n",
    "        start = time()\n",
    "        schur_complement2(matrix, n//2)\n",
    "        times[n]['n/2'] = time() - start\n",
    "        \n",
    "        start = time()\n",
    "        schur_complement2(matrix, n//4)\n",
    "        times[n]['n/4'] = time() - start\n",
    "        \n",
    "        start = time()\n",
    "        schur_complement2(matrix, 1)\n",
    "        times[n]['1'] = time() - start\n",
    "        \n",
    "    df = pd.DataFrame(times).T.sort_index()\n",
    "    df.plot(\n",
    "        figsize=(13, 10),\n",
    "        xlabel='matrix size (n x n)',\n",
    "        ylabel='time [s]',\n",
    "        colormap='Accent',\n",
    "        linewidth=3,\n",
    "        markersize=10,\n",
    "        marker='o'\n",
    "    )\n",
    "        \n",
    "    \n",
    "    return df"
   ]
  },
  {
   "cell_type": "markdown",
   "id": "55a26cce",
   "metadata": {},
   "source": [
    "* dla macierzy IGA riga=0, pxx=2, rxx=0"
   ]
  },
  {
   "cell_type": "code",
   "execution_count": 106,
   "id": "d4bf5bee",
   "metadata": {},
   "outputs": [
    {
     "data": {
      "text/html": [
       "<div>\n",
       "<style scoped>\n",
       "    .dataframe tbody tr th:only-of-type {\n",
       "        vertical-align: middle;\n",
       "    }\n",
       "\n",
       "    .dataframe tbody tr th {\n",
       "        vertical-align: top;\n",
       "    }\n",
       "\n",
       "    .dataframe thead th {\n",
       "        text-align: right;\n",
       "    }\n",
       "</style>\n",
       "<table border=\"1\" class=\"dataframe\">\n",
       "  <thead>\n",
       "    <tr style=\"text-align: right;\">\n",
       "      <th></th>\n",
       "      <th>n/2</th>\n",
       "      <th>n/4</th>\n",
       "      <th>1</th>\n",
       "    </tr>\n",
       "  </thead>\n",
       "  <tbody>\n",
       "    <tr>\n",
       "      <th>16</th>\n",
       "      <td>0.000257</td>\n",
       "      <td>0.000315</td>\n",
       "      <td>0.000337</td>\n",
       "    </tr>\n",
       "    <tr>\n",
       "      <th>25</th>\n",
       "      <td>0.000665</td>\n",
       "      <td>0.001116</td>\n",
       "      <td>0.000891</td>\n",
       "    </tr>\n",
       "    <tr>\n",
       "      <th>36</th>\n",
       "      <td>0.001240</td>\n",
       "      <td>0.001543</td>\n",
       "      <td>0.001655</td>\n",
       "    </tr>\n",
       "    <tr>\n",
       "      <th>49</th>\n",
       "      <td>0.007400</td>\n",
       "      <td>0.003231</td>\n",
       "      <td>0.003354</td>\n",
       "    </tr>\n",
       "    <tr>\n",
       "      <th>64</th>\n",
       "      <td>0.003900</td>\n",
       "      <td>0.004856</td>\n",
       "      <td>0.005193</td>\n",
       "    </tr>\n",
       "    <tr>\n",
       "      <th>81</th>\n",
       "      <td>0.006325</td>\n",
       "      <td>0.007893</td>\n",
       "      <td>0.008354</td>\n",
       "    </tr>\n",
       "    <tr>\n",
       "      <th>100</th>\n",
       "      <td>0.009538</td>\n",
       "      <td>0.011896</td>\n",
       "      <td>0.012731</td>\n",
       "    </tr>\n",
       "    <tr>\n",
       "      <th>121</th>\n",
       "      <td>0.014170</td>\n",
       "      <td>0.017521</td>\n",
       "      <td>0.018717</td>\n",
       "    </tr>\n",
       "    <tr>\n",
       "      <th>144</th>\n",
       "      <td>0.020686</td>\n",
       "      <td>0.025670</td>\n",
       "      <td>0.026848</td>\n",
       "    </tr>\n",
       "  </tbody>\n",
       "</table>\n",
       "</div>"
      ],
      "text/plain": [
       "          n/2       n/4         1\n",
       "16   0.000257  0.000315  0.000337\n",
       "25   0.000665  0.001116  0.000891\n",
       "36   0.001240  0.001543  0.001655\n",
       "49   0.007400  0.003231  0.003354\n",
       "64   0.003900  0.004856  0.005193\n",
       "81   0.006325  0.007893  0.008354\n",
       "100  0.009538  0.011896  0.012731\n",
       "121  0.014170  0.017521  0.018717\n",
       "144  0.020686  0.025670  0.026848"
      ]
     },
     "execution_count": 106,
     "metadata": {},
     "output_type": "execute_result"
    },
    {
     "data": {
      "image/png": "[encoded data removed]",
      "text/plain": [
       "<Figure size 936x720 with 1 Axes>"
      ]
     },
     "metadata": {
      "needs_background": "light"
     },
     "output_type": "display_data"
    }
   ],
   "source": [
    "compare_times(riga_matrices)"
   ]
  },
  {
   "cell_type": "markdown",
   "id": "6ca35e52",
   "metadata": {},
   "source": [
    "* dla macierzy FEM riga=1, pxx=2, rxx=0"
   ]
  },
  {
   "cell_type": "code",
   "execution_count": 100,
   "id": "10a4cc99",
   "metadata": {},
   "outputs": [
    {
     "data": {
      "text/html": [
       "<div>\n",
       "<style scoped>\n",
       "    .dataframe tbody tr th:only-of-type {\n",
       "        vertical-align: middle;\n",
       "    }\n",
       "\n",
       "    .dataframe tbody tr th {\n",
       "        vertical-align: top;\n",
       "    }\n",
       "\n",
       "    .dataframe thead th {\n",
       "        text-align: right;\n",
       "    }\n",
       "</style>\n",
       "<table border=\"1\" class=\"dataframe\">\n",
       "  <thead>\n",
       "    <tr style=\"text-align: right;\">\n",
       "      <th></th>\n",
       "      <th>n/2</th>\n",
       "      <th>n/4</th>\n",
       "      <th>1</th>\n",
       "    </tr>\n",
       "  </thead>\n",
       "  <tbody>\n",
       "    <tr>\n",
       "      <th>25</th>\n",
       "      <td>0.000660</td>\n",
       "      <td>0.000762</td>\n",
       "      <td>0.000824</td>\n",
       "    </tr>\n",
       "    <tr>\n",
       "      <th>49</th>\n",
       "      <td>0.002381</td>\n",
       "      <td>0.003062</td>\n",
       "      <td>0.003158</td>\n",
       "    </tr>\n",
       "    <tr>\n",
       "      <th>81</th>\n",
       "      <td>0.006525</td>\n",
       "      <td>0.008116</td>\n",
       "      <td>0.008675</td>\n",
       "    </tr>\n",
       "    <tr>\n",
       "      <th>121</th>\n",
       "      <td>0.021455</td>\n",
       "      <td>0.017907</td>\n",
       "      <td>0.018850</td>\n",
       "    </tr>\n",
       "    <tr>\n",
       "      <th>169</th>\n",
       "      <td>0.029144</td>\n",
       "      <td>0.036013</td>\n",
       "      <td>0.038102</td>\n",
       "    </tr>\n",
       "    <tr>\n",
       "      <th>225</th>\n",
       "      <td>0.053505</td>\n",
       "      <td>0.066641</td>\n",
       "      <td>0.071079</td>\n",
       "    </tr>\n",
       "    <tr>\n",
       "      <th>289</th>\n",
       "      <td>0.091515</td>\n",
       "      <td>0.109861</td>\n",
       "      <td>0.116051</td>\n",
       "    </tr>\n",
       "    <tr>\n",
       "      <th>361</th>\n",
       "      <td>0.148018</td>\n",
       "      <td>0.180698</td>\n",
       "      <td>0.187855</td>\n",
       "    </tr>\n",
       "    <tr>\n",
       "      <th>441</th>\n",
       "      <td>0.223774</td>\n",
       "      <td>0.265795</td>\n",
       "      <td>0.282932</td>\n",
       "    </tr>\n",
       "    <tr>\n",
       "      <th>529</th>\n",
       "      <td>0.332270</td>\n",
       "      <td>0.403883</td>\n",
       "      <td>0.443837</td>\n",
       "    </tr>\n",
       "    <tr>\n",
       "      <th>625</th>\n",
       "      <td>0.499932</td>\n",
       "      <td>0.589964</td>\n",
       "      <td>0.615994</td>\n",
       "    </tr>\n",
       "    <tr>\n",
       "      <th>729</th>\n",
       "      <td>0.696719</td>\n",
       "      <td>0.847009</td>\n",
       "      <td>0.914666</td>\n",
       "    </tr>\n",
       "  </tbody>\n",
       "</table>\n",
       "</div>"
      ],
      "text/plain": [
       "          n/2       n/4         1\n",
       "25   0.000660  0.000762  0.000824\n",
       "49   0.002381  0.003062  0.003158\n",
       "81   0.006525  0.008116  0.008675\n",
       "121  0.021455  0.017907  0.018850\n",
       "169  0.029144  0.036013  0.038102\n",
       "225  0.053505  0.066641  0.071079\n",
       "289  0.091515  0.109861  0.116051\n",
       "361  0.148018  0.180698  0.187855\n",
       "441  0.223774  0.265795  0.282932\n",
       "529  0.332270  0.403883  0.443837\n",
       "625  0.499932  0.589964  0.615994\n",
       "729  0.696719  0.847009  0.914666"
      ]
     },
     "execution_count": 100,
     "metadata": {},
     "output_type": "execute_result"
    },
    {
     "data": {
      "image/png": "[encoded data removed]",
      "text/plain": [
       "<Figure size 720x720 with 1 Axes>"
      ]
     },
     "metadata": {
      "needs_background": "light"
     },
     "output_type": "display_data"
    }
   ],
   "source": [
    "compare_times(fem_matrices)"
   ]
  },
  {
   "cell_type": "markdown",
   "id": "animal-honduras",
   "metadata": {},
   "source": [
    "## Koszt obliczeniowy i pamięciowy"
   ]
  },
  {
   "cell_type": "markdown",
   "id": "global-texas",
   "metadata": {},
   "source": [
    "\"3. Jaki jest koszt obliczeniowy i pamięciowy (flopsy i memopsy) zaimplementowanego\n",
    "algorytmu?\""
   ]
  },
  {
   "cell_type": "markdown",
   "id": "36569df5",
   "metadata": {},
   "source": []
  },
  {
   "cell_type": "markdown",
   "id": "competent-naples",
   "metadata": {},
   "source": [
    "## Wnioski"
   ]
  },
  {
   "cell_type": "markdown",
   "id": "alike-premiere",
   "metadata": {},
   "source": [
    "* \n",
    "* "
   ]
  },
  {
   "cell_type": "markdown",
   "id": "cc7869ea",
   "metadata": {},
   "source": [
    "M. Hawryluk, N. Wolniak. 2021"
   ]
  }
 ],
 "metadata": {
  "interpreter": {
   "hash": "f9f85f796d01129d0dd105a088854619f454435301f6ffec2fea96ecbd9be4ac"
  },
  "kernelspec": {
   "display_name": "Python 3",
   "language": "python",
   "name": "python3"
  },
  "language_info": {
   "codemirror_mode": {
    "name": "ipython",
    "version": 3
   },
   "file_extension": ".py",
   "mimetype": "text/x-python",
   "name": "python",
   "nbconvert_exporter": "python",
   "pygments_lexer": "ipython3",
   "version": "3.8.10"
  }
 },
 "nbformat": 4,
 "nbformat_minor": 5
}
