{
 "cells": [
  {
   "cell_type": "markdown",
   "id": "faff8fe0",
   "metadata": {},
   "source": [
    "# Algorytmy macierzowe - zadanie nr 2 - Eliminacja Gaussa i LU Faktoryzacja dla macierzy gęstych"
   ]
  },
  {
   "cell_type": "markdown",
   "id": "hourly-database",
   "metadata": {},
   "source": [
    "\"Proszę wybrać język programowania wedle uznania.\n",
    "Proszę napisać procedurę [S]=Schur_Complement(A,n,m)\n",
    "gdzie A to macierz wejściowa, n to rozmiar tej macierzy A,\n",
    "m to rozmiar podmacierzy (tzw. dopełnienia Schura),\n",
    "powstałej poprzez wyeliminowanie n-m wierszy i kolumn\n",
    "z macierzy A, wykorzystując [zatrzymując po n-m krokach]:\n",
    " \n",
    "6. Faktoryzacja Cholesky’ego “wektorową” (slajd 28) \n",
    "\""
   ]
  },
  {
   "cell_type": "markdown",
   "id": "6ae11b4b",
   "metadata": {},
   "source": [
    "Marcin Hawryluk, Norbert Wolniak <br>grupa: piątek 12:50B <hr>"
   ]
  },
  {
   "cell_type": "code",
   "execution_count": 1,
   "id": "refined-croatia",
   "metadata": {},
   "outputs": [],
   "source": [
    "import numpy as np\n",
    "from time import time\n",
    "import matplotlib.pyplot as plt\n",
    "import pandas as pd\n",
    "import os"
   ]
  },
  {
   "cell_type": "markdown",
   "id": "intended-chapel",
   "metadata": {},
   "source": [
    "Do implementacji wybraliśmy język Python 3 wraz z biblioteką do obliczeń numerycznych numpy, która pozwala operować na macierzach zaimplementowanych bezpośrednio w języku C."
   ]
  },
  {
   "cell_type": "markdown",
   "id": "swiss-order",
   "metadata": {},
   "source": [
    "## Generowanie macierzy"
   ]
  },
  {
   "cell_type": "markdown",
   "id": "seventh-individual",
   "metadata": {},
   "source": [
    "Macierze, których będziemy używać, wygenerowaliśmy za pomocą dostarczonej procedury massmatrix, napisanej w środowisku Octave. Macierze zapisaliśmy w postaci pliku tekstowego, a następnie odczytaliśmy w Pythonie za pomocą poniższej funkcji."
   ]
  },
  {
   "cell_type": "code",
   "execution_count": 2,
   "id": "portable-remove",
   "metadata": {},
   "outputs": [],
   "source": [
    "def read_matrix(file_name):\n",
    "    with open(file_name, 'r') as file:\n",
    "        for line in file:\n",
    "            if line.strip() == '':\n",
    "                continue\n",
    "            if line[0] == '#':\n",
    "                if line[2:6] == \"rows\":\n",
    "                    _, _, size = line.split()\n",
    "                    size = int(size)\n",
    "                    matrix = np.zeros((size, size))\n",
    "            else:\n",
    "                row, col, val = line.split(' ')\n",
    "                matrix[int(row)-1, int(col)-1] = val\n",
    "            \n",
    "    return matrix"
   ]
  },
  {
   "cell_type": "code",
   "execution_count": 3,
   "id": "66dcf334",
   "metadata": {
    "scrolled": true
   },
   "outputs": [],
   "source": [
    "matrix_small = read_matrix('matrices/riga_2.txt')"
   ]
  },
  {
   "cell_type": "markdown",
   "id": "comparable-fundamental",
   "metadata": {},
   "source": [
    "* przygotowanie zestawu macierzy do testów:"
   ]
  },
  {
   "cell_type": "code",
   "execution_count": 4,
   "id": "prospective-check",
   "metadata": {},
   "outputs": [],
   "source": [
    "fem_matrices  = []\n",
    "riga_matrices = []\n",
    "\n",
    "for file in os.listdir('matrices'):\n",
    "    if file.startswith('riga'):\n",
    "        riga_matrices.append(read_matrix('matrices/' + file))\n",
    "    if file.startswith('fem'):\n",
    "        fem_matrices.append(read_matrix('matrices/' + file))"
   ]
  },
  {
   "cell_type": "markdown",
   "id": "rolled-position",
   "metadata": {},
   "source": [
    "## Faktoryzacja Cholesky'ego"
   ]
  },
  {
   "cell_type": "markdown",
   "id": "spectacular-calendar",
   "metadata": {},
   "source": [
    "Faktoryzacja Cholesky'ego jest procedurą rozkładu macierzy na czynniki L i L.T (transpozycję L) lub w innym wariancie na macierze L, D, L.T, gdzie macierz L to macierz trójkątna dolna, a D macierz przekątniowa; iloczyn tychże dwóch/trzech macierzy dawać ma wyjściową macierz. Faktoryzacja ta jest możliwa jedynie dla macierzy symetrycznych, dodatnio określonych."
   ]
  },
  {
   "cell_type": "markdown",
   "id": "patient-mozambique",
   "metadata": {},
   "source": [
    "* $A = LDL^T$"
   ]
  },
  {
   "cell_type": "code",
   "execution_count": 5,
   "id": "hollow-skating",
   "metadata": {},
   "outputs": [],
   "source": [
    "def cholesky_LDLT(matrix):\n",
    "    A = matrix.copy()\n",
    "    n = A.shape[0]\n",
    "    \n",
    "    for k in range(n):\n",
    "        dkk = A[k, k]\n",
    "        if abs(dkk) < 1e-8:\n",
    "            raise ValueError('singular matrix')\n",
    "\n",
    "        vk = A[k+1:n, k].copy()\n",
    "        A[k+1:n, k] /= dkk\n",
    "      \n",
    "        for j in range(k + 1, n):\n",
    "            A[j:n, j] -= A[j:n, k] * vk[j-k-1]\n",
    "            \n",
    "    D = np.diag(A)*np.eye(n)\n",
    "    \n",
    "    return np.tril(A) - D + np.eye(n), D "
   ]
  },
  {
   "cell_type": "markdown",
   "id": "considered-suggestion",
   "metadata": {},
   "source": [
    "* $A = L L^T$"
   ]
  },
  {
   "cell_type": "code",
   "execution_count": 6,
   "id": "cultural-conditioning",
   "metadata": {},
   "outputs": [],
   "source": [
    "def cholesky_LLT(matrix):\n",
    "    A = matrix.copy()\n",
    "    n = A.shape[0]\n",
    "    \n",
    "    for k in range(n):\n",
    "        if abs(A[k, k]) < 1e-8:\n",
    "            raise ValueError('singular matrix')\n",
    "            \n",
    "        vk = A[k+1:n, k]\n",
    "        A[k, k] **= 0.5\n",
    "        dkk = A[k, k]\n",
    "        A[k+1:n, k] /= dkk\n",
    "        \n",
    "        for j in range(k+1, n):\n",
    "            A[j:n, j] -= A[j:n, k]*vk[j-k-1]\n",
    "        \n",
    "    return np.tril(A)"
   ]
  },
  {
   "cell_type": "markdown",
   "id": "understanding-slovenia",
   "metadata": {},
   "source": [
    "* testy poprawności:"
   ]
  },
  {
   "cell_type": "code",
   "execution_count": 7,
   "id": "twelve-galaxy",
   "metadata": {},
   "outputs": [
    {
     "data": {
      "text/plain": [
       "array([[ 4.,  4.,  6.],\n",
       "       [ 4., 13., 15.],\n",
       "       [ 6., 15., 43.]])"
      ]
     },
     "execution_count": 7,
     "metadata": {},
     "output_type": "execute_result"
    }
   ],
   "source": [
    "matrix = np.array([[4, 4, 6], [4, 13, 15], [6, 15, 43]], dtype=float)\n",
    "matrix"
   ]
  },
  {
   "cell_type": "code",
   "execution_count": 8,
   "id": "hidden-howard",
   "metadata": {},
   "outputs": [
    {
     "name": "stdout",
     "output_type": "stream",
     "text": [
      "---L L.T---\n",
      "L:\n",
      " [[2. 0. 0.]\n",
      " [2. 3. 0.]\n",
      " [3. 3. 5.]]\n",
      "\n",
      "L.T:\n",
      " [[2. 2. 3.]\n",
      " [0. 3. 3.]\n",
      " [0. 0. 5.]]\n",
      "\n",
      "L*L.T:\n",
      " [[ 4.  4.  6.]\n",
      " [ 4. 13. 15.]\n",
      " [ 6. 15. 43.]]\n",
      "\n",
      "numpy L:\n",
      "\n",
      " [[2. 0. 0.]\n",
      " [2. 3. 0.]\n",
      " [3. 3. 5.]] \n",
      "\n",
      "Correct!\n"
     ]
    }
   ],
   "source": [
    "L = cholesky_LLT(matrix)\n",
    "\n",
    "print(\"---L L.T---\")\n",
    "\n",
    "print(\"L:\\n\", L)\n",
    "print(\"\\nL.T:\\n\", L.T)\n",
    "print(\"\\nL*L.T:\\n\", L @ L.T)\n",
    "\n",
    "print(\"\\nnumpy L:\\n\")\n",
    "print(\"\", np.linalg.cholesky(matrix), \"\\n\")\n",
    "\n",
    "print(\"Correct!\" if np.allclose(L @ L.T, matrix) else \"wrong\")"
   ]
  },
  {
   "cell_type": "code",
   "execution_count": 9,
   "id": "final-georgia",
   "metadata": {},
   "outputs": [
    {
     "name": "stdout",
     "output_type": "stream",
     "text": [
      "---L D L.T---\n",
      "L:\n",
      " [[1.  0.  0. ]\n",
      " [1.  1.  0. ]\n",
      " [1.5 1.  1. ]]\n",
      "\n",
      "D:\n",
      " [[ 4.  0.  0.]\n",
      " [ 0.  9.  0.]\n",
      " [ 0.  0. 25.]]\n",
      "\n",
      "L.T:\n",
      " [[1.  1.  1.5]\n",
      " [0.  1.  1. ]\n",
      " [0.  0.  1. ]]\n",
      "\n",
      "L*D*L.T:\n",
      " [[ 4.  4.  6.]\n",
      " [ 4. 13. 15.]\n",
      " [ 6. 15. 43.]]\n",
      "\n",
      "Correct!\n"
     ]
    }
   ],
   "source": [
    "L, D = cholesky_LDLT(matrix)\n",
    "\n",
    "print(\"---L D L.T---\")\n",
    "\n",
    "print(\"L:\\n\", L)\n",
    "print(\"\\nD:\\n\", D)\n",
    "print(\"\\nL.T:\\n\", L.T)\n",
    "print(\"\\nL*D*L.T:\\n\", L @ D @ L.T)\n",
    "print()\n",
    "print(\"Correct!\" if np.allclose(L @ D @ L.T, matrix) else \"wrong\")"
   ]
  },
  {
   "cell_type": "markdown",
   "id": "generic-search",
   "metadata": {},
   "source": [
    "Obydwie wersje znajdują poprawne faktoryzacje zadanej macierzy."
   ]
  },
  {
   "cell_type": "markdown",
   "id": "accredited-shock",
   "metadata": {},
   "source": [
    "## Dopełnienie Schura"
   ]
  },
  {
   "cell_type": "markdown",
   "id": "ready-suffering",
   "metadata": {},
   "source": [
    "Do znalezienia uzupełnienia Schura o danym rozmiarze m, wykorzystamy procedurę eliminacji w ramach faktoryzacji Cholesky'ego, zatrzymaną po n-m krokach, zwracając jeszcze nie w pełni przetworzoną podmacierz m x m."
   ]
  },
  {
   "cell_type": "markdown",
   "id": "hungry-meaning",
   "metadata": {},
   "source": [
    "* $A = LDL^T$"
   ]
  },
  {
   "cell_type": "code",
   "execution_count": 10,
   "id": "10c16357",
   "metadata": {},
   "outputs": [],
   "source": [
    "def schur_LDLT(matrix, m=1):\n",
    "    A = matrix.copy()\n",
    "    n = A.shape[0]\n",
    "    \n",
    "    for k in range(n-m):\n",
    "        dkk = A[k, k]\n",
    "        if abs(dkk) < 1e-8:\n",
    "            raise ValueError('singular matrix')\n",
    "\n",
    "        vk = A[k+1:n, k].copy()\n",
    "        A[k+1:n, k] /= dkk\n",
    "      \n",
    "        for j in range(k+1, n):\n",
    "            A[j:n, j] -= A[j:n, k] * vk[j-k-1]\n",
    "    \n",
    "    return A[max(0,n-m):n, max(0,n-m):n]"
   ]
  },
  {
   "cell_type": "markdown",
   "id": "e293f388",
   "metadata": {},
   "source": [
    "* $A = L L^T$"
   ]
  },
  {
   "cell_type": "code",
   "execution_count": 11,
   "id": "50126b1e",
   "metadata": {},
   "outputs": [],
   "source": [
    "def schur_LLT(matrix, m=1):\n",
    "    A = matrix.copy()\n",
    "    n = A.shape[0]\n",
    "    \n",
    "    for k in range(n-m):\n",
    "        if abs(A[k, k]) < 1e-8:\n",
    "            raise ValueError('singular matrix')\n",
    "            \n",
    "        vk = A[k+1:n, k]\n",
    "        A[k, k] **= 0.5\n",
    "        dkk = A[k, k]\n",
    "        A[k+1:n, k] /= dkk\n",
    "        \n",
    "        for j in range(k+1, n):\n",
    "            A[j:n, j] -= A[j:n, k]*vk[j-k-1]\n",
    "        \n",
    "    return A[max(0,n-m):n, max(0,n-m):n]"
   ]
  },
  {
   "cell_type": "code",
   "execution_count": 12,
   "id": "major-prevention",
   "metadata": {},
   "outputs": [
    {
     "name": "stdout",
     "output_type": "stream",
     "text": [
      "[[ 9. 15.]\n",
      " [ 9. 34.]]\n",
      "[[ 9. 15.]\n",
      " [ 9. 34.]]\n"
     ]
    }
   ],
   "source": [
    "print(schur_LDLT(matrix, 2))\n",
    "print(schur_LLT(matrix, 2))"
   ]
  },
  {
   "cell_type": "markdown",
   "id": "miniature-atlas",
   "metadata": {},
   "source": [
    "### Pomiar czasów"
   ]
  },
  {
   "cell_type": "markdown",
   "id": "814aa07f",
   "metadata": {},
   "source": [
    "\"(...) proszę narysować następujący wykres: <br>\n",
    "> - oś pozioma: rozmiar macierzy n dla liczby przedziałów nxx=2,3,4,… (tak duże macierze ile się uda policzyć na laptopie), \n",
    "> - oś pionowa: czas [s] (Octave tic; Schur Complement(...); toc)  \n",
    "\n",
    "Proszę narysować \n",
    "\n",
    "> a) wykres czasu obliczeń dopełnień Schura o rozmiarze n/2\n",
    "  <br>b) wykres czasu obliczeń dopełnień Schura o rozmiarze n/4\n",
    "  <br>c) … takie podziały jakie mają sens do rozmiaru 1\""
   ]
  },
  {
   "cell_type": "code",
   "execution_count": 13,
   "id": "8e13d761",
   "metadata": {},
   "outputs": [],
   "source": [
    "def compare_times(matrices):\n",
    "    times = {}\n",
    "    \n",
    "    for matrix in matrices:\n",
    "        n = matrix.shape[0]\n",
    "        times[n] = {}\n",
    "        \n",
    "        start = time()\n",
    "        schur_LDLT(matrix, n//2)\n",
    "        times[n]['n/2'] = time() - start\n",
    "        \n",
    "        start = time()\n",
    "        schur_LDLT(matrix, n//4)\n",
    "        times[n]['n/4'] = time() - start\n",
    "        \n",
    "        start = time()\n",
    "        schur_LDLT(matrix, n//8)\n",
    "        times[n]['n/8'] = time() - start\n",
    "        \n",
    "        start = time()\n",
    "        schur_LDLT(matrix, 1)\n",
    "        times[n]['1'] = time() - start\n",
    "        \n",
    "    df = pd.DataFrame(times).T.sort_index()\n",
    "    df.plot(\n",
    "        figsize=(13, 10),\n",
    "        xlabel='matrix size (n x n)',\n",
    "        ylabel='time [s]',\n",
    "        colormap='Accent',\n",
    "        linewidth=3,\n",
    "        markersize=10,\n",
    "        marker='o'\n",
    "    )\n",
    "          \n",
    "    return df"
   ]
  },
  {
   "cell_type": "markdown",
   "id": "55a26cce",
   "metadata": {},
   "source": [
    "* dla macierzy IGA riga=0, pxx=2, rxx=0"
   ]
  },
  {
   "cell_type": "code",
   "execution_count": 14,
   "id": "d4bf5bee",
   "metadata": {
    "scrolled": false
   },
   "outputs": [
    {
     "data": {
      "text/html": [
       "<div>\n",
       "<style scoped>\n",
       "    .dataframe tbody tr th:only-of-type {\n",
       "        vertical-align: middle;\n",
       "    }\n",
       "\n",
       "    .dataframe tbody tr th {\n",
       "        vertical-align: top;\n",
       "    }\n",
       "\n",
       "    .dataframe thead th {\n",
       "        text-align: right;\n",
       "    }\n",
       "</style>\n",
       "<table border=\"1\" class=\"dataframe\">\n",
       "  <thead>\n",
       "    <tr style=\"text-align: right;\">\n",
       "      <th></th>\n",
       "      <th>n/2</th>\n",
       "      <th>n/4</th>\n",
       "      <th>n/8</th>\n",
       "      <th>1</th>\n",
       "    </tr>\n",
       "  </thead>\n",
       "  <tbody>\n",
       "    <tr>\n",
       "      <th>16</th>\n",
       "      <td>0.000525</td>\n",
       "      <td>0.000626</td>\n",
       "      <td>0.000508</td>\n",
       "      <td>0.000513</td>\n",
       "    </tr>\n",
       "    <tr>\n",
       "      <th>25</th>\n",
       "      <td>0.000913</td>\n",
       "      <td>0.001123</td>\n",
       "      <td>0.001176</td>\n",
       "      <td>0.001241</td>\n",
       "    </tr>\n",
       "    <tr>\n",
       "      <th>36</th>\n",
       "      <td>0.002174</td>\n",
       "      <td>0.002734</td>\n",
       "      <td>0.002908</td>\n",
       "      <td>0.002955</td>\n",
       "    </tr>\n",
       "    <tr>\n",
       "      <th>49</th>\n",
       "      <td>0.003447</td>\n",
       "      <td>0.004265</td>\n",
       "      <td>0.004387</td>\n",
       "      <td>0.004534</td>\n",
       "    </tr>\n",
       "    <tr>\n",
       "      <th>64</th>\n",
       "      <td>0.005663</td>\n",
       "      <td>0.007140</td>\n",
       "      <td>0.007635</td>\n",
       "      <td>0.008114</td>\n",
       "    </tr>\n",
       "    <tr>\n",
       "      <th>81</th>\n",
       "      <td>0.009209</td>\n",
       "      <td>0.011464</td>\n",
       "      <td>0.012029</td>\n",
       "      <td>0.012302</td>\n",
       "    </tr>\n",
       "    <tr>\n",
       "      <th>100</th>\n",
       "      <td>0.033448</td>\n",
       "      <td>0.023649</td>\n",
       "      <td>0.022369</td>\n",
       "      <td>0.021951</td>\n",
       "    </tr>\n",
       "    <tr>\n",
       "      <th>121</th>\n",
       "      <td>0.023523</td>\n",
       "      <td>0.028496</td>\n",
       "      <td>0.030623</td>\n",
       "      <td>0.031748</td>\n",
       "    </tr>\n",
       "    <tr>\n",
       "      <th>144</th>\n",
       "      <td>0.029737</td>\n",
       "      <td>0.037118</td>\n",
       "      <td>0.038261</td>\n",
       "      <td>0.038929</td>\n",
       "    </tr>\n",
       "    <tr>\n",
       "      <th>169</th>\n",
       "      <td>0.041957</td>\n",
       "      <td>0.055481</td>\n",
       "      <td>0.058461</td>\n",
       "      <td>0.055084</td>\n",
       "    </tr>\n",
       "    <tr>\n",
       "      <th>196</th>\n",
       "      <td>0.056350</td>\n",
       "      <td>0.070889</td>\n",
       "      <td>0.072615</td>\n",
       "      <td>0.073646</td>\n",
       "    </tr>\n",
       "    <tr>\n",
       "      <th>225</th>\n",
       "      <td>0.074214</td>\n",
       "      <td>0.091380</td>\n",
       "      <td>0.096028</td>\n",
       "      <td>0.097781</td>\n",
       "    </tr>\n",
       "    <tr>\n",
       "      <th>256</th>\n",
       "      <td>0.106496</td>\n",
       "      <td>0.129554</td>\n",
       "      <td>0.134220</td>\n",
       "      <td>0.145252</td>\n",
       "    </tr>\n",
       "    <tr>\n",
       "      <th>289</th>\n",
       "      <td>0.128119</td>\n",
       "      <td>0.159502</td>\n",
       "      <td>0.163325</td>\n",
       "      <td>0.164364</td>\n",
       "    </tr>\n",
       "    <tr>\n",
       "      <th>324</th>\n",
       "      <td>0.159897</td>\n",
       "      <td>0.208101</td>\n",
       "      <td>0.210144</td>\n",
       "      <td>0.207447</td>\n",
       "    </tr>\n",
       "    <tr>\n",
       "      <th>361</th>\n",
       "      <td>0.201414</td>\n",
       "      <td>0.250979</td>\n",
       "      <td>0.261877</td>\n",
       "      <td>0.261328</td>\n",
       "    </tr>\n",
       "    <tr>\n",
       "      <th>400</th>\n",
       "      <td>0.257296</td>\n",
       "      <td>0.306202</td>\n",
       "      <td>0.321662</td>\n",
       "      <td>0.323191</td>\n",
       "    </tr>\n",
       "    <tr>\n",
       "      <th>441</th>\n",
       "      <td>0.314172</td>\n",
       "      <td>0.376534</td>\n",
       "      <td>0.396670</td>\n",
       "      <td>0.413889</td>\n",
       "    </tr>\n",
       "    <tr>\n",
       "      <th>484</th>\n",
       "      <td>0.378597</td>\n",
       "      <td>0.482837</td>\n",
       "      <td>0.480679</td>\n",
       "      <td>0.489903</td>\n",
       "    </tr>\n",
       "    <tr>\n",
       "      <th>529</th>\n",
       "      <td>0.463105</td>\n",
       "      <td>0.563175</td>\n",
       "      <td>0.594860</td>\n",
       "      <td>0.595943</td>\n",
       "    </tr>\n",
       "    <tr>\n",
       "      <th>576</th>\n",
       "      <td>0.588040</td>\n",
       "      <td>0.718833</td>\n",
       "      <td>0.744223</td>\n",
       "      <td>0.775034</td>\n",
       "    </tr>\n",
       "    <tr>\n",
       "      <th>625</th>\n",
       "      <td>0.658161</td>\n",
       "      <td>0.801551</td>\n",
       "      <td>0.878330</td>\n",
       "      <td>0.851100</td>\n",
       "    </tr>\n",
       "    <tr>\n",
       "      <th>676</th>\n",
       "      <td>0.784124</td>\n",
       "      <td>0.973532</td>\n",
       "      <td>0.994261</td>\n",
       "      <td>1.006731</td>\n",
       "    </tr>\n",
       "    <tr>\n",
       "      <th>729</th>\n",
       "      <td>0.932692</td>\n",
       "      <td>1.393625</td>\n",
       "      <td>1.338786</td>\n",
       "      <td>1.235057</td>\n",
       "    </tr>\n",
       "    <tr>\n",
       "      <th>784</th>\n",
       "      <td>1.116747</td>\n",
       "      <td>1.358039</td>\n",
       "      <td>1.426206</td>\n",
       "      <td>1.443936</td>\n",
       "    </tr>\n",
       "    <tr>\n",
       "      <th>841</th>\n",
       "      <td>1.312185</td>\n",
       "      <td>1.572479</td>\n",
       "      <td>1.642221</td>\n",
       "      <td>1.650312</td>\n",
       "    </tr>\n",
       "    <tr>\n",
       "      <th>900</th>\n",
       "      <td>1.523418</td>\n",
       "      <td>1.842370</td>\n",
       "      <td>1.927590</td>\n",
       "      <td>1.950084</td>\n",
       "    </tr>\n",
       "    <tr>\n",
       "      <th>961</th>\n",
       "      <td>1.796932</td>\n",
       "      <td>2.178906</td>\n",
       "      <td>2.257127</td>\n",
       "      <td>2.316508</td>\n",
       "    </tr>\n",
       "    <tr>\n",
       "      <th>1024</th>\n",
       "      <td>3.391579</td>\n",
       "      <td>3.601968</td>\n",
       "      <td>3.656618</td>\n",
       "      <td>3.726101</td>\n",
       "    </tr>\n",
       "  </tbody>\n",
       "</table>\n",
       "</div>"
      ],
      "text/plain": [
       "           n/2       n/4       n/8         1\n",
       "16    0.000525  0.000626  0.000508  0.000513\n",
       "25    0.000913  0.001123  0.001176  0.001241\n",
       "36    0.002174  0.002734  0.002908  0.002955\n",
       "49    0.003447  0.004265  0.004387  0.004534\n",
       "64    0.005663  0.007140  0.007635  0.008114\n",
       "81    0.009209  0.011464  0.012029  0.012302\n",
       "100   0.033448  0.023649  0.022369  0.021951\n",
       "121   0.023523  0.028496  0.030623  0.031748\n",
       "144   0.029737  0.037118  0.038261  0.038929\n",
       "169   0.041957  0.055481  0.058461  0.055084\n",
       "196   0.056350  0.070889  0.072615  0.073646\n",
       "225   0.074214  0.091380  0.096028  0.097781\n",
       "256   0.106496  0.129554  0.134220  0.145252\n",
       "289   0.128119  0.159502  0.163325  0.164364\n",
       "324   0.159897  0.208101  0.210144  0.207447\n",
       "361   0.201414  0.250979  0.261877  0.261328\n",
       "400   0.257296  0.306202  0.321662  0.323191\n",
       "441   0.314172  0.376534  0.396670  0.413889\n",
       "484   0.378597  0.482837  0.480679  0.489903\n",
       "529   0.463105  0.563175  0.594860  0.595943\n",
       "576   0.588040  0.718833  0.744223  0.775034\n",
       "625   0.658161  0.801551  0.878330  0.851100\n",
       "676   0.784124  0.973532  0.994261  1.006731\n",
       "729   0.932692  1.393625  1.338786  1.235057\n",
       "784   1.116747  1.358039  1.426206  1.443936\n",
       "841   1.312185  1.572479  1.642221  1.650312\n",
       "900   1.523418  1.842370  1.927590  1.950084\n",
       "961   1.796932  2.178906  2.257127  2.316508\n",
       "1024  3.391579  3.601968  3.656618  3.726101"
      ]
     },
     "execution_count": 14,
     "metadata": {},
     "output_type": "execute_result"
    },
    {
     "data": {
      "image/png": "[encoded data removed]",
      "text/plain": [
       "<Figure size 936x720 with 1 Axes>"
      ]
     },
     "metadata": {
      "needs_background": "light"
     },
     "output_type": "display_data"
    }
   ],
   "source": [
    "compare_times(riga_matrices)"
   ]
  },
  {
   "cell_type": "markdown",
   "id": "6ca35e52",
   "metadata": {},
   "source": [
    "* dla macierzy FEM riga=1, pxx=2, rxx=0"
   ]
  },
  {
   "cell_type": "code",
   "execution_count": 15,
   "id": "10a4cc99",
   "metadata": {},
   "outputs": [
    {
     "data": {
      "text/html": [
       "<div>\n",
       "<style scoped>\n",
       "    .dataframe tbody tr th:only-of-type {\n",
       "        vertical-align: middle;\n",
       "    }\n",
       "\n",
       "    .dataframe tbody tr th {\n",
       "        vertical-align: top;\n",
       "    }\n",
       "\n",
       "    .dataframe thead th {\n",
       "        text-align: right;\n",
       "    }\n",
       "</style>\n",
       "<table border=\"1\" class=\"dataframe\">\n",
       "  <thead>\n",
       "    <tr style=\"text-align: right;\">\n",
       "      <th></th>\n",
       "      <th>n/2</th>\n",
       "      <th>n/4</th>\n",
       "      <th>n/8</th>\n",
       "      <th>1</th>\n",
       "    </tr>\n",
       "  </thead>\n",
       "  <tbody>\n",
       "    <tr>\n",
       "      <th>25</th>\n",
       "      <td>0.002499</td>\n",
       "      <td>0.002044</td>\n",
       "      <td>0.001630</td>\n",
       "      <td>0.001634</td>\n",
       "    </tr>\n",
       "    <tr>\n",
       "      <th>49</th>\n",
       "      <td>0.004461</td>\n",
       "      <td>0.009955</td>\n",
       "      <td>0.012859</td>\n",
       "      <td>0.011925</td>\n",
       "    </tr>\n",
       "    <tr>\n",
       "      <th>81</th>\n",
       "      <td>0.009958</td>\n",
       "      <td>0.012386</td>\n",
       "      <td>0.012645</td>\n",
       "      <td>0.012055</td>\n",
       "    </tr>\n",
       "    <tr>\n",
       "      <th>121</th>\n",
       "      <td>0.020535</td>\n",
       "      <td>0.025536</td>\n",
       "      <td>0.026899</td>\n",
       "      <td>0.028393</td>\n",
       "    </tr>\n",
       "    <tr>\n",
       "      <th>169</th>\n",
       "      <td>0.041031</td>\n",
       "      <td>0.052924</td>\n",
       "      <td>0.059986</td>\n",
       "      <td>0.057300</td>\n",
       "    </tr>\n",
       "    <tr>\n",
       "      <th>225</th>\n",
       "      <td>0.114696</td>\n",
       "      <td>0.113004</td>\n",
       "      <td>0.098655</td>\n",
       "      <td>0.099365</td>\n",
       "    </tr>\n",
       "    <tr>\n",
       "      <th>289</th>\n",
       "      <td>0.127268</td>\n",
       "      <td>0.165064</td>\n",
       "      <td>0.167014</td>\n",
       "      <td>0.174114</td>\n",
       "    </tr>\n",
       "    <tr>\n",
       "      <th>361</th>\n",
       "      <td>0.203008</td>\n",
       "      <td>0.252755</td>\n",
       "      <td>0.264181</td>\n",
       "      <td>0.267429</td>\n",
       "    </tr>\n",
       "    <tr>\n",
       "      <th>441</th>\n",
       "      <td>0.325209</td>\n",
       "      <td>0.395158</td>\n",
       "      <td>0.414411</td>\n",
       "      <td>0.431171</td>\n",
       "    </tr>\n",
       "    <tr>\n",
       "      <th>529</th>\n",
       "      <td>0.475407</td>\n",
       "      <td>0.595719</td>\n",
       "      <td>0.609431</td>\n",
       "      <td>0.616011</td>\n",
       "    </tr>\n",
       "    <tr>\n",
       "      <th>625</th>\n",
       "      <td>0.688454</td>\n",
       "      <td>0.838776</td>\n",
       "      <td>0.869307</td>\n",
       "      <td>0.891169</td>\n",
       "    </tr>\n",
       "    <tr>\n",
       "      <th>729</th>\n",
       "      <td>0.970115</td>\n",
       "      <td>1.198041</td>\n",
       "      <td>1.263888</td>\n",
       "      <td>1.242451</td>\n",
       "    </tr>\n",
       "    <tr>\n",
       "      <th>841</th>\n",
       "      <td>1.380602</td>\n",
       "      <td>1.627477</td>\n",
       "      <td>1.994608</td>\n",
       "      <td>1.820465</td>\n",
       "    </tr>\n",
       "    <tr>\n",
       "      <th>961</th>\n",
       "      <td>1.902927</td>\n",
       "      <td>2.265076</td>\n",
       "      <td>2.304225</td>\n",
       "      <td>2.342367</td>\n",
       "    </tr>\n",
       "    <tr>\n",
       "      <th>1089</th>\n",
       "      <td>2.577405</td>\n",
       "      <td>3.065754</td>\n",
       "      <td>3.140907</td>\n",
       "      <td>3.193733</td>\n",
       "    </tr>\n",
       "    <tr>\n",
       "      <th>1225</th>\n",
       "      <td>3.575630</td>\n",
       "      <td>4.149388</td>\n",
       "      <td>4.275998</td>\n",
       "      <td>4.301069</td>\n",
       "    </tr>\n",
       "  </tbody>\n",
       "</table>\n",
       "</div>"
      ],
      "text/plain": [
       "           n/2       n/4       n/8         1\n",
       "25    0.002499  0.002044  0.001630  0.001634\n",
       "49    0.004461  0.009955  0.012859  0.011925\n",
       "81    0.009958  0.012386  0.012645  0.012055\n",
       "121   0.020535  0.025536  0.026899  0.028393\n",
       "169   0.041031  0.052924  0.059986  0.057300\n",
       "225   0.114696  0.113004  0.098655  0.099365\n",
       "289   0.127268  0.165064  0.167014  0.174114\n",
       "361   0.203008  0.252755  0.264181  0.267429\n",
       "441   0.325209  0.395158  0.414411  0.431171\n",
       "529   0.475407  0.595719  0.609431  0.616011\n",
       "625   0.688454  0.838776  0.869307  0.891169\n",
       "729   0.970115  1.198041  1.263888  1.242451\n",
       "841   1.380602  1.627477  1.994608  1.820465\n",
       "961   1.902927  2.265076  2.304225  2.342367\n",
       "1089  2.577405  3.065754  3.140907  3.193733\n",
       "1225  3.575630  4.149388  4.275998  4.301069"
      ]
     },
     "execution_count": 15,
     "metadata": {},
     "output_type": "execute_result"
    },
    {
     "data": {
      "image/png": "[encoded data removed]",
      "text/plain": [
       "<Figure size 936x720 with 1 Axes>"
      ]
     },
     "metadata": {
      "needs_background": "light"
     },
     "output_type": "display_data"
    }
   ],
   "source": [
    "compare_times(fem_matrices)"
   ]
  },
  {
   "cell_type": "markdown",
   "id": "first-gauge",
   "metadata": {},
   "source": [
    "Otrzymane rezultaty przypominają wykres funkcji wielomianowej (sześciennej), co pokrywa się z oczekiwaniami. Otrzymanie dopełnienia o mniejszym rozmiarze zajmuje więcej czasu, gdyż wymaga większej liczby iteracji w procesie eliminacji. Wyniki czasowe są porównywalne dla dwóch typów macierzy, nie zaobserwowaliśmy wyraźnej przewagi którejkolwiek z nich."
   ]
  },
  {
   "cell_type": "markdown",
   "id": "animal-honduras",
   "metadata": {},
   "source": [
    "## Koszt obliczeniowy i pamięciowy"
   ]
  },
  {
   "cell_type": "markdown",
   "id": "global-texas",
   "metadata": {},
   "source": [
    "\"3. Jaki jest koszt obliczeniowy i pamięciowy (flopsy i memopsy) zaimplementowanego\n",
    "algorytmu?\""
   ]
  },
  {
   "cell_type": "markdown",
   "id": "incorporated-connection",
   "metadata": {},
   "source": [
    "Poniższe obliczenia dotyczą faktoryzacji Cholesky'ego w wersji LDL.T:"
   ]
  },
  {
   "cell_type": "markdown",
   "id": "ec211393",
   "metadata": {},
   "source": [
    "Koszt obliczeniowy (flops): <br>\n",
    "$$ \\sum \\limits _{k=0} ^{n-1} [(n-k-1) + \\sum \\limits _{j=k+1} ^{n-1} (n-j)*2] $$ <br>\n",
    "$$ \\sum \\limits _{k=0} ^{n-1} [(n-k-1) + (k-n)*(1+k-n)]$$ <br>\n",
    "$$ \\frac{1}{3}n^3 +\\frac{1}{2}n^2 -\\frac{5}{6}n $$ <br>\n",
    "Koszt pamięciowy (memops): <br>\n",
    "$$ \\sum \\limits _{k=0} ^{n-1} [3 + 4*(n-k-1) + \\sum \\limits _{j=k+1} ^{n-1} (1 + 2*(n-j))] $$ <br>\n",
    "$$ \\sum \\limits _{k=0} ^{n-1} [3 + 4*(n-k-1) + (k - n)^2 - 1] $$ <br>\n",
    "$$ \\frac{1}{3}n^3 + \\frac{15}{6}n^2 + \\frac{1}{6}n $$ <br>"
   ]
  },
  {
   "cell_type": "markdown",
   "id": "sized-plenty",
   "metadata": {},
   "source": [
    "Koszt procedury obliczania dopełnienia Schura znajdujemy analogicznie, jedynie sumując do k=n-m-1. Koszt zależy wtedy od wybranego rozmiaru m podmacierzy."
   ]
  },
  {
   "cell_type": "markdown",
   "id": "competent-naples",
   "metadata": {},
   "source": [
    "## Wnioski"
   ]
  },
  {
   "cell_type": "markdown",
   "id": "alike-premiere",
   "metadata": {},
   "source": [
    "* Za pomocą zarówno eliminacji Gaussa, jak i faktoryzacji Cholesky'ego, jesteśmy w stanie otrzymać dopełnienie Schura, które znajduje zastosowanie w wielu działach matematyki, m.in. w statystyce, rachunku prawdopodobieństwa, algebrze (do rozwiązywania układu równań liniowych).\n",
    "* Algorytm faktoryzacji LDL^T ma porównywalne koszty obliczeniowe i pamięciowe rzędu n^3."
   ]
  },
  {
   "cell_type": "markdown",
   "id": "cc7869ea",
   "metadata": {},
   "source": [
    "M. Hawryluk, N. Wolniak. 2021"
   ]
  }
 ],
 "metadata": {
  "interpreter": {
   "hash": "f9f85f796d01129d0dd105a088854619f454435301f6ffec2fea96ecbd9be4ac"
  },
  "kernelspec": {
   "display_name": "Python 3 (ipykernel)",
   "language": "python",
   "name": "python3"
  },
  "language_info": {
   "codemirror_mode": {
    "name": "ipython",
    "version": 3
   },
   "file_extension": ".py",
   "mimetype": "text/x-python",
   "name": "python",
   "nbconvert_exporter": "python",
   "pygments_lexer": "ipython3",
   "version": "3.9.7"
  }
 },
 "nbformat": 4,
 "nbformat_minor": 5
}
