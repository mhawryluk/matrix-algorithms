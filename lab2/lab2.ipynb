{
 "cells": [
  {
   "cell_type": "markdown",
   "id": "faff8fe0",
   "metadata": {},
   "source": [
    "# Algorytmy macierzowe - zadanie nr 2 - Eliminacja Gaussa i LU Faktoryzacja dla macierzy gęstych"
   ]
  },
  {
   "cell_type": "markdown",
   "id": "hourly-database",
   "metadata": {},
   "source": [
    "\"Proszę wybrać język programowania wedle uznania.\n",
    "Proszę napisać procedurę [S]=Schur_Complement(A,n,m)\n",
    "gdzie A to macierz wejściowa, n to rozmiar tej macierzy A,\n",
    "m to rozmiar podmacierzy (tzw. dopełnienia Schura),\n",
    "powstałej poprzez wyeliminowanie n-m wierszy i kolumn\n",
    "z macierzy A, wykorzystując [zatrzymując po n-m krokach]:\n",
    " \n",
    "6. Faktoryzacja Cholesky’ego “wektorową” (slajd 28) \n",
    "\""
   ]
  },
  {
   "cell_type": "markdown",
   "id": "6ae11b4b",
   "metadata": {},
   "source": [
    "Marcin Hawryluk, Norbert Wolniak <br>grupa: piątek 12:50B <hr>"
   ]
  },
  {
   "cell_type": "code",
   "execution_count": 1,
   "id": "refined-croatia",
   "metadata": {},
   "outputs": [],
   "source": [
    "import numpy as np\n",
    "from time import time\n",
    "import matplotlib.pyplot as plt\n",
    "import pandas as pd\n",
    "import os"
   ]
  },
  {
   "cell_type": "markdown",
   "id": "intended-chapel",
   "metadata": {},
   "source": [
    "Do implementacji wybraliśmy język Python 3 wraz z biblioteką do obliczeń numerycznych numpy, która pozwala operować na macierzach zaimplementowanych bezpośrednio w języku C."
   ]
  },
  {
   "cell_type": "markdown",
   "id": "swiss-order",
   "metadata": {},
   "source": [
    "## Generowanie macierzy"
   ]
  },
  {
   "cell_type": "markdown",
   "id": "seventh-individual",
   "metadata": {},
   "source": [
    "Macierze, których będziemy używać, wygenerowaliśmy za pomocą dostarczonej procedury massmatrix, napisanej w środowisku Octave. Macierze zapisaliśmy w postaci pliku tekstowego, a następnie odczytaliśmy w Pythonie za pomocą poniższej funkcji."
   ]
  },
  {
   "cell_type": "code",
   "execution_count": 2,
   "id": "portable-remove",
   "metadata": {},
   "outputs": [],
   "source": [
    "def read_matrix(file_name):\n",
    "    with open(file_name, 'r') as file:\n",
    "        for line in file:\n",
    "            if line.strip() == '':\n",
    "                continue\n",
    "            if line[0] == '#':\n",
    "                if line[2:6] == \"rows\":\n",
    "                    _, _, size = line.split()\n",
    "                    size = int(size)\n",
    "                    matrix = np.zeros((size, size))\n",
    "            else:\n",
    "                row, col, val = line.split(' ')\n",
    "                matrix[int(row)-1, int(col)-1] = val\n",
    "            \n",
    "    return matrix"
   ]
  },
  {
   "cell_type": "code",
   "execution_count": 3,
   "id": "66dcf334",
   "metadata": {
    "scrolled": true
   },
   "outputs": [],
   "source": [
    "matrix_small = read_matrix('matrices/riga_2.txt')"
   ]
  },
  {
   "cell_type": "markdown",
   "id": "comparable-fundamental",
   "metadata": {},
   "source": [
    "* przygotowanie zestawu macierzy do testów:"
   ]
  },
  {
   "cell_type": "code",
   "execution_count": 4,
   "id": "prospective-check",
   "metadata": {},
   "outputs": [],
   "source": [
    "fem_matrices  = []\n",
    "riga_matrices = []\n",
    "\n",
    "for file in os.listdir('matrices'):\n",
    "    if file.startswith('riga'):\n",
    "        riga_matrices.append(read_matrix('matrices/' + file))\n",
    "    if file.startswith('fem'):\n",
    "        fem_matrices.append(read_matrix('matrices/' + file))"
   ]
  },
  {
   "cell_type": "markdown",
   "id": "rolled-position",
   "metadata": {},
   "source": [
    "## Faktoryzacja Cholesky'ego"
   ]
  },
  {
   "cell_type": "markdown",
   "id": "spectacular-calendar",
   "metadata": {},
   "source": [
    "Faktoryzacja Cholesky'ego jest procedurą rozkładu macierzy na czynniki L i L.T (transpozycję L) lub w innym wariancie na macierze L, D, L.T, gdzie macierz L to macierz trójkątna dolna, a D macierz przekątniowa; iloczyn tychże dwóch/trzech macierzy dawać ma wyjściową macierz. Faktoryzacja ta jest możliwa jedynie dla macierzy symetrycznych, dodatnio określonych."
   ]
  },
  {
   "cell_type": "markdown",
   "id": "patient-mozambique",
   "metadata": {},
   "source": [
    "* $A = LDL^T$"
   ]
  },
  {
   "cell_type": "code",
   "execution_count": 5,
   "id": "hollow-skating",
   "metadata": {},
   "outputs": [],
   "source": [
    "def cholesky_LDLT(matrix):\n",
    "    A = matrix.copy()\n",
    "    n = A.shape[0]\n",
    "    \n",
    "    for k in range(n):\n",
    "        dkk = A[k, k]\n",
    "        if abs(dkk) < 1e-8:\n",
    "            raise ValueError('singular matrix')\n",
    "\n",
    "        vk = A[k+1:n, k].copy()\n",
    "        A[k+1:n, k] /= dkk\n",
    "      \n",
    "        for j in range(k + 1, n):\n",
    "            A[j:n, j] -= A[j:n, k] * vk[j-k-1]\n",
    "            \n",
    "    D = np.diag(A)*np.eye(n)\n",
    "    \n",
    "    return np.tril(A) - D + np.eye(n), D "
   ]
  },
  {
   "cell_type": "markdown",
   "id": "considered-suggestion",
   "metadata": {},
   "source": [
    "* $A = L L^T$"
   ]
  },
  {
   "cell_type": "code",
   "execution_count": 6,
   "id": "cultural-conditioning",
   "metadata": {},
   "outputs": [],
   "source": [
    "def cholesky_LLT(matrix):\n",
    "    A = matrix.copy()\n",
    "    n = A.shape[0]\n",
    "    \n",
    "    for k in range(n):\n",
    "        if abs(A[k, k]) < 1e-8:\n",
    "            raise ValueError('singular matrix')\n",
    "            \n",
    "        vk = A[k+1:n, k]\n",
    "        A[k, k] **= 0.5\n",
    "        dkk = A[k, k]\n",
    "        A[k+1:n, k] /= dkk\n",
    "        \n",
    "        for j in range(k+1, n):\n",
    "            A[j:n, j] -= A[j:n, k]*vk[j-k-1]\n",
    "        \n",
    "    return np.tril(A)"
   ]
  },
  {
   "cell_type": "markdown",
   "id": "understanding-slovenia",
   "metadata": {},
   "source": [
    "* testy poprawności:"
   ]
  },
  {
   "cell_type": "code",
   "execution_count": 7,
   "id": "twelve-galaxy",
   "metadata": {},
   "outputs": [
    {
     "data": {
      "text/plain": [
       "array([[ 4.,  4.,  6.],\n",
       "       [ 4., 13., 15.],\n",
       "       [ 6., 15., 43.]])"
      ]
     },
     "execution_count": 7,
     "metadata": {},
     "output_type": "execute_result"
    }
   ],
   "source": [
    "matrix = np.array([[4, 4, 6], [4, 13, 15], [6, 15, 43]], dtype=float)\n",
    "matrix"
   ]
  },
  {
   "cell_type": "code",
   "execution_count": 8,
   "id": "hidden-howard",
   "metadata": {},
   "outputs": [
    {
     "name": "stdout",
     "output_type": "stream",
     "text": [
      "---L L.T---\n",
      "L:\n",
      " [[2. 0. 0.]\n",
      " [2. 3. 0.]\n",
      " [3. 3. 5.]]\n",
      "\n",
      "L.T:\n",
      " [[2. 2. 3.]\n",
      " [0. 3. 3.]\n",
      " [0. 0. 5.]]\n",
      "\n",
      "L*L.T:\n",
      " [[ 4.  4.  6.]\n",
      " [ 4. 13. 15.]\n",
      " [ 6. 15. 43.]]\n",
      "\n",
      "numpy L:\n",
      "\n",
      " [[2. 0. 0.]\n",
      " [2. 3. 0.]\n",
      " [3. 3. 5.]] \n",
      "\n",
      "Correct!\n"
     ]
    }
   ],
   "source": [
    "L = cholesky_LLT(matrix)\n",
    "\n",
    "print(\"---L L.T---\")\n",
    "\n",
    "print(\"L:\\n\", L)\n",
    "print(\"\\nL.T:\\n\", L.T)\n",
    "print(\"\\nL*L.T:\\n\", L @ L.T)\n",
    "\n",
    "print(\"\\nnumpy L:\\n\")\n",
    "print(\"\", np.linalg.cholesky(matrix), \"\\n\")\n",
    "\n",
    "print(\"Correct!\" if np.allclose(L @ L.T, matrix) else \"wrong\")"
   ]
  },
  {
   "cell_type": "code",
   "execution_count": 9,
   "id": "final-georgia",
   "metadata": {},
   "outputs": [
    {
     "name": "stdout",
     "output_type": "stream",
     "text": [
      "---L D L.T---\n",
      "L:\n",
      " [[1.  0.  0. ]\n",
      " [1.  1.  0. ]\n",
      " [1.5 1.  1. ]]\n",
      "\n",
      "D:\n",
      " [[ 4.  0.  0.]\n",
      " [ 0.  9.  0.]\n",
      " [ 0.  0. 25.]]\n",
      "\n",
      "L.T:\n",
      " [[1.  1.  1.5]\n",
      " [0.  1.  1. ]\n",
      " [0.  0.  1. ]]\n",
      "\n",
      "L*D*L.T:\n",
      " [[ 4.  4.  6.]\n",
      " [ 4. 13. 15.]\n",
      " [ 6. 15. 43.]]\n",
      "\n",
      "Correct!\n"
     ]
    }
   ],
   "source": [
    "L, D = cholesky_LDLT(matrix)\n",
    "\n",
    "print(\"---L D L.T---\")\n",
    "\n",
    "print(\"L:\\n\", L)\n",
    "print(\"\\nD:\\n\", D)\n",
    "print(\"\\nL.T:\\n\", L.T)\n",
    "print(\"\\nL*D*L.T:\\n\", L @ D @ L.T)\n",
    "print()\n",
    "print(\"Correct!\" if np.allclose(L @ D @ L.T, matrix) else \"wrong\")"
   ]
  },
  {
   "cell_type": "markdown",
   "id": "generic-search",
   "metadata": {},
   "source": [
    "Obydwie wersje znajdują poprawne faktoryzacje zadanej macierzy."
   ]
  },
  {
   "cell_type": "markdown",
   "id": "accredited-shock",
   "metadata": {},
   "source": [
    "## Dopełnienie Schura"
   ]
  },
  {
   "cell_type": "markdown",
   "id": "ready-suffering",
   "metadata": {},
   "source": [
    "Do znalezienia uzupełnienia Schura o danym rozmiarze m, wykorzystamy procedurę eliminacji w ramach faktoryzacji Cholesky'ego, zatrzymaną po n-m krokach, zwracając jeszcze nie w pełni przetworzoną podmacierz m x m."
   ]
  },
  {
   "cell_type": "markdown",
   "id": "hungry-meaning",
   "metadata": {},
   "source": [
    "* $A = LDL^T$"
   ]
  },
  {
   "cell_type": "code",
   "execution_count": 10,
   "id": "10c16357",
   "metadata": {},
   "outputs": [],
   "source": [
    "def schur_LDLT(matrix, m=1):\n",
    "    A = matrix.copy()\n",
    "    n = A.shape[0]\n",
    "    \n",
    "    for k in range(n-m):\n",
    "        dkk = A[k, k]\n",
    "        if abs(dkk) < 1e-8:\n",
    "            raise ValueError('singular matrix')\n",
    "\n",
    "        vk = A[k+1:n, k].copy()\n",
    "        A[k+1:n, k] /= dkk\n",
    "      \n",
    "        for j in range(k+1, n):\n",
    "            A[j:n, j] -= A[j:n, k] * vk[j-k-1]\n",
    "    \n",
    "    return A[max(0,n-m):n, max(0,n-m):n]"
   ]
  },
  {
   "cell_type": "markdown",
   "id": "e293f388",
   "metadata": {},
   "source": [
    "* $A = L L^T$"
   ]
  },
  {
   "cell_type": "code",
   "execution_count": 11,
   "id": "50126b1e",
   "metadata": {},
   "outputs": [],
   "source": [
    "def schur_LLT(matrix, m=1):\n",
    "    A = matrix.copy()\n",
    "    n = A.shape[0]\n",
    "    \n",
    "    for k in range(n-m):\n",
    "        if abs(A[k, k]) < 1e-8:\n",
    "            raise ValueError('singular matrix')\n",
    "            \n",
    "        vk = A[k+1:n, k]\n",
    "        A[k, k] **= 0.5\n",
    "        dkk = A[k, k]\n",
    "        A[k+1:n, k] /= dkk\n",
    "        \n",
    "        for j in range(k+1, n):\n",
    "            A[j:n, j] -= A[j:n, k]*vk[j-k-1]\n",
    "        \n",
    "    return A[max(0,n-m):n, max(0,n-m):n]"
   ]
  },
  {
   "cell_type": "code",
   "execution_count": 12,
   "id": "major-prevention",
   "metadata": {},
   "outputs": [
    {
     "name": "stdout",
     "output_type": "stream",
     "text": [
      "[[ 9. 15.]\n",
      " [ 9. 34.]]\n",
      "[[ 9. 15.]\n",
      " [ 9. 34.]]\n"
     ]
    }
   ],
   "source": [
    "print(schur_LDLT(matrix, 2))\n",
    "print(schur_LLT(matrix, 2))"
   ]
  },
  {
   "cell_type": "markdown",
   "id": "miniature-atlas",
   "metadata": {},
   "source": [
    "### Pomiar czasów"
   ]
  },
  {
   "cell_type": "markdown",
   "id": "814aa07f",
   "metadata": {},
   "source": [
    "\"(...) proszę narysować następujący wykres: <br>\n",
    "> - oś pozioma: rozmiar macierzy n dla liczby przedziałów nxx=2,3,4,… (tak duże macierze ile się uda policzyć na laptopie), \n",
    "> - oś pionowa: czas [s] (Octave tic; Schur Complement(...); toc)  \n",
    "\n",
    "Proszę narysować \n",
    "\n",
    "> a) wykres czasu obliczeń dopełnień Schura o rozmiarze n/2\n",
    "  <br>b) wykres czasu obliczeń dopełnień Schura o rozmiarze n/4\n",
    "  <br>c) … takie podziały jakie mają sens do rozmiaru 1\""
   ]
  },
  {
   "cell_type": "code",
   "execution_count": 13,
   "id": "8e13d761",
   "metadata": {},
   "outputs": [],
   "source": [
    "def compare_times(matrices):\n",
    "    times = {}\n",
    "    \n",
    "    for matrix in matrices:\n",
    "        n = matrix.shape[0]\n",
    "        times[n] = {}\n",
    "        \n",
    "        start = time()\n",
    "        schur_LDLT(matrix, n//2)\n",
    "        times[n]['n/2'] = time() - start\n",
    "        \n",
    "        start = time()\n",
    "        schur_LDLT(matrix, n//4)\n",
    "        times[n]['n/4'] = time() - start\n",
    "        \n",
    "        start = time()\n",
    "        schur_LDLT(matrix, n//8)\n",
    "        times[n]['n/8'] = time() - start\n",
    "        \n",
    "        start = time()\n",
    "        schur_LDLT(matrix, 1)\n",
    "        times[n]['1'] = time() - start\n",
    "        \n",
    "    df = pd.DataFrame(times).T.sort_index()\n",
    "    df.plot(\n",
    "        figsize=(13, 10),\n",
    "        xlabel='matrix size (n x n)',\n",
    "        ylabel='time [s]',\n",
    "        colormap='Accent',\n",
    "        linewidth=3,\n",
    "        markersize=10,\n",
    "        marker='o'\n",
    "    )\n",
    "          \n",
    "    return df"
   ]
  },
  {
   "cell_type": "markdown",
   "id": "55a26cce",
   "metadata": {},
   "source": [
    "* dla macierzy IGA riga=0, pxx=2, rxx=0"
   ]
  },
  {
   "cell_type": "code",
   "execution_count": 14,
   "id": "d4bf5bee",
   "metadata": {
    "scrolled": false
   },
   "outputs": [
    {
     "data": {
      "text/html": [
       "<div>\n",
       "<style scoped>\n",
       "    .dataframe tbody tr th:only-of-type {\n",
       "        vertical-align: middle;\n",
       "    }\n",
       "\n",
       "    .dataframe tbody tr th {\n",
       "        vertical-align: top;\n",
       "    }\n",
       "\n",
       "    .dataframe thead th {\n",
       "        text-align: right;\n",
       "    }\n",
       "</style>\n",
       "<table border=\"1\" class=\"dataframe\">\n",
       "  <thead>\n",
       "    <tr style=\"text-align: right;\">\n",
       "      <th></th>\n",
       "      <th>n/2</th>\n",
       "      <th>n/4</th>\n",
       "      <th>n/8</th>\n",
       "      <th>1</th>\n",
       "    </tr>\n",
       "  </thead>\n",
       "  <tbody>\n",
       "    <tr>\n",
       "      <th>16</th>\n",
       "      <td>0.000286</td>\n",
       "      <td>0.000358</td>\n",
       "      <td>0.000378</td>\n",
       "      <td>0.000385</td>\n",
       "    </tr>\n",
       "    <tr>\n",
       "      <th>25</th>\n",
       "      <td>0.000697</td>\n",
       "      <td>0.000863</td>\n",
       "      <td>0.000907</td>\n",
       "      <td>0.000916</td>\n",
       "    </tr>\n",
       "    <tr>\n",
       "      <th>36</th>\n",
       "      <td>0.001398</td>\n",
       "      <td>0.001776</td>\n",
       "      <td>0.001860</td>\n",
       "      <td>0.001880</td>\n",
       "    </tr>\n",
       "    <tr>\n",
       "      <th>49</th>\n",
       "      <td>0.002678</td>\n",
       "      <td>0.003311</td>\n",
       "      <td>0.003483</td>\n",
       "      <td>0.003542</td>\n",
       "    </tr>\n",
       "    <tr>\n",
       "      <th>64</th>\n",
       "      <td>0.004362</td>\n",
       "      <td>0.005463</td>\n",
       "      <td>0.005766</td>\n",
       "      <td>0.005858</td>\n",
       "    </tr>\n",
       "    <tr>\n",
       "      <th>81</th>\n",
       "      <td>0.007072</td>\n",
       "      <td>0.008794</td>\n",
       "      <td>0.009230</td>\n",
       "      <td>0.009392</td>\n",
       "    </tr>\n",
       "    <tr>\n",
       "      <th>100</th>\n",
       "      <td>0.010748</td>\n",
       "      <td>0.013413</td>\n",
       "      <td>0.014169</td>\n",
       "      <td>0.014429</td>\n",
       "    </tr>\n",
       "    <tr>\n",
       "      <th>121</th>\n",
       "      <td>0.015848</td>\n",
       "      <td>0.019557</td>\n",
       "      <td>0.020506</td>\n",
       "      <td>0.020858</td>\n",
       "    </tr>\n",
       "    <tr>\n",
       "      <th>144</th>\n",
       "      <td>0.022485</td>\n",
       "      <td>0.027930</td>\n",
       "      <td>0.029321</td>\n",
       "      <td>0.029830</td>\n",
       "    </tr>\n",
       "    <tr>\n",
       "      <th>169</th>\n",
       "      <td>0.031286</td>\n",
       "      <td>0.039000</td>\n",
       "      <td>0.041145</td>\n",
       "      <td>0.041605</td>\n",
       "    </tr>\n",
       "    <tr>\n",
       "      <th>196</th>\n",
       "      <td>0.042221</td>\n",
       "      <td>0.052408</td>\n",
       "      <td>0.055103</td>\n",
       "      <td>0.055856</td>\n",
       "    </tr>\n",
       "    <tr>\n",
       "      <th>225</th>\n",
       "      <td>0.055604</td>\n",
       "      <td>0.068803</td>\n",
       "      <td>0.074126</td>\n",
       "      <td>0.074045</td>\n",
       "    </tr>\n",
       "    <tr>\n",
       "      <th>256</th>\n",
       "      <td>0.093904</td>\n",
       "      <td>0.113539</td>\n",
       "      <td>0.117734</td>\n",
       "      <td>0.119017</td>\n",
       "    </tr>\n",
       "    <tr>\n",
       "      <th>289</th>\n",
       "      <td>0.093915</td>\n",
       "      <td>0.116790</td>\n",
       "      <td>0.122790</td>\n",
       "      <td>0.124029</td>\n",
       "    </tr>\n",
       "    <tr>\n",
       "      <th>324</th>\n",
       "      <td>0.117495</td>\n",
       "      <td>0.145806</td>\n",
       "      <td>0.152905</td>\n",
       "      <td>0.155801</td>\n",
       "    </tr>\n",
       "    <tr>\n",
       "      <th>361</th>\n",
       "      <td>0.151173</td>\n",
       "      <td>0.187143</td>\n",
       "      <td>0.195476</td>\n",
       "      <td>0.198189</td>\n",
       "    </tr>\n",
       "    <tr>\n",
       "      <th>400</th>\n",
       "      <td>0.185585</td>\n",
       "      <td>0.230475</td>\n",
       "      <td>0.240049</td>\n",
       "      <td>0.242700</td>\n",
       "    </tr>\n",
       "    <tr>\n",
       "      <th>441</th>\n",
       "      <td>0.224002</td>\n",
       "      <td>0.276877</td>\n",
       "      <td>0.292606</td>\n",
       "      <td>0.298244</td>\n",
       "    </tr>\n",
       "    <tr>\n",
       "      <th>484</th>\n",
       "      <td>0.302352</td>\n",
       "      <td>0.349041</td>\n",
       "      <td>0.360859</td>\n",
       "      <td>0.372717</td>\n",
       "    </tr>\n",
       "    <tr>\n",
       "      <th>529</th>\n",
       "      <td>0.331927</td>\n",
       "      <td>0.411879</td>\n",
       "      <td>0.431464</td>\n",
       "      <td>0.435398</td>\n",
       "    </tr>\n",
       "    <tr>\n",
       "      <th>576</th>\n",
       "      <td>0.411393</td>\n",
       "      <td>0.507490</td>\n",
       "      <td>0.529738</td>\n",
       "      <td>0.536551</td>\n",
       "    </tr>\n",
       "    <tr>\n",
       "      <th>625</th>\n",
       "      <td>0.522687</td>\n",
       "      <td>0.643624</td>\n",
       "      <td>0.650158</td>\n",
       "      <td>0.656322</td>\n",
       "    </tr>\n",
       "    <tr>\n",
       "      <th>676</th>\n",
       "      <td>0.570888</td>\n",
       "      <td>0.741795</td>\n",
       "      <td>0.755877</td>\n",
       "      <td>0.788576</td>\n",
       "    </tr>\n",
       "    <tr>\n",
       "      <th>729</th>\n",
       "      <td>0.701050</td>\n",
       "      <td>0.853876</td>\n",
       "      <td>0.860945</td>\n",
       "      <td>0.866803</td>\n",
       "    </tr>\n",
       "    <tr>\n",
       "      <th>784</th>\n",
       "      <td>0.825308</td>\n",
       "      <td>1.022295</td>\n",
       "      <td>1.054222</td>\n",
       "      <td>1.087744</td>\n",
       "    </tr>\n",
       "    <tr>\n",
       "      <th>841</th>\n",
       "      <td>0.927627</td>\n",
       "      <td>1.137842</td>\n",
       "      <td>1.178412</td>\n",
       "      <td>1.187689</td>\n",
       "    </tr>\n",
       "    <tr>\n",
       "      <th>900</th>\n",
       "      <td>1.041092</td>\n",
       "      <td>1.274877</td>\n",
       "      <td>1.317929</td>\n",
       "      <td>1.336531</td>\n",
       "    </tr>\n",
       "    <tr>\n",
       "      <th>961</th>\n",
       "      <td>1.214887</td>\n",
       "      <td>1.476462</td>\n",
       "      <td>1.529624</td>\n",
       "      <td>1.554620</td>\n",
       "    </tr>\n",
       "    <tr>\n",
       "      <th>1024</th>\n",
       "      <td>4.694013</td>\n",
       "      <td>5.247014</td>\n",
       "      <td>5.357293</td>\n",
       "      <td>5.383609</td>\n",
       "    </tr>\n",
       "  </tbody>\n",
       "</table>\n",
       "</div>"
      ],
      "text/plain": [
       "           n/2       n/4       n/8         1\n",
       "16    0.000286  0.000358  0.000378  0.000385\n",
       "25    0.000697  0.000863  0.000907  0.000916\n",
       "36    0.001398  0.001776  0.001860  0.001880\n",
       "49    0.002678  0.003311  0.003483  0.003542\n",
       "64    0.004362  0.005463  0.005766  0.005858\n",
       "81    0.007072  0.008794  0.009230  0.009392\n",
       "100   0.010748  0.013413  0.014169  0.014429\n",
       "121   0.015848  0.019557  0.020506  0.020858\n",
       "144   0.022485  0.027930  0.029321  0.029830\n",
       "169   0.031286  0.039000  0.041145  0.041605\n",
       "196   0.042221  0.052408  0.055103  0.055856\n",
       "225   0.055604  0.068803  0.074126  0.074045\n",
       "256   0.093904  0.113539  0.117734  0.119017\n",
       "289   0.093915  0.116790  0.122790  0.124029\n",
       "324   0.117495  0.145806  0.152905  0.155801\n",
       "361   0.151173  0.187143  0.195476  0.198189\n",
       "400   0.185585  0.230475  0.240049  0.242700\n",
       "441   0.224002  0.276877  0.292606  0.298244\n",
       "484   0.302352  0.349041  0.360859  0.372717\n",
       "529   0.331927  0.411879  0.431464  0.435398\n",
       "576   0.411393  0.507490  0.529738  0.536551\n",
       "625   0.522687  0.643624  0.650158  0.656322\n",
       "676   0.570888  0.741795  0.755877  0.788576\n",
       "729   0.701050  0.853876  0.860945  0.866803\n",
       "784   0.825308  1.022295  1.054222  1.087744\n",
       "841   0.927627  1.137842  1.178412  1.187689\n",
       "900   1.041092  1.274877  1.317929  1.336531\n",
       "961   1.214887  1.476462  1.529624  1.554620\n",
       "1024  4.694013  5.247014  5.357293  5.383609"
      ]
     },
     "execution_count": 14,
     "metadata": {},
     "output_type": "execute_result"
    },
    {
     "data": {
      "image/png": "[encoded data removed]",
      "text/plain": [
       "<Figure size 936x720 with 1 Axes>"
      ]
     },
     "metadata": {
      "needs_background": "light"
     },
     "output_type": "display_data"
    }
   ],
   "source": [
    "compare_times(riga_matrices)"
   ]
  },
  {
   "cell_type": "markdown",
   "id": "6ca35e52",
   "metadata": {},
   "source": [
    "* dla macierzy FEM riga=1, pxx=2, rxx=0"
   ]
  },
  {
   "cell_type": "code",
   "execution_count": 15,
   "id": "10a4cc99",
   "metadata": {},
   "outputs": [
    {
     "data": {
      "text/html": [
       "<div>\n",
       "<style scoped>\n",
       "    .dataframe tbody tr th:only-of-type {\n",
       "        vertical-align: middle;\n",
       "    }\n",
       "\n",
       "    .dataframe tbody tr th {\n",
       "        vertical-align: top;\n",
       "    }\n",
       "\n",
       "    .dataframe thead th {\n",
       "        text-align: right;\n",
       "    }\n",
       "</style>\n",
       "<table border=\"1\" class=\"dataframe\">\n",
       "  <thead>\n",
       "    <tr style=\"text-align: right;\">\n",
       "      <th></th>\n",
       "      <th>n/2</th>\n",
       "      <th>n/4</th>\n",
       "      <th>n/8</th>\n",
       "      <th>1</th>\n",
       "    </tr>\n",
       "  </thead>\n",
       "  <tbody>\n",
       "    <tr>\n",
       "      <th>25</th>\n",
       "      <td>0.000702</td>\n",
       "      <td>0.000874</td>\n",
       "      <td>0.000904</td>\n",
       "      <td>0.000922</td>\n",
       "    </tr>\n",
       "    <tr>\n",
       "      <th>49</th>\n",
       "      <td>0.002672</td>\n",
       "      <td>0.003299</td>\n",
       "      <td>0.003478</td>\n",
       "      <td>0.003571</td>\n",
       "    </tr>\n",
       "    <tr>\n",
       "      <th>81</th>\n",
       "      <td>0.007181</td>\n",
       "      <td>0.008913</td>\n",
       "      <td>0.009400</td>\n",
       "      <td>0.009463</td>\n",
       "    </tr>\n",
       "    <tr>\n",
       "      <th>121</th>\n",
       "      <td>0.016212</td>\n",
       "      <td>0.019725</td>\n",
       "      <td>0.020669</td>\n",
       "      <td>0.020959</td>\n",
       "    </tr>\n",
       "    <tr>\n",
       "      <th>169</th>\n",
       "      <td>0.031250</td>\n",
       "      <td>0.038690</td>\n",
       "      <td>0.040505</td>\n",
       "      <td>0.041121</td>\n",
       "    </tr>\n",
       "    <tr>\n",
       "      <th>225</th>\n",
       "      <td>0.055933</td>\n",
       "      <td>0.069529</td>\n",
       "      <td>0.072926</td>\n",
       "      <td>0.073931</td>\n",
       "    </tr>\n",
       "    <tr>\n",
       "      <th>289</th>\n",
       "      <td>0.093201</td>\n",
       "      <td>0.115172</td>\n",
       "      <td>0.120865</td>\n",
       "      <td>0.123135</td>\n",
       "    </tr>\n",
       "    <tr>\n",
       "      <th>361</th>\n",
       "      <td>0.150321</td>\n",
       "      <td>0.186261</td>\n",
       "      <td>0.194702</td>\n",
       "      <td>0.198713</td>\n",
       "    </tr>\n",
       "    <tr>\n",
       "      <th>441</th>\n",
       "      <td>0.242483</td>\n",
       "      <td>0.285902</td>\n",
       "      <td>0.293525</td>\n",
       "      <td>0.304151</td>\n",
       "    </tr>\n",
       "    <tr>\n",
       "      <th>529</th>\n",
       "      <td>0.340662</td>\n",
       "      <td>0.416263</td>\n",
       "      <td>0.435619</td>\n",
       "      <td>0.440826</td>\n",
       "    </tr>\n",
       "    <tr>\n",
       "      <th>625</th>\n",
       "      <td>0.511660</td>\n",
       "      <td>0.632963</td>\n",
       "      <td>0.791697</td>\n",
       "      <td>0.670093</td>\n",
       "    </tr>\n",
       "    <tr>\n",
       "      <th>729</th>\n",
       "      <td>0.688199</td>\n",
       "      <td>0.838409</td>\n",
       "      <td>0.879325</td>\n",
       "      <td>0.900717</td>\n",
       "    </tr>\n",
       "    <tr>\n",
       "      <th>841</th>\n",
       "      <td>0.986931</td>\n",
       "      <td>1.246784</td>\n",
       "      <td>1.244495</td>\n",
       "      <td>1.251970</td>\n",
       "    </tr>\n",
       "    <tr>\n",
       "      <th>961</th>\n",
       "      <td>1.441116</td>\n",
       "      <td>1.772460</td>\n",
       "      <td>1.813615</td>\n",
       "      <td>1.939773</td>\n",
       "    </tr>\n",
       "    <tr>\n",
       "      <th>1089</th>\n",
       "      <td>2.091996</td>\n",
       "      <td>2.259112</td>\n",
       "      <td>2.433213</td>\n",
       "      <td>2.619215</td>\n",
       "    </tr>\n",
       "    <tr>\n",
       "      <th>1225</th>\n",
       "      <td>2.637794</td>\n",
       "      <td>3.137174</td>\n",
       "      <td>3.224123</td>\n",
       "      <td>3.263590</td>\n",
       "    </tr>\n",
       "  </tbody>\n",
       "</table>\n",
       "</div>"
      ],
      "text/plain": [
       "           n/2       n/4       n/8         1\n",
       "25    0.000702  0.000874  0.000904  0.000922\n",
       "49    0.002672  0.003299  0.003478  0.003571\n",
       "81    0.007181  0.008913  0.009400  0.009463\n",
       "121   0.016212  0.019725  0.020669  0.020959\n",
       "169   0.031250  0.038690  0.040505  0.041121\n",
       "225   0.055933  0.069529  0.072926  0.073931\n",
       "289   0.093201  0.115172  0.120865  0.123135\n",
       "361   0.150321  0.186261  0.194702  0.198713\n",
       "441   0.242483  0.285902  0.293525  0.304151\n",
       "529   0.340662  0.416263  0.435619  0.440826\n",
       "625   0.511660  0.632963  0.791697  0.670093\n",
       "729   0.688199  0.838409  0.879325  0.900717\n",
       "841   0.986931  1.246784  1.244495  1.251970\n",
       "961   1.441116  1.772460  1.813615  1.939773\n",
       "1089  2.091996  2.259112  2.433213  2.619215\n",
       "1225  2.637794  3.137174  3.224123  3.263590"
      ]
     },
     "execution_count": 15,
     "metadata": {},
     "output_type": "execute_result"
    },
    {
     "data": {
      "image/png": "[encoded data removed]",
      "text/plain": [
       "<Figure size 936x720 with 1 Axes>"
      ]
     },
     "metadata": {
      "needs_background": "light"
     },
     "output_type": "display_data"
    }
   ],
   "source": [
    "compare_times(fem_matrices)"
   ]
  },
  {
   "cell_type": "markdown",
   "id": "first-gauge",
   "metadata": {},
   "source": [
    "Otrzymane rezultaty przypominają wykres funkcji wielomianowej (sześciennej), co pokrywa się z oczekiwaniami. Otrzymanie dopełnienia o mniejszym rozmiarze zajmuje więcej czasu, gdyż wymaga większej liczby iteracji w procesie eliminacji. Wyniki czasowe są porównywalne dla dwóch typów macierzy, nie zaobserwowaliśmy wyraźnej przewagi którejkolwiek z nich."
   ]
  },
  {
   "cell_type": "markdown",
   "id": "animal-honduras",
   "metadata": {},
   "source": [
    "## Koszt obliczeniowy i pamięciowy"
   ]
  },
  {
   "cell_type": "markdown",
   "id": "global-texas",
   "metadata": {},
   "source": [
    "\"3. Jaki jest koszt obliczeniowy i pamięciowy (flopsy i memopsy) zaimplementowanego\n",
    "algorytmu?\""
   ]
  },
  {
   "cell_type": "markdown",
   "id": "incorporated-connection",
   "metadata": {},
   "source": [
    "Poniższe obliczenia dotyczą faktoryzacji Cholesky'ego w wersji LDL.T:"
   ]
  },
  {
   "cell_type": "markdown",
   "id": "ec211393",
   "metadata": {},
   "source": [
    "Koszt obliczeniowy (flops): <br>\n",
    "$$ \\sum \\limits _{k=0} ^{n-1} [(n-k-1) + \\sum \\limits _{j=k+1} ^{n-1} (n-j)*2] $$ <br>\n",
    "$$ \\sum \\limits _{k=0} ^{n-1} [(n-k-1) + (k-n)*(1+k-n)]$$ <br>\n",
    "$$ \\frac{1}{3}n^3 +\\frac{1}{2}n^2 -\\frac{5}{6}n $$ <br>\n",
    "Koszt pamięciowy (memops): <br>\n",
    "$$ \\sum \\limits _{k=0} ^{n-1} [3 + 4*(n-k-1) + \\sum \\limits _{j=k+1} ^{n-1} (1 + 2*(n-j))] $$ <br>\n",
    "$$ \\sum \\limits _{k=0} ^{n-1} [3 + 4*(n-k-1) + (k - n)^2 - 1] $$ <br>\n",
    "$$ \\frac{1}{3}n^3 + \\frac{15}{6}n^2 + \\frac{1}{6}n $$ <br>"
   ]
  },
  {
   "cell_type": "markdown",
   "id": "sized-plenty",
   "metadata": {},
   "source": [
    "Koszt procedury obliczania dopełnienia Schura znajdujemy analogicznie, jedynie sumując do k=n-m-1. Koszt zależy wtedy od wybranego rozmiaru m podmacierzy."
   ]
  },
  {
   "cell_type": "markdown",
   "id": "competent-naples",
   "metadata": {},
   "source": [
    "## Wnioski"
   ]
  },
  {
   "cell_type": "markdown",
   "id": "alike-premiere",
   "metadata": {},
   "source": [
    "* Za pomocą zarówno eliminacji Gaussa, jak i faktoryzacji Cholesky'ego, jesteśmy w stanie otrzymać dopełnienie Schura, które znajduje zastosowanie w wielu działach matematyki, m.in. w statystyce, rachunku prawdopodobieństwa, algebrze (do rozwiązywania układu równań liniowych).\n",
    "* Algorytm faktoryzacji LDL^T ma porównywalne koszty obliczeniowe i pamięciowe rzędu n^3."
   ]
  },
  {
   "cell_type": "markdown",
   "id": "cc7869ea",
   "metadata": {},
   "source": [
    "M. Hawryluk, N. Wolniak. 2021"
   ]
  }
 ],
 "metadata": {
  "interpreter": {
   "hash": "f9f85f796d01129d0dd105a088854619f454435301f6ffec2fea96ecbd9be4ac"
  },
  "kernelspec": {
   "display_name": "Python 3",
   "language": "python",
   "name": "python3"
  },
  "language_info": {
   "codemirror_mode": {
    "name": "ipython",
    "version": 3
   },
   "file_extension": ".py",
   "mimetype": "text/x-python",
   "name": "python",
   "nbconvert_exporter": "python",
   "pygments_lexer": "ipython3",
   "version": "3.8.10"
  }
 },
 "nbformat": 4,
 "nbformat_minor": 5
}
