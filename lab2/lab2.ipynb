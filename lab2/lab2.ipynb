{
 "cells": [
  {
   "cell_type": "markdown",
   "id": "faff8fe0",
   "metadata": {},
   "source": [
    "# Algorytmy macierzowe - zadanie nr 2 - Eliminacja Gaussa i LU Faktoryzacja dla macierzy gęstych"
   ]
  },
  {
   "cell_type": "markdown",
   "id": "hourly-database",
   "metadata": {},
   "source": [
    "\"Proszę wybrać język programowania wedle uznania.\n",
    "Proszę napisać procedurę [S]=Schur_Complement(A,n,m)\n",
    "gdzie A to macierz wejściowa, n to rozmiar tej macierzy A,\n",
    "m to rozmiar podmacierzy (tzw. dopełnienia Schura),\n",
    "powstałej poprzez wyeliminowanie n-m wierszy i kolumn\n",
    "z macierzy A, wykorzystując [zatrzymując po n-m krokach]:\n",
    " \n",
    "6. Faktoryzacja Cholesky’ego “wektorową” (slajd 28) \n",
    "\""
   ]
  },
  {
   "cell_type": "markdown",
   "id": "6ae11b4b",
   "metadata": {},
   "source": [
    "Marcin Hawryluk, Norbert Wolniak <br>grupa: piątek 12:50B <hr>"
   ]
  },
  {
   "cell_type": "code",
   "execution_count": 1,
   "id": "refined-croatia",
   "metadata": {},
   "outputs": [],
   "source": [
    "import numpy as np\n",
    "from time import time\n",
    "import matplotlib.pyplot as plt\n",
    "import pandas as pd\n",
    "import os"
   ]
  },
  {
   "cell_type": "markdown",
   "id": "intended-chapel",
   "metadata": {},
   "source": [
    "Do implementacji wybraliśmy język Python 3 wraz z biblioteką do obliczeń numerycznych numpy, która pozwala operować na macierzach zaimplementowanych bezpośrednio w języku C."
   ]
  },
  {
   "cell_type": "markdown",
   "id": "swiss-order",
   "metadata": {},
   "source": [
    "## Generowanie macierzy"
   ]
  },
  {
   "cell_type": "markdown",
   "id": "seventh-individual",
   "metadata": {},
   "source": [
    "Macierze, których będziemy używać, wygenerowaliśmy za pomocą dostarczonej procedury massmatrix, napisanej w środowisku Octave. Macierze zapisaliśmy w postaci pliku tekstowego, a następnie odczytaliśmy w Pythonie za pomocą poniższej funkcji."
   ]
  },
  {
   "cell_type": "code",
   "execution_count": 2,
   "id": "portable-remove",
   "metadata": {},
   "outputs": [],
   "source": [
    "def read_matrix(file_name):\n",
    "    with open(file_name, 'r') as file:\n",
    "        for line in file:\n",
    "            if line.strip() == '':\n",
    "                continue\n",
    "            if line[0] == '#':\n",
    "                if line[2:6] == \"rows\":\n",
    "                    _, _, size = line.split()\n",
    "                    size = int(size)\n",
    "                    matrix = np.zeros((size, size))\n",
    "            else:\n",
    "                row, col, val = line.split(' ')\n",
    "                matrix[int(row)-1, int(col)-1] = val\n",
    "            \n",
    "    return matrix"
   ]
  },
  {
   "cell_type": "code",
   "execution_count": 3,
   "id": "66dcf334",
   "metadata": {
    "scrolled": true
   },
   "outputs": [],
   "source": [
    "matrix_small = read_matrix('matrices/riga_2.txt')"
   ]
  },
  {
   "cell_type": "markdown",
   "id": "comparable-fundamental",
   "metadata": {},
   "source": [
    "* przygotowanie zestawu macierzy do testów:"
   ]
  },
  {
   "cell_type": "code",
   "execution_count": 4,
   "id": "prospective-check",
   "metadata": {},
   "outputs": [],
   "source": [
    "fem_matrices  = []\n",
    "riga_matrices = []\n",
    "\n",
    "for file in os.listdir('matrices'):\n",
    "    if file.startswith('riga'):\n",
    "        riga_matrices.append(read_matrix('matrices/' + file))\n",
    "    if file.startswith('fem'):\n",
    "        fem_matrices.append(read_matrix('matrices/' + file))"
   ]
  },
  {
   "cell_type": "markdown",
   "id": "rolled-position",
   "metadata": {},
   "source": [
    "## Faktoryzacja Cholesky'ego"
   ]
  },
  {
   "cell_type": "markdown",
   "id": "patient-mozambique",
   "metadata": {},
   "source": [
    "* $A = LDL^T$"
   ]
  },
  {
   "cell_type": "code",
   "execution_count": 5,
   "id": "hollow-skating",
   "metadata": {},
   "outputs": [],
   "source": [
    "def cholesky_LDLT(matrix):\n",
    "    A = matrix.copy()\n",
    "    n = A.shape[0]\n",
    "    \n",
    "    for k in range(n):\n",
    "        dkk = A[k, k]\n",
    "        if abs(dkk) < 1e-8:\n",
    "            raise ValueError('singular matrix')\n",
    "\n",
    "        vk = A[k+1:n, k].copy()\n",
    "        A[k+1:n, k] /= dkk\n",
    "      \n",
    "        for j in range(k + 1, n):\n",
    "            A[j:n, j] -= A[j:n, k] * vk[j-k-1]\n",
    "            \n",
    "    D = np.diag(A)*np.eye(n)\n",
    "    \n",
    "    return np.tril(A) - D + np.eye(n), D "
   ]
  },
  {
   "cell_type": "markdown",
   "id": "considered-suggestion",
   "metadata": {},
   "source": [
    "* $A = L L^T$"
   ]
  },
  {
   "cell_type": "code",
   "execution_count": 6,
   "id": "cultural-conditioning",
   "metadata": {},
   "outputs": [],
   "source": [
    "def cholesky_LLT(matrix):\n",
    "    A = matrix.copy()\n",
    "    n = A.shape[0]\n",
    "    \n",
    "    for k in range(n):\n",
    "        if abs(A[k, k]) < 1e-8:\n",
    "            raise ValueError('singular matrix')\n",
    "            \n",
    "        vk = A[k+1:n, k]\n",
    "        A[k, k] = A[k, k]**0.5\n",
    "        dkk = A[k, k]\n",
    "        A[k+1:n, k] /= dkk\n",
    "        \n",
    "        for j in range(k+1, n):\n",
    "            A[j:n, j] -= A[j:n, k]*vk[j-k-1]\n",
    "        \n",
    "    return np.tril(A)"
   ]
  },
  {
   "cell_type": "markdown",
   "id": "understanding-slovenia",
   "metadata": {},
   "source": [
    "* testy poprawności:"
   ]
  },
  {
   "cell_type": "code",
   "execution_count": 7,
   "id": "twelve-galaxy",
   "metadata": {},
   "outputs": [
    {
     "data": {
      "text/plain": [
       "array([[ 4.,  4.,  6.],\n",
       "       [ 4., 13., 15.],\n",
       "       [ 6., 15., 43.]])"
      ]
     },
     "execution_count": 7,
     "metadata": {},
     "output_type": "execute_result"
    }
   ],
   "source": [
    "matrix = np.array([[4, 4, 6], [4, 13, 15], [6, 15, 43]], dtype=float)\n",
    "matrix"
   ]
  },
  {
   "cell_type": "code",
   "execution_count": 8,
   "id": "hidden-howard",
   "metadata": {},
   "outputs": [
    {
     "name": "stdout",
     "output_type": "stream",
     "text": [
      "---L L.T---\n",
      "L:\n",
      " [[2. 0. 0.]\n",
      " [2. 3. 0.]\n",
      " [3. 3. 5.]]\n",
      "\n",
      "L.T:\n",
      " [[2. 2. 3.]\n",
      " [0. 3. 3.]\n",
      " [0. 0. 5.]]\n",
      "\n",
      "L*L.T:\n",
      " [[ 4.  4.  6.]\n",
      " [ 4. 13. 15.]\n",
      " [ 6. 15. 43.]]\n",
      "\n",
      "numpy L:\n",
      "\n",
      " [[2. 0. 0.]\n",
      " [2. 3. 0.]\n",
      " [3. 3. 5.]] \n",
      "\n",
      "Correct!\n"
     ]
    }
   ],
   "source": [
    "L = cholesky_LLT(matrix)\n",
    "\n",
    "print(\"---L L.T---\")\n",
    "\n",
    "print(\"L:\\n\", L)\n",
    "print(\"\\nL.T:\\n\", L.T)\n",
    "print(\"\\nL*L.T:\\n\", L @ L.T)\n",
    "\n",
    "print(\"\\nnumpy L:\\n\")\n",
    "print(\"\", np.linalg.cholesky(matrix), \"\\n\")\n",
    "\n",
    "print(\"Correct!\" if np.allclose(L @ L.T, matrix) else \"wrong\")"
   ]
  },
  {
   "cell_type": "code",
   "execution_count": 9,
   "id": "final-georgia",
   "metadata": {},
   "outputs": [
    {
     "name": "stdout",
     "output_type": "stream",
     "text": [
      "---L D L.T---\n",
      "L:\n",
      " [[1.  0.  0. ]\n",
      " [1.  1.  0. ]\n",
      " [1.5 1.  1. ]]\n",
      "\n",
      "D:\n",
      " [[ 4.  0.  0.]\n",
      " [ 0.  9.  0.]\n",
      " [ 0.  0. 25.]]\n",
      "\n",
      "L.T:\n",
      " [[1.  1.  1.5]\n",
      " [0.  1.  1. ]\n",
      " [0.  0.  1. ]]\n",
      "\n",
      "L*D*L.T:\n",
      " [[ 4.  4.  6.]\n",
      " [ 4. 13. 15.]\n",
      " [ 6. 15. 43.]]\n",
      "\n",
      "Correct!\n"
     ]
    }
   ],
   "source": [
    "L, D = cholesky_LDLT(matrix)\n",
    "\n",
    "print(\"---L D L.T---\")\n",
    "\n",
    "print(\"L:\\n\", L)\n",
    "print(\"\\nD:\\n\", D)\n",
    "print(\"\\nL.T:\\n\", L.T)\n",
    "print(\"\\nL*D*L.T:\\n\", L @ D @ L.T)\n",
    "print()\n",
    "print(\"Correct!\" if np.allclose(L @ D @ L.T, matrix) else \"wrong\")"
   ]
  },
  {
   "cell_type": "markdown",
   "id": "generic-search",
   "metadata": {},
   "source": [
    "Obydwie implementacje znajdują poprawną faktoryzację zadanej macierzy."
   ]
  },
  {
   "cell_type": "markdown",
   "id": "accredited-shock",
   "metadata": {},
   "source": [
    "## Dopełnienie Schura"
   ]
  },
  {
   "cell_type": "markdown",
   "id": "hungry-meaning",
   "metadata": {},
   "source": [
    "* $A = LDL^T$"
   ]
  },
  {
   "cell_type": "code",
   "execution_count": 10,
   "id": "10c16357",
   "metadata": {},
   "outputs": [],
   "source": [
    "def schur_LDLT(matrix, m=1):\n",
    "    A = matrix.copy()\n",
    "    n = A.shape[0]\n",
    "    \n",
    "    for k in range(n-m):\n",
    "        dkk = A[k, k]\n",
    "        if abs(dkk) < 1e-8:\n",
    "            raise ValueError('singular matrix')\n",
    "\n",
    "        vk = A[k+1:n, k].copy()\n",
    "        A[k+1:n, k] /= dkk\n",
    "      \n",
    "        for j in range(k + 1, n):\n",
    "            A[j:n, j] -= A[j:n, k] * vk[j-k-1]\n",
    "    \n",
    "    return A[max(0,n-m):n, max(0,n-m):n]"
   ]
  },
  {
   "cell_type": "markdown",
   "id": "e293f388",
   "metadata": {},
   "source": [
    "* $A = L L^T$"
   ]
  },
  {
   "cell_type": "code",
   "execution_count": 11,
   "id": "50126b1e",
   "metadata": {},
   "outputs": [],
   "source": [
    "def schur_LLT(matrix, m=1):\n",
    "    A = matrix.copy()\n",
    "    n = A.shape[0]\n",
    "    \n",
    "    for k in range(n-m):\n",
    "        if abs(A[k, k]) < 1e-8:\n",
    "            raise ValueError('singular matrix')\n",
    "            \n",
    "        vk = A[k+1:n, k]\n",
    "        A[k, k] = A[k, k]**0.5\n",
    "        dkk = A[k, k]\n",
    "        A[k+1:n, k] /= dkk\n",
    "        \n",
    "        for j in range(k+1, n):\n",
    "            A[j:n, j] -= A[j:n, k]*vk[j-k-1]\n",
    "        \n",
    "    return A[max(0,n-m):n, max(0,n-m):n]"
   ]
  },
  {
   "cell_type": "code",
   "execution_count": 12,
   "id": "major-prevention",
   "metadata": {},
   "outputs": [
    {
     "name": "stdout",
     "output_type": "stream",
     "text": [
      "[[ 9. 15.]\n",
      " [ 9. 34.]]\n",
      "[[ 9. 15.]\n",
      " [ 9. 34.]]\n"
     ]
    }
   ],
   "source": [
    "print(schur_LDLT(matrix, 2))\n",
    "print(schur_LLT(matrix, 2))"
   ]
  },
  {
   "cell_type": "markdown",
   "id": "miniature-atlas",
   "metadata": {},
   "source": [
    "### Pomiar czasów"
   ]
  },
  {
   "cell_type": "markdown",
   "id": "814aa07f",
   "metadata": {},
   "source": [
    "\"(...) proszę narysować następujący wykres: <br>\n",
    "> - oś pozioma: rozmiar macierzy n dla liczby przedziałów nxx=2,3,4,… (tak duże macierze ile się uda policzyć na laptopie), \n",
    "> - oś pionowa: czas [s] (Octave tic; Schur Complement(...); toc)  \n",
    "\n",
    "Proszę narysować \n",
    "\n",
    "> a) wykres czasu obliczeń dopełnień Schura o rozmiarze n/2\n",
    "  <br>b) wykres czasu obliczeń dopełnień Schura o rozmiarze n/4\n",
    "  <br>c) … takie podziały jakie mają sens do rozmiaru 1\""
   ]
  },
  {
   "cell_type": "code",
   "execution_count": 13,
   "id": "8e13d761",
   "metadata": {},
   "outputs": [],
   "source": [
    "def compare_times(matrices):\n",
    "    times = {}\n",
    "    \n",
    "    for matrix in matrices:\n",
    "        n = matrix.shape[0]\n",
    "        times[n] = {}\n",
    "        \n",
    "        start = time()\n",
    "        schur_LDLT(matrix, n//2)\n",
    "        times[n]['n/2'] = time() - start\n",
    "        \n",
    "        start = time()\n",
    "        schur_LDLT(matrix, n//4)\n",
    "        times[n]['n/4'] = time() - start\n",
    "        \n",
    "        start = time()\n",
    "        schur_LDLT(matrix, 1)\n",
    "        times[n]['1'] = time() - start\n",
    "        \n",
    "    df = pd.DataFrame(times).T.sort_index()\n",
    "    df.plot(\n",
    "        figsize=(13, 10),\n",
    "        xlabel='matrix size (n x n)',\n",
    "        ylabel='time [s]',\n",
    "        colormap='Accent',\n",
    "        linewidth=3,\n",
    "        markersize=10,\n",
    "        marker='o'\n",
    "    )\n",
    "        \n",
    "    \n",
    "    return df"
   ]
  },
  {
   "cell_type": "markdown",
   "id": "55a26cce",
   "metadata": {},
   "source": [
    "* dla macierzy IGA riga=0, pxx=2, rxx=0"
   ]
  },
  {
   "cell_type": "code",
   "execution_count": 14,
   "id": "d4bf5bee",
   "metadata": {},
   "outputs": [
    {
     "data": {
      "text/html": [
       "<div>\n",
       "<style scoped>\n",
       "    .dataframe tbody tr th:only-of-type {\n",
       "        vertical-align: middle;\n",
       "    }\n",
       "\n",
       "    .dataframe tbody tr th {\n",
       "        vertical-align: top;\n",
       "    }\n",
       "\n",
       "    .dataframe thead th {\n",
       "        text-align: right;\n",
       "    }\n",
       "</style>\n",
       "<table border=\"1\" class=\"dataframe\">\n",
       "  <thead>\n",
       "    <tr style=\"text-align: right;\">\n",
       "      <th></th>\n",
       "      <th>n/2</th>\n",
       "      <th>n/4</th>\n",
       "      <th>1</th>\n",
       "    </tr>\n",
       "  </thead>\n",
       "  <tbody>\n",
       "    <tr>\n",
       "      <th>16</th>\n",
       "      <td>0.000477</td>\n",
       "      <td>0.000598</td>\n",
       "      <td>0.000642</td>\n",
       "    </tr>\n",
       "    <tr>\n",
       "      <th>25</th>\n",
       "      <td>0.001267</td>\n",
       "      <td>0.001549</td>\n",
       "      <td>0.001656</td>\n",
       "    </tr>\n",
       "    <tr>\n",
       "      <th>36</th>\n",
       "      <td>0.002376</td>\n",
       "      <td>0.002975</td>\n",
       "      <td>0.003189</td>\n",
       "    </tr>\n",
       "    <tr>\n",
       "      <th>49</th>\n",
       "      <td>0.007087</td>\n",
       "      <td>0.006136</td>\n",
       "      <td>0.006251</td>\n",
       "    </tr>\n",
       "    <tr>\n",
       "      <th>64</th>\n",
       "      <td>0.007318</td>\n",
       "      <td>0.009192</td>\n",
       "      <td>0.009786</td>\n",
       "    </tr>\n",
       "    <tr>\n",
       "      <th>81</th>\n",
       "      <td>0.011794</td>\n",
       "      <td>0.014685</td>\n",
       "      <td>0.015703</td>\n",
       "    </tr>\n",
       "    <tr>\n",
       "      <th>100</th>\n",
       "      <td>0.018013</td>\n",
       "      <td>0.022358</td>\n",
       "      <td>0.023775</td>\n",
       "    </tr>\n",
       "    <tr>\n",
       "      <th>121</th>\n",
       "      <td>0.026304</td>\n",
       "      <td>0.033147</td>\n",
       "      <td>0.035005</td>\n",
       "    </tr>\n",
       "    <tr>\n",
       "      <th>144</th>\n",
       "      <td>0.038937</td>\n",
       "      <td>0.046652</td>\n",
       "      <td>0.049802</td>\n",
       "    </tr>\n",
       "  </tbody>\n",
       "</table>\n",
       "</div>"
      ],
      "text/plain": [
       "          n/2       n/4         1\n",
       "16   0.000477  0.000598  0.000642\n",
       "25   0.001267  0.001549  0.001656\n",
       "36   0.002376  0.002975  0.003189\n",
       "49   0.007087  0.006136  0.006251\n",
       "64   0.007318  0.009192  0.009786\n",
       "81   0.011794  0.014685  0.015703\n",
       "100  0.018013  0.022358  0.023775\n",
       "121  0.026304  0.033147  0.035005\n",
       "144  0.038937  0.046652  0.049802"
      ]
     },
     "execution_count": 14,
     "metadata": {},
     "output_type": "execute_result"
    },
    {
     "data": {
      "image/png": "[encoded data removed]",
      "text/plain": [
       "<Figure size 936x720 with 1 Axes>"
      ]
     },
     "metadata": {
      "needs_background": "light"
     },
     "output_type": "display_data"
    }
   ],
   "source": [
    "compare_times(riga_matrices)"
   ]
  },
  {
   "cell_type": "markdown",
   "id": "6ca35e52",
   "metadata": {},
   "source": [
    "* dla macierzy FEM riga=1, pxx=2, rxx=0"
   ]
  },
  {
   "cell_type": "code",
   "execution_count": 15,
   "id": "10a4cc99",
   "metadata": {},
   "outputs": [
    {
     "data": {
      "text/html": [
       "<div>\n",
       "<style scoped>\n",
       "    .dataframe tbody tr th:only-of-type {\n",
       "        vertical-align: middle;\n",
       "    }\n",
       "\n",
       "    .dataframe tbody tr th {\n",
       "        vertical-align: top;\n",
       "    }\n",
       "\n",
       "    .dataframe thead th {\n",
       "        text-align: right;\n",
       "    }\n",
       "</style>\n",
       "<table border=\"1\" class=\"dataframe\">\n",
       "  <thead>\n",
       "    <tr style=\"text-align: right;\">\n",
       "      <th></th>\n",
       "      <th>n/2</th>\n",
       "      <th>n/4</th>\n",
       "      <th>1</th>\n",
       "    </tr>\n",
       "  </thead>\n",
       "  <tbody>\n",
       "    <tr>\n",
       "      <th>25</th>\n",
       "      <td>0.001195</td>\n",
       "      <td>0.001440</td>\n",
       "      <td>0.001548</td>\n",
       "    </tr>\n",
       "    <tr>\n",
       "      <th>49</th>\n",
       "      <td>0.004426</td>\n",
       "      <td>0.005646</td>\n",
       "      <td>0.005896</td>\n",
       "    </tr>\n",
       "    <tr>\n",
       "      <th>81</th>\n",
       "      <td>0.011937</td>\n",
       "      <td>0.014697</td>\n",
       "      <td>0.015747</td>\n",
       "    </tr>\n",
       "    <tr>\n",
       "      <th>121</th>\n",
       "      <td>0.026496</td>\n",
       "      <td>0.032953</td>\n",
       "      <td>0.035572</td>\n",
       "    </tr>\n",
       "    <tr>\n",
       "      <th>169</th>\n",
       "      <td>0.053726</td>\n",
       "      <td>0.066210</td>\n",
       "      <td>0.068747</td>\n",
       "    </tr>\n",
       "    <tr>\n",
       "      <th>225</th>\n",
       "      <td>0.093295</td>\n",
       "      <td>0.115431</td>\n",
       "      <td>0.128354</td>\n",
       "    </tr>\n",
       "    <tr>\n",
       "      <th>289</th>\n",
       "      <td>0.168936</td>\n",
       "      <td>0.203862</td>\n",
       "      <td>0.216861</td>\n",
       "    </tr>\n",
       "    <tr>\n",
       "      <th>361</th>\n",
       "      <td>0.257986</td>\n",
       "      <td>0.312906</td>\n",
       "      <td>0.347629</td>\n",
       "    </tr>\n",
       "    <tr>\n",
       "      <th>441</th>\n",
       "      <td>0.391799</td>\n",
       "      <td>0.481440</td>\n",
       "      <td>0.511848</td>\n",
       "    </tr>\n",
       "  </tbody>\n",
       "</table>\n",
       "</div>"
      ],
      "text/plain": [
       "          n/2       n/4         1\n",
       "25   0.001195  0.001440  0.001548\n",
       "49   0.004426  0.005646  0.005896\n",
       "81   0.011937  0.014697  0.015747\n",
       "121  0.026496  0.032953  0.035572\n",
       "169  0.053726  0.066210  0.068747\n",
       "225  0.093295  0.115431  0.128354\n",
       "289  0.168936  0.203862  0.216861\n",
       "361  0.257986  0.312906  0.347629\n",
       "441  0.391799  0.481440  0.511848"
      ]
     },
     "execution_count": 15,
     "metadata": {},
     "output_type": "execute_result"
    },
    {
     "data": {
      "image/png": "[encoded data removed]",
      "text/plain": [
       "<Figure size 936x720 with 1 Axes>"
      ]
     },
     "metadata": {
      "needs_background": "light"
     },
     "output_type": "display_data"
    }
   ],
   "source": [
    "compare_times(fem_matrices)"
   ]
  },
  {
   "cell_type": "markdown",
   "id": "first-gauge",
   "metadata": {},
   "source": [
    "Otrzymane rezultaty przypominają wykres funkcji wielomianowej, co pokrywa się z oczekiwaniami."
   ]
  },
  {
   "cell_type": "markdown",
   "id": "animal-honduras",
   "metadata": {},
   "source": [
    "## Koszt obliczeniowy i pamięciowy"
   ]
  },
  {
   "cell_type": "markdown",
   "id": "global-texas",
   "metadata": {},
   "source": [
    "\"3. Jaki jest koszt obliczeniowy i pamięciowy (flopsy i memopsy) zaimplementowanego\n",
    "algorytmu?\""
   ]
  },
  {
   "cell_type": "markdown",
   "id": "ec211393",
   "metadata": {},
   "source": [
    "Koszt obliczeniowy (flops): <br>\n",
    "$$ \\sum \\limits _{k=0} ^{n-1} [(n-k-1) + \\sum \\limits _{j=k+1} ^{n} (n-j)*2] $$ <br>\n",
    "$$ \\sum \\limits _{k=0} ^{n-1} [(n-k-1) + (k-n)*(1+k-n)]$$ <br>\n",
    "$$ \\frac{1}{3}n^3 +\\frac{1}{2}n^2 -\\frac{5}{6}n $$ <br>\n",
    "Koszt pamięciowy (memops): <br>\n",
    "$$ \\sum \\limits _{k=0} ^{n-1} [3 + 4*(n-k-1) + \\sum \\limits _{j=k+1} ^{n} 1 + 2*(n-j)] $$ <br>\n",
    "$$ \\sum \\limits _{k=0} ^{n-1} [3 + 4*(n-k-1) + (k - n)^2] $$ <br>\n",
    "$$ \\frac{1}{3}n^3 + \\frac{15}{6}n^2 + \\frac{7}{6}n $$ <br>"
   ]
  },
  {
   "cell_type": "markdown",
   "id": "competent-naples",
   "metadata": {},
   "source": [
    "## Wnioski"
   ]
  },
  {
   "cell_type": "markdown",
   "id": "alike-premiere",
   "metadata": {},
   "source": [
    "* Za pomocą zarówno eliminacji Gaussa, jak i faktoryzacji Cholesky'ego, jesteśmy w stanie otrzymać dopełnienie Schura, które znalazło zastosowanie w wielu działach matematyki, m.in. w statystyce, rachunku prawdopodobieństwa, algebrze (do rozwiązywania układu równań liniowych).\n",
    "* Algorytm faktoryzacji LDL^T ma porównywalne koszty obliczeniowe i pamięciowe rzędu n^3."
   ]
  },
  {
   "cell_type": "markdown",
   "id": "cc7869ea",
   "metadata": {},
   "source": [
    "M. Hawryluk, N. Wolniak. 2021"
   ]
  }
 ],
 "metadata": {
  "interpreter": {
   "hash": "f9f85f796d01129d0dd105a088854619f454435301f6ffec2fea96ecbd9be4ac"
  },
  "kernelspec": {
   "display_name": "Python 3",
   "language": "python",
   "name": "python3"
  },
  "language_info": {
   "codemirror_mode": {
    "name": "ipython",
    "version": 3
   },
   "file_extension": ".py",
   "mimetype": "text/x-python",
   "name": "python",
   "nbconvert_exporter": "python",
   "pygments_lexer": "ipython3",
   "version": "3.8.10"
  }
 },
 "nbformat": 4,
 "nbformat_minor": 5
}
