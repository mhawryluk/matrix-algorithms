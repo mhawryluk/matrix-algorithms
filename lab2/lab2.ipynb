{
 "cells": [
  {
   "cell_type": "markdown",
   "id": "faff8fe0",
   "metadata": {},
   "source": [
    "# Algorytmy macierzowe - zadanie nr 2 - Eliminacja Gaussa i LU Faktoryzacja dla macierzy gęstych"
   ]
  },
  {
   "cell_type": "markdown",
   "id": "hourly-database",
   "metadata": {},
   "source": [
    "\"Proszę wybrać język programowania wedle uznania.\n",
    "Proszę napisać procedurę [S]=Schur_Complement(A,n,m)\n",
    "gdzie A to macierz wejściowa, n to rozmiar tej macierzy A,\n",
    "m to rozmiar podmacierzy (tzw. dopełnienia Schura),\n",
    "powstałej poprzez wyeliminowanie n-m wierszy i kolumn\n",
    "z macierzy A, wykorzystując [zatrzymując po n-m krokach]:\n",
    " \n",
    "6. Faktoryzacja Cholesky’ego “wektorową” (slajd 28) \n",
    "\""
   ]
  },
  {
   "cell_type": "markdown",
   "id": "6ae11b4b",
   "metadata": {},
   "source": [
    "Marcin Hawryluk, Norbert Wolniak <br>grupa: piątek 12:50B <hr>"
   ]
  },
  {
   "cell_type": "code",
   "execution_count": 1,
   "id": "refined-croatia",
   "metadata": {},
   "outputs": [],
   "source": [
    "import numpy as np\n",
    "from time import time\n",
    "import matplotlib.pyplot as plt\n",
    "import pandas as pd\n",
    "import os"
   ]
  },
  {
   "cell_type": "markdown",
   "id": "intended-chapel",
   "metadata": {},
   "source": [
    "Do implementacji wybraliśmy język Python 3 wraz z biblioteką do obliczeń numerycznych numpy, która pozwala operować na macierzach zaimplementowanych bezpośrednio w języku C."
   ]
  },
  {
   "cell_type": "markdown",
   "id": "swiss-order",
   "metadata": {},
   "source": [
    "## Generowanie macierzy"
   ]
  },
  {
   "cell_type": "markdown",
   "id": "seventh-individual",
   "metadata": {},
   "source": [
    "Macierze, których będziemy używać, wygenerowaliśmy za pomocą dostarczonej procedury massmatrix, napisanej w środowisku Octave. Macierze zapisaliśmy w postaci pliku tekstowego, a następnie odczytaliśmy w Pythonie za pomocą poniższej funkcji."
   ]
  },
  {
   "cell_type": "code",
   "execution_count": 2,
   "id": "portable-remove",
   "metadata": {},
   "outputs": [],
   "source": [
    "def read_matrix(file_name):\n",
    "    with open(file_name, 'r') as file:\n",
    "        for line in file:\n",
    "            if line.strip() == '':\n",
    "                continue\n",
    "            if line[0] == '#':\n",
    "                if line[2:6] == \"rows\":\n",
    "                    _, _, size = line.split()\n",
    "                    size = int(size)\n",
    "                    matrix = np.zeros((size, size))\n",
    "            else:\n",
    "                row, col, val = line.split(' ')\n",
    "                matrix[int(row)-1, int(col)-1] = val\n",
    "            \n",
    "    return matrix"
   ]
  },
  {
   "cell_type": "code",
   "execution_count": 3,
   "id": "66dcf334",
   "metadata": {
    "scrolled": true
   },
   "outputs": [],
   "source": [
    "matrix_small = read_matrix('matrices/riga_2.txt')"
   ]
  },
  {
   "cell_type": "markdown",
   "id": "comparable-fundamental",
   "metadata": {},
   "source": [
    "* przygotowanie zestawu macierzy do testów:"
   ]
  },
  {
   "cell_type": "code",
   "execution_count": 4,
   "id": "prospective-check",
   "metadata": {},
   "outputs": [],
   "source": [
    "fem_matrices  = []\n",
    "riga_matrices = []\n",
    "\n",
    "for file in os.listdir('matrices'):\n",
    "    if file.startswith('riga'):\n",
    "        riga_matrices.append(read_matrix('matrices/' + file))\n",
    "    if file.startswith('fem'):\n",
    "        fem_matrices.append(read_matrix('matrices/' + file))"
   ]
  },
  {
   "cell_type": "markdown",
   "id": "rolled-position",
   "metadata": {},
   "source": [
    "## Faktoryzacja Cholesky'ego"
   ]
  },
  {
   "cell_type": "markdown",
   "id": "spectacular-calendar",
   "metadata": {},
   "source": [
    "Faktoryzacja Cholesky'ego jest procedurą rozkładu macierzy na czynniki L i L.T (transpozycję L) lub w innym wariancie na macierze L, D, L.T, gdzie macierz L to macierz trójkątna dolna, a D macierz przekątniowa; iloczyn tychże dwóch/trzech macierzy dawać ma wyjściową macierz. Faktoryzacja ta jest możliwa jedynie dla macierzy symetrycznych, dodatnio określonych."
   ]
  },
  {
   "cell_type": "markdown",
   "id": "patient-mozambique",
   "metadata": {},
   "source": [
    "* $A = LDL^T$"
   ]
  },
  {
   "cell_type": "code",
   "execution_count": 5,
   "id": "hollow-skating",
   "metadata": {},
   "outputs": [],
   "source": [
    "def cholesky_LDLT(matrix):\n",
    "    A = matrix.copy()\n",
    "    n = A.shape[0]\n",
    "    \n",
    "    for k in range(n):\n",
    "        dkk = A[k, k]\n",
    "        if abs(dkk) < 1e-8:\n",
    "            raise ValueError('singular matrix')\n",
    "\n",
    "        vk = A[k+1:n, k].copy()\n",
    "        A[k+1:n, k] /= dkk\n",
    "      \n",
    "        for j in range(k + 1, n):\n",
    "            A[j:n, j] -= A[j:n, k] * vk[j-k-1]\n",
    "            \n",
    "    D = np.diag(A)*np.eye(n)\n",
    "    \n",
    "    return np.tril(A) - D + np.eye(n), D "
   ]
  },
  {
   "cell_type": "markdown",
   "id": "considered-suggestion",
   "metadata": {},
   "source": [
    "* $A = L L^T$"
   ]
  },
  {
   "cell_type": "code",
   "execution_count": 6,
   "id": "cultural-conditioning",
   "metadata": {},
   "outputs": [],
   "source": [
    "def cholesky_LLT(matrix):\n",
    "    A = matrix.copy()\n",
    "    n = A.shape[0]\n",
    "    \n",
    "    for k in range(n):\n",
    "        if abs(A[k, k]) < 1e-8:\n",
    "            raise ValueError('singular matrix')\n",
    "            \n",
    "        vk = A[k+1:n, k]\n",
    "        A[k, k] **= 0.5\n",
    "        dkk = A[k, k]\n",
    "        A[k+1:n, k] /= dkk\n",
    "        \n",
    "        for j in range(k+1, n):\n",
    "            A[j:n, j] -= A[j:n, k]*vk[j-k-1]\n",
    "        \n",
    "    return np.tril(A)"
   ]
  },
  {
   "cell_type": "markdown",
   "id": "understanding-slovenia",
   "metadata": {},
   "source": [
    "* testy poprawności:"
   ]
  },
  {
   "cell_type": "code",
   "execution_count": 7,
   "id": "twelve-galaxy",
   "metadata": {},
   "outputs": [
    {
     "data": {
      "text/plain": [
       "array([[ 4.,  4.,  6.],\n",
       "       [ 4., 13., 15.],\n",
       "       [ 6., 15., 43.]])"
      ]
     },
     "execution_count": 7,
     "metadata": {},
     "output_type": "execute_result"
    }
   ],
   "source": [
    "matrix = np.array([[4, 4, 6], [4, 13, 15], [6, 15, 43]], dtype=float)\n",
    "matrix"
   ]
  },
  {
   "cell_type": "code",
   "execution_count": 8,
   "id": "hidden-howard",
   "metadata": {},
   "outputs": [
    {
     "name": "stdout",
     "output_type": "stream",
     "text": [
      "---L L.T---\n",
      "L:\n",
      " [[2. 0. 0.]\n",
      " [2. 3. 0.]\n",
      " [3. 3. 5.]]\n",
      "\n",
      "L.T:\n",
      " [[2. 2. 3.]\n",
      " [0. 3. 3.]\n",
      " [0. 0. 5.]]\n",
      "\n",
      "L*L.T:\n",
      " [[ 4.  4.  6.]\n",
      " [ 4. 13. 15.]\n",
      " [ 6. 15. 43.]]\n",
      "\n",
      "numpy L:\n",
      "\n",
      " [[2. 0. 0.]\n",
      " [2. 3. 0.]\n",
      " [3. 3. 5.]] \n",
      "\n",
      "Correct!\n"
     ]
    }
   ],
   "source": [
    "L = cholesky_LLT(matrix)\n",
    "\n",
    "print(\"---L L.T---\")\n",
    "\n",
    "print(\"L:\\n\", L)\n",
    "print(\"\\nL.T:\\n\", L.T)\n",
    "print(\"\\nL*L.T:\\n\", L @ L.T)\n",
    "\n",
    "print(\"\\nnumpy L:\\n\")\n",
    "print(\"\", np.linalg.cholesky(matrix), \"\\n\")\n",
    "\n",
    "print(\"Correct!\" if np.allclose(L @ L.T, matrix) else \"wrong\")"
   ]
  },
  {
   "cell_type": "code",
   "execution_count": 9,
   "id": "final-georgia",
   "metadata": {},
   "outputs": [
    {
     "name": "stdout",
     "output_type": "stream",
     "text": [
      "---L D L.T---\n",
      "L:\n",
      " [[1.  0.  0. ]\n",
      " [1.  1.  0. ]\n",
      " [1.5 1.  1. ]]\n",
      "\n",
      "D:\n",
      " [[ 4.  0.  0.]\n",
      " [ 0.  9.  0.]\n",
      " [ 0.  0. 25.]]\n",
      "\n",
      "L.T:\n",
      " [[1.  1.  1.5]\n",
      " [0.  1.  1. ]\n",
      " [0.  0.  1. ]]\n",
      "\n",
      "L*D*L.T:\n",
      " [[ 4.  4.  6.]\n",
      " [ 4. 13. 15.]\n",
      " [ 6. 15. 43.]]\n",
      "\n",
      "Correct!\n"
     ]
    }
   ],
   "source": [
    "L, D = cholesky_LDLT(matrix)\n",
    "\n",
    "print(\"---L D L.T---\")\n",
    "\n",
    "print(\"L:\\n\", L)\n",
    "print(\"\\nD:\\n\", D)\n",
    "print(\"\\nL.T:\\n\", L.T)\n",
    "print(\"\\nL*D*L.T:\\n\", L @ D @ L.T)\n",
    "print()\n",
    "print(\"Correct!\" if np.allclose(L @ D @ L.T, matrix) else \"wrong\")"
   ]
  },
  {
   "cell_type": "markdown",
   "id": "generic-search",
   "metadata": {},
   "source": [
    "Obydwie wersje znajdują poprawne faktoryzacje zadanej macierzy."
   ]
  },
  {
   "cell_type": "markdown",
   "id": "accredited-shock",
   "metadata": {},
   "source": [
    "## Dopełnienie Schura"
   ]
  },
  {
   "cell_type": "markdown",
   "id": "ready-suffering",
   "metadata": {},
   "source": [
    "Do znalezienia uzupełnienia Schura o danym rozmiarze m, wykorzystamy procedurę eliminacji w ramach faktoryzacji Cholesky'ego, zatrzymaną po n-m krokach, zwracając jeszcze nie w pełni przetworzoną podmacierz m x m."
   ]
  },
  {
   "cell_type": "markdown",
   "id": "hungry-meaning",
   "metadata": {},
   "source": [
    "* $A = LDL^T$"
   ]
  },
  {
   "cell_type": "code",
   "execution_count": 10,
   "id": "10c16357",
   "metadata": {},
   "outputs": [],
   "source": [
    "def schur_LDLT(matrix, m=1):\n",
    "    A = matrix.copy()\n",
    "    n = A.shape[0]\n",
    "    \n",
    "    for k in range(n-m):\n",
    "        dkk = A[k, k]\n",
    "        if abs(dkk) < 1e-8:\n",
    "            raise ValueError('singular matrix')\n",
    "\n",
    "        vk = A[k+1:n, k].copy()\n",
    "        A[k+1:n, k] /= dkk\n",
    "      \n",
    "        for j in range(k+1, n):\n",
    "            A[j:n, j] -= A[j:n, k] * vk[j-k-1]\n",
    "    \n",
    "    return A[max(0,n-m):n, max(0,n-m):n]"
   ]
  },
  {
   "cell_type": "markdown",
   "id": "e293f388",
   "metadata": {},
   "source": [
    "* $A = L L^T$"
   ]
  },
  {
   "cell_type": "code",
   "execution_count": 11,
   "id": "50126b1e",
   "metadata": {},
   "outputs": [],
   "source": [
    "def schur_LLT(matrix, m=1):\n",
    "    A = matrix.copy()\n",
    "    n = A.shape[0]\n",
    "    \n",
    "    for k in range(n-m):\n",
    "        if abs(A[k, k]) < 1e-8:\n",
    "            raise ValueError('singular matrix')\n",
    "            \n",
    "        vk = A[k+1:n, k]\n",
    "        A[k, k] **= 0.5\n",
    "        dkk = A[k, k]\n",
    "        A[k+1:n, k] /= dkk\n",
    "        \n",
    "        for j in range(k+1, n):\n",
    "            A[j:n, j] -= A[j:n, k]*vk[j-k-1]\n",
    "        \n",
    "    return A[max(0,n-m):n, max(0,n-m):n]"
   ]
  },
  {
   "cell_type": "code",
   "execution_count": 12,
   "id": "major-prevention",
   "metadata": {},
   "outputs": [
    {
     "name": "stdout",
     "output_type": "stream",
     "text": [
      "[[ 9. 15.]\n",
      " [ 9. 34.]]\n",
      "[[ 9. 15.]\n",
      " [ 9. 34.]]\n"
     ]
    }
   ],
   "source": [
    "print(schur_LDLT(matrix, 2))\n",
    "print(schur_LLT(matrix, 2))"
   ]
  },
  {
   "cell_type": "markdown",
   "id": "miniature-atlas",
   "metadata": {},
   "source": [
    "### Pomiar czasów"
   ]
  },
  {
   "cell_type": "markdown",
   "id": "814aa07f",
   "metadata": {},
   "source": [
    "\"(...) proszę narysować następujący wykres: <br>\n",
    "> - oś pozioma: rozmiar macierzy n dla liczby przedziałów nxx=2,3,4,… (tak duże macierze ile się uda policzyć na laptopie), \n",
    "> - oś pionowa: czas [s] (Octave tic; Schur Complement(...); toc)  \n",
    "\n",
    "Proszę narysować \n",
    "\n",
    "> a) wykres czasu obliczeń dopełnień Schura o rozmiarze n/2\n",
    "  <br>b) wykres czasu obliczeń dopełnień Schura o rozmiarze n/4\n",
    "  <br>c) … takie podziały jakie mają sens do rozmiaru 1\""
   ]
  },
  {
   "cell_type": "code",
   "execution_count": 16,
   "id": "8e13d761",
   "metadata": {},
   "outputs": [],
   "source": [
    "def compare_times(matrices):\n",
    "    times = {}\n",
    "    \n",
    "    for matrix in matrices:\n",
    "        n = matrix.shape[0]\n",
    "        times[n] = {}\n",
    "        \n",
    "        start = time()\n",
    "        schur_LDLT(matrix, n//2)\n",
    "        times[n]['n/2'] = time() - start\n",
    "        \n",
    "        start = time()\n",
    "        schur_LDLT(matrix, n//4)\n",
    "        times[n]['n/4'] = time() - start\n",
    "        \n",
    "        start = time()\n",
    "        schur_LDLT(matrix, n//8)\n",
    "        times[n]['n/8'] = time() - start\n",
    "        \n",
    "        start = time()\n",
    "        schur_LDLT(matrix, 1)\n",
    "        times[n]['1'] = time() - start\n",
    "        \n",
    "    df = pd.DataFrame(times).T.sort_index()\n",
    "    df.plot(\n",
    "        figsize=(13, 10),\n",
    "        xlabel='matrix size (n x n)',\n",
    "        ylabel='time [s]',\n",
    "        colormap='Accent',\n",
    "        linewidth=3,\n",
    "        markersize=10,\n",
    "        marker='o'\n",
    "    )\n",
    "          \n",
    "    return df"
   ]
  },
  {
   "cell_type": "markdown",
   "id": "55a26cce",
   "metadata": {},
   "source": [
    "* dla macierzy IGA riga=0, pxx=2, rxx=0"
   ]
  },
  {
   "cell_type": "code",
   "execution_count": 17,
   "id": "d4bf5bee",
   "metadata": {},
   "outputs": [
    {
     "data": {
      "text/html": [
       "<div>\n",
       "<style scoped>\n",
       "    .dataframe tbody tr th:only-of-type {\n",
       "        vertical-align: middle;\n",
       "    }\n",
       "\n",
       "    .dataframe tbody tr th {\n",
       "        vertical-align: top;\n",
       "    }\n",
       "\n",
       "    .dataframe thead th {\n",
       "        text-align: right;\n",
       "    }\n",
       "</style>\n",
       "<table border=\"1\" class=\"dataframe\">\n",
       "  <thead>\n",
       "    <tr style=\"text-align: right;\">\n",
       "      <th></th>\n",
       "      <th>n/2</th>\n",
       "      <th>n/4</th>\n",
       "      <th>n/8</th>\n",
       "      <th>1</th>\n",
       "    </tr>\n",
       "  </thead>\n",
       "  <tbody>\n",
       "    <tr>\n",
       "      <th>16</th>\n",
       "      <td>0.000316</td>\n",
       "      <td>0.000403</td>\n",
       "      <td>0.000454</td>\n",
       "      <td>0.000447</td>\n",
       "    </tr>\n",
       "    <tr>\n",
       "      <th>25</th>\n",
       "      <td>0.001784</td>\n",
       "      <td>0.001978</td>\n",
       "      <td>0.002175</td>\n",
       "      <td>0.002199</td>\n",
       "    </tr>\n",
       "    <tr>\n",
       "      <th>36</th>\n",
       "      <td>0.001467</td>\n",
       "      <td>0.001870</td>\n",
       "      <td>0.001933</td>\n",
       "      <td>0.002005</td>\n",
       "    </tr>\n",
       "    <tr>\n",
       "      <th>49</th>\n",
       "      <td>0.006795</td>\n",
       "      <td>0.003280</td>\n",
       "      <td>0.003500</td>\n",
       "      <td>0.003970</td>\n",
       "    </tr>\n",
       "    <tr>\n",
       "      <th>64</th>\n",
       "      <td>0.004560</td>\n",
       "      <td>0.005526</td>\n",
       "      <td>0.005953</td>\n",
       "      <td>0.006081</td>\n",
       "    </tr>\n",
       "    <tr>\n",
       "      <th>81</th>\n",
       "      <td>0.007389</td>\n",
       "      <td>0.008873</td>\n",
       "      <td>0.009326</td>\n",
       "      <td>0.009530</td>\n",
       "    </tr>\n",
       "    <tr>\n",
       "      <th>100</th>\n",
       "      <td>0.010991</td>\n",
       "      <td>0.013904</td>\n",
       "      <td>0.014160</td>\n",
       "      <td>0.014465</td>\n",
       "    </tr>\n",
       "    <tr>\n",
       "      <th>121</th>\n",
       "      <td>0.015999</td>\n",
       "      <td>0.019981</td>\n",
       "      <td>0.020936</td>\n",
       "      <td>0.021374</td>\n",
       "    </tr>\n",
       "    <tr>\n",
       "      <th>144</th>\n",
       "      <td>0.024041</td>\n",
       "      <td>0.028819</td>\n",
       "      <td>0.030601</td>\n",
       "      <td>0.030712</td>\n",
       "    </tr>\n",
       "  </tbody>\n",
       "</table>\n",
       "</div>"
      ],
      "text/plain": [
       "          n/2       n/4       n/8         1\n",
       "16   0.000316  0.000403  0.000454  0.000447\n",
       "25   0.001784  0.001978  0.002175  0.002199\n",
       "36   0.001467  0.001870  0.001933  0.002005\n",
       "49   0.006795  0.003280  0.003500  0.003970\n",
       "64   0.004560  0.005526  0.005953  0.006081\n",
       "81   0.007389  0.008873  0.009326  0.009530\n",
       "100  0.010991  0.013904  0.014160  0.014465\n",
       "121  0.015999  0.019981  0.020936  0.021374\n",
       "144  0.024041  0.028819  0.030601  0.030712"
      ]
     },
     "execution_count": 17,
     "metadata": {},
     "output_type": "execute_result"
    },
    {
     "data": {
      "image/png": "[encoded data removed]",
      "text/plain": [
       "<Figure size 936x720 with 1 Axes>"
      ]
     },
     "metadata": {
      "needs_background": "light"
     },
     "output_type": "display_data"
    }
   ],
   "source": [
    "compare_times(riga_matrices)"
   ]
  },
  {
   "cell_type": "markdown",
   "id": "6ca35e52",
   "metadata": {},
   "source": [
    "* dla macierzy FEM riga=1, pxx=2, rxx=0"
   ]
  },
  {
   "cell_type": "code",
   "execution_count": 18,
   "id": "10a4cc99",
   "metadata": {},
   "outputs": [
    {
     "data": {
      "text/html": [
       "<div>\n",
       "<style scoped>\n",
       "    .dataframe tbody tr th:only-of-type {\n",
       "        vertical-align: middle;\n",
       "    }\n",
       "\n",
       "    .dataframe tbody tr th {\n",
       "        vertical-align: top;\n",
       "    }\n",
       "\n",
       "    .dataframe thead th {\n",
       "        text-align: right;\n",
       "    }\n",
       "</style>\n",
       "<table border=\"1\" class=\"dataframe\">\n",
       "  <thead>\n",
       "    <tr style=\"text-align: right;\">\n",
       "      <th></th>\n",
       "      <th>n/2</th>\n",
       "      <th>n/4</th>\n",
       "      <th>n/8</th>\n",
       "      <th>1</th>\n",
       "    </tr>\n",
       "  </thead>\n",
       "  <tbody>\n",
       "    <tr>\n",
       "      <th>25</th>\n",
       "      <td>0.000697</td>\n",
       "      <td>0.000859</td>\n",
       "      <td>0.000913</td>\n",
       "      <td>0.000911</td>\n",
       "    </tr>\n",
       "    <tr>\n",
       "      <th>49</th>\n",
       "      <td>0.002639</td>\n",
       "      <td>0.003281</td>\n",
       "      <td>0.003445</td>\n",
       "      <td>0.003499</td>\n",
       "    </tr>\n",
       "    <tr>\n",
       "      <th>81</th>\n",
       "      <td>0.007069</td>\n",
       "      <td>0.008729</td>\n",
       "      <td>0.009208</td>\n",
       "      <td>0.009349</td>\n",
       "    </tr>\n",
       "    <tr>\n",
       "      <th>121</th>\n",
       "      <td>0.015727</td>\n",
       "      <td>0.019557</td>\n",
       "      <td>0.020476</td>\n",
       "      <td>0.020830</td>\n",
       "    </tr>\n",
       "    <tr>\n",
       "      <th>169</th>\n",
       "      <td>0.030850</td>\n",
       "      <td>0.038317</td>\n",
       "      <td>0.040261</td>\n",
       "      <td>0.040914</td>\n",
       "    </tr>\n",
       "    <tr>\n",
       "      <th>225</th>\n",
       "      <td>0.055663</td>\n",
       "      <td>0.069091</td>\n",
       "      <td>0.072291</td>\n",
       "      <td>0.073496</td>\n",
       "    </tr>\n",
       "    <tr>\n",
       "      <th>289</th>\n",
       "      <td>0.101547</td>\n",
       "      <td>0.117280</td>\n",
       "      <td>0.121820</td>\n",
       "      <td>0.124029</td>\n",
       "    </tr>\n",
       "    <tr>\n",
       "      <th>361</th>\n",
       "      <td>0.152096</td>\n",
       "      <td>0.186817</td>\n",
       "      <td>0.194843</td>\n",
       "      <td>0.206235</td>\n",
       "    </tr>\n",
       "    <tr>\n",
       "      <th>441</th>\n",
       "      <td>0.229148</td>\n",
       "      <td>0.282662</td>\n",
       "      <td>0.294636</td>\n",
       "      <td>0.318449</td>\n",
       "    </tr>\n",
       "  </tbody>\n",
       "</table>\n",
       "</div>"
      ],
      "text/plain": [
       "          n/2       n/4       n/8         1\n",
       "25   0.000697  0.000859  0.000913  0.000911\n",
       "49   0.002639  0.003281  0.003445  0.003499\n",
       "81   0.007069  0.008729  0.009208  0.009349\n",
       "121  0.015727  0.019557  0.020476  0.020830\n",
       "169  0.030850  0.038317  0.040261  0.040914\n",
       "225  0.055663  0.069091  0.072291  0.073496\n",
       "289  0.101547  0.117280  0.121820  0.124029\n",
       "361  0.152096  0.186817  0.194843  0.206235\n",
       "441  0.229148  0.282662  0.294636  0.318449"
      ]
     },
     "execution_count": 18,
     "metadata": {},
     "output_type": "execute_result"
    },
    {
     "data": {
      "image/png": "[encoded data removed]",
      "text/plain": [
       "<Figure size 936x720 with 1 Axes>"
      ]
     },
     "metadata": {
      "needs_background": "light"
     },
     "output_type": "display_data"
    }
   ],
   "source": [
    "compare_times(fem_matrices)"
   ]
  },
  {
   "cell_type": "markdown",
   "id": "first-gauge",
   "metadata": {},
   "source": [
    "Otrzymane rezultaty przypominają wykres funkcji wielomianowej (sześciennej), co pokrywa się z oczekiwaniami. Otrzymanie dopełnienia o mniejszym rozmiarze zajmuje więcej czasu, gdyż wymaga większej liczby iteracji w procesie eliminacji. Wyniki czasowe są porównywalne dla dwóch typów macierzy, nie zaobserwowaliśmy wyraźnej przewagi którejkolwiek z nich."
   ]
  },
  {
   "cell_type": "markdown",
   "id": "animal-honduras",
   "metadata": {},
   "source": [
    "## Koszt obliczeniowy i pamięciowy"
   ]
  },
  {
   "cell_type": "markdown",
   "id": "global-texas",
   "metadata": {},
   "source": [
    "\"3. Jaki jest koszt obliczeniowy i pamięciowy (flopsy i memopsy) zaimplementowanego\n",
    "algorytmu?\""
   ]
  },
  {
   "cell_type": "markdown",
   "id": "incorporated-connection",
   "metadata": {},
   "source": [
    "Poniższe obliczenia dotyczą faktoryzacji Cholesky'ego w wersji LDL.T:"
   ]
  },
  {
   "cell_type": "markdown",
   "id": "ec211393",
   "metadata": {},
   "source": [
    "Koszt obliczeniowy (flops): <br>\n",
    "$$ \\sum \\limits _{k=0} ^{n-1} [(n-k-1) + \\sum \\limits _{j=k+1} ^{n} (n-j)*2] $$ <br>\n",
    "$$ \\sum \\limits _{k=0} ^{n-1} [(n-k-1) + (k-n)*(1+k-n)]$$ <br>\n",
    "$$ \\frac{1}{3}n^3 +\\frac{1}{2}n^2 -\\frac{5}{6}n $$ <br>\n",
    "Koszt pamięciowy (memops): <br>\n",
    "$$ \\sum \\limits _{k=0} ^{n-1} [3 + 4*(n-k-1) + \\sum \\limits _{j=k+1} ^{n} 1 + 2*(n-j)] $$ <br>\n",
    "$$ \\sum \\limits _{k=0} ^{n-1} [3 + 4*(n-k-1) + (k - n)^2] $$ <br>\n",
    "$$ \\frac{1}{3}n^3 + \\frac{15}{6}n^2 + \\frac{7}{6}n $$ <br>"
   ]
  },
  {
   "cell_type": "markdown",
   "id": "competent-naples",
   "metadata": {},
   "source": [
    "## Wnioski"
   ]
  },
  {
   "cell_type": "markdown",
   "id": "alike-premiere",
   "metadata": {},
   "source": [
    "* Za pomocą zarówno eliminacji Gaussa, jak i faktoryzacji Cholesky'ego, jesteśmy w stanie otrzymać dopełnienie Schura, które znajduje zastosowanie w wielu działach matematyki, m.in. w statystyce, rachunku prawdopodobieństwa, algebrze (do rozwiązywania układu równań liniowych).\n",
    "* Algorytm faktoryzacji LDL^T ma porównywalne koszty obliczeniowe i pamięciowe rzędu n^3."
   ]
  },
  {
   "cell_type": "markdown",
   "id": "cc7869ea",
   "metadata": {},
   "source": [
    "M. Hawryluk, N. Wolniak. 2021"
   ]
  }
 ],
 "metadata": {
  "interpreter": {
   "hash": "f9f85f796d01129d0dd105a088854619f454435301f6ffec2fea96ecbd9be4ac"
  },
  "kernelspec": {
   "display_name": "Python 3",
   "language": "python",
   "name": "python3"
  },
  "language_info": {
   "codemirror_mode": {
    "name": "ipython",
    "version": 3
   },
   "file_extension": ".py",
   "mimetype": "text/x-python",
   "name": "python",
   "nbconvert_exporter": "python",
   "pygments_lexer": "ipython3",
   "version": "3.8.10"
  }
 },
 "nbformat": 4,
 "nbformat_minor": 5
}
