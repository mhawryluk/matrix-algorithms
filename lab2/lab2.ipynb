{
 "cells": [
  {
   "cell_type": "markdown",
   "id": "faff8fe0",
   "metadata": {},
   "source": [
    "# Algorytmy macierzowe - zadanie nr 2 - Eliminacja Gaussa i LU Faktoryzacja dla macierzy gęstych"
   ]
  },
  {
   "cell_type": "markdown",
   "id": "hourly-database",
   "metadata": {},
   "source": [
    "\"Proszę wybrać język programowania wedle uznania\n",
    "Proszę napisać procedurę [S]=Schur_Complement(A,n,m)\n",
    "gdzie A to macierz wejściowa, n to rozmiar tej macierzy A,\n",
    "m to rozmiar podmacierzy (tzw. dopełnienia Schura),\n",
    "powstałej poprzez wyeliminowanie n-m wierszy i kolumn\n",
    "z macierzy A, wykorzystując [zatrzymując po n-m krokach]:\n",
    " \n",
    "6. Faktoryzacja Cholesky’ego “wektorową” (slajd 28) \n",
    "\""
   ]
  },
  {
   "cell_type": "markdown",
   "id": "6ae11b4b",
   "metadata": {},
   "source": [
    "Marcin Hawryluk, Norbert Wolniak <br>grupa: piątek 12:50B <hr>"
   ]
  },
  {
   "cell_type": "code",
   "execution_count": 1,
   "id": "refined-croatia",
   "metadata": {},
   "outputs": [],
   "source": [
    "import numpy as np\n",
    "from time import time\n",
    "import matplotlib.pyplot as plt\n",
    "import pandas as pd\n",
    "import os\n",
    "import scipy.linalg as sp"
   ]
  },
  {
   "cell_type": "markdown",
   "id": "intended-chapel",
   "metadata": {},
   "source": [
    "Do implementacji wybraliśmy język Python 3 wraz z biblioteką do obliczeń numerycznych numpy, która pozwala operować na macierzach zaimplementowanych bezpośrednio w języku C."
   ]
  },
  {
   "cell_type": "markdown",
   "id": "swiss-order",
   "metadata": {},
   "source": [
    "## Generowanie macierzy"
   ]
  },
  {
   "cell_type": "markdown",
   "id": "seventh-individual",
   "metadata": {},
   "source": [
    "Macierze, których będziemy używać, wygenerowaliśmy za pomocą dostarczonej procedury massmatrix, napisanej w środowisku Octave. Macierze zapisaliśmy w postaci pliku tekstowego, a następnie odczytaliśmy w Pythonie za pomocą poniższej funkcji."
   ]
  },
  {
   "cell_type": "code",
   "execution_count": 2,
   "id": "portable-remove",
   "metadata": {},
   "outputs": [],
   "source": [
    "def read_matrix(file_name):\n",
    "    with open(file_name, 'r') as file:\n",
    "        for line in file:\n",
    "            if line.strip() == '':\n",
    "                continue\n",
    "            if line[0] == '#':\n",
    "                if line[2:6] == \"rows\":\n",
    "                    _, _, size = line.split()\n",
    "                    size = int(size)\n",
    "                    matrix = np.zeros((size, size))\n",
    "            else:\n",
    "                row, col, val = line.split(' ')\n",
    "                matrix[int(row)-1, int(col)-1] = val\n",
    "            \n",
    "    return matrix"
   ]
  },
  {
   "cell_type": "code",
   "execution_count": 119,
   "id": "66dcf334",
   "metadata": {
    "scrolled": true
   },
   "outputs": [],
   "source": [
    "matrix_small = read_matrix('matrices/riga_2.txt')"
   ]
  },
  {
   "cell_type": "markdown",
   "id": "comparable-fundamental",
   "metadata": {},
   "source": [
    "* przygotowanie zestawu macierzy do testów:"
   ]
  },
  {
   "cell_type": "code",
   "execution_count": 6,
   "id": "prospective-check",
   "metadata": {},
   "outputs": [],
   "source": [
    "fem_matrices  = []\n",
    "riga_matrices = []\n",
    "\n",
    "for file in os.listdir('matrices'):\n",
    "    if file.startswith('riga'):\n",
    "        riga_matrices.append(read_matrix('matrices/' + file))\n",
    "    if file.startswith('fem'):\n",
    "        fem_matrices.append(read_matrix('matrices/' + file))"
   ]
  },
  {
   "cell_type": "markdown",
   "id": "rolled-position",
   "metadata": {},
   "source": [
    "## Faktoryzacja Cholesky'ego i dopełnienie Schura "
   ]
  },
  {
   "cell_type": "markdown",
   "id": "e293f388",
   "metadata": {},
   "source": [
    "wersja z wykładu:"
   ]
  },
  {
   "cell_type": "code",
   "execution_count": 7,
   "id": "50126b1e",
   "metadata": {},
   "outputs": [],
   "source": [
    "def schur_complement(matrix,  m=0):\n",
    "    A = matrix.copy()\n",
    "    n = A.shape[0]\n",
    "    \n",
    "    for k in range(n-m):\n",
    "        if abs(A[k, k]) < 1e-8:\n",
    "            raise ValueError('singular matrix')\n",
    "            \n",
    "        vk = A[k+1:n, k]\n",
    "        A[k, k] = A[k, k]**0.5\n",
    "        dkk = A[k, k]\n",
    "        A[k+1:n, k] /= dkk\n",
    "        \n",
    "        for j in range(k+1, n):\n",
    "            A[j:n, j] -= A[j:n, k]*vk[j-k-1]\n",
    "        \n",
    "    return A"
   ]
  },
  {
   "cell_type": "markdown",
   "id": "9ae9d0b4",
   "metadata": {},
   "source": [
    "wersja z internetu:"
   ]
  },
  {
   "cell_type": "code",
   "execution_count": 8,
   "id": "160f93cf",
   "metadata": {},
   "outputs": [],
   "source": [
    "def schur_complement2(matrix, m=0):\n",
    "    S = matrix.copy()\n",
    "    n = S.shape[0]\n",
    "    L = np.zeros((n, n))\n",
    "    \n",
    "    for j in range(n-m):\n",
    "        L[j, j] = S[j, j]**0.5\n",
    "        L[j+1:n, j] = S[j+1:n, j]/L[j,j]\n",
    "        \n",
    "        for i in range(j+1, n):\n",
    "            S[i, j+1:n] -= L[i, j]*L[j+1:n, j]\n",
    "    \n",
    "    \n",
    "    return L"
   ]
  },
  {
   "cell_type": "code",
   "execution_count": 9,
   "id": "0872772d",
   "metadata": {},
   "outputs": [],
   "source": [
    "def schur_complement3(matrix, m=0):\n",
    "    A = matrix.copy()\n",
    "    n = A.shape[0]\n",
    "    \n",
    "    for k in range(n-m):\n",
    "        if abs(A[k, k]) < 1e-8:\n",
    "            raise ValueError('singular matrix')\n",
    "            \n",
    "        vk = A[k+1:n, k]\n",
    "        A[k, k] = A[k, k]**0.5\n",
    "        dkk = A[k, k]\n",
    "        A[k+1:n, k] /= dkk\n",
    "        \n",
    "        for j in range(k+1, n):\n",
    "            A[j, k+1:n] -= A[j, k]*vk\n",
    "    \n",
    "    return A"
   ]
  },
  {
   "cell_type": "code",
   "execution_count": 118,
   "id": "f34d35ae",
   "metadata": {},
   "outputs": [],
   "source": [
    "def schur_LDLT(matrix, m=0):\n",
    "    A = matrix.copy()\n",
    "    n = A.shape[0]\n",
    "    \n",
    "    for k in range(n - m - 1):\n",
    "        dkk = A[k, k]\n",
    "        if abs(dkk) < 1e-8:\n",
    "            raise ValueError('singular matrix')\n",
    "\n",
    "        vk = A[k+1:n, k].copy()\n",
    "        A[k+1:n, k] /= dkk\n",
    "      \n",
    "        for j in range(k + 1, n):\n",
    "            A[j:n, j] -= A[j:n, k] * vk[j - k - 1]\n",
    "    \n",
    "    return A[max(0,n-m-1):n, max(0,n-m-1):n]"
   ]
  },
  {
   "cell_type": "code",
   "execution_count": 106,
   "id": "e84a10bb",
   "metadata": {},
   "outputs": [],
   "source": [
    "m = np.array([[4, 4, 6], [4, 13, 15], [6, 15, 43]], dtype=float)"
   ]
  },
  {
   "cell_type": "code",
   "execution_count": 120,
   "id": "62cc09dd",
   "metadata": {},
   "outputs": [
    {
     "name": "stdout",
     "output_type": "stream",
     "text": [
      "[[ 2.  4.  6.]\n",
      " [ 2.  3. 15.]\n",
      " [ 3.  3.  5.]]\n",
      "[[2. 0. 0.]\n",
      " [2. 3. 0.]\n",
      " [3. 3. 5.]]\n",
      "[[2. 4. 6.]\n",
      " [2. 3. 9.]\n",
      " [3. 3. 5.]]\n",
      "[[ 4.  4.  6.]\n",
      " [ 4. 13. 15.]\n",
      " [ 6. 15. 43.]]\n",
      "[[2. 0. 0.]\n",
      " [2. 3. 0.]\n",
      " [3. 3. 5.]]\n"
     ]
    }
   ],
   "source": [
    "print(schur_complement(m, 0))\n",
    "print(schur_complement2(m, 0))\n",
    "print(schur_complement3(m, 0))\n",
    "print(schur_LDLT(m, m.shape[0]))\n",
    "print(np.linalg.cholesky(m))"
   ]
  },
  {
   "cell_type": "markdown",
   "id": "lightweight-memorial",
   "metadata": {},
   "source": [
    "W celu weryfikacji poprawności powyższej funkcji, porównujemy wynik z faktoryzacją otrzymaną przy użyciu funkcji biblioteki numpy: "
   ]
  },
  {
   "cell_type": "code",
   "execution_count": 171,
   "id": "perceived-might",
   "metadata": {},
   "outputs": [],
   "source": [
    "def cholesky_test(A):\n",
    "    return np.allclose(schur_complement2(A, 0), np.linalg.cholesky(A))"
   ]
  },
  {
   "cell_type": "code",
   "execution_count": 172,
   "id": "2f783be6",
   "metadata": {
    "scrolled": false
   },
   "outputs": [
    {
     "data": {
      "text/plain": [
       "True"
      ]
     },
     "execution_count": 172,
     "metadata": {},
     "output_type": "execute_result"
    }
   ],
   "source": [
    "cholesky_test(matrix_small)"
   ]
  },
  {
   "cell_type": "markdown",
   "id": "miniature-atlas",
   "metadata": {},
   "source": [
    "### Pomiar czasów"
   ]
  },
  {
   "cell_type": "markdown",
   "id": "814aa07f",
   "metadata": {},
   "source": [
    "\"(...) proszę narysować następujący wykres: <br>\n",
    "> oś pozioma: rozmiar macierzy n dla liczby przedziałów nxx=2,3,4,… (tak duże macierze ile się uda policzyć na laptopie), <br>\n",
    "oś pionowa: czas [s] (Octave tic; Schur Complement(...); toc)  \n",
    "\n",
    "Proszę narysować \n",
    "\n",
    "> a) wykres czasu obliczeń dopełnień Schura o rozmiarze n/2\n",
    " ** b) wykres czasu obliczeń dopełnień Schura o rozmiarze n/4\n",
    " ** c) … takie podziały jakie mają sens do rozmiaru 1\""
   ]
  },
  {
   "cell_type": "code",
   "execution_count": 173,
   "id": "8e13d761",
   "metadata": {},
   "outputs": [],
   "source": [
    "def compare_times(matrices):\n",
    "    times = {}\n",
    "    \n",
    "    for matrix in matrices:\n",
    "        n = matrix.shape[0]\n",
    "        times[n] = {}\n",
    "        \n",
    "        start = time()\n",
    "        schur_complement2(matrix, n//2)\n",
    "        times[n]['n/2'] = time() - start\n",
    "        \n",
    "        start = time()\n",
    "        schur_complement2(matrix, n//4)\n",
    "        times[n]['n/4'] = time() - start\n",
    "        \n",
    "        start = time()\n",
    "        schur_complement2(matrix, 1)\n",
    "        times[n]['1'] = time() - start\n",
    "        \n",
    "    df = pd.DataFrame(times).T.sort_index()\n",
    "    df.plot(\n",
    "        figsize=(13, 10),\n",
    "        xlabel='matrix size (n x n)',\n",
    "        ylabel='time [s]',\n",
    "        colormap='Accent',\n",
    "        linewidth=3,\n",
    "        markersize=10,\n",
    "        marker='o'\n",
    "    )\n",
    "        \n",
    "    \n",
    "    return df"
   ]
  },
  {
   "cell_type": "markdown",
   "id": "55a26cce",
   "metadata": {},
   "source": [
    "* dla macierzy IGA riga=0, pxx=2, rxx=0"
   ]
  },
  {
   "cell_type": "code",
   "execution_count": 174,
   "id": "d4bf5bee",
   "metadata": {},
   "outputs": [
    {
     "data": {
      "text/html": [
       "<div>\n",
       "<style scoped>\n",
       "    .dataframe tbody tr th:only-of-type {\n",
       "        vertical-align: middle;\n",
       "    }\n",
       "\n",
       "    .dataframe tbody tr th {\n",
       "        vertical-align: top;\n",
       "    }\n",
       "\n",
       "    .dataframe thead th {\n",
       "        text-align: right;\n",
       "    }\n",
       "</style>\n",
       "<table border=\"1\" class=\"dataframe\">\n",
       "  <thead>\n",
       "    <tr style=\"text-align: right;\">\n",
       "      <th></th>\n",
       "      <th>n/2</th>\n",
       "      <th>n/4</th>\n",
       "      <th>1</th>\n",
       "    </tr>\n",
       "  </thead>\n",
       "  <tbody>\n",
       "    <tr>\n",
       "      <th>16</th>\n",
       "      <td>0.000461</td>\n",
       "      <td>0.000704</td>\n",
       "      <td>0.000686</td>\n",
       "    </tr>\n",
       "    <tr>\n",
       "      <th>25</th>\n",
       "      <td>0.001032</td>\n",
       "      <td>0.001413</td>\n",
       "      <td>0.001711</td>\n",
       "    </tr>\n",
       "    <tr>\n",
       "      <th>36</th>\n",
       "      <td>0.001940</td>\n",
       "      <td>0.002342</td>\n",
       "      <td>0.002484</td>\n",
       "    </tr>\n",
       "    <tr>\n",
       "      <th>49</th>\n",
       "      <td>0.004544</td>\n",
       "      <td>0.004982</td>\n",
       "      <td>0.005149</td>\n",
       "    </tr>\n",
       "    <tr>\n",
       "      <th>64</th>\n",
       "      <td>0.006265</td>\n",
       "      <td>0.008974</td>\n",
       "      <td>0.008441</td>\n",
       "    </tr>\n",
       "    <tr>\n",
       "      <th>81</th>\n",
       "      <td>0.011088</td>\n",
       "      <td>0.013312</td>\n",
       "      <td>0.014287</td>\n",
       "    </tr>\n",
       "    <tr>\n",
       "      <th>100</th>\n",
       "      <td>0.030317</td>\n",
       "      <td>0.043494</td>\n",
       "      <td>0.026888</td>\n",
       "    </tr>\n",
       "    <tr>\n",
       "      <th>121</th>\n",
       "      <td>0.031001</td>\n",
       "      <td>0.028356</td>\n",
       "      <td>0.029466</td>\n",
       "    </tr>\n",
       "    <tr>\n",
       "      <th>144</th>\n",
       "      <td>0.032587</td>\n",
       "      <td>0.039900</td>\n",
       "      <td>0.041180</td>\n",
       "    </tr>\n",
       "  </tbody>\n",
       "</table>\n",
       "</div>"
      ],
      "text/plain": [
       "          n/2       n/4         1\n",
       "16   0.000461  0.000704  0.000686\n",
       "25   0.001032  0.001413  0.001711\n",
       "36   0.001940  0.002342  0.002484\n",
       "49   0.004544  0.004982  0.005149\n",
       "64   0.006265  0.008974  0.008441\n",
       "81   0.011088  0.013312  0.014287\n",
       "100  0.030317  0.043494  0.026888\n",
       "121  0.031001  0.028356  0.029466\n",
       "144  0.032587  0.039900  0.041180"
      ]
     },
     "execution_count": 174,
     "metadata": {},
     "output_type": "execute_result"
    },
    {
     "data": {
      "image/png": "[encoded data removed]",
      "text/plain": [
       "<Figure size 936x720 with 1 Axes>"
      ]
     },
     "metadata": {
      "needs_background": "light"
     },
     "output_type": "display_data"
    }
   ],
   "source": [
    "compare_times(riga_matrices)"
   ]
  },
  {
   "cell_type": "markdown",
   "id": "6ca35e52",
   "metadata": {},
   "source": [
    "* dla macierzy FEM riga=1, pxx=2, rxx=0"
   ]
  },
  {
   "cell_type": "code",
   "execution_count": 175,
   "id": "10a4cc99",
   "metadata": {},
   "outputs": [
    {
     "data": {
      "text/html": [
       "<div>\n",
       "<style scoped>\n",
       "    .dataframe tbody tr th:only-of-type {\n",
       "        vertical-align: middle;\n",
       "    }\n",
       "\n",
       "    .dataframe tbody tr th {\n",
       "        vertical-align: top;\n",
       "    }\n",
       "\n",
       "    .dataframe thead th {\n",
       "        text-align: right;\n",
       "    }\n",
       "</style>\n",
       "<table border=\"1\" class=\"dataframe\">\n",
       "  <thead>\n",
       "    <tr style=\"text-align: right;\">\n",
       "      <th></th>\n",
       "      <th>n/2</th>\n",
       "      <th>n/4</th>\n",
       "      <th>1</th>\n",
       "    </tr>\n",
       "  </thead>\n",
       "  <tbody>\n",
       "    <tr>\n",
       "      <th>25</th>\n",
       "      <td>0.002977</td>\n",
       "      <td>0.001911</td>\n",
       "      <td>0.001852</td>\n",
       "    </tr>\n",
       "    <tr>\n",
       "      <th>49</th>\n",
       "      <td>0.008578</td>\n",
       "      <td>0.007377</td>\n",
       "      <td>0.006438</td>\n",
       "    </tr>\n",
       "    <tr>\n",
       "      <th>81</th>\n",
       "      <td>0.009888</td>\n",
       "      <td>0.012708</td>\n",
       "      <td>0.013121</td>\n",
       "    </tr>\n",
       "    <tr>\n",
       "      <th>121</th>\n",
       "      <td>0.023529</td>\n",
       "      <td>0.027348</td>\n",
       "      <td>0.037074</td>\n",
       "    </tr>\n",
       "    <tr>\n",
       "      <th>169</th>\n",
       "      <td>0.046116</td>\n",
       "      <td>0.056574</td>\n",
       "      <td>0.060564</td>\n",
       "    </tr>\n",
       "    <tr>\n",
       "      <th>225</th>\n",
       "      <td>0.116963</td>\n",
       "      <td>0.114950</td>\n",
       "      <td>0.120441</td>\n",
       "    </tr>\n",
       "    <tr>\n",
       "      <th>289</th>\n",
       "      <td>0.142296</td>\n",
       "      <td>0.171750</td>\n",
       "      <td>0.267048</td>\n",
       "    </tr>\n",
       "    <tr>\n",
       "      <th>361</th>\n",
       "      <td>0.288895</td>\n",
       "      <td>0.367838</td>\n",
       "      <td>0.366767</td>\n",
       "    </tr>\n",
       "    <tr>\n",
       "      <th>441</th>\n",
       "      <td>0.351674</td>\n",
       "      <td>0.431281</td>\n",
       "      <td>0.453224</td>\n",
       "    </tr>\n",
       "    <tr>\n",
       "      <th>529</th>\n",
       "      <td>0.529567</td>\n",
       "      <td>0.634555</td>\n",
       "      <td>0.679491</td>\n",
       "    </tr>\n",
       "    <tr>\n",
       "      <th>625</th>\n",
       "      <td>0.811806</td>\n",
       "      <td>0.943842</td>\n",
       "      <td>0.986442</td>\n",
       "    </tr>\n",
       "    <tr>\n",
       "      <th>729</th>\n",
       "      <td>1.169953</td>\n",
       "      <td>1.352377</td>\n",
       "      <td>1.448873</td>\n",
       "    </tr>\n",
       "    <tr>\n",
       "      <th>841</th>\n",
       "      <td>2.024390</td>\n",
       "      <td>1.887498</td>\n",
       "      <td>1.949101</td>\n",
       "    </tr>\n",
       "  </tbody>\n",
       "</table>\n",
       "</div>"
      ],
      "text/plain": [
       "          n/2       n/4         1\n",
       "25   0.002977  0.001911  0.001852\n",
       "49   0.008578  0.007377  0.006438\n",
       "81   0.009888  0.012708  0.013121\n",
       "121  0.023529  0.027348  0.037074\n",
       "169  0.046116  0.056574  0.060564\n",
       "225  0.116963  0.114950  0.120441\n",
       "289  0.142296  0.171750  0.267048\n",
       "361  0.288895  0.367838  0.366767\n",
       "441  0.351674  0.431281  0.453224\n",
       "529  0.529567  0.634555  0.679491\n",
       "625  0.811806  0.943842  0.986442\n",
       "729  1.169953  1.352377  1.448873\n",
       "841  2.024390  1.887498  1.949101"
      ]
     },
     "execution_count": 175,
     "metadata": {},
     "output_type": "execute_result"
    },
    {
     "data": {
      "image/png": "[encoded data removed]",
      "text/plain": [
       "<Figure size 936x720 with 1 Axes>"
      ]
     },
     "metadata": {
      "needs_background": "light"
     },
     "output_type": "display_data"
    }
   ],
   "source": [
    "compare_times(fem_matrices)"
   ]
  },
  {
   "cell_type": "markdown",
   "id": "animal-honduras",
   "metadata": {},
   "source": [
    "## Koszt obliczeniowy i pamięciowy"
   ]
  },
  {
   "cell_type": "markdown",
   "id": "global-texas",
   "metadata": {},
   "source": [
    "\"3. Jaki jest koszt obliczeniowy i pamięciowy (flopsy i memopsy) zaimplementowanego\n",
    "algorytmu?\""
   ]
  },
  {
   "cell_type": "markdown",
   "id": "27d921ac",
   "metadata": {},
   "source": [
    "Koszt obliczeniowy (flops): <br>\n",
    "$$ \\sum \\limits _{k=0} ^{n-1} [(n-k-1) + \\sum \\limits _{j=k+1} ^{n} (n-j)*2]$$ <br>\n",
    "$$ \\sum \\limits _{k=0} ^{n-1} [(n-k-1) + (k-n)*(1+k-n)]$$ <br>\n",
    "$$ \\frac{1}{3}n^3 +\\frac{1}{2}n^2 -\\frac{5}{6}n $$ <br>\n",
    "Koszt pamięciowy (memops): <br>\n",
    "$$ \\sum \\limits _{k=0} ^{n-1} [3 + 4*(n-k-1) + \\sum \\limits _{j=k+1} ^{n} 1 + 2*(n-j)] $$ <br>\n",
    "$$ \\sum \\limits _{k=0} ^{n-1} [3 + 4*(n-k-1) + (k - n)^2] $$ <br>\n",
    "$$ \\sum \\limits _{k=0} ^{n-1} [3 + 4*(n-k-1) + (k - n)^2] $$ <br>\n",
    "$$ \\frac{1}{3}n^3 + \\frac{15}{6}n^2 + \\frac{7}{6}n $$ <br>"
   ]
  },
  {
   "cell_type": "markdown",
   "id": "competent-naples",
   "metadata": {},
   "source": [
    "## Wnioski"
   ]
  },
  {
   "cell_type": "markdown",
   "id": "alike-premiere",
   "metadata": {},
   "source": [
    "* Algorytm faktoryzacji LDL^T ma porównywalne koszty obliczeniowe i pamięciowe.\n",
    "* "
   ]
  },
  {
   "cell_type": "markdown",
   "id": "cc7869ea",
   "metadata": {},
   "source": [
    "M. Hawryluk, N. Wolniak. 2021"
   ]
  }
 ],
 "metadata": {
  "interpreter": {
   "hash": "f9f85f796d01129d0dd105a088854619f454435301f6ffec2fea96ecbd9be4ac"
  },
  "kernelspec": {
   "display_name": "Python 3",
   "language": "python",
   "name": "python3"
  },
  "language_info": {
   "codemirror_mode": {
    "name": "ipython",
    "version": 3
   },
   "file_extension": ".py",
   "mimetype": "text/x-python",
   "name": "python",
   "nbconvert_exporter": "python",
   "pygments_lexer": "ipython3",
   "version": "3.8.10"
  }
 },
 "nbformat": 4,
 "nbformat_minor": 5
}
