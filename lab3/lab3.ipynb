{
 "cells": [
  {
   "cell_type": "markdown",
   "id": "b978698c",
   "metadata": {},
   "source": [
    "# Algorytmy macierzowe - zadanie nr 3 - Formaty macierzy rzadkich"
   ]
  },
  {
   "cell_type": "markdown",
   "id": "b7bd8623",
   "metadata": {},
   "source": [
    "\" Proszę wybrać swój ulubiony język programowania. Proszę wziąć największe macierze, które używali Państwo w zadaniu pierwszym (ewentualnie zmniejszyć p żeby stały się rzadsze). Proszę przekonwertować je do stosownego formatu i przemnożyć\n",
    "przez siebie.\n",
    "\n",
    "6. Pierwsza i druga macierz CSR format \""
   ]
  },
  {
   "cell_type": "markdown",
   "id": "1eeefcaa",
   "metadata": {},
   "source": [
    "Marcin Hawryluk, Norbert Wolniak <br>grupa: piątek 12:50B <hr>"
   ]
  },
  {
   "cell_type": "code",
   "execution_count": 1,
   "id": "efdd8816",
   "metadata": {},
   "outputs": [],
   "source": [
    "import numpy as np\n",
    "from time import time\n",
    "import pandas as pd\n",
    "import matplotlib.pyplot as plt\n",
    "import os\n",
    "from time import time"
   ]
  },
  {
   "cell_type": "markdown",
   "id": "b27bd2fd",
   "metadata": {},
   "source": [
    "## Generowanie macierzy"
   ]
  },
  {
   "cell_type": "code",
   "execution_count": 2,
   "id": "302d3eb7",
   "metadata": {},
   "outputs": [],
   "source": [
    "def read_matrix(file_name):\n",
    "    with open(file_name, 'r') as file:\n",
    "        for line in file:\n",
    "            if line.strip() == '':\n",
    "                continue\n",
    "            if line[0] == '#':\n",
    "                if line[2:6] == \"rows\":\n",
    "                    _, _, size = line.split()\n",
    "                    size = int(size)\n",
    "                    matrix = np.zeros((size, size))\n",
    "            else:\n",
    "                row, col, val = line.split(' ')\n",
    "                matrix[int(row)-1, int(col)-1] = val\n",
    "            \n",
    "    return matrix"
   ]
  },
  {
   "cell_type": "code",
   "execution_count": 3,
   "id": "4ca3fb69",
   "metadata": {},
   "outputs": [],
   "source": [
    "# 441 x 441 matrix\n",
    "A = read_matrix(\"matrices/fem_10.txt\")\n",
    "B = A.copy()"
   ]
  },
  {
   "cell_type": "code",
   "execution_count": 4,
   "id": "acoustic-experiment",
   "metadata": {},
   "outputs": [
    {
     "data": {
      "image/png": "[encoded data removed]",
      "text/plain": [
       "<Figure size 1080x360 with 3 Axes>"
      ]
     },
     "metadata": {
      "needs_background": "light"
     },
     "output_type": "display_data"
    }
   ],
   "source": [
    "fig, ax = plt.subplots(1, 3, figsize=(15, 5))\n",
    "\n",
    "ax[0].spy(A)\n",
    "ax[1].spy(B)\n",
    "ax[2].spy(A @ B)\n",
    "\n",
    "ax[0].set_title('A')\n",
    "ax[1].set_title('B')\n",
    "ax[2].set_title('A @ B')\n",
    "\n",
    "plt.show()"
   ]
  },
  {
   "cell_type": "code",
   "execution_count": 5,
   "id": "5d88ad73",
   "metadata": {},
   "outputs": [],
   "source": [
    "matrices  = []\n",
    "for file in os.listdir('matrices'):\n",
    "    matrices.append(read_matrix('matrices/' + file))"
   ]
  },
  {
   "cell_type": "markdown",
   "id": "e223511f",
   "metadata": {},
   "source": [
    "## Mnożenie macierzy z zadania 1"
   ]
  },
  {
   "cell_type": "code",
   "execution_count": 6,
   "id": "ec7765b2",
   "metadata": {},
   "outputs": [],
   "source": [
    "def mm_ipj(matrix_a, matrix_b):\n",
    "    (m, n), k = matrix_a.shape, matrix_b.shape[1]\n",
    "    matrix_c = np.zeros((m, k), dtype=np.float64)\n",
    "    for i in range(m):\n",
    "        for p in range(n):\n",
    "            for j in range(k):\n",
    "                matrix_c[i, j] += matrix_a[i, p] * matrix_b[p, j]\n",
    "    return matrix_c"
   ]
  },
  {
   "cell_type": "code",
   "execution_count": 7,
   "id": "467cc5f8",
   "metadata": {},
   "outputs": [
    {
     "name": "stdout",
     "output_type": "stream",
     "text": [
      "Czas mnożenia :  38.120023250579834\n"
     ]
    }
   ],
   "source": [
    "start = time()\n",
    "mm_ipj(A, B)\n",
    "end = time()\n",
    "print(\"Czas mnożenia : \", end - start)"
   ]
  },
  {
   "cell_type": "markdown",
   "id": "d6db8250",
   "metadata": {},
   "source": [
    "## Format CSR"
   ]
  },
  {
   "cell_type": "code",
   "execution_count": 8,
   "id": "08f8d9a5",
   "metadata": {},
   "outputs": [],
   "source": [
    "def convert_to_csr(matrix):\n",
    "    m, n = matrix.shape\n",
    "    ICL = []\n",
    "    VAL = []\n",
    "    ROWPTR = []\n",
    "    counter = 0\n",
    "    \n",
    "    for i in range(n): # rows\n",
    "        ROWPTR.append(counter)\n",
    "        for j in range(m): # columns\n",
    "            val_ij = matrix[i, j]\n",
    "            if abs(val_ij) < 1e-8:\n",
    "                continue\n",
    "            ICL.append(j)\n",
    "            VAL.append(val_ij)\n",
    "            counter += 1\n",
    "            \n",
    "    ROWPTR.append(counter)\n",
    "    \n",
    "    return ICL, VAL, ROWPTR"
   ]
  },
  {
   "cell_type": "code",
   "execution_count": 9,
   "id": "5aa0fd21",
   "metadata": {},
   "outputs": [],
   "source": [
    "A_csr = convert_to_csr(A)\n",
    "B_csr = convert_to_csr(B)"
   ]
  },
  {
   "cell_type": "markdown",
   "id": "6452548b",
   "metadata": {},
   "source": [
    "## Mnożenie macierzy CSR"
   ]
  },
  {
   "cell_type": "code",
   "execution_count": 10,
   "id": "62e6ceb0",
   "metadata": {},
   "outputs": [],
   "source": [
    "def get_ICL_VAL_from_dict(C_ROW):\n",
    "    C_ROW_sorted = sorted(C_ROW.items(), key=lambda item : item[0]) # sorting by key (column index)\n",
    "    ICL_C = [x[0] for x in C_ROW_sorted] # column indexes list\n",
    "    VAL_C = [x[1] for x in C_ROW_sorted] # values list\n",
    "    return ICL_C, VAL_C\n",
    "    \n",
    "def matmul_CSR(A, B):\n",
    "    ICL_A, VAL_A, ROWPTR_A = A\n",
    "    ICL_B, VAL_B, ROWPTR_B = B    \n",
    "    ICL_C, VAL_C, ROWPTR_C = [], [], []\n",
    "\n",
    "    elements_counter = 0\n",
    "    for i in range(len(ROWPTR_A) - 1): # rows in A\n",
    "        row_a_start_idx = ROWPTR_A[i]\n",
    "        row_a_end_idx = ROWPTR_A[i+1]\n",
    "        C_ROW = dict() # dict to store results of row_A * rows_B\n",
    "        for j in range(row_a_start_idx, row_a_end_idx): # indexes of values in row A\n",
    "            col_a = ICL_A[j]\n",
    "            val_a = VAL_A[j]\n",
    "            row_b_start_idx = ROWPTR_B[col_a] # column idx in A maps to row idx in B\n",
    "            row_b_end_idx = ROWPTR_B[col_a + 1] # col_a + 1 to get range of value indexes in B row\n",
    "            for p in range(row_b_start_idx, row_b_end_idx): # indexes of values in row B\n",
    "                col_b = ICL_B[p]\n",
    "                val_b = VAL_B[p]\n",
    "                C_ROW[col_b] = C_ROW.get(col_b, 0) + (val_a * val_b) # update dict with val_a * val_b\n",
    "         \n",
    "        ICL, VAL = get_ICL_VAL_from_dict(C_ROW)\n",
    "        ICL_C += ICL\n",
    "        VAL_C += VAL\n",
    "        ROWPTR_C.append(elements_counter)\n",
    "        elements_counter += len(VAL)\n",
    "    \n",
    "    ROWPTR_C.append(elements_counter)\n",
    "    return ICL_C, VAL_C, ROWPTR_C"
   ]
  },
  {
   "cell_type": "code",
   "execution_count": 11,
   "id": "e2b086ee",
   "metadata": {},
   "outputs": [
    {
     "name": "stdout",
     "output_type": "stream",
     "text": [
      "Czas mnożenia :  0.03925585746765137\n"
     ]
    }
   ],
   "source": [
    "start = time()\n",
    "matmul_CSR(A_csr, B_csr)\n",
    "end = time()\n",
    "print(\"Czas mnożenia : \",end - start)"
   ]
  },
  {
   "cell_type": "markdown",
   "id": "0c076950",
   "metadata": {},
   "source": [
    "## Test poprawności mnożenia CSR * CSR"
   ]
  },
  {
   "cell_type": "code",
   "execution_count": 12,
   "id": "211054fd",
   "metadata": {},
   "outputs": [],
   "source": [
    "def print_CSR_matrix(A):\n",
    "    ICL, VAL, ROWPTR = A\n",
    "    VAL = VAL.copy()\n",
    "    m_col = max(ICL) + 1\n",
    "    for i in range(len(ROWPTR)-1):\n",
    "        for p in range(m_col):\n",
    "            if p in ICL[ROWPTR[i]:ROWPTR[i+1]]:\n",
    "                print(VAL.pop(0), end=\",\")\n",
    "            else:\n",
    "                print(0, end=\",\")\n",
    "        print(\"\\n\")"
   ]
  },
  {
   "cell_type": "code",
   "execution_count": 13,
   "id": "317692b3",
   "metadata": {},
   "outputs": [
    {
     "name": "stdout",
     "output_type": "stream",
     "text": [
      "Format CSR \n",
      " ICL : [0 0 1] \n",
      " VAL : [0 0 0]\n",
      " ROWPTR : [3 1 4]\n"
     ]
    }
   ],
   "source": [
    "testA = np.array([[0,0,1],\n",
    "                  [0,0,0],\n",
    "                  [3,1,4]])\n",
    "testB = np.array([[0,0,1],\n",
    "                  [0,0,0],\n",
    "                  [3,1,4]])\n",
    "\n",
    "testA_csr = convert_to_csr(testA)\n",
    "testB_csr = convert_to_csr(testB)\n",
    "\n",
    "print(\"Format CSR \\n ICL : {} \\n VAL : {}\\n ROWPTR : {}\".format(*testA))"
   ]
  },
  {
   "cell_type": "code",
   "execution_count": 14,
   "id": "8baa4d2a",
   "metadata": {},
   "outputs": [
    {
     "name": "stdout",
     "output_type": "stream",
     "text": [
      "Wynikowa macierz (zwykłe mnożenie)\n",
      "\n",
      "[[ 3  1  4]\n",
      " [ 0  0  0]\n",
      " [12  4 19]]\n"
     ]
    }
   ],
   "source": [
    "print(\"Wynikowa macierz (zwykłe mnożenie)\\n\")\n",
    "print(testA @ testB)"
   ]
  },
  {
   "cell_type": "code",
   "execution_count": 15,
   "id": "e8dad7c1",
   "metadata": {},
   "outputs": [
    {
     "name": "stdout",
     "output_type": "stream",
     "text": [
      "Wynikowa macierz (mnożenie CSR)\n",
      "\n",
      "3,1,4,\n",
      "\n",
      "0,0,0,\n",
      "\n",
      "12,4,19,\n",
      "\n"
     ]
    }
   ],
   "source": [
    "testC = matmul_CSR(testA_csr, testB_csr)\n",
    "print(\"Wynikowa macierz (mnożenie CSR)\\n\")\n",
    "print_CSR_matrix(testC)"
   ]
  },
  {
   "cell_type": "markdown",
   "id": "8961bb5a",
   "metadata": {},
   "source": [
    "## Pomiar czasów"
   ]
  },
  {
   "cell_type": "code",
   "execution_count": 16,
   "id": "0ce6e070",
   "metadata": {},
   "outputs": [],
   "source": [
    "def compare_times(matrices):\n",
    "    times = {}\n",
    "    \n",
    "    for matrix in matrices:\n",
    "        size = matrix.shape[0]\n",
    "        times[size] = {}\n",
    "        start = time()\n",
    "        mm_ipj(matrix, matrix)\n",
    "        times[size][\"matmul_ijp\"] = time() - start\n",
    "        \n",
    "        matrix_csr = convert_to_csr(matrix)\n",
    "        start = time()\n",
    "        matmul_CSR(matrix_csr, matrix_csr)\n",
    "        times[size][\"matmul_csr\"] = time() - start\n",
    "\n",
    "    df = pd.DataFrame(times).T.sort_index()\n",
    "    df.plot(\n",
    "        figsize=(13, 10),\n",
    "        xlabel='matrix size (n x n)',\n",
    "        ylabel='time [s]',\n",
    "        colormap='Accent',\n",
    "        linewidth=3,\n",
    "        markersize=10,\n",
    "        marker='o'\n",
    "    )\n",
    "          \n",
    "    return df"
   ]
  },
  {
   "cell_type": "code",
   "execution_count": 17,
   "id": "4a4ff2f7",
   "metadata": {},
   "outputs": [
    {
     "data": {
      "text/html": [
       "<div>\n",
       "<style scoped>\n",
       "    .dataframe tbody tr th:only-of-type {\n",
       "        vertical-align: middle;\n",
       "    }\n",
       "\n",
       "    .dataframe tbody tr th {\n",
       "        vertical-align: top;\n",
       "    }\n",
       "\n",
       "    .dataframe thead th {\n",
       "        text-align: right;\n",
       "    }\n",
       "</style>\n",
       "<table border=\"1\" class=\"dataframe\">\n",
       "  <thead>\n",
       "    <tr style=\"text-align: right;\">\n",
       "      <th></th>\n",
       "      <th>matmul_ijp</th>\n",
       "      <th>matmul_csr</th>\n",
       "    </tr>\n",
       "  </thead>\n",
       "  <tbody>\n",
       "    <tr>\n",
       "      <th>25</th>\n",
       "      <td>0.007023</td>\n",
       "      <td>0.000892</td>\n",
       "    </tr>\n",
       "    <tr>\n",
       "      <th>121</th>\n",
       "      <td>0.725178</td>\n",
       "      <td>0.007040</td>\n",
       "    </tr>\n",
       "    <tr>\n",
       "      <th>225</th>\n",
       "      <td>4.552065</td>\n",
       "      <td>0.014193</td>\n",
       "    </tr>\n",
       "    <tr>\n",
       "      <th>361</th>\n",
       "      <td>19.286551</td>\n",
       "      <td>0.023925</td>\n",
       "    </tr>\n",
       "    <tr>\n",
       "      <th>441</th>\n",
       "      <td>35.291504</td>\n",
       "      <td>0.030759</td>\n",
       "    </tr>\n",
       "  </tbody>\n",
       "</table>\n",
       "</div>"
      ],
      "text/plain": [
       "     matmul_ijp  matmul_csr\n",
       "25     0.007023    0.000892\n",
       "121    0.725178    0.007040\n",
       "225    4.552065    0.014193\n",
       "361   19.286551    0.023925\n",
       "441   35.291504    0.030759"
      ]
     },
     "execution_count": 17,
     "metadata": {},
     "output_type": "execute_result"
    },
    {
     "data": {
      "image/png": "[encoded data removed]",
      "text/plain": [
       "<Figure size 936x720 with 1 Axes>"
      ]
     },
     "metadata": {
      "needs_background": "light"
     },
     "output_type": "display_data"
    }
   ],
   "source": [
    "compare_times(matrices)"
   ]
  },
  {
   "cell_type": "markdown",
   "id": "e59e1651",
   "metadata": {},
   "source": [
    "## Wnioski"
   ]
  },
  {
   "cell_type": "markdown",
   "id": "a66fcc8f",
   "metadata": {},
   "source": [
    "* W przypadku, gdy większość elementów macierzy jest zerowa, jesteśmy w stanie zaoszczędzić pamięć, korzystając z różnych formatów reprezentacji macierzy rzadkich; jak również zmniejszyć czas operacji, takich jak np. mnożenie macierzy.\n",
    "* Dla formatu CSR, mamy możliwość szybkiego iterowania jedynie po wierszach. Odczyt po kolumnach wymaga dużej złożoności. W celu zoptymalizowania konkretnych procedur konieczne jest odpowiednie dobranie kolejności odwołań."
   ]
  },
  {
   "cell_type": "markdown",
   "id": "23865378",
   "metadata": {},
   "source": [
    "M. Hawryluk, N. Wolniak. 2021"
   ]
  }
 ],
 "metadata": {
  "interpreter": {
   "hash": "31f2aee4e71d21fbe5cf8b01ff0e069b9275f58929596ceb00d14d90e3e16cd6"
  },
  "kernelspec": {
   "display_name": "Python 3 (ipykernel)",
   "language": "python",
   "name": "python3"
  },
  "language_info": {
   "codemirror_mode": {
    "name": "ipython",
    "version": 3
   },
   "file_extension": ".py",
   "mimetype": "text/x-python",
   "name": "python",
   "nbconvert_exporter": "python",
   "pygments_lexer": "ipython3",
   "version": "3.8.10"
  }
 },
 "nbformat": 4,
 "nbformat_minor": 5
}
