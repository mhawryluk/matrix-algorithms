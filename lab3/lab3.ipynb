{
 "cells": [
  {
   "cell_type": "markdown",
   "id": "b978698c",
   "metadata": {},
   "source": [
    "# Algorytmy macierzowe - zadanie nr 3 - Formaty macierzy rzadkich"
   ]
  },
  {
   "cell_type": "markdown",
   "id": "b7bd8623",
   "metadata": {},
   "source": [
    "\" Proszę wybrać swój ulubiony język programowania. Proszę wziąć największe macierze, które używali Państwo w zadaniu pierwszym (ewentualnie zmniejszyć p żeby stały się rzadsze). Proszę przekonwertować je do stosownego formatu i przemnożyć\n",
    "przez siebie.\n",
    "\n",
    "6. Pierwsza i druga macierz CSR format \""
   ]
  },
  {
   "cell_type": "markdown",
   "id": "1eeefcaa",
   "metadata": {},
   "source": [
    "Marcin Hawryluk, Norbert Wolniak <br>grupa: piątek 12:50B <hr>"
   ]
  },
  {
   "cell_type": "code",
   "execution_count": 1,
   "id": "efdd8816",
   "metadata": {},
   "outputs": [],
   "source": [
    "import numpy as np\n",
    "from time import time\n",
    "import pandas as pd\n",
    "import os"
   ]
  },
  {
   "cell_type": "markdown",
   "id": "b27bd2fd",
   "metadata": {},
   "source": [
    "## Generowanie macierzy"
   ]
  },
  {
   "cell_type": "code",
   "execution_count": 2,
   "id": "302d3eb7",
   "metadata": {},
   "outputs": [],
   "source": [
    "def read_matrix(file_name):\n",
    "    with open(file_name, 'r') as file:\n",
    "        for line in file:\n",
    "            if line.strip() == '':\n",
    "                continue\n",
    "            if line[0] == '#':\n",
    "                if line[2:6] == \"rows\":\n",
    "                    _, _, size = line.split()\n",
    "                    size = int(size)\n",
    "                    matrix = np.zeros((size, size))\n",
    "            else:\n",
    "                row, col, val = line.split(' ')\n",
    "                matrix[int(row)-1, int(col)-1] = val\n",
    "            \n",
    "    return matrix"
   ]
  },
  {
   "cell_type": "markdown",
   "id": "d6db8250",
   "metadata": {},
   "source": [
    "## Format CSR"
   ]
  },
  {
   "cell_type": "code",
   "execution_count": 3,
   "id": "08f8d9a5",
   "metadata": {},
   "outputs": [],
   "source": [
    "def convert_to_csr(matrix):\n",
    "    m, n = matrix.shape\n",
    "    ICL = []\n",
    "    VAL = []\n",
    "    ROWPTR = []\n",
    "    counter = 0\n",
    "    for i in range(n): # rows\n",
    "        ROWPTR.append(counter)\n",
    "        for j in range(m): # columns\n",
    "            val_ij = matrix[i,j]\n",
    "            if abs(val_ij) < 1e-8:\n",
    "                continue\n",
    "            ICL.append(j)\n",
    "            VAL.append(val_ij)\n",
    "            counter += 1\n",
    "    ROWPTR.append(counter)\n",
    "    \n",
    "    return ICL, VAL, ROWPTR"
   ]
  },
  {
   "cell_type": "code",
   "execution_count": 105,
   "id": "793fe6fb",
   "metadata": {},
   "outputs": [],
   "source": [
    "test_matrix_A = np.array([[0,0,1],\n",
    "                          [0,2,0],\n",
    "                          [3,1,4]])\n",
    "test_matrix_B = np.array([[0,0,1],\n",
    "                          [0,2,0],\n",
    "                          [3,1,4]])"
   ]
  },
  {
   "cell_type": "code",
   "execution_count": 106,
   "id": "9598de30",
   "metadata": {},
   "outputs": [
    {
     "name": "stdout",
     "output_type": "stream",
     "text": [
      "[[ 3  1  4]\n",
      " [ 0  4  0]\n",
      " [12  6 19]]\n"
     ]
    }
   ],
   "source": [
    "print(test_matrix_A @ test_matrix_B)"
   ]
  },
  {
   "cell_type": "code",
   "execution_count": 107,
   "id": "5e053e07",
   "metadata": {},
   "outputs": [
    {
     "name": "stdout",
     "output_type": "stream",
     "text": [
      "ICL :  [2, 1, 0, 1, 2]\n",
      "VAL :  [1, 2, 3, 1, 4]\n",
      "ROWPTR :  [0, 1, 2, 5]\n"
     ]
    }
   ],
   "source": [
    "ICL, VAL, ROWPTR = convert_to_csr(test_matrix_A)\n",
    "print(\"ICL : \", ICL)\n",
    "print(\"VAL : \", VAL)\n",
    "print(\"ROWPTR : \", ROWPTR)"
   ]
  },
  {
   "cell_type": "code",
   "execution_count": 108,
   "id": "bdebc45f",
   "metadata": {},
   "outputs": [],
   "source": [
    "A = convert_to_csr(test_matrix_A)\n",
    "B = convert_to_csr(test_matrix_B)"
   ]
  },
  {
   "cell_type": "markdown",
   "id": "6452548b",
   "metadata": {},
   "source": [
    "## Mnożenie macierzy"
   ]
  },
  {
   "cell_type": "code",
   "execution_count": 116,
   "id": "62e6ceb0",
   "metadata": {},
   "outputs": [],
   "source": [
    "def get_ICL_VAL_from_dict(C_ROW):\n",
    "    C_ROW_sorted = sorted(C_ROW.items(), key=lambda item : item[0]) # sorting by key (column index)\n",
    "    ICL_C = [x[0] for x in C_ROW_sorted] # column indexes list\n",
    "    VAL_C = [x[1] for x in C_ROW_sorted] # values list\n",
    "    return ICL_C, VAL_C\n",
    "    \n",
    "def matmul_CSR(A, B):\n",
    "    ICL_A, VAL_A, ROWPTR_A = A\n",
    "    ICL_B, VAL_B, ROWPTR_B = B    \n",
    "    ICL_C, VAL_C, ROWPTR_C = [], [], []\n",
    "\n",
    "    elements_counter = 0\n",
    "    for i in range(len(ROWPTR_A) - 1):\n",
    "        row_a_start = ROWPTR_A[i]\n",
    "        row_a_end = ROWPTR_A[i+1]\n",
    "        C_ROW = dict() # dict to store results of row * row multiplication instead of row * col\n",
    "        for j in range(row_a_start,row_a_end):\n",
    "            col_a = ICL_A[j]\n",
    "            val_a = VAL_A[j]\n",
    "            row_b_start = ROWPTR_B[col_a]    \n",
    "            row_b_end = ROWPTR_B[col_a + 1]\n",
    "            for p in range(row_b_start,row_b_end):\n",
    "                col_b = ICL_B[p]\n",
    "                val_b = VAL_B[p]\n",
    "                C_ROW[col_b] = C_ROW.get(col_b, 0) + (val_a * val_b)\n",
    "                \n",
    "        ICL, VAL = get_ICL_VAL_from_dict(C_ROW)\n",
    "        ICL_C += ICL\n",
    "        VAL_C += VAL\n",
    "        ROWPTR_C.append(elements_counter)\n",
    "        elements_counter += len(VAL)\n",
    "    \n",
    "    ROWPTR_C.append(elements_counter)\n",
    "    return ICL_C, VAL_C, ROWPTR_C"
   ]
  },
  {
   "cell_type": "code",
   "execution_count": 112,
   "id": "f04ab40e",
   "metadata": {},
   "outputs": [],
   "source": [
    "C = matmul_CSR(A, B)"
   ]
  },
  {
   "cell_type": "code",
   "execution_count": 92,
   "id": "fc1eee73",
   "metadata": {},
   "outputs": [],
   "source": [
    "def print_CSR_matrix(A):\n",
    "    ICL, VAL, ROWPTR = A\n",
    "    VAL = VAL.copy()\n",
    "    m_col = max(ICL) + 1\n",
    "    for i in range(len(ROWPTR)-1):\n",
    "        for p in range(m_col):\n",
    "            if p in ICL[ROWPTR[i]:ROWPTR[i+1]]:\n",
    "                print(VAL.pop(0), end=\",\")\n",
    "            else:\n",
    "                print(0, end=\",\")\n",
    "        print(\"\\n\")"
   ]
  },
  {
   "cell_type": "code",
   "execution_count": 110,
   "id": "5aa61308",
   "metadata": {},
   "outputs": [
    {
     "name": "stdout",
     "output_type": "stream",
     "text": [
      "3,1,4,\n",
      "\n",
      "0,4,0,\n",
      "\n",
      "12,6,19,\n",
      "\n"
     ]
    }
   ],
   "source": [
    "print_CSR_matrix(C)"
   ]
  },
  {
   "cell_type": "markdown",
   "id": "8961bb5a",
   "metadata": {},
   "source": [
    "## Pomiar czasów"
   ]
  },
  {
   "cell_type": "code",
   "execution_count": null,
   "id": "0ce6e070",
   "metadata": {},
   "outputs": [],
   "source": []
  },
  {
   "cell_type": "markdown",
   "id": "e59e1651",
   "metadata": {},
   "source": [
    "## Wnioski"
   ]
  },
  {
   "cell_type": "markdown",
   "id": "a66fcc8f",
   "metadata": {},
   "source": [
    "* \n",
    "* "
   ]
  },
  {
   "cell_type": "markdown",
   "id": "23865378",
   "metadata": {},
   "source": [
    "M. Hawryluk, N. Wolniak. 2021"
   ]
  }
 ],
 "metadata": {
  "interpreter": {
   "hash": "31f2aee4e71d21fbe5cf8b01ff0e069b9275f58929596ceb00d14d90e3e16cd6"
  },
  "kernelspec": {
   "display_name": "Python 3",
   "language": "python",
   "name": "python3"
  },
  "language_info": {
   "codemirror_mode": {
    "name": "ipython",
    "version": 3
   },
   "file_extension": ".py",
   "mimetype": "text/x-python",
   "name": "python",
   "nbconvert_exporter": "python",
   "pygments_lexer": "ipython3",
   "version": "3.8.10"
  }
 },
 "nbformat": 4,
 "nbformat_minor": 5
}
