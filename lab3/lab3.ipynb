{
 "cells": [
  {
   "cell_type": "markdown",
   "id": "b978698c",
   "metadata": {},
   "source": [
    "# Algorytmy macierzowe - zadanie nr 3 - Formaty macierzy rzadkich"
   ]
  },
  {
   "cell_type": "markdown",
   "id": "b7bd8623",
   "metadata": {},
   "source": [
    "\" Proszę wybrać swój ulubiony język programowania. Proszę wziąć największe macierze, które używali Państwo w zadaniu pierwszym (ewentualnie zmniejszyć p żeby stały się rzadsze). Proszę przekonwertować je do stosownego formatu i przemnożyć\n",
    "przez siebie.\n",
    "\n",
    "6. Pierwsza i druga macierz CSR format \""
   ]
  },
  {
   "cell_type": "markdown",
   "id": "1eeefcaa",
   "metadata": {},
   "source": [
    "Marcin Hawryluk, Norbert Wolniak <br>grupa: piątek 12:50B <hr>"
   ]
  },
  {
   "cell_type": "code",
   "execution_count": 124,
   "id": "efdd8816",
   "metadata": {},
   "outputs": [],
   "source": [
    "import numpy as np\n",
    "from time import time\n",
    "import pandas as pd\n",
    "import os\n",
    "import time"
   ]
  },
  {
   "cell_type": "markdown",
   "id": "b27bd2fd",
   "metadata": {},
   "source": [
    "## Generowanie macierzy"
   ]
  },
  {
   "cell_type": "code",
   "execution_count": 2,
   "id": "302d3eb7",
   "metadata": {},
   "outputs": [],
   "source": [
    "def read_matrix(file_name):\n",
    "    with open(file_name, 'r') as file:\n",
    "        for line in file:\n",
    "            if line.strip() == '':\n",
    "                continue\n",
    "            if line[0] == '#':\n",
    "                if line[2:6] == \"rows\":\n",
    "                    _, _, size = line.split()\n",
    "                    size = int(size)\n",
    "                    matrix = np.zeros((size, size))\n",
    "            else:\n",
    "                row, col, val = line.split(' ')\n",
    "                matrix[int(row)-1, int(col)-1] = val\n",
    "            \n",
    "    return matrix"
   ]
  },
  {
   "cell_type": "code",
   "execution_count": 123,
   "id": "07c68033",
   "metadata": {},
   "outputs": [],
   "source": [
    "# 441 x 441 matrix\n",
    "A = read_matrix(\"fem10.txt\")\n",
    "B = A.copy()"
   ]
  },
  {
   "cell_type": "markdown",
   "id": "853e814e",
   "metadata": {},
   "source": [
    "## Mnożenie macierzy z zadania 1"
   ]
  },
  {
   "cell_type": "code",
   "execution_count": null,
   "id": "e1080033",
   "metadata": {},
   "outputs": [],
   "source": [
    "def mm_ipj(matrix_a, matrix_b):\n",
    "    (m, n), k = matrix_a.shape, matrix_b.shape[1]\n",
    "    matrix_c = np.zeros((m, k), dtype=np.float64)\n",
    "    for i in range(m):\n",
    "        for p in range(n):\n",
    "            for j in range(k):\n",
    "                matrix_c[i, j] += matrix_a[i, p] * matrix_b[p, j]\n",
    "    return matrix_c"
   ]
  },
  {
   "cell_type": "code",
   "execution_count": 125,
   "id": "f8d6a755",
   "metadata": {},
   "outputs": [
    {
     "name": "stdout",
     "output_type": "stream",
     "text": [
      "50.610427141189575\n"
     ]
    }
   ],
   "source": [
    "start = time.time()\n",
    "mm_ipj(A, B)\n",
    "end = time.time()\n",
    "print(end - start)"
   ]
  },
  {
   "cell_type": "markdown",
   "id": "d6db8250",
   "metadata": {},
   "source": [
    "## Format CSR"
   ]
  },
  {
   "cell_type": "code",
   "execution_count": 128,
   "id": "08f8d9a5",
   "metadata": {},
   "outputs": [],
   "source": [
    "def convert_to_csr(matrix):\n",
    "    m, n = matrix.shape\n",
    "    ICL = []\n",
    "    VAL = []\n",
    "    ROWPTR = []\n",
    "    counter = 0\n",
    "    for i in range(n): # rows\n",
    "        ROWPTR.append(counter)\n",
    "        for j in range(m): # columns\n",
    "            val_ij = matrix[i,j]\n",
    "            if abs(val_ij) < 1e-8:\n",
    "                continue\n",
    "            ICL.append(j)\n",
    "            VAL.append(val_ij)\n",
    "            counter += 1\n",
    "    ROWPTR.append(counter)\n",
    "    \n",
    "    return ICL, VAL, ROWPTR"
   ]
  },
  {
   "cell_type": "code",
   "execution_count": 131,
   "id": "df1b4ca1",
   "metadata": {},
   "outputs": [],
   "source": [
    "A_csr = convert_to_csr(A)\n",
    "B_csr = convert_to_csr(B)"
   ]
  },
  {
   "cell_type": "markdown",
   "id": "6452548b",
   "metadata": {},
   "source": [
    "## Mnożenie macierzy CSR"
   ]
  },
  {
   "cell_type": "code",
   "execution_count": 133,
   "id": "62e6ceb0",
   "metadata": {},
   "outputs": [],
   "source": [
    "def get_ICL_VAL_from_dict(C_ROW):\n",
    "    C_ROW_sorted = sorted(C_ROW.items(), key=lambda item : item[0]) # sorting by key (column index)\n",
    "    ICL_C = [x[0] for x in C_ROW_sorted] # column indexes list\n",
    "    VAL_C = [x[1] for x in C_ROW_sorted] # values list\n",
    "    return ICL_C, VAL_C\n",
    "    \n",
    "def matmul_CSR(A, B):\n",
    "    ICL_A, VAL_A, ROWPTR_A = A\n",
    "    ICL_B, VAL_B, ROWPTR_B = B    \n",
    "    ICL_C, VAL_C, ROWPTR_C = [], [], []\n",
    "\n",
    "    elements_counter = 0\n",
    "    for i in range(len(ROWPTR_A) - 1): # rows in A\n",
    "        row_a_start_idx = ROWPTR_A[i]\n",
    "        row_a_end_idx = ROWPTR_A[i+1]\n",
    "        C_ROW = dict() # dict to store results of row_A * rows_B\n",
    "        for j in range(row_a_start_idx,row_a_end_idx): # indexes of values in row A\n",
    "            col_a = ICL_A[j]\n",
    "            val_a = VAL_A[j]\n",
    "            row_b_start_idx = ROWPTR_B[col_a] # column idx in A maps to row idx in B\n",
    "            row_b_end_idx = ROWPTR_B[col_a + 1] # col_a + 1 to get range of value indexes in B row\n",
    "            for p in range(row_b_start_idx,row_b_end_idx): # indexes of values in row B\n",
    "                col_b = ICL_B[p]\n",
    "                val_b = VAL_B[p]\n",
    "                C_ROW[col_b] = C_ROW.get(col_b, 0) + (val_a * val_b) # update dict with val_a * val_b\n",
    "                \n",
    "        ICL, VAL = get_ICL_VAL_from_dict(C_ROW)\n",
    "        ICL_C += ICL\n",
    "        VAL_C += VAL\n",
    "        ROWPTR_C.append(elements_counter)\n",
    "        elements_counter += len(VAL)\n",
    "    \n",
    "    ROWPTR_C.append(elements_counter)\n",
    "    return ICL_C, VAL_C, ROWPTR_C"
   ]
  },
  {
   "cell_type": "code",
   "execution_count": 137,
   "id": "27b7d4a0",
   "metadata": {},
   "outputs": [
    {
     "name": "stdout",
     "output_type": "stream",
     "text": [
      "0.04945850372314453\n"
     ]
    }
   ],
   "source": [
    "start = time.time()\n",
    "matmul_CSR(A_csr, B_csr)\n",
    "end = time.time()\n",
    "print(end - start)"
   ]
  },
  {
   "cell_type": "code",
   "execution_count": 120,
   "id": "5e0bd054",
   "metadata": {},
   "outputs": [],
   "source": [
    "def print_CSR_matrix(A):\n",
    "    ICL, VAL, ROWPTR = A\n",
    "    VAL = VAL.copy()\n",
    "    m_col = max(ICL) + 1\n",
    "    for i in range(len(ROWPTR)-1):\n",
    "        for p in range(m_col):\n",
    "            if p in ICL[ROWPTR[i]:ROWPTR[i+1]]:\n",
    "                print(VAL.pop(0), end=\",\")\n",
    "            else:\n",
    "                print(0, end=\",\")\n",
    "        print(\"\\n\")"
   ]
  },
  {
   "cell_type": "code",
   "execution_count": 110,
   "id": "d940f078",
   "metadata": {},
   "outputs": [
    {
     "name": "stdout",
     "output_type": "stream",
     "text": [
      "3,1,4,\n",
      "\n",
      "0,4,0,\n",
      "\n",
      "12,6,19,\n",
      "\n"
     ]
    }
   ],
   "source": [
    "print_CSR_matrix(C)"
   ]
  },
  {
   "cell_type": "markdown",
   "id": "8961bb5a",
   "metadata": {},
   "source": [
    "## Pomiar czasów"
   ]
  },
  {
   "cell_type": "code",
   "execution_count": null,
   "id": "0ce6e070",
   "metadata": {},
   "outputs": [],
   "source": []
  },
  {
   "cell_type": "markdown",
   "id": "e59e1651",
   "metadata": {},
   "source": [
    "## Wnioski"
   ]
  },
  {
   "cell_type": "markdown",
   "id": "a66fcc8f",
   "metadata": {},
   "source": [
    "* \n",
    "* "
   ]
  },
  {
   "cell_type": "markdown",
   "id": "23865378",
   "metadata": {},
   "source": [
    "M. Hawryluk, N. Wolniak. 2021"
   ]
  }
 ],
 "metadata": {
  "interpreter": {
   "hash": "31f2aee4e71d21fbe5cf8b01ff0e069b9275f58929596ceb00d14d90e3e16cd6"
  },
  "kernelspec": {
   "display_name": "Python 3",
   "language": "python",
   "name": "python3"
  },
  "language_info": {
   "codemirror_mode": {
    "name": "ipython",
    "version": 3
   },
   "file_extension": ".py",
   "mimetype": "text/x-python",
   "name": "python",
   "nbconvert_exporter": "python",
   "pygments_lexer": "ipython3",
   "version": "3.8.10"
  }
 },
 "nbformat": 4,
 "nbformat_minor": 5
}
