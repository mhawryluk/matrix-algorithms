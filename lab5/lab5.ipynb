{
 "cells": [
  {
   "cell_type": "markdown",
   "id": "b978698c",
   "metadata": {},
   "source": [
    "# Algorytmy macierzowe - zadanie nr 5 - Algorytmy permutacji macierzy rzadkich"
   ]
  },
  {
   "cell_type": "markdown",
   "id": "b7bd8623",
   "metadata": {},
   "source": [
    "\"Proszę zbudować graf eliminacji dla macierzy rzadkiej używanej w zadaniu 4\n",
    "(rzadka eliminacja) (bazując na swoim formacie macierzy rzadkiej z zadania 4)\n",
    "\n",
    "Proszę napisać wybrany algorytm permutacji macierzy na swojej macierzy\n",
    "rzadkiej:\n",
    "1. Minimum degree\n",
    "2. Cuthill-McKee\n",
    "3. Nested-dissections\n",
    "\n",
    "Proszę porównać czasy działania rzadkiej eliminacji Gaussa przed i po\n",
    "permutacji macierzy\""
   ]
  },
  {
   "cell_type": "markdown",
   "id": "1eeefcaa",
   "metadata": {},
   "source": [
    "Marcin Hawryluk, Norbert Wolniak <br>grupa: piątek 12:50B <hr>"
   ]
  },
  {
   "cell_type": "code",
   "execution_count": 1,
   "id": "efdd8816",
   "metadata": {},
   "outputs": [],
   "source": [
    "import numpy as np\n",
    "import networkx as nx\n",
    "from time import time\n",
    "import pandas as pd\n",
    "import matplotlib.pyplot as plt\n",
    "import os\n",
    "from time import time\n",
    "from matrix_functions import read_matrix, sparse_cholesky, convert_to_csr"
   ]
  },
  {
   "cell_type": "markdown",
   "id": "b27bd2fd",
   "metadata": {},
   "source": [
    "## Generowanie macierzy"
   ]
  },
  {
   "cell_type": "code",
   "execution_count": 8,
   "id": "5d88ad73",
   "metadata": {},
   "outputs": [],
   "source": [
    "matrices  = {}\n",
    "for file in os.listdir('matrices'):\n",
    "    matrices[file[:2]]= read_matrix('matrices/' + file)"
   ]
  },
  {
   "cell_type": "markdown",
   "id": "dad78f98",
   "metadata": {},
   "source": [
    "## Graf eliminacji"
   ]
  },
  {
   "cell_type": "code",
   "execution_count": 2,
   "id": "914b2122",
   "metadata": {},
   "outputs": [],
   "source": [
    "def elimination_graph(matrix):\n",
    "    pass"
   ]
  },
  {
   "cell_type": "markdown",
   "id": "02e5c1e6",
   "metadata": {},
   "source": [
    "\"2a. Dla podmacierzy o rozmiarze <= 100 np. A[1:100][1:100] wierszy proszę\n",
    "zbudować i narysować graf eliminacji G0\""
   ]
  },
  {
   "cell_type": "code",
   "execution_count": null,
   "id": "3112cef8",
   "metadata": {},
   "outputs": [],
   "source": []
  },
  {
   "cell_type": "markdown",
   "id": "f43bf9aa",
   "metadata": {},
   "source": [
    "\"2b. Proszę uruchomić eliminację Gaussa na tym grafie G0 i narysowaćc nowe\n",
    "krawędzie w G0\""
   ]
  },
  {
   "cell_type": "code",
   "execution_count": null,
   "id": "22affe5c",
   "metadata": {},
   "outputs": [],
   "source": []
  },
  {
   "cell_type": "markdown",
   "id": "96653f59",
   "metadata": {},
   "source": [
    "## Algorytm permutacji macierzy"
   ]
  },
  {
   "cell_type": "markdown",
   "id": "25e8eb20",
   "metadata": {},
   "source": [
    "\"3. Proszę napisać i opisać kod wybranego algorytm permutacji macierzy\""
   ]
  },
  {
   "cell_type": "code",
   "execution_count": null,
   "id": "0304aab8",
   "metadata": {},
   "outputs": [],
   "source": []
  },
  {
   "cell_type": "markdown",
   "id": "83950718",
   "metadata": {},
   "source": [
    "\"4. Proszę uruchomić macierz permutacji dla macierzy z punktu 2\""
   ]
  },
  {
   "cell_type": "code",
   "execution_count": null,
   "id": "24948459",
   "metadata": {},
   "outputs": [],
   "source": []
  },
  {
   "cell_type": "markdown",
   "id": "90328417",
   "metadata": {},
   "source": [
    "\"5a. Proszę narysować graf eliminacji G0’ dla spermutowanej małej macierz z\n",
    "punktu 2\""
   ]
  },
  {
   "cell_type": "code",
   "execution_count": null,
   "id": "2a244ada",
   "metadata": {},
   "outputs": [],
   "source": []
  },
  {
   "cell_type": "markdown",
   "id": "992e8d1b",
   "metadata": {},
   "source": [
    "\"5b. Proszę uruchomić eliminację Gaussa na tym grafie G0’ i narysować nowe\n",
    "krawędzie w G0\""
   ]
  },
  {
   "cell_type": "code",
   "execution_count": null,
   "id": "fe98f30d",
   "metadata": {},
   "outputs": [],
   "source": []
  },
  {
   "cell_type": "markdown",
   "id": "2d17f1f6",
   "metadata": {},
   "source": [
    "\"6. Proszę uruchomić swój algorytm permutacji dla całej dużej (rozmiar > 100)\n",
    "macierzy z zadania 4\""
   ]
  },
  {
   "cell_type": "code",
   "execution_count": null,
   "id": "f18c4288",
   "metadata": {},
   "outputs": [],
   "source": []
  },
  {
   "cell_type": "markdown",
   "id": "6a856ff3",
   "metadata": {},
   "source": [
    "## Porównanie czasów"
   ]
  },
  {
   "cell_type": "markdown",
   "id": "f1785b34",
   "metadata": {},
   "source": [
    "\"7. Proszę porównać czasy rzadkiej eliminacji Gaussa przed permutacją i po\n",
    "permutacji dla dużej macierzy (rozmiar > 100)\""
   ]
  },
  {
   "cell_type": "code",
   "execution_count": null,
   "id": "888045fa",
   "metadata": {},
   "outputs": [],
   "source": []
  },
  {
   "cell_type": "markdown",
   "id": "e59e1651",
   "metadata": {},
   "source": [
    "## Wnioski"
   ]
  },
  {
   "cell_type": "markdown",
   "id": "a66fcc8f",
   "metadata": {},
   "source": [
    "* \n",
    "* "
   ]
  },
  {
   "cell_type": "markdown",
   "id": "23865378",
   "metadata": {},
   "source": [
    "M. Hawryluk, N. Wolniak. 2022"
   ]
  }
 ],
 "metadata": {
  "interpreter": {
   "hash": "31f2aee4e71d21fbe5cf8b01ff0e069b9275f58929596ceb00d14d90e3e16cd6"
  },
  "kernelspec": {
   "display_name": "Python 3 (ipykernel)",
   "language": "python",
   "name": "python3"
  },
  "language_info": {
   "codemirror_mode": {
    "name": "ipython",
    "version": 3
   },
   "file_extension": ".py",
   "mimetype": "text/x-python",
   "name": "python",
   "nbconvert_exporter": "python",
   "pygments_lexer": "ipython3",
   "version": "3.9.7"
  }
 },
 "nbformat": 4,
 "nbformat_minor": 5
}
